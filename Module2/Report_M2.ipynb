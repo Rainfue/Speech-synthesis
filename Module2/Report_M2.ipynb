{
 "cells": [
  {
   "cell_type": "markdown",
   "metadata": {},
   "source": [
    "# **Модуль Б**. Разработка модели машинного обучения"
   ]
  },
  {
   "cell_type": "markdown",
   "metadata": {},
   "source": [
    "## Импортирование библиотек"
   ]
  },
  {
   "cell_type": "code",
   "execution_count": 107,
   "metadata": {},
   "outputs": [],
   "source": [
    "# модули для работы с моделью\n",
    "import torch\n",
    "import torch.nn as nn\n",
    "from torch.utils.data import Dataset, DataLoader\n",
    "from torch.nn.utils.rnn import pad_sequence\n",
    "import torch.nn.functional as F\n",
    "\n",
    "import pandas as pd\n",
    "\n",
    "from IPython.display import Audio\n",
    "\n",
    "from Model.tokenizer import Tokenizer\n",
    "\n",
    "import numpy as np"
   ]
  },
  {
   "cell_type": "markdown",
   "metadata": {},
   "source": [
    "## Загрузка данных"
   ]
  },
  {
   "cell_type": "code",
   "execution_count": 108,
   "metadata": {},
   "outputs": [
    {
     "data": {
      "text/html": [
       "<div>\n",
       "<style scoped>\n",
       "    .dataframe tbody tr th:only-of-type {\n",
       "        vertical-align: middle;\n",
       "    }\n",
       "\n",
       "    .dataframe tbody tr th {\n",
       "        vertical-align: top;\n",
       "    }\n",
       "\n",
       "    .dataframe thead th {\n",
       "        text-align: right;\n",
       "    }\n",
       "</style>\n",
       "<table border=\"1\" class=\"dataframe\">\n",
       "  <thead>\n",
       "    <tr style=\"text-align: right;\">\n",
       "      <th></th>\n",
       "      <th>path</th>\n",
       "      <th>sentence</th>\n",
       "      <th>record_duration</th>\n",
       "      <th>sampling_rate</th>\n",
       "      <th>array</th>\n",
       "      <th>text_length</th>\n",
       "      <th>snr</th>\n",
       "      <th>rms_dB</th>\n",
       "      <th>tokens</th>\n",
       "      <th>token_ids</th>\n",
       "      <th>mel_spec</th>\n",
       "    </tr>\n",
       "  </thead>\n",
       "  <tbody>\n",
       "    <tr>\n",
       "      <th>0</th>\n",
       "      <td>Data/cv_corpus/cv-corpus-21.0-delta-2025-03-14...</td>\n",
       "      <td>Абай был не только талантливым поэтом, но и уч...</td>\n",
       "      <td>5.04</td>\n",
       "      <td>16000</td>\n",
       "      <td>[-1.0186341e-10, 6.91216e-11, -8.0035534e-11, ...</td>\n",
       "      <td>51</td>\n",
       "      <td>29.652618</td>\n",
       "      <td>-21.792862</td>\n",
       "      <td>[абай, _, был, _, не, _, только, _, талантливы...</td>\n",
       "      <td>[5165, 3734, 5298, 3734, 2808, 3734, 932, 3734...</td>\n",
       "      <td>[[-13.040601, -10.495326, -7.282387, -6.365622...</td>\n",
       "    </tr>\n",
       "    <tr>\n",
       "      <th>1</th>\n",
       "      <td>Data/cv_corpus/cv-corpus-21.0-delta-2025-03-14...</td>\n",
       "      <td>Гибкая кошка легко взбирается на высокое дерево.</td>\n",
       "      <td>5.65</td>\n",
       "      <td>16000</td>\n",
       "      <td>[2.910383e-11, -1.1641532e-10, 1.9645086e-10, ...</td>\n",
       "      <td>48</td>\n",
       "      <td>27.797586</td>\n",
       "      <td>-23.426945</td>\n",
       "      <td>[гибкая, _, кошка, _, легко, _, взбирается, _,...</td>\n",
       "      <td>[3706, 3734, 2332, 3734, 1692, 3734, 4548, 373...</td>\n",
       "      <td>[[-3.2210479, -4.417929, -6.569694, -5.2323184...</td>\n",
       "    </tr>\n",
       "    <tr>\n",
       "      <th>2</th>\n",
       "      <td>Data/cv_corpus/cv-corpus-21.0-delta-2025-03-14...</td>\n",
       "      <td>Сделать нужно гораздо больше.</td>\n",
       "      <td>3.64</td>\n",
       "      <td>16000</td>\n",
       "      <td>[-1.3096724e-10, -5.820766e-11, -1.4551915e-10...</td>\n",
       "      <td>29</td>\n",
       "      <td>27.732599</td>\n",
       "      <td>-24.547728</td>\n",
       "      <td>[сделать, _, нужно, _, гораздо, _, больше]</td>\n",
       "      <td>[4891, 3734, 6461, 3734, 1353, 3734, 395, 6674...</td>\n",
       "      <td>[[-3.1968756, -3.3615067, -3.878891, -5.443349...</td>\n",
       "    </tr>\n",
       "    <tr>\n",
       "      <th>3</th>\n",
       "      <td>Data/cv_corpus/cv-corpus-21.0-delta-2025-03-14...</td>\n",
       "      <td>Эти ноты, сливаясь воедино, образуют симфонию,...</td>\n",
       "      <td>6.62</td>\n",
       "      <td>16000</td>\n",
       "      <td>[8.731149e-11, -6.91216e-11, 0.0, -8.0035534e-...</td>\n",
       "      <td>77</td>\n",
       "      <td>23.927074</td>\n",
       "      <td>-25.052473</td>\n",
       "      <td>[эти, _, ноты, _, сливаясь, _, воедино, _, обр...</td>\n",
       "      <td>[243, 3734, 5291, 3734, 3835, 3734, 3604, 3734...</td>\n",
       "      <td>[[-12.80517, -11.202806, -9.942759, -6.5413194...</td>\n",
       "    </tr>\n",
       "    <tr>\n",
       "      <th>4</th>\n",
       "      <td>Data/cv_corpus/cv-corpus-21.0-delta-2025-03-14...</td>\n",
       "      <td>Квадрат гипотенузы равен сумме квадратов катетов.</td>\n",
       "      <td>5.83</td>\n",
       "      <td>16000</td>\n",
       "      <td>[0.0, 0.0, 0.0, 0.0, 0.0, 0.0, 0.0, 0.0, 0.0, ...</td>\n",
       "      <td>49</td>\n",
       "      <td>35.466934</td>\n",
       "      <td>-17.979994</td>\n",
       "      <td>[квадрат, _, гипотенузы, _, равен, _, сумме, _...</td>\n",
       "      <td>[5016, 3734, 3892, 3734, 4864, 3734, 4855, 373...</td>\n",
       "      <td>[[-5.968595, -4.914544, -4.8844056, -4.73808, ...</td>\n",
       "    </tr>\n",
       "  </tbody>\n",
       "</table>\n",
       "</div>"
      ],
      "text/plain": [
       "                                                path  \\\n",
       "0  Data/cv_corpus/cv-corpus-21.0-delta-2025-03-14...   \n",
       "1  Data/cv_corpus/cv-corpus-21.0-delta-2025-03-14...   \n",
       "2  Data/cv_corpus/cv-corpus-21.0-delta-2025-03-14...   \n",
       "3  Data/cv_corpus/cv-corpus-21.0-delta-2025-03-14...   \n",
       "4  Data/cv_corpus/cv-corpus-21.0-delta-2025-03-14...   \n",
       "\n",
       "                                            sentence  record_duration  \\\n",
       "0  Абай был не только талантливым поэтом, но и уч...             5.04   \n",
       "1   Гибкая кошка легко взбирается на высокое дерево.             5.65   \n",
       "2                      Сделать нужно гораздо больше.             3.64   \n",
       "3  Эти ноты, сливаясь воедино, образуют симфонию,...             6.62   \n",
       "4  Квадрат гипотенузы равен сумме квадратов катетов.             5.83   \n",
       "\n",
       "   sampling_rate                                              array  \\\n",
       "0          16000  [-1.0186341e-10, 6.91216e-11, -8.0035534e-11, ...   \n",
       "1          16000  [2.910383e-11, -1.1641532e-10, 1.9645086e-10, ...   \n",
       "2          16000  [-1.3096724e-10, -5.820766e-11, -1.4551915e-10...   \n",
       "3          16000  [8.731149e-11, -6.91216e-11, 0.0, -8.0035534e-...   \n",
       "4          16000  [0.0, 0.0, 0.0, 0.0, 0.0, 0.0, 0.0, 0.0, 0.0, ...   \n",
       "\n",
       "   text_length        snr     rms_dB  \\\n",
       "0           51  29.652618 -21.792862   \n",
       "1           48  27.797586 -23.426945   \n",
       "2           29  27.732599 -24.547728   \n",
       "3           77  23.927074 -25.052473   \n",
       "4           49  35.466934 -17.979994   \n",
       "\n",
       "                                              tokens  \\\n",
       "0  [абай, _, был, _, не, _, только, _, талантливы...   \n",
       "1  [гибкая, _, кошка, _, легко, _, взбирается, _,...   \n",
       "2         [сделать, _, нужно, _, гораздо, _, больше]   \n",
       "3  [эти, _, ноты, _, сливаясь, _, воедино, _, обр...   \n",
       "4  [квадрат, _, гипотенузы, _, равен, _, сумме, _...   \n",
       "\n",
       "                                           token_ids  \\\n",
       "0  [5165, 3734, 5298, 3734, 2808, 3734, 932, 3734...   \n",
       "1  [3706, 3734, 2332, 3734, 1692, 3734, 4548, 373...   \n",
       "2  [4891, 3734, 6461, 3734, 1353, 3734, 395, 6674...   \n",
       "3  [243, 3734, 5291, 3734, 3835, 3734, 3604, 3734...   \n",
       "4  [5016, 3734, 3892, 3734, 4864, 3734, 4855, 373...   \n",
       "\n",
       "                                            mel_spec  \n",
       "0  [[-13.040601, -10.495326, -7.282387, -6.365622...  \n",
       "1  [[-3.2210479, -4.417929, -6.569694, -5.2323184...  \n",
       "2  [[-3.1968756, -3.3615067, -3.878891, -5.443349...  \n",
       "3  [[-12.80517, -11.202806, -9.942759, -6.5413194...  \n",
       "4  [[-5.968595, -4.914544, -4.8844056, -4.73808, ...  "
      ]
     },
     "execution_count": 108,
     "metadata": {},
     "output_type": "execute_result"
    }
   ],
   "source": [
    "# путь к обработанным данным\n",
    "df_path = '../Module1/Dataset/dataset.h5'\n",
    "# загружаем датасета\n",
    "df = pd.read_hdf(df_path, key='df')\n",
    "df.head()"
   ]
  },
  {
   "cell_type": "code",
   "execution_count": 109,
   "metadata": {},
   "outputs": [
    {
     "data": {
      "text/plain": [
       "'Европейский союз будет оставаться наблюдателем в Генеральной Ассамблее.'"
      ]
     },
     "execution_count": 109,
     "metadata": {},
     "output_type": "execute_result"
    }
   ],
   "source": [
    "text_example = df['sentence'][42]\n",
    "text_example"
   ]
  },
  {
   "cell_type": "markdown",
   "metadata": {},
   "source": [
    "**Класс с моделью**"
   ]
  },
  {
   "cell_type": "code",
   "execution_count": 110,
   "metadata": {},
   "outputs": [],
   "source": [
    "import math"
   ]
  },
  {
   "cell_type": "code",
   "execution_count": 111,
   "metadata": {},
   "outputs": [],
   "source": [
    "class TTSTransformer(nn.Module):\n",
    "    def __init__(self, vocab_size, d_model=256, n_mels=80, time_steps=429):\n",
    "        super().__init__()\n",
    "        self.embedding = nn.Embedding(vocab_size, d_model)\n",
    "        \n",
    "        # Encoder\n",
    "        self.encoder = nn.TransformerEncoder(\n",
    "            nn.TransformerEncoderLayer(d_model, nhead=4),\n",
    "            num_layers=3\n",
    "        )\n",
    "        \n",
    "        # Decoder: предсказывает только `n_mels`\n",
    "        self.decoder = nn.Sequential(\n",
    "            nn.Linear(d_model, 512),\n",
    "            nn.ReLU(),\n",
    "            nn.Linear(512, n_mels)  # (batch, seq_len, n_mels)\n",
    "        )\n",
    "\n",
    "        # Исправленный Conv1d: адаптируем `seq_len → time_steps`\n",
    "        self.time_projection = nn.Conv1d(\n",
    "            in_channels=n_mels, \n",
    "            out_channels=n_mels, \n",
    "            kernel_size=3, \n",
    "            stride=1, \n",
    "            padding=1\n",
    "        )\n",
    "\n",
    "        self.n_mels = n_mels\n",
    "        self.time_steps = time_steps\n",
    "\n",
    "    def forward(self, tokens):\n",
    "        # print('tokens', tokens)\n",
    "        x = self.embedding(tokens)  # (batch, seq_len, d_model)\n",
    "        # print('x1', x.shape)\n",
    "        x = self.encoder(x)         # (batch, seq_len, d_model)\n",
    "        # print('x2', x.shape)\n",
    "        x = self.decoder(x)         # (batch, seq_len, n_mels)\n",
    "        # print('x3', x.shape)\n",
    "        \n",
    "        # Транспонируем для Conv1D: (batch, seq_len, n_mels) → (batch, n_mels, seq_len)\n",
    "        x = x.permute(0, 2, 1)\n",
    "\n",
    "        # Используем Conv1D для приведения seq_len к time_steps\n",
    "        x = F.interpolate(x, size=self.time_steps, mode=\"linear\", align_corners=True)\n",
    "\n",
    "        # Возвращаем обратно: (batch, n_mels, time_steps) → (batch, time_steps, n_mels)\n",
    "        x = x.permute(0, 2, 1)\n",
    "\n",
    "        return x\n"
   ]
  },
  {
   "cell_type": "code",
   "execution_count": 112,
   "metadata": {},
   "outputs": [],
   "source": [
    "class TTSDataset(Dataset):\n",
    "    def __init__(self, tokenized_texts, mel_spectrograms, \n",
    "                 pad_token_id=0, mel_pad_value=-100):\n",
    "        self.tokenized_texts = tokenized_texts\n",
    "        self.mel_spectrograms = mel_spectrograms\n",
    "        self.pad_token_id = pad_token_id\n",
    "        self.mel_pad_value = mel_pad_value\n",
    "        \n",
    "        self.n_mels = mel_spectrograms[0].shape[1]\n",
    "\n",
    "    def __len__(self):\n",
    "        return len(self.tokenized_texts)\n",
    "\n",
    "    def __getitem__(self, idx):\n",
    "        return (\n",
    "            torch.LongTensor(self.tokenized_texts[idx]),\n",
    "            torch.FloatTensor(self.mel_spectrograms[idx])\n",
    "        )"
   ]
  },
  {
   "cell_type": "code",
   "execution_count": 113,
   "metadata": {},
   "outputs": [],
   "source": [
    "tokenized_texts = df['token_ids']\n",
    "mel_spectrograms = df['mel_spec']\n"
   ]
  },
  {
   "cell_type": "code",
   "execution_count": 114,
   "metadata": {},
   "outputs": [],
   "source": [
    "# Создаем DataLoader\n",
    "dataset = TTSDataset(tokenized_texts, mel_spectrograms)\n",
    "dataloader = DataLoader(dataset, batch_size=32)"
   ]
  },
  {
   "cell_type": "code",
   "execution_count": 115,
   "metadata": {},
   "outputs": [
    {
     "name": "stdout",
     "output_type": "stream",
     "text": [
      "tensor([5165, 3734, 5298, 3734, 2808, 3734,  932, 3734,  460, 3734, 5910, 3734,\n",
      "        4008, 3734, 4773, 3734, 1197, 6674, 6674, 6674, 6674, 6674, 6674, 6674,\n",
      "        6674, 6674, 6674])\n",
      "torch.Size([27])\n",
      "tensor([[-13.0406, -10.4953,  -7.2824,  ...,   0.0000,   0.0000,   0.0000],\n",
      "        [-11.2965, -10.0045,  -5.7739,  ...,   0.0000,   0.0000,   0.0000],\n",
      "        [-11.3287,  -7.0065,  -3.9856,  ...,   0.0000,   0.0000,   0.0000],\n",
      "        ...,\n",
      "        [-13.5660, -12.6440, -10.5475,  ...,   0.0000,   0.0000,   0.0000],\n",
      "        [-12.8161, -10.6422,  -9.5745,  ...,   0.0000,   0.0000,   0.0000],\n",
      "        [-13.2538, -10.8003,  -9.7605,  ...,   0.0000,   0.0000,   0.0000]])\n",
      "torch.Size([80, 429])\n"
     ]
    }
   ],
   "source": [
    "print(dataset.__getitem__(0)[0])\n",
    "print(dataset.__getitem__(0)[0].shape)\n",
    "print(dataset.__getitem__(0)[1])\n",
    "print(dataset.__getitem__(0)[1].shape)"
   ]
  },
  {
   "cell_type": "code",
   "execution_count": 116,
   "metadata": {},
   "outputs": [
    {
     "name": "stdout",
     "output_type": "stream",
     "text": [
      "Пример 0:\n",
      "Токены: tensor([5165, 3734, 5298, 3734, 2808, 3734,  932, 3734,  460, 3734, 5910, 3734,\n",
      "        4008, 3734, 4773, 3734, 1197, 6674, 6674, 6674, 6674, 6674, 6674, 6674,\n",
      "        6674, 6674, 6674]) (длина: 27)\n",
      "Спектрограмма: torch.Size([80, 429])\n"
     ]
    }
   ],
   "source": [
    "# Проверяем один пример\n",
    "tokens, mel = dataset[0]\n",
    "print(\"Пример 0:\")\n",
    "print(f\"Токены: {tokens} (длина: {len(tokens)})\")\n",
    "print(f\"Спектрограмма: {mel.shape}\")"
   ]
  },
  {
   "cell_type": "code",
   "execution_count": 117,
   "metadata": {},
   "outputs": [
    {
     "name": "stdout",
     "output_type": "stream",
     "text": [
      "\n",
      "Батч 0:\n",
      "Токены: torch.Size([32, 27])\n",
      "Спектрограммы: torch.Size([32, 80, 429])\n"
     ]
    }
   ],
   "source": [
    "# Проверяем батч\n",
    "for batch_idx, (tokens_batch, mels_batch) in enumerate(dataloader):\n",
    "    print(f\"\\nБатч {batch_idx}:\")\n",
    "    print(f\"Токены: {tokens_batch.shape}\")\n",
    "    print(f\"Спектрограммы: {mels_batch.shape}\")\n",
    "    break"
   ]
  },
  {
   "cell_type": "code",
   "execution_count": 118,
   "metadata": {},
   "outputs": [
    {
     "name": "stdout",
     "output_type": "stream",
     "text": [
      "/home/user/Chemp/Speech-synthesis/Module2\n"
     ]
    }
   ],
   "source": [
    "tokenizer = Tokenizer()"
   ]
  },
  {
   "cell_type": "code",
   "execution_count": 119,
   "metadata": {},
   "outputs": [
    {
     "name": "stdout",
     "output_type": "stream",
     "text": [
      "Размер словаря: 6675\n"
     ]
    }
   ],
   "source": [
    "print(f\"Размер словаря: {len(tokenizer.text_to_ids_voc)}\")"
   ]
  },
  {
   "cell_type": "code",
   "execution_count": 120,
   "metadata": {},
   "outputs": [
    {
     "name": "stdout",
     "output_type": "stream",
     "text": [
      "cuda\n"
     ]
    }
   ],
   "source": [
    "import torch.optim as optim\n",
    "\n",
    "# Параметры\n",
    "vocab_size = 6675  # размер словаря\n",
    "n_mels = 80\n",
    "time_steps = 429\n",
    "\n",
    "device = torch.device(\"cuda\" if torch.cuda.is_available() else \"cpu\")\n",
    "print(device)"
   ]
  },
  {
   "cell_type": "code",
   "execution_count": 121,
   "metadata": {},
   "outputs": [
    {
     "name": "stderr",
     "output_type": "stream",
     "text": [
      "/home/user/Chemp/.venv/lib/python3.12/site-packages/torch/nn/modules/transformer.py:385: UserWarning: enable_nested_tensor is True, but self.use_nested_tensor is False because encoder_layer.self_attn.batch_first was not True(use batch_first for better inference performance)\n",
      "  warnings.warn(\n"
     ]
    },
    {
     "data": {
      "text/plain": [
       "TTSTransformer(\n",
       "  (embedding): Embedding(6675, 256)\n",
       "  (encoder): TransformerEncoder(\n",
       "    (layers): ModuleList(\n",
       "      (0-2): 3 x TransformerEncoderLayer(\n",
       "        (self_attn): MultiheadAttention(\n",
       "          (out_proj): NonDynamicallyQuantizableLinear(in_features=256, out_features=256, bias=True)\n",
       "        )\n",
       "        (linear1): Linear(in_features=256, out_features=2048, bias=True)\n",
       "        (dropout): Dropout(p=0.1, inplace=False)\n",
       "        (linear2): Linear(in_features=2048, out_features=256, bias=True)\n",
       "        (norm1): LayerNorm((256,), eps=1e-05, elementwise_affine=True)\n",
       "        (norm2): LayerNorm((256,), eps=1e-05, elementwise_affine=True)\n",
       "        (dropout1): Dropout(p=0.1, inplace=False)\n",
       "        (dropout2): Dropout(p=0.1, inplace=False)\n",
       "      )\n",
       "    )\n",
       "  )\n",
       "  (decoder): Sequential(\n",
       "    (0): Linear(in_features=256, out_features=512, bias=True)\n",
       "    (1): ReLU()\n",
       "    (2): Linear(in_features=512, out_features=80, bias=True)\n",
       "  )\n",
       "  (time_projection): Conv1d(80, 80, kernel_size=(3,), stride=(1,), padding=(1,))\n",
       ")"
      ]
     },
     "execution_count": 121,
     "metadata": {},
     "output_type": "execute_result"
    }
   ],
   "source": [
    "# Создание модели\n",
    "model = TTSTransformer(vocab_size=vocab_size, \n",
    "                       d_model=256, \n",
    "                       n_mels=n_mels,\n",
    "                       time_steps=time_steps\n",
    "                       )\n",
    "model.to(device)"
   ]
  },
  {
   "cell_type": "code",
   "execution_count": 122,
   "metadata": {},
   "outputs": [],
   "source": [
    "# Оптимизатор\n",
    "optimizer = optim.Adam(model.parameters(), lr=1e-4)"
   ]
  },
  {
   "cell_type": "code",
   "execution_count": 123,
   "metadata": {},
   "outputs": [],
   "source": [
    "# Функция потерь (MSE, так как предсказываем спектрограммы)\n",
    "criterion = nn.MSELoss()"
   ]
  },
  {
   "cell_type": "code",
   "execution_count": 124,
   "metadata": {},
   "outputs": [],
   "source": [
    "torch.cuda.empty_cache()"
   ]
  },
  {
   "cell_type": "code",
   "execution_count": 152,
   "metadata": {},
   "outputs": [
    {
     "name": "stderr",
     "output_type": "stream",
     "text": [
      "Epoch 1/1000: 100%|██████████| 74/74 [00:01<00:00, 60.18batch/s, loss=2.51]\n"
     ]
    },
    {
     "name": "stdout",
     "output_type": "stream",
     "text": [
      "Epoch [1/1000], Average Loss: 7.0109\n"
     ]
    },
    {
     "name": "stderr",
     "output_type": "stream",
     "text": [
      "Epoch 2/1000: 100%|██████████| 74/74 [00:01<00:00, 60.08batch/s, loss=2.52]\n"
     ]
    },
    {
     "name": "stdout",
     "output_type": "stream",
     "text": [
      "Epoch [2/1000], Average Loss: 7.0020\n"
     ]
    },
    {
     "name": "stderr",
     "output_type": "stream",
     "text": [
      "Epoch 3/1000: 100%|██████████| 74/74 [00:01<00:00, 61.38batch/s, loss=2.53]\n"
     ]
    },
    {
     "name": "stdout",
     "output_type": "stream",
     "text": [
      "Epoch [3/1000], Average Loss: 6.9944\n"
     ]
    },
    {
     "name": "stderr",
     "output_type": "stream",
     "text": [
      "Epoch 4/1000: 100%|██████████| 74/74 [00:01<00:00, 60.59batch/s, loss=2.54]\n"
     ]
    },
    {
     "name": "stdout",
     "output_type": "stream",
     "text": [
      "Epoch [4/1000], Average Loss: 6.9875\n"
     ]
    },
    {
     "name": "stderr",
     "output_type": "stream",
     "text": [
      "Epoch 5/1000: 100%|██████████| 74/74 [00:01<00:00, 64.79batch/s, loss=2.53]\n"
     ]
    },
    {
     "name": "stdout",
     "output_type": "stream",
     "text": [
      "Epoch [5/1000], Average Loss: 6.9814\n"
     ]
    },
    {
     "name": "stderr",
     "output_type": "stream",
     "text": [
      "Epoch 6/1000: 100%|██████████| 74/74 [00:01<00:00, 57.80batch/s, loss=2.53]\n"
     ]
    },
    {
     "name": "stdout",
     "output_type": "stream",
     "text": [
      "Epoch [6/1000], Average Loss: 6.9731\n"
     ]
    },
    {
     "name": "stderr",
     "output_type": "stream",
     "text": [
      "Epoch 7/1000: 100%|██████████| 74/74 [00:01<00:00, 60.97batch/s, loss=2.51]\n"
     ]
    },
    {
     "name": "stdout",
     "output_type": "stream",
     "text": [
      "Epoch [7/1000], Average Loss: 6.9615\n"
     ]
    },
    {
     "name": "stderr",
     "output_type": "stream",
     "text": [
      "Epoch 8/1000: 100%|██████████| 74/74 [00:01<00:00, 60.21batch/s, loss=2.5] \n"
     ]
    },
    {
     "name": "stdout",
     "output_type": "stream",
     "text": [
      "Epoch [8/1000], Average Loss: 6.9647\n"
     ]
    },
    {
     "name": "stderr",
     "output_type": "stream",
     "text": [
      "Epoch 9/1000: 100%|██████████| 74/74 [00:01<00:00, 55.00batch/s, loss=2.58]\n"
     ]
    },
    {
     "name": "stdout",
     "output_type": "stream",
     "text": [
      "Epoch [9/1000], Average Loss: 6.9492\n"
     ]
    },
    {
     "name": "stderr",
     "output_type": "stream",
     "text": [
      "Epoch 10/1000: 100%|██████████| 74/74 [00:01<00:00, 59.80batch/s, loss=2.55]\n"
     ]
    },
    {
     "name": "stdout",
     "output_type": "stream",
     "text": [
      "Epoch [10/1000], Average Loss: 6.9393\n"
     ]
    },
    {
     "name": "stderr",
     "output_type": "stream",
     "text": [
      "Epoch 11/1000: 100%|██████████| 74/74 [00:01<00:00, 59.93batch/s, loss=2.54]\n"
     ]
    },
    {
     "name": "stdout",
     "output_type": "stream",
     "text": [
      "Epoch [11/1000], Average Loss: 6.9358\n"
     ]
    },
    {
     "name": "stderr",
     "output_type": "stream",
     "text": [
      "Epoch 12/1000: 100%|██████████| 74/74 [00:01<00:00, 58.35batch/s, loss=2.57]\n"
     ]
    },
    {
     "name": "stdout",
     "output_type": "stream",
     "text": [
      "Epoch [12/1000], Average Loss: 6.9297\n"
     ]
    },
    {
     "name": "stderr",
     "output_type": "stream",
     "text": [
      "Epoch 13/1000: 100%|██████████| 74/74 [00:01<00:00, 62.12batch/s, loss=2.56]\n"
     ]
    },
    {
     "name": "stdout",
     "output_type": "stream",
     "text": [
      "Epoch [13/1000], Average Loss: 6.9335\n"
     ]
    },
    {
     "name": "stderr",
     "output_type": "stream",
     "text": [
      "Epoch 14/1000: 100%|██████████| 74/74 [00:01<00:00, 67.67batch/s, loss=2.53]\n"
     ]
    },
    {
     "name": "stdout",
     "output_type": "stream",
     "text": [
      "Epoch [14/1000], Average Loss: 6.9200\n"
     ]
    },
    {
     "name": "stderr",
     "output_type": "stream",
     "text": [
      "Epoch 15/1000: 100%|██████████| 74/74 [00:01<00:00, 55.00batch/s, loss=2.56]\n"
     ]
    },
    {
     "name": "stdout",
     "output_type": "stream",
     "text": [
      "Epoch [15/1000], Average Loss: 6.9095\n"
     ]
    },
    {
     "name": "stderr",
     "output_type": "stream",
     "text": [
      "Epoch 16/1000: 100%|██████████| 74/74 [00:01<00:00, 60.17batch/s, loss=2.54]\n"
     ]
    },
    {
     "name": "stdout",
     "output_type": "stream",
     "text": [
      "Epoch [16/1000], Average Loss: 6.9014\n"
     ]
    },
    {
     "name": "stderr",
     "output_type": "stream",
     "text": [
      "Epoch 17/1000: 100%|██████████| 74/74 [00:01<00:00, 59.53batch/s, loss=2.51]\n"
     ]
    },
    {
     "name": "stdout",
     "output_type": "stream",
     "text": [
      "Epoch [17/1000], Average Loss: 6.8972\n"
     ]
    },
    {
     "name": "stderr",
     "output_type": "stream",
     "text": [
      "Epoch 18/1000: 100%|██████████| 74/74 [00:01<00:00, 56.93batch/s, loss=2.55]\n"
     ]
    },
    {
     "name": "stdout",
     "output_type": "stream",
     "text": [
      "Epoch [18/1000], Average Loss: 6.8892\n"
     ]
    },
    {
     "name": "stderr",
     "output_type": "stream",
     "text": [
      "Epoch 19/1000: 100%|██████████| 74/74 [00:01<00:00, 58.56batch/s, loss=2.53]\n"
     ]
    },
    {
     "name": "stdout",
     "output_type": "stream",
     "text": [
      "Epoch [19/1000], Average Loss: 6.8862\n"
     ]
    },
    {
     "name": "stderr",
     "output_type": "stream",
     "text": [
      "Epoch 20/1000: 100%|██████████| 74/74 [00:01<00:00, 61.69batch/s, loss=2.63]\n"
     ]
    },
    {
     "name": "stdout",
     "output_type": "stream",
     "text": [
      "Epoch [20/1000], Average Loss: 6.8804\n"
     ]
    },
    {
     "name": "stderr",
     "output_type": "stream",
     "text": [
      "Epoch 21/1000: 100%|██████████| 74/74 [00:01<00:00, 60.39batch/s, loss=2.69]\n"
     ]
    },
    {
     "name": "stdout",
     "output_type": "stream",
     "text": [
      "Epoch [21/1000], Average Loss: 6.8767\n"
     ]
    },
    {
     "name": "stderr",
     "output_type": "stream",
     "text": [
      "Epoch 22/1000: 100%|██████████| 74/74 [00:01<00:00, 56.23batch/s, loss=2.55]\n"
     ]
    },
    {
     "name": "stdout",
     "output_type": "stream",
     "text": [
      "Epoch [22/1000], Average Loss: 6.8602\n"
     ]
    },
    {
     "name": "stderr",
     "output_type": "stream",
     "text": [
      "Epoch 23/1000: 100%|██████████| 74/74 [00:01<00:00, 65.58batch/s, loss=2.53]\n"
     ]
    },
    {
     "name": "stdout",
     "output_type": "stream",
     "text": [
      "Epoch [23/1000], Average Loss: 6.8484\n"
     ]
    },
    {
     "name": "stderr",
     "output_type": "stream",
     "text": [
      "Epoch 24/1000: 100%|██████████| 74/74 [00:01<00:00, 60.75batch/s, loss=2.53]\n"
     ]
    },
    {
     "name": "stdout",
     "output_type": "stream",
     "text": [
      "Epoch [24/1000], Average Loss: 6.8456\n"
     ]
    },
    {
     "name": "stderr",
     "output_type": "stream",
     "text": [
      "Epoch 25/1000: 100%|██████████| 74/74 [00:01<00:00, 61.97batch/s, loss=2.53]\n"
     ]
    },
    {
     "name": "stdout",
     "output_type": "stream",
     "text": [
      "Epoch [25/1000], Average Loss: 6.8487\n"
     ]
    },
    {
     "name": "stderr",
     "output_type": "stream",
     "text": [
      "Epoch 26/1000: 100%|██████████| 74/74 [00:01<00:00, 53.56batch/s, loss=2.53]\n"
     ]
    },
    {
     "name": "stdout",
     "output_type": "stream",
     "text": [
      "Epoch [26/1000], Average Loss: 6.8451\n"
     ]
    },
    {
     "name": "stderr",
     "output_type": "stream",
     "text": [
      "Epoch 27/1000: 100%|██████████| 74/74 [00:01<00:00, 64.45batch/s, loss=2.53]\n"
     ]
    },
    {
     "name": "stdout",
     "output_type": "stream",
     "text": [
      "Epoch [27/1000], Average Loss: 6.8442\n"
     ]
    },
    {
     "name": "stderr",
     "output_type": "stream",
     "text": [
      "Epoch 28/1000: 100%|██████████| 74/74 [00:01<00:00, 65.51batch/s, loss=2.59]\n"
     ]
    },
    {
     "name": "stdout",
     "output_type": "stream",
     "text": [
      "Epoch [28/1000], Average Loss: 6.8410\n"
     ]
    },
    {
     "name": "stderr",
     "output_type": "stream",
     "text": [
      "Epoch 29/1000: 100%|██████████| 74/74 [00:01<00:00, 69.89batch/s, loss=2.58]\n"
     ]
    },
    {
     "name": "stdout",
     "output_type": "stream",
     "text": [
      "Epoch [29/1000], Average Loss: 6.8461\n"
     ]
    },
    {
     "name": "stderr",
     "output_type": "stream",
     "text": [
      "Epoch 30/1000: 100%|██████████| 74/74 [00:01<00:00, 62.56batch/s, loss=2.56]\n"
     ]
    },
    {
     "name": "stdout",
     "output_type": "stream",
     "text": [
      "Epoch [30/1000], Average Loss: 6.8415\n"
     ]
    },
    {
     "name": "stderr",
     "output_type": "stream",
     "text": [
      "Epoch 31/1000: 100%|██████████| 74/74 [00:01<00:00, 63.48batch/s, loss=2.49]\n"
     ]
    },
    {
     "name": "stdout",
     "output_type": "stream",
     "text": [
      "Epoch [31/1000], Average Loss: 6.8256\n"
     ]
    },
    {
     "name": "stderr",
     "output_type": "stream",
     "text": [
      "Epoch 32/1000: 100%|██████████| 74/74 [00:01<00:00, 64.69batch/s, loss=2.52]\n"
     ]
    },
    {
     "name": "stdout",
     "output_type": "stream",
     "text": [
      "Epoch [32/1000], Average Loss: 6.8176\n"
     ]
    },
    {
     "name": "stderr",
     "output_type": "stream",
     "text": [
      "Epoch 33/1000: 100%|██████████| 74/74 [00:01<00:00, 61.83batch/s, loss=2.49]\n"
     ]
    },
    {
     "name": "stdout",
     "output_type": "stream",
     "text": [
      "Epoch [33/1000], Average Loss: 6.8082\n"
     ]
    },
    {
     "name": "stderr",
     "output_type": "stream",
     "text": [
      "Epoch 34/1000: 100%|██████████| 74/74 [00:01<00:00, 63.32batch/s, loss=2.47]\n"
     ]
    },
    {
     "name": "stdout",
     "output_type": "stream",
     "text": [
      "Epoch [34/1000], Average Loss: 6.8048\n"
     ]
    },
    {
     "name": "stderr",
     "output_type": "stream",
     "text": [
      "Epoch 35/1000: 100%|██████████| 74/74 [00:01<00:00, 63.30batch/s, loss=2.48]\n"
     ]
    },
    {
     "name": "stdout",
     "output_type": "stream",
     "text": [
      "Epoch [35/1000], Average Loss: 6.8070\n"
     ]
    },
    {
     "name": "stderr",
     "output_type": "stream",
     "text": [
      "Epoch 36/1000: 100%|██████████| 74/74 [00:01<00:00, 59.30batch/s, loss=2.51]\n"
     ]
    },
    {
     "name": "stdout",
     "output_type": "stream",
     "text": [
      "Epoch [36/1000], Average Loss: 6.7999\n"
     ]
    },
    {
     "name": "stderr",
     "output_type": "stream",
     "text": [
      "Epoch 37/1000: 100%|██████████| 74/74 [00:01<00:00, 63.57batch/s, loss=2.49]\n"
     ]
    },
    {
     "name": "stdout",
     "output_type": "stream",
     "text": [
      "Epoch [37/1000], Average Loss: 6.7844\n"
     ]
    },
    {
     "name": "stderr",
     "output_type": "stream",
     "text": [
      "Epoch 38/1000: 100%|██████████| 74/74 [00:01<00:00, 64.16batch/s, loss=2.55]\n"
     ]
    },
    {
     "name": "stdout",
     "output_type": "stream",
     "text": [
      "Epoch [38/1000], Average Loss: 6.7776\n"
     ]
    },
    {
     "name": "stderr",
     "output_type": "stream",
     "text": [
      "Epoch 39/1000: 100%|██████████| 74/74 [00:01<00:00, 64.82batch/s, loss=2.52]\n"
     ]
    },
    {
     "name": "stdout",
     "output_type": "stream",
     "text": [
      "Epoch [39/1000], Average Loss: 6.7802\n"
     ]
    },
    {
     "name": "stderr",
     "output_type": "stream",
     "text": [
      "Epoch 40/1000: 100%|██████████| 74/74 [00:01<00:00, 58.51batch/s, loss=2.49]\n"
     ]
    },
    {
     "name": "stdout",
     "output_type": "stream",
     "text": [
      "Epoch [40/1000], Average Loss: 6.7732\n"
     ]
    },
    {
     "name": "stderr",
     "output_type": "stream",
     "text": [
      "Epoch 41/1000: 100%|██████████| 74/74 [00:01<00:00, 62.47batch/s, loss=2.48]\n"
     ]
    },
    {
     "name": "stdout",
     "output_type": "stream",
     "text": [
      "Epoch [41/1000], Average Loss: 6.7594\n"
     ]
    },
    {
     "name": "stderr",
     "output_type": "stream",
     "text": [
      "Epoch 42/1000: 100%|██████████| 74/74 [00:01<00:00, 64.54batch/s, loss=2.53]\n"
     ]
    },
    {
     "name": "stdout",
     "output_type": "stream",
     "text": [
      "Epoch [42/1000], Average Loss: 6.7614\n"
     ]
    },
    {
     "name": "stderr",
     "output_type": "stream",
     "text": [
      "Epoch 43/1000: 100%|██████████| 74/74 [00:01<00:00, 60.36batch/s, loss=2.52]\n"
     ]
    },
    {
     "name": "stdout",
     "output_type": "stream",
     "text": [
      "Epoch [43/1000], Average Loss: 6.7555\n"
     ]
    },
    {
     "name": "stderr",
     "output_type": "stream",
     "text": [
      "Epoch 44/1000: 100%|██████████| 74/74 [00:01<00:00, 60.26batch/s, loss=2.52]\n"
     ]
    },
    {
     "name": "stdout",
     "output_type": "stream",
     "text": [
      "Epoch [44/1000], Average Loss: 6.7504\n"
     ]
    },
    {
     "name": "stderr",
     "output_type": "stream",
     "text": [
      "Epoch 45/1000: 100%|██████████| 74/74 [00:01<00:00, 61.92batch/s, loss=2.55]\n"
     ]
    },
    {
     "name": "stdout",
     "output_type": "stream",
     "text": [
      "Epoch [45/1000], Average Loss: 6.7515\n"
     ]
    },
    {
     "name": "stderr",
     "output_type": "stream",
     "text": [
      "Epoch 46/1000: 100%|██████████| 74/74 [00:01<00:00, 59.84batch/s, loss=2.51]\n"
     ]
    },
    {
     "name": "stdout",
     "output_type": "stream",
     "text": [
      "Epoch [46/1000], Average Loss: 6.7475\n"
     ]
    },
    {
     "name": "stderr",
     "output_type": "stream",
     "text": [
      "Epoch 47/1000: 100%|██████████| 74/74 [00:01<00:00, 61.17batch/s, loss=2.48]\n"
     ]
    },
    {
     "name": "stdout",
     "output_type": "stream",
     "text": [
      "Epoch [47/1000], Average Loss: 6.7510\n"
     ]
    },
    {
     "name": "stderr",
     "output_type": "stream",
     "text": [
      "Epoch 48/1000: 100%|██████████| 74/74 [00:01<00:00, 60.17batch/s, loss=2.47]\n"
     ]
    },
    {
     "name": "stdout",
     "output_type": "stream",
     "text": [
      "Epoch [48/1000], Average Loss: 6.7505\n"
     ]
    },
    {
     "name": "stderr",
     "output_type": "stream",
     "text": [
      "Epoch 49/1000: 100%|██████████| 74/74 [00:01<00:00, 57.84batch/s, loss=2.5] \n"
     ]
    },
    {
     "name": "stdout",
     "output_type": "stream",
     "text": [
      "Epoch [49/1000], Average Loss: 6.7538\n"
     ]
    },
    {
     "name": "stderr",
     "output_type": "stream",
     "text": [
      "Epoch 50/1000: 100%|██████████| 74/74 [00:01<00:00, 57.53batch/s, loss=2.51]\n"
     ]
    },
    {
     "name": "stdout",
     "output_type": "stream",
     "text": [
      "Epoch [50/1000], Average Loss: 6.7575\n"
     ]
    },
    {
     "name": "stderr",
     "output_type": "stream",
     "text": [
      "Epoch 51/1000: 100%|██████████| 74/74 [00:01<00:00, 62.87batch/s, loss=2.5] \n"
     ]
    },
    {
     "name": "stdout",
     "output_type": "stream",
     "text": [
      "Epoch [51/1000], Average Loss: 6.7605\n"
     ]
    },
    {
     "name": "stderr",
     "output_type": "stream",
     "text": [
      "Epoch 52/1000: 100%|██████████| 74/74 [00:01<00:00, 59.99batch/s, loss=2.52]\n"
     ]
    },
    {
     "name": "stdout",
     "output_type": "stream",
     "text": [
      "Epoch [52/1000], Average Loss: 6.7621\n"
     ]
    },
    {
     "name": "stderr",
     "output_type": "stream",
     "text": [
      "Epoch 53/1000: 100%|██████████| 74/74 [00:01<00:00, 57.47batch/s, loss=2.51]\n"
     ]
    },
    {
     "name": "stdout",
     "output_type": "stream",
     "text": [
      "Epoch [53/1000], Average Loss: 6.7556\n"
     ]
    },
    {
     "name": "stderr",
     "output_type": "stream",
     "text": [
      "Epoch 54/1000: 100%|██████████| 74/74 [00:01<00:00, 62.29batch/s, loss=2.53]\n"
     ]
    },
    {
     "name": "stdout",
     "output_type": "stream",
     "text": [
      "Epoch [54/1000], Average Loss: 6.7652\n"
     ]
    },
    {
     "name": "stderr",
     "output_type": "stream",
     "text": [
      "Epoch 55/1000: 100%|██████████| 74/74 [00:01<00:00, 60.72batch/s, loss=2.55]\n"
     ]
    },
    {
     "name": "stdout",
     "output_type": "stream",
     "text": [
      "Epoch [55/1000], Average Loss: 6.7558\n"
     ]
    },
    {
     "name": "stderr",
     "output_type": "stream",
     "text": [
      "Epoch 56/1000: 100%|██████████| 74/74 [00:01<00:00, 60.37batch/s, loss=2.49]\n"
     ]
    },
    {
     "name": "stdout",
     "output_type": "stream",
     "text": [
      "Epoch [56/1000], Average Loss: 6.7513\n"
     ]
    },
    {
     "name": "stderr",
     "output_type": "stream",
     "text": [
      "Epoch 57/1000: 100%|██████████| 74/74 [00:01<00:00, 55.72batch/s, loss=2.49]\n"
     ]
    },
    {
     "name": "stdout",
     "output_type": "stream",
     "text": [
      "Epoch [57/1000], Average Loss: 6.7476\n"
     ]
    },
    {
     "name": "stderr",
     "output_type": "stream",
     "text": [
      "Epoch 58/1000: 100%|██████████| 74/74 [00:01<00:00, 59.42batch/s, loss=2.51]\n"
     ]
    },
    {
     "name": "stdout",
     "output_type": "stream",
     "text": [
      "Epoch [58/1000], Average Loss: 6.7443\n"
     ]
    },
    {
     "name": "stderr",
     "output_type": "stream",
     "text": [
      "Epoch 59/1000: 100%|██████████| 74/74 [00:01<00:00, 56.59batch/s, loss=2.49]\n"
     ]
    },
    {
     "name": "stdout",
     "output_type": "stream",
     "text": [
      "Epoch [59/1000], Average Loss: 6.7410\n"
     ]
    },
    {
     "name": "stderr",
     "output_type": "stream",
     "text": [
      "Epoch 60/1000: 100%|██████████| 74/74 [00:01<00:00, 56.36batch/s, loss=2.51]\n"
     ]
    },
    {
     "name": "stdout",
     "output_type": "stream",
     "text": [
      "Epoch [60/1000], Average Loss: 6.7325\n"
     ]
    },
    {
     "name": "stderr",
     "output_type": "stream",
     "text": [
      "Epoch 61/1000: 100%|██████████| 74/74 [00:01<00:00, 58.81batch/s, loss=2.5] \n"
     ]
    },
    {
     "name": "stdout",
     "output_type": "stream",
     "text": [
      "Epoch [61/1000], Average Loss: 6.7226\n"
     ]
    },
    {
     "name": "stderr",
     "output_type": "stream",
     "text": [
      "Epoch 62/1000: 100%|██████████| 74/74 [00:01<00:00, 62.62batch/s, loss=2.48]\n"
     ]
    },
    {
     "name": "stdout",
     "output_type": "stream",
     "text": [
      "Epoch [62/1000], Average Loss: 6.7115\n"
     ]
    },
    {
     "name": "stderr",
     "output_type": "stream",
     "text": [
      "Epoch 63/1000: 100%|██████████| 74/74 [00:01<00:00, 59.20batch/s, loss=2.51]\n"
     ]
    },
    {
     "name": "stdout",
     "output_type": "stream",
     "text": [
      "Epoch [63/1000], Average Loss: 6.7142\n"
     ]
    },
    {
     "name": "stderr",
     "output_type": "stream",
     "text": [
      "Epoch 64/1000: 100%|██████████| 74/74 [00:01<00:00, 60.15batch/s, loss=2.5] \n"
     ]
    },
    {
     "name": "stdout",
     "output_type": "stream",
     "text": [
      "Epoch [64/1000], Average Loss: 6.7017\n"
     ]
    },
    {
     "name": "stderr",
     "output_type": "stream",
     "text": [
      "Epoch 65/1000: 100%|██████████| 74/74 [00:01<00:00, 64.87batch/s, loss=2.48]\n"
     ]
    },
    {
     "name": "stdout",
     "output_type": "stream",
     "text": [
      "Epoch [65/1000], Average Loss: 6.7093\n"
     ]
    },
    {
     "name": "stderr",
     "output_type": "stream",
     "text": [
      "Epoch 66/1000: 100%|██████████| 74/74 [00:01<00:00, 59.72batch/s, loss=2.53]\n"
     ]
    },
    {
     "name": "stdout",
     "output_type": "stream",
     "text": [
      "Epoch [66/1000], Average Loss: 6.7033\n"
     ]
    },
    {
     "name": "stderr",
     "output_type": "stream",
     "text": [
      "Epoch 67/1000: 100%|██████████| 74/74 [00:01<00:00, 57.56batch/s, loss=2.46]\n"
     ]
    },
    {
     "name": "stdout",
     "output_type": "stream",
     "text": [
      "Epoch [67/1000], Average Loss: 6.6968\n"
     ]
    },
    {
     "name": "stderr",
     "output_type": "stream",
     "text": [
      "Epoch 68/1000: 100%|██████████| 74/74 [00:01<00:00, 59.44batch/s, loss=2.48]\n"
     ]
    },
    {
     "name": "stdout",
     "output_type": "stream",
     "text": [
      "Epoch [68/1000], Average Loss: 6.6910\n"
     ]
    },
    {
     "name": "stderr",
     "output_type": "stream",
     "text": [
      "Epoch 69/1000: 100%|██████████| 74/74 [00:01<00:00, 58.55batch/s, loss=2.47]\n"
     ]
    },
    {
     "name": "stdout",
     "output_type": "stream",
     "text": [
      "Epoch [69/1000], Average Loss: 6.6890\n"
     ]
    },
    {
     "name": "stderr",
     "output_type": "stream",
     "text": [
      "Epoch 70/1000: 100%|██████████| 74/74 [00:01<00:00, 57.11batch/s, loss=2.48]\n"
     ]
    },
    {
     "name": "stdout",
     "output_type": "stream",
     "text": [
      "Epoch [70/1000], Average Loss: 6.6818\n"
     ]
    },
    {
     "name": "stderr",
     "output_type": "stream",
     "text": [
      "Epoch 71/1000: 100%|██████████| 74/74 [00:01<00:00, 60.78batch/s, loss=2.46]\n"
     ]
    },
    {
     "name": "stdout",
     "output_type": "stream",
     "text": [
      "Epoch [71/1000], Average Loss: 6.6767\n"
     ]
    },
    {
     "name": "stderr",
     "output_type": "stream",
     "text": [
      "Epoch 72/1000: 100%|██████████| 74/74 [00:01<00:00, 60.35batch/s, loss=2.47]\n"
     ]
    },
    {
     "name": "stdout",
     "output_type": "stream",
     "text": [
      "Epoch [72/1000], Average Loss: 6.6765\n"
     ]
    },
    {
     "name": "stderr",
     "output_type": "stream",
     "text": [
      "Epoch 73/1000: 100%|██████████| 74/74 [00:01<00:00, 54.63batch/s, loss=2.45]\n"
     ]
    },
    {
     "name": "stdout",
     "output_type": "stream",
     "text": [
      "Epoch [73/1000], Average Loss: 6.6761\n"
     ]
    },
    {
     "name": "stderr",
     "output_type": "stream",
     "text": [
      "Epoch 74/1000: 100%|██████████| 74/74 [00:01<00:00, 57.93batch/s, loss=2.53]\n"
     ]
    },
    {
     "name": "stdout",
     "output_type": "stream",
     "text": [
      "Epoch [74/1000], Average Loss: 6.6741\n"
     ]
    },
    {
     "name": "stderr",
     "output_type": "stream",
     "text": [
      "Epoch 75/1000: 100%|██████████| 74/74 [00:01<00:00, 59.28batch/s, loss=2.46]\n"
     ]
    },
    {
     "name": "stdout",
     "output_type": "stream",
     "text": [
      "Epoch [75/1000], Average Loss: 6.6754\n"
     ]
    },
    {
     "name": "stderr",
     "output_type": "stream",
     "text": [
      "Epoch 76/1000: 100%|██████████| 74/74 [00:01<00:00, 54.82batch/s, loss=2.44]\n"
     ]
    },
    {
     "name": "stdout",
     "output_type": "stream",
     "text": [
      "Epoch [76/1000], Average Loss: 6.6767\n"
     ]
    },
    {
     "name": "stderr",
     "output_type": "stream",
     "text": [
      "Epoch 77/1000: 100%|██████████| 74/74 [00:01<00:00, 60.00batch/s, loss=2.45]\n"
     ]
    },
    {
     "name": "stdout",
     "output_type": "stream",
     "text": [
      "Epoch [77/1000], Average Loss: 6.6734\n"
     ]
    },
    {
     "name": "stderr",
     "output_type": "stream",
     "text": [
      "Epoch 78/1000: 100%|██████████| 74/74 [00:01<00:00, 60.45batch/s, loss=2.49]\n"
     ]
    },
    {
     "name": "stdout",
     "output_type": "stream",
     "text": [
      "Epoch [78/1000], Average Loss: 6.6803\n"
     ]
    },
    {
     "name": "stderr",
     "output_type": "stream",
     "text": [
      "Epoch 79/1000: 100%|██████████| 74/74 [00:01<00:00, 61.64batch/s, loss=2.48]\n"
     ]
    },
    {
     "name": "stdout",
     "output_type": "stream",
     "text": [
      "Epoch [79/1000], Average Loss: 6.6749\n"
     ]
    },
    {
     "name": "stderr",
     "output_type": "stream",
     "text": [
      "Epoch 80/1000: 100%|██████████| 74/74 [00:01<00:00, 58.93batch/s, loss=2.49]\n"
     ]
    },
    {
     "name": "stdout",
     "output_type": "stream",
     "text": [
      "Epoch [80/1000], Average Loss: 6.6819\n"
     ]
    },
    {
     "name": "stderr",
     "output_type": "stream",
     "text": [
      "Epoch 81/1000: 100%|██████████| 74/74 [00:01<00:00, 59.15batch/s, loss=2.55]\n"
     ]
    },
    {
     "name": "stdout",
     "output_type": "stream",
     "text": [
      "Epoch [81/1000], Average Loss: 6.6784\n"
     ]
    },
    {
     "name": "stderr",
     "output_type": "stream",
     "text": [
      "Epoch 82/1000: 100%|██████████| 74/74 [00:01<00:00, 59.50batch/s, loss=2.52]\n"
     ]
    },
    {
     "name": "stdout",
     "output_type": "stream",
     "text": [
      "Epoch [82/1000], Average Loss: 6.6720\n"
     ]
    },
    {
     "name": "stderr",
     "output_type": "stream",
     "text": [
      "Epoch 83/1000: 100%|██████████| 74/74 [00:01<00:00, 54.00batch/s, loss=2.49]\n"
     ]
    },
    {
     "name": "stdout",
     "output_type": "stream",
     "text": [
      "Epoch [83/1000], Average Loss: 6.6642\n"
     ]
    },
    {
     "name": "stderr",
     "output_type": "stream",
     "text": [
      "Epoch 84/1000: 100%|██████████| 74/74 [00:01<00:00, 58.95batch/s, loss=2.44]\n"
     ]
    },
    {
     "name": "stdout",
     "output_type": "stream",
     "text": [
      "Epoch [84/1000], Average Loss: 6.6685\n"
     ]
    },
    {
     "name": "stderr",
     "output_type": "stream",
     "text": [
      "Epoch 85/1000: 100%|██████████| 74/74 [00:01<00:00, 53.52batch/s, loss=2.45]\n"
     ]
    },
    {
     "name": "stdout",
     "output_type": "stream",
     "text": [
      "Epoch [85/1000], Average Loss: 6.6630\n"
     ]
    },
    {
     "name": "stderr",
     "output_type": "stream",
     "text": [
      "Epoch 86/1000: 100%|██████████| 74/74 [00:01<00:00, 55.40batch/s, loss=2.48]\n"
     ]
    },
    {
     "name": "stdout",
     "output_type": "stream",
     "text": [
      "Epoch [86/1000], Average Loss: 6.6633\n"
     ]
    },
    {
     "name": "stderr",
     "output_type": "stream",
     "text": [
      "Epoch 87/1000: 100%|██████████| 74/74 [00:01<00:00, 56.22batch/s, loss=2.46]\n"
     ]
    },
    {
     "name": "stdout",
     "output_type": "stream",
     "text": [
      "Epoch [87/1000], Average Loss: 6.6589\n"
     ]
    },
    {
     "name": "stderr",
     "output_type": "stream",
     "text": [
      "Epoch 88/1000: 100%|██████████| 74/74 [00:01<00:00, 59.22batch/s, loss=2.48]\n"
     ]
    },
    {
     "name": "stdout",
     "output_type": "stream",
     "text": [
      "Epoch [88/1000], Average Loss: 6.6550\n"
     ]
    },
    {
     "name": "stderr",
     "output_type": "stream",
     "text": [
      "Epoch 89/1000: 100%|██████████| 74/74 [00:01<00:00, 54.70batch/s, loss=2.48]\n"
     ]
    },
    {
     "name": "stdout",
     "output_type": "stream",
     "text": [
      "Epoch [89/1000], Average Loss: 6.6492\n"
     ]
    },
    {
     "name": "stderr",
     "output_type": "stream",
     "text": [
      "Epoch 90/1000: 100%|██████████| 74/74 [00:01<00:00, 58.92batch/s, loss=2.45]\n"
     ]
    },
    {
     "name": "stdout",
     "output_type": "stream",
     "text": [
      "Epoch [90/1000], Average Loss: 6.6460\n"
     ]
    },
    {
     "name": "stderr",
     "output_type": "stream",
     "text": [
      "Epoch 91/1000: 100%|██████████| 74/74 [00:01<00:00, 58.88batch/s, loss=2.47]\n"
     ]
    },
    {
     "name": "stdout",
     "output_type": "stream",
     "text": [
      "Epoch [91/1000], Average Loss: 6.6430\n"
     ]
    },
    {
     "name": "stderr",
     "output_type": "stream",
     "text": [
      "Epoch 92/1000: 100%|██████████| 74/74 [00:01<00:00, 60.00batch/s, loss=2.48]\n"
     ]
    },
    {
     "name": "stdout",
     "output_type": "stream",
     "text": [
      "Epoch [92/1000], Average Loss: 6.6499\n"
     ]
    },
    {
     "name": "stderr",
     "output_type": "stream",
     "text": [
      "Epoch 93/1000: 100%|██████████| 74/74 [00:01<00:00, 56.27batch/s, loss=2.48]\n"
     ]
    },
    {
     "name": "stdout",
     "output_type": "stream",
     "text": [
      "Epoch [93/1000], Average Loss: 6.6434\n"
     ]
    },
    {
     "name": "stderr",
     "output_type": "stream",
     "text": [
      "Epoch 94/1000: 100%|██████████| 74/74 [00:01<00:00, 61.33batch/s, loss=2.5] \n"
     ]
    },
    {
     "name": "stdout",
     "output_type": "stream",
     "text": [
      "Epoch [94/1000], Average Loss: 6.6433\n"
     ]
    },
    {
     "name": "stderr",
     "output_type": "stream",
     "text": [
      "Epoch 95/1000: 100%|██████████| 74/74 [00:01<00:00, 61.41batch/s, loss=2.49]\n"
     ]
    },
    {
     "name": "stdout",
     "output_type": "stream",
     "text": [
      "Epoch [95/1000], Average Loss: 6.6436\n"
     ]
    },
    {
     "name": "stderr",
     "output_type": "stream",
     "text": [
      "Epoch 96/1000: 100%|██████████| 74/74 [00:01<00:00, 56.63batch/s, loss=2.48]\n"
     ]
    },
    {
     "name": "stdout",
     "output_type": "stream",
     "text": [
      "Epoch [96/1000], Average Loss: 6.6340\n"
     ]
    },
    {
     "name": "stderr",
     "output_type": "stream",
     "text": [
      "Epoch 97/1000: 100%|██████████| 74/74 [00:01<00:00, 54.93batch/s, loss=2.49]\n"
     ]
    },
    {
     "name": "stdout",
     "output_type": "stream",
     "text": [
      "Epoch [97/1000], Average Loss: 6.6337\n"
     ]
    },
    {
     "name": "stderr",
     "output_type": "stream",
     "text": [
      "Epoch 98/1000: 100%|██████████| 74/74 [00:01<00:00, 60.80batch/s, loss=2.45]\n"
     ]
    },
    {
     "name": "stdout",
     "output_type": "stream",
     "text": [
      "Epoch [98/1000], Average Loss: 6.6321\n"
     ]
    },
    {
     "name": "stderr",
     "output_type": "stream",
     "text": [
      "Epoch 99/1000: 100%|██████████| 74/74 [00:01<00:00, 58.58batch/s, loss=2.46]\n"
     ]
    },
    {
     "name": "stdout",
     "output_type": "stream",
     "text": [
      "Epoch [99/1000], Average Loss: 6.6290\n"
     ]
    },
    {
     "name": "stderr",
     "output_type": "stream",
     "text": [
      "Epoch 100/1000: 100%|██████████| 74/74 [00:01<00:00, 65.40batch/s, loss=2.47]\n"
     ]
    },
    {
     "name": "stdout",
     "output_type": "stream",
     "text": [
      "Epoch [100/1000], Average Loss: 6.6299\n"
     ]
    },
    {
     "name": "stderr",
     "output_type": "stream",
     "text": [
      "Epoch 101/1000: 100%|██████████| 74/74 [00:01<00:00, 52.99batch/s, loss=2.48]\n"
     ]
    },
    {
     "name": "stdout",
     "output_type": "stream",
     "text": [
      "Epoch [101/1000], Average Loss: 6.6301\n"
     ]
    },
    {
     "name": "stderr",
     "output_type": "stream",
     "text": [
      "Epoch 102/1000: 100%|██████████| 74/74 [00:01<00:00, 58.50batch/s, loss=2.51]\n"
     ]
    },
    {
     "name": "stdout",
     "output_type": "stream",
     "text": [
      "Epoch [102/1000], Average Loss: 6.6285\n"
     ]
    },
    {
     "name": "stderr",
     "output_type": "stream",
     "text": [
      "Epoch 103/1000: 100%|██████████| 74/74 [00:01<00:00, 59.26batch/s, loss=2.45]\n"
     ]
    },
    {
     "name": "stdout",
     "output_type": "stream",
     "text": [
      "Epoch [103/1000], Average Loss: 6.6285\n"
     ]
    },
    {
     "name": "stderr",
     "output_type": "stream",
     "text": [
      "Epoch 104/1000: 100%|██████████| 74/74 [00:01<00:00, 54.34batch/s, loss=2.45]\n"
     ]
    },
    {
     "name": "stdout",
     "output_type": "stream",
     "text": [
      "Epoch [104/1000], Average Loss: 6.6266\n"
     ]
    },
    {
     "name": "stderr",
     "output_type": "stream",
     "text": [
      "Epoch 105/1000: 100%|██████████| 74/74 [00:01<00:00, 58.43batch/s, loss=2.48]\n"
     ]
    },
    {
     "name": "stdout",
     "output_type": "stream",
     "text": [
      "Epoch [105/1000], Average Loss: 6.6249\n"
     ]
    },
    {
     "name": "stderr",
     "output_type": "stream",
     "text": [
      "Epoch 106/1000: 100%|██████████| 74/74 [00:01<00:00, 57.84batch/s, loss=2.46]\n"
     ]
    },
    {
     "name": "stdout",
     "output_type": "stream",
     "text": [
      "Epoch [106/1000], Average Loss: 6.6248\n"
     ]
    },
    {
     "name": "stderr",
     "output_type": "stream",
     "text": [
      "Epoch 107/1000: 100%|██████████| 74/74 [00:01<00:00, 62.10batch/s, loss=2.47]\n"
     ]
    },
    {
     "name": "stdout",
     "output_type": "stream",
     "text": [
      "Epoch [107/1000], Average Loss: 6.6293\n"
     ]
    },
    {
     "name": "stderr",
     "output_type": "stream",
     "text": [
      "Epoch 108/1000: 100%|██████████| 74/74 [00:01<00:00, 55.66batch/s, loss=2.45]\n"
     ]
    },
    {
     "name": "stdout",
     "output_type": "stream",
     "text": [
      "Epoch [108/1000], Average Loss: 6.6319\n"
     ]
    },
    {
     "name": "stderr",
     "output_type": "stream",
     "text": [
      "Epoch 109/1000: 100%|██████████| 74/74 [00:01<00:00, 55.93batch/s, loss=2.45]\n"
     ]
    },
    {
     "name": "stdout",
     "output_type": "stream",
     "text": [
      "Epoch [109/1000], Average Loss: 6.6385\n"
     ]
    },
    {
     "name": "stderr",
     "output_type": "stream",
     "text": [
      "Epoch 110/1000: 100%|██████████| 74/74 [00:01<00:00, 66.18batch/s, loss=2.42]\n"
     ]
    },
    {
     "name": "stdout",
     "output_type": "stream",
     "text": [
      "Epoch [110/1000], Average Loss: 6.6339\n"
     ]
    },
    {
     "name": "stderr",
     "output_type": "stream",
     "text": [
      "Epoch 111/1000: 100%|██████████| 74/74 [00:01<00:00, 56.75batch/s, loss=2.43]\n"
     ]
    },
    {
     "name": "stdout",
     "output_type": "stream",
     "text": [
      "Epoch [111/1000], Average Loss: 6.6373\n"
     ]
    },
    {
     "name": "stderr",
     "output_type": "stream",
     "text": [
      "Epoch 112/1000: 100%|██████████| 74/74 [00:01<00:00, 60.05batch/s, loss=2.43]\n"
     ]
    },
    {
     "name": "stdout",
     "output_type": "stream",
     "text": [
      "Epoch [112/1000], Average Loss: 6.6377\n"
     ]
    },
    {
     "name": "stderr",
     "output_type": "stream",
     "text": [
      "Epoch 113/1000: 100%|██████████| 74/74 [00:01<00:00, 61.79batch/s, loss=2.47]\n"
     ]
    },
    {
     "name": "stdout",
     "output_type": "stream",
     "text": [
      "Epoch [113/1000], Average Loss: 6.6503\n"
     ]
    },
    {
     "name": "stderr",
     "output_type": "stream",
     "text": [
      "Epoch 114/1000: 100%|██████████| 74/74 [00:01<00:00, 55.71batch/s, loss=2.44]\n"
     ]
    },
    {
     "name": "stdout",
     "output_type": "stream",
     "text": [
      "Epoch [114/1000], Average Loss: 6.6447\n"
     ]
    },
    {
     "name": "stderr",
     "output_type": "stream",
     "text": [
      "Epoch 115/1000: 100%|██████████| 74/74 [00:01<00:00, 54.22batch/s, loss=2.44]\n"
     ]
    },
    {
     "name": "stdout",
     "output_type": "stream",
     "text": [
      "Epoch [115/1000], Average Loss: 6.6418\n"
     ]
    },
    {
     "name": "stderr",
     "output_type": "stream",
     "text": [
      "Epoch 116/1000: 100%|██████████| 74/74 [00:01<00:00, 57.84batch/s, loss=2.46]\n"
     ]
    },
    {
     "name": "stdout",
     "output_type": "stream",
     "text": [
      "Epoch [116/1000], Average Loss: 6.6372\n"
     ]
    },
    {
     "name": "stderr",
     "output_type": "stream",
     "text": [
      "Epoch 117/1000: 100%|██████████| 74/74 [00:01<00:00, 61.86batch/s, loss=2.46]\n"
     ]
    },
    {
     "name": "stdout",
     "output_type": "stream",
     "text": [
      "Epoch [117/1000], Average Loss: 6.6235\n"
     ]
    },
    {
     "name": "stderr",
     "output_type": "stream",
     "text": [
      "Epoch 118/1000: 100%|██████████| 74/74 [00:01<00:00, 50.03batch/s, loss=2.45]\n"
     ]
    },
    {
     "name": "stdout",
     "output_type": "stream",
     "text": [
      "Epoch [118/1000], Average Loss: 6.6204\n"
     ]
    },
    {
     "name": "stderr",
     "output_type": "stream",
     "text": [
      "Epoch 119/1000: 100%|██████████| 74/74 [00:01<00:00, 61.19batch/s, loss=2.46]\n"
     ]
    },
    {
     "name": "stdout",
     "output_type": "stream",
     "text": [
      "Epoch [119/1000], Average Loss: 6.6120\n"
     ]
    },
    {
     "name": "stderr",
     "output_type": "stream",
     "text": [
      "Epoch 120/1000: 100%|██████████| 74/74 [00:01<00:00, 58.28batch/s, loss=2.43]\n"
     ]
    },
    {
     "name": "stdout",
     "output_type": "stream",
     "text": [
      "Epoch [120/1000], Average Loss: 6.6110\n"
     ]
    },
    {
     "name": "stderr",
     "output_type": "stream",
     "text": [
      "Epoch 121/1000: 100%|██████████| 74/74 [00:01<00:00, 56.29batch/s, loss=2.46]\n"
     ]
    },
    {
     "name": "stdout",
     "output_type": "stream",
     "text": [
      "Epoch [121/1000], Average Loss: 6.6132\n"
     ]
    },
    {
     "name": "stderr",
     "output_type": "stream",
     "text": [
      "Epoch 122/1000: 100%|██████████| 74/74 [00:01<00:00, 59.62batch/s, loss=2.46]\n"
     ]
    },
    {
     "name": "stdout",
     "output_type": "stream",
     "text": [
      "Epoch [122/1000], Average Loss: 6.6070\n"
     ]
    },
    {
     "name": "stderr",
     "output_type": "stream",
     "text": [
      "Epoch 123/1000: 100%|██████████| 74/74 [00:01<00:00, 56.37batch/s, loss=2.48]\n"
     ]
    },
    {
     "name": "stdout",
     "output_type": "stream",
     "text": [
      "Epoch [123/1000], Average Loss: 6.6037\n"
     ]
    },
    {
     "name": "stderr",
     "output_type": "stream",
     "text": [
      "Epoch 124/1000: 100%|██████████| 74/74 [00:01<00:00, 56.24batch/s, loss=2.47]\n"
     ]
    },
    {
     "name": "stdout",
     "output_type": "stream",
     "text": [
      "Epoch [124/1000], Average Loss: 6.5974\n"
     ]
    },
    {
     "name": "stderr",
     "output_type": "stream",
     "text": [
      "Epoch 125/1000: 100%|██████████| 74/74 [00:01<00:00, 59.14batch/s, loss=2.46]\n"
     ]
    },
    {
     "name": "stdout",
     "output_type": "stream",
     "text": [
      "Epoch [125/1000], Average Loss: 6.5967\n"
     ]
    },
    {
     "name": "stderr",
     "output_type": "stream",
     "text": [
      "Epoch 126/1000: 100%|██████████| 74/74 [00:01<00:00, 59.51batch/s, loss=2.44]\n"
     ]
    },
    {
     "name": "stdout",
     "output_type": "stream",
     "text": [
      "Epoch [126/1000], Average Loss: 6.5946\n"
     ]
    },
    {
     "name": "stderr",
     "output_type": "stream",
     "text": [
      "Epoch 127/1000: 100%|██████████| 74/74 [00:01<00:00, 51.70batch/s, loss=2.46]\n"
     ]
    },
    {
     "name": "stdout",
     "output_type": "stream",
     "text": [
      "Epoch [127/1000], Average Loss: 6.5921\n"
     ]
    },
    {
     "name": "stderr",
     "output_type": "stream",
     "text": [
      "Epoch 128/1000: 100%|██████████| 74/74 [00:01<00:00, 58.59batch/s, loss=2.48]\n"
     ]
    },
    {
     "name": "stdout",
     "output_type": "stream",
     "text": [
      "Epoch [128/1000], Average Loss: 6.5857\n"
     ]
    },
    {
     "name": "stderr",
     "output_type": "stream",
     "text": [
      "Epoch 129/1000: 100%|██████████| 74/74 [00:01<00:00, 55.25batch/s, loss=2.48]\n"
     ]
    },
    {
     "name": "stdout",
     "output_type": "stream",
     "text": [
      "Epoch [129/1000], Average Loss: 6.5859\n"
     ]
    },
    {
     "name": "stderr",
     "output_type": "stream",
     "text": [
      "Epoch 130/1000: 100%|██████████| 74/74 [00:01<00:00, 53.25batch/s, loss=2.46]\n"
     ]
    },
    {
     "name": "stdout",
     "output_type": "stream",
     "text": [
      "Epoch [130/1000], Average Loss: 6.5797\n"
     ]
    },
    {
     "name": "stderr",
     "output_type": "stream",
     "text": [
      "Epoch 131/1000: 100%|██████████| 74/74 [00:01<00:00, 58.96batch/s, loss=2.46]\n"
     ]
    },
    {
     "name": "stdout",
     "output_type": "stream",
     "text": [
      "Epoch [131/1000], Average Loss: 6.5798\n"
     ]
    },
    {
     "name": "stderr",
     "output_type": "stream",
     "text": [
      "Epoch 132/1000: 100%|██████████| 74/74 [00:01<00:00, 57.80batch/s, loss=2.47]\n"
     ]
    },
    {
     "name": "stdout",
     "output_type": "stream",
     "text": [
      "Epoch [132/1000], Average Loss: 6.5812\n"
     ]
    },
    {
     "name": "stderr",
     "output_type": "stream",
     "text": [
      "Epoch 133/1000: 100%|██████████| 74/74 [00:01<00:00, 55.44batch/s, loss=2.48]\n"
     ]
    },
    {
     "name": "stdout",
     "output_type": "stream",
     "text": [
      "Epoch [133/1000], Average Loss: 6.5809\n"
     ]
    },
    {
     "name": "stderr",
     "output_type": "stream",
     "text": [
      "Epoch 134/1000: 100%|██████████| 74/74 [00:01<00:00, 56.61batch/s, loss=2.46]\n"
     ]
    },
    {
     "name": "stdout",
     "output_type": "stream",
     "text": [
      "Epoch [134/1000], Average Loss: 6.5785\n"
     ]
    },
    {
     "name": "stderr",
     "output_type": "stream",
     "text": [
      "Epoch 135/1000: 100%|██████████| 74/74 [00:01<00:00, 61.64batch/s, loss=2.45]\n"
     ]
    },
    {
     "name": "stdout",
     "output_type": "stream",
     "text": [
      "Epoch [135/1000], Average Loss: 6.5808\n"
     ]
    },
    {
     "name": "stderr",
     "output_type": "stream",
     "text": [
      "Epoch 136/1000: 100%|██████████| 74/74 [00:01<00:00, 62.09batch/s, loss=2.44]\n"
     ]
    },
    {
     "name": "stdout",
     "output_type": "stream",
     "text": [
      "Epoch [136/1000], Average Loss: 6.5767\n"
     ]
    },
    {
     "name": "stderr",
     "output_type": "stream",
     "text": [
      "Epoch 137/1000: 100%|██████████| 74/74 [00:01<00:00, 53.55batch/s, loss=2.47]\n"
     ]
    },
    {
     "name": "stdout",
     "output_type": "stream",
     "text": [
      "Epoch [137/1000], Average Loss: 6.5790\n"
     ]
    },
    {
     "name": "stderr",
     "output_type": "stream",
     "text": [
      "Epoch 138/1000: 100%|██████████| 74/74 [00:01<00:00, 60.18batch/s, loss=2.47]\n"
     ]
    },
    {
     "name": "stdout",
     "output_type": "stream",
     "text": [
      "Epoch [138/1000], Average Loss: 6.5767\n"
     ]
    },
    {
     "name": "stderr",
     "output_type": "stream",
     "text": [
      "Epoch 139/1000: 100%|██████████| 74/74 [00:01<00:00, 56.26batch/s, loss=2.46]\n"
     ]
    },
    {
     "name": "stdout",
     "output_type": "stream",
     "text": [
      "Epoch [139/1000], Average Loss: 6.5806\n"
     ]
    },
    {
     "name": "stderr",
     "output_type": "stream",
     "text": [
      "Epoch 140/1000: 100%|██████████| 74/74 [00:01<00:00, 63.87batch/s, loss=2.5] \n"
     ]
    },
    {
     "name": "stdout",
     "output_type": "stream",
     "text": [
      "Epoch [140/1000], Average Loss: 6.5856\n"
     ]
    },
    {
     "name": "stderr",
     "output_type": "stream",
     "text": [
      "Epoch 141/1000: 100%|██████████| 74/74 [00:01<00:00, 57.09batch/s, loss=2.49]\n"
     ]
    },
    {
     "name": "stdout",
     "output_type": "stream",
     "text": [
      "Epoch [141/1000], Average Loss: 6.5868\n"
     ]
    },
    {
     "name": "stderr",
     "output_type": "stream",
     "text": [
      "Epoch 142/1000: 100%|██████████| 74/74 [00:01<00:00, 65.46batch/s, loss=2.47]\n"
     ]
    },
    {
     "name": "stdout",
     "output_type": "stream",
     "text": [
      "Epoch [142/1000], Average Loss: 6.5865\n"
     ]
    },
    {
     "name": "stderr",
     "output_type": "stream",
     "text": [
      "Epoch 143/1000: 100%|██████████| 74/74 [00:01<00:00, 55.98batch/s, loss=2.45]\n"
     ]
    },
    {
     "name": "stdout",
     "output_type": "stream",
     "text": [
      "Epoch [143/1000], Average Loss: 6.5938\n"
     ]
    },
    {
     "name": "stderr",
     "output_type": "stream",
     "text": [
      "Epoch 144/1000: 100%|██████████| 74/74 [00:01<00:00, 55.66batch/s, loss=2.45]\n"
     ]
    },
    {
     "name": "stdout",
     "output_type": "stream",
     "text": [
      "Epoch [144/1000], Average Loss: 6.5918\n"
     ]
    },
    {
     "name": "stderr",
     "output_type": "stream",
     "text": [
      "Epoch 145/1000: 100%|██████████| 74/74 [00:01<00:00, 58.13batch/s, loss=2.41]\n"
     ]
    },
    {
     "name": "stdout",
     "output_type": "stream",
     "text": [
      "Epoch [145/1000], Average Loss: 6.5945\n"
     ]
    },
    {
     "name": "stderr",
     "output_type": "stream",
     "text": [
      "Epoch 146/1000: 100%|██████████| 74/74 [00:01<00:00, 62.81batch/s, loss=2.43]\n"
     ]
    },
    {
     "name": "stdout",
     "output_type": "stream",
     "text": [
      "Epoch [146/1000], Average Loss: 6.5917\n"
     ]
    },
    {
     "name": "stderr",
     "output_type": "stream",
     "text": [
      "Epoch 147/1000: 100%|██████████| 74/74 [00:01<00:00, 57.42batch/s, loss=2.44]\n"
     ]
    },
    {
     "name": "stdout",
     "output_type": "stream",
     "text": [
      "Epoch [147/1000], Average Loss: 6.5982\n"
     ]
    },
    {
     "name": "stderr",
     "output_type": "stream",
     "text": [
      "Epoch 148/1000: 100%|██████████| 74/74 [00:01<00:00, 61.92batch/s, loss=2.43]\n"
     ]
    },
    {
     "name": "stdout",
     "output_type": "stream",
     "text": [
      "Epoch [148/1000], Average Loss: 6.5944\n"
     ]
    },
    {
     "name": "stderr",
     "output_type": "stream",
     "text": [
      "Epoch 149/1000: 100%|██████████| 74/74 [00:01<00:00, 57.13batch/s, loss=2.46]\n"
     ]
    },
    {
     "name": "stdout",
     "output_type": "stream",
     "text": [
      "Epoch [149/1000], Average Loss: 6.5880\n"
     ]
    },
    {
     "name": "stderr",
     "output_type": "stream",
     "text": [
      "Epoch 150/1000: 100%|██████████| 74/74 [00:01<00:00, 53.12batch/s, loss=2.44]\n"
     ]
    },
    {
     "name": "stdout",
     "output_type": "stream",
     "text": [
      "Epoch [150/1000], Average Loss: 6.5835\n"
     ]
    },
    {
     "name": "stderr",
     "output_type": "stream",
     "text": [
      "Epoch 151/1000: 100%|██████████| 74/74 [00:01<00:00, 61.55batch/s, loss=2.42]\n"
     ]
    },
    {
     "name": "stdout",
     "output_type": "stream",
     "text": [
      "Epoch [151/1000], Average Loss: 6.5813\n"
     ]
    },
    {
     "name": "stderr",
     "output_type": "stream",
     "text": [
      "Epoch 152/1000: 100%|██████████| 74/74 [00:01<00:00, 60.05batch/s, loss=2.42]\n"
     ]
    },
    {
     "name": "stdout",
     "output_type": "stream",
     "text": [
      "Epoch [152/1000], Average Loss: 6.5788\n"
     ]
    },
    {
     "name": "stderr",
     "output_type": "stream",
     "text": [
      "Epoch 153/1000: 100%|██████████| 74/74 [00:01<00:00, 55.76batch/s, loss=2.41]\n"
     ]
    },
    {
     "name": "stdout",
     "output_type": "stream",
     "text": [
      "Epoch [153/1000], Average Loss: 6.5817\n"
     ]
    },
    {
     "name": "stderr",
     "output_type": "stream",
     "text": [
      "Epoch 154/1000: 100%|██████████| 74/74 [00:01<00:00, 54.15batch/s, loss=2.45]\n"
     ]
    },
    {
     "name": "stdout",
     "output_type": "stream",
     "text": [
      "Epoch [154/1000], Average Loss: 6.5809\n"
     ]
    },
    {
     "name": "stderr",
     "output_type": "stream",
     "text": [
      "Epoch 155/1000: 100%|██████████| 74/74 [00:01<00:00, 66.67batch/s, loss=2.46]\n"
     ]
    },
    {
     "name": "stdout",
     "output_type": "stream",
     "text": [
      "Epoch [155/1000], Average Loss: 6.5793\n"
     ]
    },
    {
     "name": "stderr",
     "output_type": "stream",
     "text": [
      "Epoch 156/1000: 100%|██████████| 74/74 [00:01<00:00, 62.55batch/s, loss=2.45]\n"
     ]
    },
    {
     "name": "stdout",
     "output_type": "stream",
     "text": [
      "Epoch [156/1000], Average Loss: 6.5790\n"
     ]
    },
    {
     "name": "stderr",
     "output_type": "stream",
     "text": [
      "Epoch 157/1000: 100%|██████████| 74/74 [00:01<00:00, 57.68batch/s, loss=2.43]\n"
     ]
    },
    {
     "name": "stdout",
     "output_type": "stream",
     "text": [
      "Epoch [157/1000], Average Loss: 6.5730\n"
     ]
    },
    {
     "name": "stderr",
     "output_type": "stream",
     "text": [
      "Epoch 158/1000: 100%|██████████| 74/74 [00:01<00:00, 59.64batch/s, loss=2.44]\n"
     ]
    },
    {
     "name": "stdout",
     "output_type": "stream",
     "text": [
      "Epoch [158/1000], Average Loss: 6.5773\n"
     ]
    },
    {
     "name": "stderr",
     "output_type": "stream",
     "text": [
      "Epoch 159/1000: 100%|██████████| 74/74 [00:01<00:00, 60.24batch/s, loss=2.48]\n"
     ]
    },
    {
     "name": "stdout",
     "output_type": "stream",
     "text": [
      "Epoch [159/1000], Average Loss: 6.5804\n"
     ]
    },
    {
     "name": "stderr",
     "output_type": "stream",
     "text": [
      "Epoch 160/1000: 100%|██████████| 74/74 [00:01<00:00, 54.47batch/s, loss=2.45]\n"
     ]
    },
    {
     "name": "stdout",
     "output_type": "stream",
     "text": [
      "Epoch [160/1000], Average Loss: 6.5778\n"
     ]
    },
    {
     "name": "stderr",
     "output_type": "stream",
     "text": [
      "Epoch 161/1000: 100%|██████████| 74/74 [00:01<00:00, 57.89batch/s, loss=2.45]\n"
     ]
    },
    {
     "name": "stdout",
     "output_type": "stream",
     "text": [
      "Epoch [161/1000], Average Loss: 6.5779\n"
     ]
    },
    {
     "name": "stderr",
     "output_type": "stream",
     "text": [
      "Epoch 162/1000: 100%|██████████| 74/74 [00:01<00:00, 57.14batch/s, loss=2.54]\n"
     ]
    },
    {
     "name": "stdout",
     "output_type": "stream",
     "text": [
      "Epoch [162/1000], Average Loss: 6.5724\n"
     ]
    },
    {
     "name": "stderr",
     "output_type": "stream",
     "text": [
      "Epoch 163/1000: 100%|██████████| 74/74 [00:01<00:00, 52.32batch/s, loss=2.48]\n"
     ]
    },
    {
     "name": "stdout",
     "output_type": "stream",
     "text": [
      "Epoch [163/1000], Average Loss: 6.5697\n"
     ]
    },
    {
     "name": "stderr",
     "output_type": "stream",
     "text": [
      "Epoch 164/1000: 100%|██████████| 74/74 [00:01<00:00, 53.01batch/s, loss=2.49]\n"
     ]
    },
    {
     "name": "stdout",
     "output_type": "stream",
     "text": [
      "Epoch [164/1000], Average Loss: 6.5741\n"
     ]
    },
    {
     "name": "stderr",
     "output_type": "stream",
     "text": [
      "Epoch 165/1000: 100%|██████████| 74/74 [00:01<00:00, 62.64batch/s, loss=2.47]\n"
     ]
    },
    {
     "name": "stdout",
     "output_type": "stream",
     "text": [
      "Epoch [165/1000], Average Loss: 6.5725\n"
     ]
    },
    {
     "name": "stderr",
     "output_type": "stream",
     "text": [
      "Epoch 166/1000: 100%|██████████| 74/74 [00:01<00:00, 57.76batch/s, loss=2.54]\n"
     ]
    },
    {
     "name": "stdout",
     "output_type": "stream",
     "text": [
      "Epoch [166/1000], Average Loss: 6.5731\n"
     ]
    },
    {
     "name": "stderr",
     "output_type": "stream",
     "text": [
      "Epoch 167/1000: 100%|██████████| 74/74 [00:01<00:00, 58.10batch/s, loss=2.52]\n"
     ]
    },
    {
     "name": "stdout",
     "output_type": "stream",
     "text": [
      "Epoch [167/1000], Average Loss: 6.5710\n"
     ]
    },
    {
     "name": "stderr",
     "output_type": "stream",
     "text": [
      "Epoch 168/1000: 100%|██████████| 74/74 [00:01<00:00, 61.26batch/s, loss=2.47]\n"
     ]
    },
    {
     "name": "stdout",
     "output_type": "stream",
     "text": [
      "Epoch [168/1000], Average Loss: 6.5711\n"
     ]
    },
    {
     "name": "stderr",
     "output_type": "stream",
     "text": [
      "Epoch 169/1000: 100%|██████████| 74/74 [00:01<00:00, 55.25batch/s, loss=2.46]\n"
     ]
    },
    {
     "name": "stdout",
     "output_type": "stream",
     "text": [
      "Epoch [169/1000], Average Loss: 6.5615\n"
     ]
    },
    {
     "name": "stderr",
     "output_type": "stream",
     "text": [
      "Epoch 170/1000: 100%|██████████| 74/74 [00:01<00:00, 59.48batch/s, loss=2.45]\n"
     ]
    },
    {
     "name": "stdout",
     "output_type": "stream",
     "text": [
      "Epoch [170/1000], Average Loss: 6.5615\n"
     ]
    },
    {
     "name": "stderr",
     "output_type": "stream",
     "text": [
      "Epoch 171/1000: 100%|██████████| 74/74 [00:01<00:00, 52.18batch/s, loss=2.46]\n"
     ]
    },
    {
     "name": "stdout",
     "output_type": "stream",
     "text": [
      "Epoch [171/1000], Average Loss: 6.5699\n"
     ]
    },
    {
     "name": "stderr",
     "output_type": "stream",
     "text": [
      "Epoch 172/1000: 100%|██████████| 74/74 [00:01<00:00, 54.11batch/s, loss=2.46]\n"
     ]
    },
    {
     "name": "stdout",
     "output_type": "stream",
     "text": [
      "Epoch [172/1000], Average Loss: 6.5725\n"
     ]
    },
    {
     "name": "stderr",
     "output_type": "stream",
     "text": [
      "Epoch 173/1000: 100%|██████████| 74/74 [00:01<00:00, 60.06batch/s, loss=2.48]\n"
     ]
    },
    {
     "name": "stdout",
     "output_type": "stream",
     "text": [
      "Epoch [173/1000], Average Loss: 6.5670\n"
     ]
    },
    {
     "name": "stderr",
     "output_type": "stream",
     "text": [
      "Epoch 174/1000: 100%|██████████| 74/74 [00:01<00:00, 57.46batch/s, loss=2.45]\n"
     ]
    },
    {
     "name": "stdout",
     "output_type": "stream",
     "text": [
      "Epoch [174/1000], Average Loss: 6.5669\n"
     ]
    },
    {
     "name": "stderr",
     "output_type": "stream",
     "text": [
      "Epoch 175/1000: 100%|██████████| 74/74 [00:01<00:00, 52.21batch/s, loss=2.42]\n"
     ]
    },
    {
     "name": "stdout",
     "output_type": "stream",
     "text": [
      "Epoch [175/1000], Average Loss: 6.5644\n"
     ]
    },
    {
     "name": "stderr",
     "output_type": "stream",
     "text": [
      "Epoch 176/1000: 100%|██████████| 74/74 [00:01<00:00, 56.97batch/s, loss=2.41]\n"
     ]
    },
    {
     "name": "stdout",
     "output_type": "stream",
     "text": [
      "Epoch [176/1000], Average Loss: 6.5630\n"
     ]
    },
    {
     "name": "stderr",
     "output_type": "stream",
     "text": [
      "Epoch 177/1000: 100%|██████████| 74/74 [00:01<00:00, 52.99batch/s, loss=2.41]\n"
     ]
    },
    {
     "name": "stdout",
     "output_type": "stream",
     "text": [
      "Epoch [177/1000], Average Loss: 6.5678\n"
     ]
    },
    {
     "name": "stderr",
     "output_type": "stream",
     "text": [
      "Epoch 178/1000: 100%|██████████| 74/74 [00:01<00:00, 54.56batch/s, loss=2.43]\n"
     ]
    },
    {
     "name": "stdout",
     "output_type": "stream",
     "text": [
      "Epoch [178/1000], Average Loss: 6.5701\n"
     ]
    },
    {
     "name": "stderr",
     "output_type": "stream",
     "text": [
      "Epoch 179/1000: 100%|██████████| 74/74 [00:01<00:00, 60.65batch/s, loss=2.42]\n"
     ]
    },
    {
     "name": "stdout",
     "output_type": "stream",
     "text": [
      "Epoch [179/1000], Average Loss: 6.5639\n"
     ]
    },
    {
     "name": "stderr",
     "output_type": "stream",
     "text": [
      "Epoch 180/1000: 100%|██████████| 74/74 [00:01<00:00, 57.57batch/s, loss=2.41]\n"
     ]
    },
    {
     "name": "stdout",
     "output_type": "stream",
     "text": [
      "Epoch [180/1000], Average Loss: 6.5639\n"
     ]
    },
    {
     "name": "stderr",
     "output_type": "stream",
     "text": [
      "Epoch 181/1000: 100%|██████████| 74/74 [00:01<00:00, 54.29batch/s, loss=2.44]\n"
     ]
    },
    {
     "name": "stdout",
     "output_type": "stream",
     "text": [
      "Epoch [181/1000], Average Loss: 6.5574\n"
     ]
    },
    {
     "name": "stderr",
     "output_type": "stream",
     "text": [
      "Epoch 182/1000: 100%|██████████| 74/74 [00:01<00:00, 58.03batch/s, loss=2.42]\n"
     ]
    },
    {
     "name": "stdout",
     "output_type": "stream",
     "text": [
      "Epoch [182/1000], Average Loss: 6.5534\n"
     ]
    },
    {
     "name": "stderr",
     "output_type": "stream",
     "text": [
      "Epoch 183/1000: 100%|██████████| 74/74 [00:01<00:00, 57.75batch/s, loss=2.42]\n"
     ]
    },
    {
     "name": "stdout",
     "output_type": "stream",
     "text": [
      "Epoch [183/1000], Average Loss: 6.5522\n"
     ]
    },
    {
     "name": "stderr",
     "output_type": "stream",
     "text": [
      "Epoch 184/1000: 100%|██████████| 74/74 [00:01<00:00, 52.25batch/s, loss=2.44]\n"
     ]
    },
    {
     "name": "stdout",
     "output_type": "stream",
     "text": [
      "Epoch [184/1000], Average Loss: 6.5555\n"
     ]
    },
    {
     "name": "stderr",
     "output_type": "stream",
     "text": [
      "Epoch 185/1000: 100%|██████████| 74/74 [00:01<00:00, 59.39batch/s, loss=2.46]\n"
     ]
    },
    {
     "name": "stdout",
     "output_type": "stream",
     "text": [
      "Epoch [185/1000], Average Loss: 6.5577\n"
     ]
    },
    {
     "name": "stderr",
     "output_type": "stream",
     "text": [
      "Epoch 186/1000: 100%|██████████| 74/74 [00:01<00:00, 56.90batch/s, loss=2.47]\n"
     ]
    },
    {
     "name": "stdout",
     "output_type": "stream",
     "text": [
      "Epoch [186/1000], Average Loss: 6.5550\n"
     ]
    },
    {
     "name": "stderr",
     "output_type": "stream",
     "text": [
      "Epoch 187/1000: 100%|██████████| 74/74 [00:01<00:00, 52.76batch/s, loss=2.49]\n"
     ]
    },
    {
     "name": "stdout",
     "output_type": "stream",
     "text": [
      "Epoch [187/1000], Average Loss: 6.5508\n"
     ]
    },
    {
     "name": "stderr",
     "output_type": "stream",
     "text": [
      "Epoch 188/1000: 100%|██████████| 74/74 [00:01<00:00, 57.16batch/s, loss=2.46]\n"
     ]
    },
    {
     "name": "stdout",
     "output_type": "stream",
     "text": [
      "Epoch [188/1000], Average Loss: 6.5483\n"
     ]
    },
    {
     "name": "stderr",
     "output_type": "stream",
     "text": [
      "Epoch 189/1000: 100%|██████████| 74/74 [00:01<00:00, 63.44batch/s, loss=2.45]\n"
     ]
    },
    {
     "name": "stdout",
     "output_type": "stream",
     "text": [
      "Epoch [189/1000], Average Loss: 6.5472\n"
     ]
    },
    {
     "name": "stderr",
     "output_type": "stream",
     "text": [
      "Epoch 190/1000: 100%|██████████| 74/74 [00:01<00:00, 59.59batch/s, loss=2.44]\n"
     ]
    },
    {
     "name": "stdout",
     "output_type": "stream",
     "text": [
      "Epoch [190/1000], Average Loss: 6.5486\n"
     ]
    },
    {
     "name": "stderr",
     "output_type": "stream",
     "text": [
      "Epoch 191/1000: 100%|██████████| 74/74 [00:01<00:00, 50.56batch/s, loss=2.44]\n"
     ]
    },
    {
     "name": "stdout",
     "output_type": "stream",
     "text": [
      "Epoch [191/1000], Average Loss: 6.5395\n"
     ]
    },
    {
     "name": "stderr",
     "output_type": "stream",
     "text": [
      "Epoch 192/1000: 100%|██████████| 74/74 [00:01<00:00, 56.71batch/s, loss=2.44]\n"
     ]
    },
    {
     "name": "stdout",
     "output_type": "stream",
     "text": [
      "Epoch [192/1000], Average Loss: 6.5417\n"
     ]
    },
    {
     "name": "stderr",
     "output_type": "stream",
     "text": [
      "Epoch 193/1000: 100%|██████████| 74/74 [00:01<00:00, 52.36batch/s, loss=2.44]\n"
     ]
    },
    {
     "name": "stdout",
     "output_type": "stream",
     "text": [
      "Epoch [193/1000], Average Loss: 6.5421\n"
     ]
    },
    {
     "name": "stderr",
     "output_type": "stream",
     "text": [
      "Epoch 194/1000: 100%|██████████| 74/74 [00:01<00:00, 59.35batch/s, loss=2.43]\n"
     ]
    },
    {
     "name": "stdout",
     "output_type": "stream",
     "text": [
      "Epoch [194/1000], Average Loss: 6.5378\n"
     ]
    },
    {
     "name": "stderr",
     "output_type": "stream",
     "text": [
      "Epoch 195/1000: 100%|██████████| 74/74 [00:01<00:00, 55.30batch/s, loss=2.44]\n"
     ]
    },
    {
     "name": "stdout",
     "output_type": "stream",
     "text": [
      "Epoch [195/1000], Average Loss: 6.5362\n"
     ]
    },
    {
     "name": "stderr",
     "output_type": "stream",
     "text": [
      "Epoch 196/1000: 100%|██████████| 74/74 [00:01<00:00, 52.50batch/s, loss=2.42]\n"
     ]
    },
    {
     "name": "stdout",
     "output_type": "stream",
     "text": [
      "Epoch [196/1000], Average Loss: 6.5348\n"
     ]
    },
    {
     "name": "stderr",
     "output_type": "stream",
     "text": [
      "Epoch 197/1000: 100%|██████████| 74/74 [00:01<00:00, 59.86batch/s, loss=2.45]\n"
     ]
    },
    {
     "name": "stdout",
     "output_type": "stream",
     "text": [
      "Epoch [197/1000], Average Loss: 6.5297\n"
     ]
    },
    {
     "name": "stderr",
     "output_type": "stream",
     "text": [
      "Epoch 198/1000: 100%|██████████| 74/74 [00:01<00:00, 60.24batch/s, loss=2.41]\n"
     ]
    },
    {
     "name": "stdout",
     "output_type": "stream",
     "text": [
      "Epoch [198/1000], Average Loss: 6.5317\n"
     ]
    },
    {
     "name": "stderr",
     "output_type": "stream",
     "text": [
      "Epoch 199/1000: 100%|██████████| 74/74 [00:01<00:00, 52.86batch/s, loss=2.42]\n"
     ]
    },
    {
     "name": "stdout",
     "output_type": "stream",
     "text": [
      "Epoch [199/1000], Average Loss: 6.5350\n"
     ]
    },
    {
     "name": "stderr",
     "output_type": "stream",
     "text": [
      "Epoch 200/1000: 100%|██████████| 74/74 [00:01<00:00, 55.73batch/s, loss=2.44]\n"
     ]
    },
    {
     "name": "stdout",
     "output_type": "stream",
     "text": [
      "Epoch [200/1000], Average Loss: 6.5367\n"
     ]
    },
    {
     "name": "stderr",
     "output_type": "stream",
     "text": [
      "Epoch 201/1000: 100%|██████████| 74/74 [00:01<00:00, 51.95batch/s, loss=2.44]\n"
     ]
    },
    {
     "name": "stdout",
     "output_type": "stream",
     "text": [
      "Epoch [201/1000], Average Loss: 6.5323\n"
     ]
    },
    {
     "name": "stderr",
     "output_type": "stream",
     "text": [
      "Epoch 202/1000: 100%|██████████| 74/74 [00:01<00:00, 54.49batch/s, loss=2.45]\n"
     ]
    },
    {
     "name": "stdout",
     "output_type": "stream",
     "text": [
      "Epoch [202/1000], Average Loss: 6.5324\n"
     ]
    },
    {
     "name": "stderr",
     "output_type": "stream",
     "text": [
      "Epoch 203/1000: 100%|██████████| 74/74 [00:01<00:00, 51.73batch/s, loss=2.44]\n"
     ]
    },
    {
     "name": "stdout",
     "output_type": "stream",
     "text": [
      "Epoch [203/1000], Average Loss: 6.5313\n"
     ]
    },
    {
     "name": "stderr",
     "output_type": "stream",
     "text": [
      "Epoch 204/1000: 100%|██████████| 74/74 [00:01<00:00, 48.30batch/s, loss=2.5] \n"
     ]
    },
    {
     "name": "stdout",
     "output_type": "stream",
     "text": [
      "Epoch [204/1000], Average Loss: 6.5256\n"
     ]
    },
    {
     "name": "stderr",
     "output_type": "stream",
     "text": [
      "Epoch 205/1000: 100%|██████████| 74/74 [00:01<00:00, 49.15batch/s, loss=2.42]\n"
     ]
    },
    {
     "name": "stdout",
     "output_type": "stream",
     "text": [
      "Epoch [205/1000], Average Loss: 6.5285\n"
     ]
    },
    {
     "name": "stderr",
     "output_type": "stream",
     "text": [
      "Epoch 206/1000: 100%|██████████| 74/74 [00:01<00:00, 51.98batch/s, loss=2.43]\n"
     ]
    },
    {
     "name": "stdout",
     "output_type": "stream",
     "text": [
      "Epoch [206/1000], Average Loss: 6.5217\n"
     ]
    },
    {
     "name": "stderr",
     "output_type": "stream",
     "text": [
      "Epoch 207/1000: 100%|██████████| 74/74 [00:01<00:00, 56.38batch/s, loss=2.44]\n"
     ]
    },
    {
     "name": "stdout",
     "output_type": "stream",
     "text": [
      "Epoch [207/1000], Average Loss: 6.5182\n"
     ]
    },
    {
     "name": "stderr",
     "output_type": "stream",
     "text": [
      "Epoch 208/1000: 100%|██████████| 74/74 [00:01<00:00, 57.54batch/s, loss=2.42]\n"
     ]
    },
    {
     "name": "stdout",
     "output_type": "stream",
     "text": [
      "Epoch [208/1000], Average Loss: 6.5170\n"
     ]
    },
    {
     "name": "stderr",
     "output_type": "stream",
     "text": [
      "Epoch 209/1000: 100%|██████████| 74/74 [00:01<00:00, 54.64batch/s, loss=2.42]\n"
     ]
    },
    {
     "name": "stdout",
     "output_type": "stream",
     "text": [
      "Epoch [209/1000], Average Loss: 6.5173\n"
     ]
    },
    {
     "name": "stderr",
     "output_type": "stream",
     "text": [
      "Epoch 210/1000: 100%|██████████| 74/74 [00:01<00:00, 58.35batch/s, loss=2.45]\n"
     ]
    },
    {
     "name": "stdout",
     "output_type": "stream",
     "text": [
      "Epoch [210/1000], Average Loss: 6.5202\n"
     ]
    },
    {
     "name": "stderr",
     "output_type": "stream",
     "text": [
      "Epoch 211/1000: 100%|██████████| 74/74 [00:01<00:00, 49.78batch/s, loss=2.42]\n"
     ]
    },
    {
     "name": "stdout",
     "output_type": "stream",
     "text": [
      "Epoch [211/1000], Average Loss: 6.5169\n"
     ]
    },
    {
     "name": "stderr",
     "output_type": "stream",
     "text": [
      "Epoch 212/1000: 100%|██████████| 74/74 [00:01<00:00, 54.12batch/s, loss=2.43]\n"
     ]
    },
    {
     "name": "stdout",
     "output_type": "stream",
     "text": [
      "Epoch [212/1000], Average Loss: 6.5204\n"
     ]
    },
    {
     "name": "stderr",
     "output_type": "stream",
     "text": [
      "Epoch 213/1000: 100%|██████████| 74/74 [00:01<00:00, 56.24batch/s, loss=2.43]\n"
     ]
    },
    {
     "name": "stdout",
     "output_type": "stream",
     "text": [
      "Epoch [213/1000], Average Loss: 6.5201\n"
     ]
    },
    {
     "name": "stderr",
     "output_type": "stream",
     "text": [
      "Epoch 214/1000: 100%|██████████| 74/74 [00:01<00:00, 51.47batch/s, loss=2.43]\n"
     ]
    },
    {
     "name": "stdout",
     "output_type": "stream",
     "text": [
      "Epoch [214/1000], Average Loss: 6.5229\n"
     ]
    },
    {
     "name": "stderr",
     "output_type": "stream",
     "text": [
      "Epoch 215/1000: 100%|██████████| 74/74 [00:01<00:00, 52.58batch/s, loss=2.44]\n"
     ]
    },
    {
     "name": "stdout",
     "output_type": "stream",
     "text": [
      "Epoch [215/1000], Average Loss: 6.5204\n"
     ]
    },
    {
     "name": "stderr",
     "output_type": "stream",
     "text": [
      "Epoch 216/1000: 100%|██████████| 74/74 [00:01<00:00, 53.86batch/s, loss=2.44]\n"
     ]
    },
    {
     "name": "stdout",
     "output_type": "stream",
     "text": [
      "Epoch [216/1000], Average Loss: 6.5204\n"
     ]
    },
    {
     "name": "stderr",
     "output_type": "stream",
     "text": [
      "Epoch 217/1000: 100%|██████████| 74/74 [00:01<00:00, 50.85batch/s, loss=2.47]\n"
     ]
    },
    {
     "name": "stdout",
     "output_type": "stream",
     "text": [
      "Epoch [217/1000], Average Loss: 6.5221\n"
     ]
    },
    {
     "name": "stderr",
     "output_type": "stream",
     "text": [
      "Epoch 218/1000: 100%|██████████| 74/74 [00:01<00:00, 54.79batch/s, loss=2.46]\n"
     ]
    },
    {
     "name": "stdout",
     "output_type": "stream",
     "text": [
      "Epoch [218/1000], Average Loss: 6.5228\n"
     ]
    },
    {
     "name": "stderr",
     "output_type": "stream",
     "text": [
      "Epoch 219/1000: 100%|██████████| 74/74 [00:01<00:00, 57.67batch/s, loss=2.45]\n"
     ]
    },
    {
     "name": "stdout",
     "output_type": "stream",
     "text": [
      "Epoch [219/1000], Average Loss: 6.5251\n"
     ]
    },
    {
     "name": "stderr",
     "output_type": "stream",
     "text": [
      "Epoch 220/1000: 100%|██████████| 74/74 [00:01<00:00, 54.02batch/s, loss=2.45]\n"
     ]
    },
    {
     "name": "stdout",
     "output_type": "stream",
     "text": [
      "Epoch [220/1000], Average Loss: 6.5237\n"
     ]
    },
    {
     "name": "stderr",
     "output_type": "stream",
     "text": [
      "Epoch 221/1000: 100%|██████████| 74/74 [00:01<00:00, 55.53batch/s, loss=2.45]\n"
     ]
    },
    {
     "name": "stdout",
     "output_type": "stream",
     "text": [
      "Epoch [221/1000], Average Loss: 6.5243\n"
     ]
    },
    {
     "name": "stderr",
     "output_type": "stream",
     "text": [
      "Epoch 222/1000: 100%|██████████| 74/74 [00:01<00:00, 59.58batch/s, loss=2.47]\n"
     ]
    },
    {
     "name": "stdout",
     "output_type": "stream",
     "text": [
      "Epoch [222/1000], Average Loss: 6.5252\n"
     ]
    },
    {
     "name": "stderr",
     "output_type": "stream",
     "text": [
      "Epoch 223/1000: 100%|██████████| 74/74 [00:01<00:00, 50.85batch/s, loss=2.46]\n"
     ]
    },
    {
     "name": "stdout",
     "output_type": "stream",
     "text": [
      "Epoch [223/1000], Average Loss: 6.5259\n"
     ]
    },
    {
     "name": "stderr",
     "output_type": "stream",
     "text": [
      "Epoch 224/1000: 100%|██████████| 74/74 [00:01<00:00, 57.74batch/s, loss=2.43]\n"
     ]
    },
    {
     "name": "stdout",
     "output_type": "stream",
     "text": [
      "Epoch [224/1000], Average Loss: 6.5290\n"
     ]
    },
    {
     "name": "stderr",
     "output_type": "stream",
     "text": [
      "Epoch 225/1000: 100%|██████████| 74/74 [00:01<00:00, 55.80batch/s, loss=2.44]\n"
     ]
    },
    {
     "name": "stdout",
     "output_type": "stream",
     "text": [
      "Epoch [225/1000], Average Loss: 6.5255\n"
     ]
    },
    {
     "name": "stderr",
     "output_type": "stream",
     "text": [
      "Epoch 226/1000: 100%|██████████| 74/74 [00:01<00:00, 48.63batch/s, loss=2.42]\n"
     ]
    },
    {
     "name": "stdout",
     "output_type": "stream",
     "text": [
      "Epoch [226/1000], Average Loss: 6.5254\n"
     ]
    },
    {
     "name": "stderr",
     "output_type": "stream",
     "text": [
      "Epoch 227/1000: 100%|██████████| 74/74 [00:01<00:00, 57.28batch/s, loss=2.42]\n"
     ]
    },
    {
     "name": "stdout",
     "output_type": "stream",
     "text": [
      "Epoch [227/1000], Average Loss: 6.5164\n"
     ]
    },
    {
     "name": "stderr",
     "output_type": "stream",
     "text": [
      "Epoch 228/1000: 100%|██████████| 74/74 [00:01<00:00, 47.99batch/s, loss=2.43]\n"
     ]
    },
    {
     "name": "stdout",
     "output_type": "stream",
     "text": [
      "Epoch [228/1000], Average Loss: 6.5198\n"
     ]
    },
    {
     "name": "stderr",
     "output_type": "stream",
     "text": [
      "Epoch 229/1000: 100%|██████████| 74/74 [00:01<00:00, 54.65batch/s, loss=2.42]\n"
     ]
    },
    {
     "name": "stdout",
     "output_type": "stream",
     "text": [
      "Epoch [229/1000], Average Loss: 6.5155\n"
     ]
    },
    {
     "name": "stderr",
     "output_type": "stream",
     "text": [
      "Epoch 230/1000: 100%|██████████| 74/74 [00:01<00:00, 56.86batch/s, loss=2.44]\n"
     ]
    },
    {
     "name": "stdout",
     "output_type": "stream",
     "text": [
      "Epoch [230/1000], Average Loss: 6.5108\n"
     ]
    },
    {
     "name": "stderr",
     "output_type": "stream",
     "text": [
      "Epoch 231/1000: 100%|██████████| 74/74 [00:01<00:00, 48.59batch/s, loss=2.44]\n"
     ]
    },
    {
     "name": "stdout",
     "output_type": "stream",
     "text": [
      "Epoch [231/1000], Average Loss: 6.5083\n"
     ]
    },
    {
     "name": "stderr",
     "output_type": "stream",
     "text": [
      "Epoch 232/1000: 100%|██████████| 74/74 [00:01<00:00, 53.53batch/s, loss=2.44]\n"
     ]
    },
    {
     "name": "stdout",
     "output_type": "stream",
     "text": [
      "Epoch [232/1000], Average Loss: 6.5072\n"
     ]
    },
    {
     "name": "stderr",
     "output_type": "stream",
     "text": [
      "Epoch 233/1000: 100%|██████████| 74/74 [00:01<00:00, 51.89batch/s, loss=2.43]\n"
     ]
    },
    {
     "name": "stdout",
     "output_type": "stream",
     "text": [
      "Epoch [233/1000], Average Loss: 6.5078\n"
     ]
    },
    {
     "name": "stderr",
     "output_type": "stream",
     "text": [
      "Epoch 234/1000: 100%|██████████| 74/74 [00:01<00:00, 49.08batch/s, loss=2.44]\n"
     ]
    },
    {
     "name": "stdout",
     "output_type": "stream",
     "text": [
      "Epoch [234/1000], Average Loss: 6.5079\n"
     ]
    },
    {
     "name": "stderr",
     "output_type": "stream",
     "text": [
      "Epoch 235/1000: 100%|██████████| 74/74 [00:01<00:00, 51.50batch/s, loss=2.42]\n"
     ]
    },
    {
     "name": "stdout",
     "output_type": "stream",
     "text": [
      "Epoch [235/1000], Average Loss: 6.5076\n"
     ]
    },
    {
     "name": "stderr",
     "output_type": "stream",
     "text": [
      "Epoch 236/1000: 100%|██████████| 74/74 [00:01<00:00, 54.61batch/s, loss=2.45]\n"
     ]
    },
    {
     "name": "stdout",
     "output_type": "stream",
     "text": [
      "Epoch [236/1000], Average Loss: 6.5064\n"
     ]
    },
    {
     "name": "stderr",
     "output_type": "stream",
     "text": [
      "Epoch 237/1000: 100%|██████████| 74/74 [00:01<00:00, 50.10batch/s, loss=2.44]\n"
     ]
    },
    {
     "name": "stdout",
     "output_type": "stream",
     "text": [
      "Epoch [237/1000], Average Loss: 6.5094\n"
     ]
    },
    {
     "name": "stderr",
     "output_type": "stream",
     "text": [
      "Epoch 238/1000: 100%|██████████| 74/74 [00:01<00:00, 50.77batch/s, loss=2.44]\n"
     ]
    },
    {
     "name": "stdout",
     "output_type": "stream",
     "text": [
      "Epoch [238/1000], Average Loss: 6.5036\n"
     ]
    },
    {
     "name": "stderr",
     "output_type": "stream",
     "text": [
      "Epoch 239/1000: 100%|██████████| 74/74 [00:01<00:00, 50.24batch/s, loss=2.42]\n"
     ]
    },
    {
     "name": "stdout",
     "output_type": "stream",
     "text": [
      "Epoch [239/1000], Average Loss: 6.5018\n"
     ]
    },
    {
     "name": "stderr",
     "output_type": "stream",
     "text": [
      "Epoch 240/1000: 100%|██████████| 74/74 [00:01<00:00, 53.63batch/s, loss=2.44]\n"
     ]
    },
    {
     "name": "stdout",
     "output_type": "stream",
     "text": [
      "Epoch [240/1000], Average Loss: 6.5004\n"
     ]
    },
    {
     "name": "stderr",
     "output_type": "stream",
     "text": [
      "Epoch 241/1000: 100%|██████████| 74/74 [00:01<00:00, 54.82batch/s, loss=2.43]\n"
     ]
    },
    {
     "name": "stdout",
     "output_type": "stream",
     "text": [
      "Epoch [241/1000], Average Loss: 6.4991\n"
     ]
    },
    {
     "name": "stderr",
     "output_type": "stream",
     "text": [
      "Epoch 242/1000: 100%|██████████| 74/74 [00:01<00:00, 52.56batch/s, loss=2.42]\n"
     ]
    },
    {
     "name": "stdout",
     "output_type": "stream",
     "text": [
      "Epoch [242/1000], Average Loss: 6.4955\n"
     ]
    },
    {
     "name": "stderr",
     "output_type": "stream",
     "text": [
      "Epoch 243/1000: 100%|██████████| 74/74 [00:01<00:00, 53.41batch/s, loss=2.46]\n"
     ]
    },
    {
     "name": "stdout",
     "output_type": "stream",
     "text": [
      "Epoch [243/1000], Average Loss: 6.4990\n"
     ]
    },
    {
     "name": "stderr",
     "output_type": "stream",
     "text": [
      "Epoch 244/1000: 100%|██████████| 74/74 [00:01<00:00, 60.56batch/s, loss=2.43]\n"
     ]
    },
    {
     "name": "stdout",
     "output_type": "stream",
     "text": [
      "Epoch [244/1000], Average Loss: 6.4991\n"
     ]
    },
    {
     "name": "stderr",
     "output_type": "stream",
     "text": [
      "Epoch 245/1000: 100%|██████████| 74/74 [00:01<00:00, 59.62batch/s, loss=2.44]\n"
     ]
    },
    {
     "name": "stdout",
     "output_type": "stream",
     "text": [
      "Epoch [245/1000], Average Loss: 6.4955\n"
     ]
    },
    {
     "name": "stderr",
     "output_type": "stream",
     "text": [
      "Epoch 246/1000: 100%|██████████| 74/74 [00:01<00:00, 55.01batch/s, loss=2.42]\n"
     ]
    },
    {
     "name": "stdout",
     "output_type": "stream",
     "text": [
      "Epoch [246/1000], Average Loss: 6.4950\n"
     ]
    },
    {
     "name": "stderr",
     "output_type": "stream",
     "text": [
      "Epoch 247/1000: 100%|██████████| 74/74 [00:01<00:00, 54.98batch/s, loss=2.43]\n"
     ]
    },
    {
     "name": "stdout",
     "output_type": "stream",
     "text": [
      "Epoch [247/1000], Average Loss: 6.4930\n"
     ]
    },
    {
     "name": "stderr",
     "output_type": "stream",
     "text": [
      "Epoch 248/1000: 100%|██████████| 74/74 [00:01<00:00, 55.84batch/s, loss=2.44]\n"
     ]
    },
    {
     "name": "stdout",
     "output_type": "stream",
     "text": [
      "Epoch [248/1000], Average Loss: 6.4948\n"
     ]
    },
    {
     "name": "stderr",
     "output_type": "stream",
     "text": [
      "Epoch 249/1000: 100%|██████████| 74/74 [00:01<00:00, 49.59batch/s, loss=2.41]\n"
     ]
    },
    {
     "name": "stdout",
     "output_type": "stream",
     "text": [
      "Epoch [249/1000], Average Loss: 6.4967\n"
     ]
    },
    {
     "name": "stderr",
     "output_type": "stream",
     "text": [
      "Epoch 250/1000: 100%|██████████| 74/74 [00:01<00:00, 52.01batch/s, loss=2.43]\n"
     ]
    },
    {
     "name": "stdout",
     "output_type": "stream",
     "text": [
      "Epoch [250/1000], Average Loss: 6.4978\n"
     ]
    },
    {
     "name": "stderr",
     "output_type": "stream",
     "text": [
      "Epoch 251/1000: 100%|██████████| 74/74 [00:01<00:00, 68.27batch/s, loss=2.45]\n"
     ]
    },
    {
     "name": "stdout",
     "output_type": "stream",
     "text": [
      "Epoch [251/1000], Average Loss: 6.4934\n"
     ]
    },
    {
     "name": "stderr",
     "output_type": "stream",
     "text": [
      "Epoch 252/1000: 100%|██████████| 74/74 [00:01<00:00, 70.85batch/s, loss=2.45]\n"
     ]
    },
    {
     "name": "stdout",
     "output_type": "stream",
     "text": [
      "Epoch [252/1000], Average Loss: 6.4935\n"
     ]
    },
    {
     "name": "stderr",
     "output_type": "stream",
     "text": [
      "Epoch 253/1000: 100%|██████████| 74/74 [00:01<00:00, 66.94batch/s, loss=2.44]\n"
     ]
    },
    {
     "name": "stdout",
     "output_type": "stream",
     "text": [
      "Epoch [253/1000], Average Loss: 6.4977\n"
     ]
    },
    {
     "name": "stderr",
     "output_type": "stream",
     "text": [
      "Epoch 254/1000: 100%|██████████| 74/74 [00:01<00:00, 70.63batch/s, loss=2.47]\n"
     ]
    },
    {
     "name": "stdout",
     "output_type": "stream",
     "text": [
      "Epoch [254/1000], Average Loss: 6.4972\n"
     ]
    },
    {
     "name": "stderr",
     "output_type": "stream",
     "text": [
      "Epoch 255/1000: 100%|██████████| 74/74 [00:01<00:00, 68.23batch/s, loss=2.45]\n"
     ]
    },
    {
     "name": "stdout",
     "output_type": "stream",
     "text": [
      "Epoch [255/1000], Average Loss: 6.4989\n"
     ]
    },
    {
     "name": "stderr",
     "output_type": "stream",
     "text": [
      "Epoch 256/1000: 100%|██████████| 74/74 [00:01<00:00, 71.01batch/s, loss=2.44]\n"
     ]
    },
    {
     "name": "stdout",
     "output_type": "stream",
     "text": [
      "Epoch [256/1000], Average Loss: 6.4944\n"
     ]
    },
    {
     "name": "stderr",
     "output_type": "stream",
     "text": [
      "Epoch 257/1000: 100%|██████████| 74/74 [00:01<00:00, 67.34batch/s, loss=2.43]\n"
     ]
    },
    {
     "name": "stdout",
     "output_type": "stream",
     "text": [
      "Epoch [257/1000], Average Loss: 6.4964\n"
     ]
    },
    {
     "name": "stderr",
     "output_type": "stream",
     "text": [
      "Epoch 258/1000: 100%|██████████| 74/74 [00:01<00:00, 63.73batch/s, loss=2.42]\n"
     ]
    },
    {
     "name": "stdout",
     "output_type": "stream",
     "text": [
      "Epoch [258/1000], Average Loss: 6.4964\n"
     ]
    },
    {
     "name": "stderr",
     "output_type": "stream",
     "text": [
      "Epoch 259/1000: 100%|██████████| 74/74 [00:01<00:00, 67.65batch/s, loss=2.43]\n"
     ]
    },
    {
     "name": "stdout",
     "output_type": "stream",
     "text": [
      "Epoch [259/1000], Average Loss: 6.4950\n"
     ]
    },
    {
     "name": "stderr",
     "output_type": "stream",
     "text": [
      "Epoch 260/1000: 100%|██████████| 74/74 [00:01<00:00, 65.90batch/s, loss=2.43]\n"
     ]
    },
    {
     "name": "stdout",
     "output_type": "stream",
     "text": [
      "Epoch [260/1000], Average Loss: 6.4962\n"
     ]
    },
    {
     "name": "stderr",
     "output_type": "stream",
     "text": [
      "Epoch 261/1000: 100%|██████████| 74/74 [00:01<00:00, 61.91batch/s, loss=2.41]\n"
     ]
    },
    {
     "name": "stdout",
     "output_type": "stream",
     "text": [
      "Epoch [261/1000], Average Loss: 6.4918\n"
     ]
    },
    {
     "name": "stderr",
     "output_type": "stream",
     "text": [
      "Epoch 262/1000: 100%|██████████| 74/74 [00:01<00:00, 70.56batch/s, loss=2.42]\n"
     ]
    },
    {
     "name": "stdout",
     "output_type": "stream",
     "text": [
      "Epoch [262/1000], Average Loss: 6.4884\n"
     ]
    },
    {
     "name": "stderr",
     "output_type": "stream",
     "text": [
      "Epoch 263/1000: 100%|██████████| 74/74 [00:01<00:00, 67.21batch/s, loss=2.46]\n"
     ]
    },
    {
     "name": "stdout",
     "output_type": "stream",
     "text": [
      "Epoch [263/1000], Average Loss: 6.4858\n"
     ]
    },
    {
     "name": "stderr",
     "output_type": "stream",
     "text": [
      "Epoch 264/1000: 100%|██████████| 74/74 [00:01<00:00, 66.61batch/s, loss=2.42]\n"
     ]
    },
    {
     "name": "stdout",
     "output_type": "stream",
     "text": [
      "Epoch [264/1000], Average Loss: 6.4896\n"
     ]
    },
    {
     "name": "stderr",
     "output_type": "stream",
     "text": [
      "Epoch 265/1000: 100%|██████████| 74/74 [00:01<00:00, 68.16batch/s, loss=2.42]\n"
     ]
    },
    {
     "name": "stdout",
     "output_type": "stream",
     "text": [
      "Epoch [265/1000], Average Loss: 6.4881\n"
     ]
    },
    {
     "name": "stderr",
     "output_type": "stream",
     "text": [
      "Epoch 266/1000: 100%|██████████| 74/74 [00:01<00:00, 55.56batch/s, loss=2.44]\n"
     ]
    },
    {
     "name": "stdout",
     "output_type": "stream",
     "text": [
      "Epoch [266/1000], Average Loss: 6.4940\n"
     ]
    },
    {
     "name": "stderr",
     "output_type": "stream",
     "text": [
      "Epoch 267/1000: 100%|██████████| 74/74 [00:01<00:00, 46.90batch/s, loss=2.41]\n"
     ]
    },
    {
     "name": "stdout",
     "output_type": "stream",
     "text": [
      "Epoch [267/1000], Average Loss: 6.4939\n"
     ]
    },
    {
     "name": "stderr",
     "output_type": "stream",
     "text": [
      "Epoch 268/1000: 100%|██████████| 74/74 [00:01<00:00, 61.08batch/s, loss=2.43]\n"
     ]
    },
    {
     "name": "stdout",
     "output_type": "stream",
     "text": [
      "Epoch [268/1000], Average Loss: 6.4987\n"
     ]
    },
    {
     "name": "stderr",
     "output_type": "stream",
     "text": [
      "Epoch 269/1000: 100%|██████████| 74/74 [00:01<00:00, 67.10batch/s, loss=2.43]\n"
     ]
    },
    {
     "name": "stdout",
     "output_type": "stream",
     "text": [
      "Epoch [269/1000], Average Loss: 6.4951\n"
     ]
    },
    {
     "name": "stderr",
     "output_type": "stream",
     "text": [
      "Epoch 270/1000: 100%|██████████| 74/74 [00:01<00:00, 61.34batch/s, loss=2.45]\n"
     ]
    },
    {
     "name": "stdout",
     "output_type": "stream",
     "text": [
      "Epoch [270/1000], Average Loss: 6.4923\n"
     ]
    },
    {
     "name": "stderr",
     "output_type": "stream",
     "text": [
      "Epoch 271/1000: 100%|██████████| 74/74 [00:01<00:00, 68.08batch/s, loss=2.45]\n"
     ]
    },
    {
     "name": "stdout",
     "output_type": "stream",
     "text": [
      "Epoch [271/1000], Average Loss: 6.4921\n"
     ]
    },
    {
     "name": "stderr",
     "output_type": "stream",
     "text": [
      "Epoch 272/1000: 100%|██████████| 74/74 [00:01<00:00, 58.41batch/s, loss=2.44]\n"
     ]
    },
    {
     "name": "stdout",
     "output_type": "stream",
     "text": [
      "Epoch [272/1000], Average Loss: 6.4876\n"
     ]
    },
    {
     "name": "stderr",
     "output_type": "stream",
     "text": [
      "Epoch 273/1000: 100%|██████████| 74/74 [00:01<00:00, 66.92batch/s, loss=2.47]\n"
     ]
    },
    {
     "name": "stdout",
     "output_type": "stream",
     "text": [
      "Epoch [273/1000], Average Loss: 6.4864\n"
     ]
    },
    {
     "name": "stderr",
     "output_type": "stream",
     "text": [
      "Epoch 274/1000: 100%|██████████| 74/74 [00:01<00:00, 63.10batch/s, loss=2.5] \n"
     ]
    },
    {
     "name": "stdout",
     "output_type": "stream",
     "text": [
      "Epoch [274/1000], Average Loss: 6.4906\n"
     ]
    },
    {
     "name": "stderr",
     "output_type": "stream",
     "text": [
      "Epoch 275/1000: 100%|██████████| 74/74 [00:01<00:00, 62.81batch/s, loss=2.44]\n"
     ]
    },
    {
     "name": "stdout",
     "output_type": "stream",
     "text": [
      "Epoch [275/1000], Average Loss: 6.4860\n"
     ]
    },
    {
     "name": "stderr",
     "output_type": "stream",
     "text": [
      "Epoch 276/1000: 100%|██████████| 74/74 [00:01<00:00, 69.73batch/s, loss=2.43]\n"
     ]
    },
    {
     "name": "stdout",
     "output_type": "stream",
     "text": [
      "Epoch [276/1000], Average Loss: 6.4816\n"
     ]
    },
    {
     "name": "stderr",
     "output_type": "stream",
     "text": [
      "Epoch 277/1000: 100%|██████████| 74/74 [00:01<00:00, 43.02batch/s, loss=2.41]\n"
     ]
    },
    {
     "name": "stdout",
     "output_type": "stream",
     "text": [
      "Epoch [277/1000], Average Loss: 6.4805\n"
     ]
    },
    {
     "name": "stderr",
     "output_type": "stream",
     "text": [
      "Epoch 278/1000: 100%|██████████| 74/74 [00:01<00:00, 68.68batch/s, loss=2.46]\n"
     ]
    },
    {
     "name": "stdout",
     "output_type": "stream",
     "text": [
      "Epoch [278/1000], Average Loss: 6.4813\n"
     ]
    },
    {
     "name": "stderr",
     "output_type": "stream",
     "text": [
      "Epoch 279/1000: 100%|██████████| 74/74 [00:01<00:00, 63.02batch/s, loss=2.42]\n"
     ]
    },
    {
     "name": "stdout",
     "output_type": "stream",
     "text": [
      "Epoch [279/1000], Average Loss: 6.4745\n"
     ]
    },
    {
     "name": "stderr",
     "output_type": "stream",
     "text": [
      "Epoch 280/1000: 100%|██████████| 74/74 [00:01<00:00, 64.87batch/s, loss=2.41]\n"
     ]
    },
    {
     "name": "stdout",
     "output_type": "stream",
     "text": [
      "Epoch [280/1000], Average Loss: 6.4756\n"
     ]
    },
    {
     "name": "stderr",
     "output_type": "stream",
     "text": [
      "Epoch 281/1000: 100%|██████████| 74/74 [00:01<00:00, 59.81batch/s, loss=2.42]\n"
     ]
    },
    {
     "name": "stdout",
     "output_type": "stream",
     "text": [
      "Epoch [281/1000], Average Loss: 6.4774\n"
     ]
    },
    {
     "name": "stderr",
     "output_type": "stream",
     "text": [
      "Epoch 282/1000: 100%|██████████| 74/74 [00:01<00:00, 67.79batch/s, loss=2.45]\n"
     ]
    },
    {
     "name": "stdout",
     "output_type": "stream",
     "text": [
      "Epoch [282/1000], Average Loss: 6.4767\n"
     ]
    },
    {
     "name": "stderr",
     "output_type": "stream",
     "text": [
      "Epoch 283/1000: 100%|██████████| 74/74 [00:01<00:00, 67.20batch/s, loss=2.41]\n"
     ]
    },
    {
     "name": "stdout",
     "output_type": "stream",
     "text": [
      "Epoch [283/1000], Average Loss: 6.4766\n"
     ]
    },
    {
     "name": "stderr",
     "output_type": "stream",
     "text": [
      "Epoch 284/1000: 100%|██████████| 74/74 [00:01<00:00, 67.02batch/s, loss=2.41]\n"
     ]
    },
    {
     "name": "stdout",
     "output_type": "stream",
     "text": [
      "Epoch [284/1000], Average Loss: 6.4762\n"
     ]
    },
    {
     "name": "stderr",
     "output_type": "stream",
     "text": [
      "Epoch 285/1000: 100%|██████████| 74/74 [00:01<00:00, 61.76batch/s, loss=2.42]\n"
     ]
    },
    {
     "name": "stdout",
     "output_type": "stream",
     "text": [
      "Epoch [285/1000], Average Loss: 6.4746\n"
     ]
    },
    {
     "name": "stderr",
     "output_type": "stream",
     "text": [
      "Epoch 286/1000: 100%|██████████| 74/74 [00:01<00:00, 70.00batch/s, loss=2.41]\n"
     ]
    },
    {
     "name": "stdout",
     "output_type": "stream",
     "text": [
      "Epoch [286/1000], Average Loss: 6.4760\n"
     ]
    },
    {
     "name": "stderr",
     "output_type": "stream",
     "text": [
      "Epoch 287/1000: 100%|██████████| 74/74 [00:01<00:00, 66.92batch/s, loss=2.42]\n"
     ]
    },
    {
     "name": "stdout",
     "output_type": "stream",
     "text": [
      "Epoch [287/1000], Average Loss: 6.4798\n"
     ]
    },
    {
     "name": "stderr",
     "output_type": "stream",
     "text": [
      "Epoch 288/1000: 100%|██████████| 74/74 [00:01<00:00, 67.66batch/s, loss=2.43]\n"
     ]
    },
    {
     "name": "stdout",
     "output_type": "stream",
     "text": [
      "Epoch [288/1000], Average Loss: 6.4771\n"
     ]
    },
    {
     "name": "stderr",
     "output_type": "stream",
     "text": [
      "Epoch 289/1000: 100%|██████████| 74/74 [00:01<00:00, 64.09batch/s, loss=2.43]\n"
     ]
    },
    {
     "name": "stdout",
     "output_type": "stream",
     "text": [
      "Epoch [289/1000], Average Loss: 6.4798\n"
     ]
    },
    {
     "name": "stderr",
     "output_type": "stream",
     "text": [
      "Epoch 290/1000: 100%|██████████| 74/74 [00:01<00:00, 61.62batch/s, loss=2.43]\n"
     ]
    },
    {
     "name": "stdout",
     "output_type": "stream",
     "text": [
      "Epoch [290/1000], Average Loss: 6.4832\n"
     ]
    },
    {
     "name": "stderr",
     "output_type": "stream",
     "text": [
      "Epoch 291/1000: 100%|██████████| 74/74 [00:01<00:00, 69.59batch/s, loss=2.42]\n"
     ]
    },
    {
     "name": "stdout",
     "output_type": "stream",
     "text": [
      "Epoch [291/1000], Average Loss: 6.4848\n"
     ]
    },
    {
     "name": "stderr",
     "output_type": "stream",
     "text": [
      "Epoch 292/1000: 100%|██████████| 74/74 [00:01<00:00, 69.07batch/s, loss=2.44]\n"
     ]
    },
    {
     "name": "stdout",
     "output_type": "stream",
     "text": [
      "Epoch [292/1000], Average Loss: 6.4876\n"
     ]
    },
    {
     "name": "stderr",
     "output_type": "stream",
     "text": [
      "Epoch 293/1000: 100%|██████████| 74/74 [00:01<00:00, 60.77batch/s, loss=2.46]\n"
     ]
    },
    {
     "name": "stdout",
     "output_type": "stream",
     "text": [
      "Epoch [293/1000], Average Loss: 6.4882\n"
     ]
    },
    {
     "name": "stderr",
     "output_type": "stream",
     "text": [
      "Epoch 294/1000: 100%|██████████| 74/74 [00:01<00:00, 62.35batch/s, loss=2.43]\n"
     ]
    },
    {
     "name": "stdout",
     "output_type": "stream",
     "text": [
      "Epoch [294/1000], Average Loss: 6.4828\n"
     ]
    },
    {
     "name": "stderr",
     "output_type": "stream",
     "text": [
      "Epoch 295/1000: 100%|██████████| 74/74 [00:01<00:00, 69.78batch/s, loss=2.42]\n"
     ]
    },
    {
     "name": "stdout",
     "output_type": "stream",
     "text": [
      "Epoch [295/1000], Average Loss: 6.4813\n"
     ]
    },
    {
     "name": "stderr",
     "output_type": "stream",
     "text": [
      "Epoch 296/1000: 100%|██████████| 74/74 [00:01<00:00, 62.42batch/s, loss=2.47]\n"
     ]
    },
    {
     "name": "stdout",
     "output_type": "stream",
     "text": [
      "Epoch [296/1000], Average Loss: 6.4812\n"
     ]
    },
    {
     "name": "stderr",
     "output_type": "stream",
     "text": [
      "Epoch 297/1000: 100%|██████████| 74/74 [00:01<00:00, 69.91batch/s, loss=2.45]\n"
     ]
    },
    {
     "name": "stdout",
     "output_type": "stream",
     "text": [
      "Epoch [297/1000], Average Loss: 6.4772\n"
     ]
    },
    {
     "name": "stderr",
     "output_type": "stream",
     "text": [
      "Epoch 298/1000: 100%|██████████| 74/74 [00:01<00:00, 71.05batch/s, loss=2.44]\n"
     ]
    },
    {
     "name": "stdout",
     "output_type": "stream",
     "text": [
      "Epoch [298/1000], Average Loss: 6.4729\n"
     ]
    },
    {
     "name": "stderr",
     "output_type": "stream",
     "text": [
      "Epoch 299/1000: 100%|██████████| 74/74 [00:01<00:00, 61.47batch/s, loss=2.43]\n"
     ]
    },
    {
     "name": "stdout",
     "output_type": "stream",
     "text": [
      "Epoch [299/1000], Average Loss: 6.4712\n"
     ]
    },
    {
     "name": "stderr",
     "output_type": "stream",
     "text": [
      "Epoch 300/1000: 100%|██████████| 74/74 [00:01<00:00, 68.19batch/s, loss=2.44]\n"
     ]
    },
    {
     "name": "stdout",
     "output_type": "stream",
     "text": [
      "Epoch [300/1000], Average Loss: 6.4700\n"
     ]
    },
    {
     "name": "stderr",
     "output_type": "stream",
     "text": [
      "Epoch 301/1000: 100%|██████████| 74/74 [00:01<00:00, 67.11batch/s, loss=2.42]\n"
     ]
    },
    {
     "name": "stdout",
     "output_type": "stream",
     "text": [
      "Epoch [301/1000], Average Loss: 6.4869\n"
     ]
    },
    {
     "name": "stderr",
     "output_type": "stream",
     "text": [
      "Epoch 302/1000: 100%|██████████| 74/74 [00:01<00:00, 67.10batch/s, loss=2.42]\n"
     ]
    },
    {
     "name": "stdout",
     "output_type": "stream",
     "text": [
      "Epoch [302/1000], Average Loss: 6.4854\n"
     ]
    },
    {
     "name": "stderr",
     "output_type": "stream",
     "text": [
      "Epoch 303/1000: 100%|██████████| 74/74 [00:01<00:00, 58.06batch/s, loss=2.43]\n"
     ]
    },
    {
     "name": "stdout",
     "output_type": "stream",
     "text": [
      "Epoch [303/1000], Average Loss: 6.4754\n"
     ]
    },
    {
     "name": "stderr",
     "output_type": "stream",
     "text": [
      "Epoch 304/1000: 100%|██████████| 74/74 [00:01<00:00, 68.20batch/s, loss=2.43]\n"
     ]
    },
    {
     "name": "stdout",
     "output_type": "stream",
     "text": [
      "Epoch [304/1000], Average Loss: 6.4674\n"
     ]
    },
    {
     "name": "stderr",
     "output_type": "stream",
     "text": [
      "Epoch 305/1000: 100%|██████████| 74/74 [00:01<00:00, 67.14batch/s, loss=2.41]\n"
     ]
    },
    {
     "name": "stdout",
     "output_type": "stream",
     "text": [
      "Epoch [305/1000], Average Loss: 6.4650\n"
     ]
    },
    {
     "name": "stderr",
     "output_type": "stream",
     "text": [
      "Epoch 306/1000: 100%|██████████| 74/74 [00:01<00:00, 67.20batch/s, loss=2.4] \n"
     ]
    },
    {
     "name": "stdout",
     "output_type": "stream",
     "text": [
      "Epoch [306/1000], Average Loss: 6.4617\n"
     ]
    },
    {
     "name": "stderr",
     "output_type": "stream",
     "text": [
      "Epoch 307/1000: 100%|██████████| 74/74 [00:01<00:00, 68.89batch/s, loss=2.41]\n"
     ]
    },
    {
     "name": "stdout",
     "output_type": "stream",
     "text": [
      "Epoch [307/1000], Average Loss: 6.4629\n"
     ]
    },
    {
     "name": "stderr",
     "output_type": "stream",
     "text": [
      "Epoch 308/1000: 100%|██████████| 74/74 [00:01<00:00, 57.43batch/s, loss=2.42]\n"
     ]
    },
    {
     "name": "stdout",
     "output_type": "stream",
     "text": [
      "Epoch [308/1000], Average Loss: 6.4631\n"
     ]
    },
    {
     "name": "stderr",
     "output_type": "stream",
     "text": [
      "Epoch 309/1000: 100%|██████████| 74/74 [00:01<00:00, 68.61batch/s, loss=2.42]\n"
     ]
    },
    {
     "name": "stdout",
     "output_type": "stream",
     "text": [
      "Epoch [309/1000], Average Loss: 6.4629\n"
     ]
    },
    {
     "name": "stderr",
     "output_type": "stream",
     "text": [
      "Epoch 310/1000: 100%|██████████| 74/74 [00:01<00:00, 71.33batch/s, loss=2.43]\n"
     ]
    },
    {
     "name": "stdout",
     "output_type": "stream",
     "text": [
      "Epoch [310/1000], Average Loss: 6.4631\n"
     ]
    },
    {
     "name": "stderr",
     "output_type": "stream",
     "text": [
      "Epoch 311/1000: 100%|██████████| 74/74 [00:01<00:00, 69.37batch/s, loss=2.43]\n"
     ]
    },
    {
     "name": "stdout",
     "output_type": "stream",
     "text": [
      "Epoch [311/1000], Average Loss: 6.4631\n"
     ]
    },
    {
     "name": "stderr",
     "output_type": "stream",
     "text": [
      "Epoch 312/1000: 100%|██████████| 74/74 [00:01<00:00, 66.01batch/s, loss=2.43]\n"
     ]
    },
    {
     "name": "stdout",
     "output_type": "stream",
     "text": [
      "Epoch [312/1000], Average Loss: 6.4682\n"
     ]
    },
    {
     "name": "stderr",
     "output_type": "stream",
     "text": [
      "Epoch 313/1000: 100%|██████████| 74/74 [00:01<00:00, 63.75batch/s, loss=2.44]\n"
     ]
    },
    {
     "name": "stdout",
     "output_type": "stream",
     "text": [
      "Epoch [313/1000], Average Loss: 6.4624\n"
     ]
    },
    {
     "name": "stderr",
     "output_type": "stream",
     "text": [
      "Epoch 314/1000: 100%|██████████| 74/74 [00:01<00:00, 64.59batch/s, loss=2.45]\n"
     ]
    },
    {
     "name": "stdout",
     "output_type": "stream",
     "text": [
      "Epoch [314/1000], Average Loss: 6.4606\n"
     ]
    },
    {
     "name": "stderr",
     "output_type": "stream",
     "text": [
      "Epoch 315/1000: 100%|██████████| 74/74 [00:01<00:00, 68.27batch/s, loss=2.42]\n"
     ]
    },
    {
     "name": "stdout",
     "output_type": "stream",
     "text": [
      "Epoch [315/1000], Average Loss: 6.4648\n"
     ]
    },
    {
     "name": "stderr",
     "output_type": "stream",
     "text": [
      "Epoch 316/1000: 100%|██████████| 74/74 [00:01<00:00, 67.94batch/s, loss=2.44]\n"
     ]
    },
    {
     "name": "stdout",
     "output_type": "stream",
     "text": [
      "Epoch [316/1000], Average Loss: 6.4615\n"
     ]
    },
    {
     "name": "stderr",
     "output_type": "stream",
     "text": [
      "Epoch 317/1000: 100%|██████████| 74/74 [00:01<00:00, 65.40batch/s, loss=2.44]\n"
     ]
    },
    {
     "name": "stdout",
     "output_type": "stream",
     "text": [
      "Epoch [317/1000], Average Loss: 6.4636\n"
     ]
    },
    {
     "name": "stderr",
     "output_type": "stream",
     "text": [
      "Epoch 318/1000: 100%|██████████| 74/74 [00:01<00:00, 69.90batch/s, loss=2.45]\n"
     ]
    },
    {
     "name": "stdout",
     "output_type": "stream",
     "text": [
      "Epoch [318/1000], Average Loss: 6.4651\n"
     ]
    },
    {
     "name": "stderr",
     "output_type": "stream",
     "text": [
      "Epoch 319/1000: 100%|██████████| 74/74 [00:01<00:00, 65.77batch/s, loss=2.44]\n"
     ]
    },
    {
     "name": "stdout",
     "output_type": "stream",
     "text": [
      "Epoch [319/1000], Average Loss: 6.4668\n"
     ]
    },
    {
     "name": "stderr",
     "output_type": "stream",
     "text": [
      "Epoch 320/1000: 100%|██████████| 74/74 [00:01<00:00, 64.89batch/s, loss=2.43]\n"
     ]
    },
    {
     "name": "stdout",
     "output_type": "stream",
     "text": [
      "Epoch [320/1000], Average Loss: 6.4686\n"
     ]
    },
    {
     "name": "stderr",
     "output_type": "stream",
     "text": [
      "Epoch 321/1000: 100%|██████████| 74/74 [00:01<00:00, 67.04batch/s, loss=2.45]\n"
     ]
    },
    {
     "name": "stdout",
     "output_type": "stream",
     "text": [
      "Epoch [321/1000], Average Loss: 6.4703\n"
     ]
    },
    {
     "name": "stderr",
     "output_type": "stream",
     "text": [
      "Epoch 322/1000: 100%|██████████| 74/74 [00:01<00:00, 70.21batch/s, loss=2.44]\n"
     ]
    },
    {
     "name": "stdout",
     "output_type": "stream",
     "text": [
      "Epoch [322/1000], Average Loss: 6.4727\n"
     ]
    },
    {
     "name": "stderr",
     "output_type": "stream",
     "text": [
      "Epoch 323/1000: 100%|██████████| 74/74 [00:01<00:00, 67.99batch/s, loss=2.41]\n"
     ]
    },
    {
     "name": "stdout",
     "output_type": "stream",
     "text": [
      "Epoch [323/1000], Average Loss: 6.4732\n"
     ]
    },
    {
     "name": "stderr",
     "output_type": "stream",
     "text": [
      "Epoch 324/1000: 100%|██████████| 74/74 [00:01<00:00, 65.59batch/s, loss=2.42]\n"
     ]
    },
    {
     "name": "stdout",
     "output_type": "stream",
     "text": [
      "Epoch [324/1000], Average Loss: 6.4731\n"
     ]
    },
    {
     "name": "stderr",
     "output_type": "stream",
     "text": [
      "Epoch 325/1000: 100%|██████████| 74/74 [00:01<00:00, 56.80batch/s, loss=2.44]\n"
     ]
    },
    {
     "name": "stdout",
     "output_type": "stream",
     "text": [
      "Epoch [325/1000], Average Loss: 6.4747\n"
     ]
    },
    {
     "name": "stderr",
     "output_type": "stream",
     "text": [
      "Epoch 326/1000: 100%|██████████| 74/74 [00:01<00:00, 64.51batch/s, loss=2.43]\n"
     ]
    },
    {
     "name": "stdout",
     "output_type": "stream",
     "text": [
      "Epoch [326/1000], Average Loss: 6.4689\n"
     ]
    },
    {
     "name": "stderr",
     "output_type": "stream",
     "text": [
      "Epoch 327/1000: 100%|██████████| 74/74 [00:01<00:00, 68.58batch/s, loss=2.42]\n"
     ]
    },
    {
     "name": "stdout",
     "output_type": "stream",
     "text": [
      "Epoch [327/1000], Average Loss: 6.4674\n"
     ]
    },
    {
     "name": "stderr",
     "output_type": "stream",
     "text": [
      "Epoch 328/1000: 100%|██████████| 74/74 [00:01<00:00, 64.61batch/s, loss=2.41]\n"
     ]
    },
    {
     "name": "stdout",
     "output_type": "stream",
     "text": [
      "Epoch [328/1000], Average Loss: 6.4705\n"
     ]
    },
    {
     "name": "stderr",
     "output_type": "stream",
     "text": [
      "Epoch 329/1000: 100%|██████████| 74/74 [00:01<00:00, 64.36batch/s, loss=2.41]\n"
     ]
    },
    {
     "name": "stdout",
     "output_type": "stream",
     "text": [
      "Epoch [329/1000], Average Loss: 6.4710\n"
     ]
    },
    {
     "name": "stderr",
     "output_type": "stream",
     "text": [
      "Epoch 330/1000: 100%|██████████| 74/74 [00:01<00:00, 69.14batch/s, loss=2.42]\n"
     ]
    },
    {
     "name": "stdout",
     "output_type": "stream",
     "text": [
      "Epoch [330/1000], Average Loss: 6.4716\n"
     ]
    },
    {
     "name": "stderr",
     "output_type": "stream",
     "text": [
      "Epoch 331/1000: 100%|██████████| 74/74 [00:01<00:00, 63.69batch/s, loss=2.42]\n"
     ]
    },
    {
     "name": "stdout",
     "output_type": "stream",
     "text": [
      "Epoch [331/1000], Average Loss: 6.4635\n"
     ]
    },
    {
     "name": "stderr",
     "output_type": "stream",
     "text": [
      "Epoch 332/1000: 100%|██████████| 74/74 [00:01<00:00, 68.74batch/s, loss=2.42]\n"
     ]
    },
    {
     "name": "stdout",
     "output_type": "stream",
     "text": [
      "Epoch [332/1000], Average Loss: 6.4657\n"
     ]
    },
    {
     "name": "stderr",
     "output_type": "stream",
     "text": [
      "Epoch 333/1000: 100%|██████████| 74/74 [00:01<00:00, 66.15batch/s, loss=2.43]\n"
     ]
    },
    {
     "name": "stdout",
     "output_type": "stream",
     "text": [
      "Epoch [333/1000], Average Loss: 6.4637\n"
     ]
    },
    {
     "name": "stderr",
     "output_type": "stream",
     "text": [
      "Epoch 334/1000: 100%|██████████| 74/74 [00:01<00:00, 72.58batch/s, loss=2.43]\n"
     ]
    },
    {
     "name": "stdout",
     "output_type": "stream",
     "text": [
      "Epoch [334/1000], Average Loss: 6.4613\n"
     ]
    },
    {
     "name": "stderr",
     "output_type": "stream",
     "text": [
      "Epoch 335/1000: 100%|██████████| 74/74 [00:01<00:00, 69.65batch/s, loss=2.43]\n"
     ]
    },
    {
     "name": "stdout",
     "output_type": "stream",
     "text": [
      "Epoch [335/1000], Average Loss: 6.4591\n"
     ]
    },
    {
     "name": "stderr",
     "output_type": "stream",
     "text": [
      "Epoch 336/1000: 100%|██████████| 74/74 [00:01<00:00, 63.34batch/s, loss=2.43]\n"
     ]
    },
    {
     "name": "stdout",
     "output_type": "stream",
     "text": [
      "Epoch [336/1000], Average Loss: 6.4579\n"
     ]
    },
    {
     "name": "stderr",
     "output_type": "stream",
     "text": [
      "Epoch 337/1000: 100%|██████████| 74/74 [00:01<00:00, 65.82batch/s, loss=2.43]\n"
     ]
    },
    {
     "name": "stdout",
     "output_type": "stream",
     "text": [
      "Epoch [337/1000], Average Loss: 6.4536\n"
     ]
    },
    {
     "name": "stderr",
     "output_type": "stream",
     "text": [
      "Epoch 338/1000: 100%|██████████| 74/74 [00:01<00:00, 67.32batch/s, loss=2.43]\n"
     ]
    },
    {
     "name": "stdout",
     "output_type": "stream",
     "text": [
      "Epoch [338/1000], Average Loss: 6.4571\n"
     ]
    },
    {
     "name": "stderr",
     "output_type": "stream",
     "text": [
      "Epoch 339/1000: 100%|██████████| 74/74 [00:01<00:00, 62.03batch/s, loss=2.42]\n"
     ]
    },
    {
     "name": "stdout",
     "output_type": "stream",
     "text": [
      "Epoch [339/1000], Average Loss: 6.4571\n"
     ]
    },
    {
     "name": "stderr",
     "output_type": "stream",
     "text": [
      "Epoch 340/1000: 100%|██████████| 74/74 [00:01<00:00, 55.21batch/s, loss=2.42]\n"
     ]
    },
    {
     "name": "stdout",
     "output_type": "stream",
     "text": [
      "Epoch [340/1000], Average Loss: 6.4546\n"
     ]
    },
    {
     "name": "stderr",
     "output_type": "stream",
     "text": [
      "Epoch 341/1000: 100%|██████████| 74/74 [00:01<00:00, 67.63batch/s, loss=2.42]\n"
     ]
    },
    {
     "name": "stdout",
     "output_type": "stream",
     "text": [
      "Epoch [341/1000], Average Loss: 6.4581\n"
     ]
    },
    {
     "name": "stderr",
     "output_type": "stream",
     "text": [
      "Epoch 342/1000: 100%|██████████| 74/74 [00:01<00:00, 67.15batch/s, loss=2.44]\n"
     ]
    },
    {
     "name": "stdout",
     "output_type": "stream",
     "text": [
      "Epoch [342/1000], Average Loss: 6.4561\n"
     ]
    },
    {
     "name": "stderr",
     "output_type": "stream",
     "text": [
      "Epoch 343/1000: 100%|██████████| 74/74 [00:01<00:00, 64.35batch/s, loss=2.42]\n"
     ]
    },
    {
     "name": "stdout",
     "output_type": "stream",
     "text": [
      "Epoch [343/1000], Average Loss: 6.4541\n"
     ]
    },
    {
     "name": "stderr",
     "output_type": "stream",
     "text": [
      "Epoch 344/1000: 100%|██████████| 74/74 [00:01<00:00, 66.23batch/s, loss=2.43]\n"
     ]
    },
    {
     "name": "stdout",
     "output_type": "stream",
     "text": [
      "Epoch [344/1000], Average Loss: 6.4540\n"
     ]
    },
    {
     "name": "stderr",
     "output_type": "stream",
     "text": [
      "Epoch 345/1000: 100%|██████████| 74/74 [00:01<00:00, 60.63batch/s, loss=2.43]\n"
     ]
    },
    {
     "name": "stdout",
     "output_type": "stream",
     "text": [
      "Epoch [345/1000], Average Loss: 6.4508\n"
     ]
    },
    {
     "name": "stderr",
     "output_type": "stream",
     "text": [
      "Epoch 346/1000: 100%|██████████| 74/74 [00:01<00:00, 68.41batch/s, loss=2.41]\n"
     ]
    },
    {
     "name": "stdout",
     "output_type": "stream",
     "text": [
      "Epoch [346/1000], Average Loss: 6.4482\n"
     ]
    },
    {
     "name": "stderr",
     "output_type": "stream",
     "text": [
      "Epoch 347/1000: 100%|██████████| 74/74 [00:01<00:00, 68.11batch/s, loss=2.4] \n"
     ]
    },
    {
     "name": "stdout",
     "output_type": "stream",
     "text": [
      "Epoch [347/1000], Average Loss: 6.4484\n"
     ]
    },
    {
     "name": "stderr",
     "output_type": "stream",
     "text": [
      "Epoch 348/1000: 100%|██████████| 74/74 [00:01<00:00, 69.54batch/s, loss=2.41]\n"
     ]
    },
    {
     "name": "stdout",
     "output_type": "stream",
     "text": [
      "Epoch [348/1000], Average Loss: 6.4474\n"
     ]
    },
    {
     "name": "stderr",
     "output_type": "stream",
     "text": [
      "Epoch 349/1000: 100%|██████████| 74/74 [00:01<00:00, 59.25batch/s, loss=2.42]\n"
     ]
    },
    {
     "name": "stdout",
     "output_type": "stream",
     "text": [
      "Epoch [349/1000], Average Loss: 6.4482\n"
     ]
    },
    {
     "name": "stderr",
     "output_type": "stream",
     "text": [
      "Epoch 350/1000: 100%|██████████| 74/74 [00:01<00:00, 69.34batch/s, loss=2.43]\n"
     ]
    },
    {
     "name": "stdout",
     "output_type": "stream",
     "text": [
      "Epoch [350/1000], Average Loss: 6.4495\n"
     ]
    },
    {
     "name": "stderr",
     "output_type": "stream",
     "text": [
      "Epoch 351/1000: 100%|██████████| 74/74 [00:01<00:00, 66.93batch/s, loss=2.44]\n"
     ]
    },
    {
     "name": "stdout",
     "output_type": "stream",
     "text": [
      "Epoch [351/1000], Average Loss: 6.4502\n"
     ]
    },
    {
     "name": "stderr",
     "output_type": "stream",
     "text": [
      "Epoch 352/1000: 100%|██████████| 74/74 [00:01<00:00, 67.83batch/s, loss=2.45]\n"
     ]
    },
    {
     "name": "stdout",
     "output_type": "stream",
     "text": [
      "Epoch [352/1000], Average Loss: 6.4477\n"
     ]
    },
    {
     "name": "stderr",
     "output_type": "stream",
     "text": [
      "Epoch 353/1000: 100%|██████████| 74/74 [00:01<00:00, 61.04batch/s, loss=2.44]\n"
     ]
    },
    {
     "name": "stdout",
     "output_type": "stream",
     "text": [
      "Epoch [353/1000], Average Loss: 6.4508\n"
     ]
    },
    {
     "name": "stderr",
     "output_type": "stream",
     "text": [
      "Epoch 354/1000: 100%|██████████| 74/74 [00:01<00:00, 67.25batch/s, loss=2.43]\n"
     ]
    },
    {
     "name": "stdout",
     "output_type": "stream",
     "text": [
      "Epoch [354/1000], Average Loss: 6.4520\n"
     ]
    },
    {
     "name": "stderr",
     "output_type": "stream",
     "text": [
      "Epoch 355/1000: 100%|██████████| 74/74 [00:01<00:00, 69.63batch/s, loss=2.42]\n"
     ]
    },
    {
     "name": "stdout",
     "output_type": "stream",
     "text": [
      "Epoch [355/1000], Average Loss: 6.4536\n"
     ]
    },
    {
     "name": "stderr",
     "output_type": "stream",
     "text": [
      "Epoch 356/1000: 100%|██████████| 74/74 [00:01<00:00, 60.17batch/s, loss=2.45]\n"
     ]
    },
    {
     "name": "stdout",
     "output_type": "stream",
     "text": [
      "Epoch [356/1000], Average Loss: 6.4528\n"
     ]
    },
    {
     "name": "stderr",
     "output_type": "stream",
     "text": [
      "Epoch 357/1000: 100%|██████████| 74/74 [00:01<00:00, 62.43batch/s, loss=2.42]\n"
     ]
    },
    {
     "name": "stdout",
     "output_type": "stream",
     "text": [
      "Epoch [357/1000], Average Loss: 6.4532\n"
     ]
    },
    {
     "name": "stderr",
     "output_type": "stream",
     "text": [
      "Epoch 358/1000: 100%|██████████| 74/74 [00:01<00:00, 63.95batch/s, loss=2.43]\n"
     ]
    },
    {
     "name": "stdout",
     "output_type": "stream",
     "text": [
      "Epoch [358/1000], Average Loss: 6.4527\n"
     ]
    },
    {
     "name": "stderr",
     "output_type": "stream",
     "text": [
      "Epoch 359/1000: 100%|██████████| 74/74 [00:01<00:00, 68.40batch/s, loss=2.41]\n"
     ]
    },
    {
     "name": "stdout",
     "output_type": "stream",
     "text": [
      "Epoch [359/1000], Average Loss: 6.4547\n"
     ]
    },
    {
     "name": "stderr",
     "output_type": "stream",
     "text": [
      "Epoch 360/1000: 100%|██████████| 74/74 [00:01<00:00, 67.74batch/s, loss=2.41]\n"
     ]
    },
    {
     "name": "stdout",
     "output_type": "stream",
     "text": [
      "Epoch [360/1000], Average Loss: 6.4460\n"
     ]
    },
    {
     "name": "stderr",
     "output_type": "stream",
     "text": [
      "Epoch 361/1000: 100%|██████████| 74/74 [00:01<00:00, 66.43batch/s, loss=2.41]\n"
     ]
    },
    {
     "name": "stdout",
     "output_type": "stream",
     "text": [
      "Epoch [361/1000], Average Loss: 6.4472\n"
     ]
    },
    {
     "name": "stderr",
     "output_type": "stream",
     "text": [
      "Epoch 362/1000: 100%|██████████| 74/74 [00:01<00:00, 65.95batch/s, loss=2.4] \n"
     ]
    },
    {
     "name": "stdout",
     "output_type": "stream",
     "text": [
      "Epoch [362/1000], Average Loss: 6.4500\n"
     ]
    },
    {
     "name": "stderr",
     "output_type": "stream",
     "text": [
      "Epoch 363/1000: 100%|██████████| 74/74 [00:01<00:00, 68.35batch/s, loss=2.43]\n"
     ]
    },
    {
     "name": "stdout",
     "output_type": "stream",
     "text": [
      "Epoch [363/1000], Average Loss: 6.4461\n"
     ]
    },
    {
     "name": "stderr",
     "output_type": "stream",
     "text": [
      "Epoch 364/1000: 100%|██████████| 74/74 [00:01<00:00, 65.93batch/s, loss=2.43]\n"
     ]
    },
    {
     "name": "stdout",
     "output_type": "stream",
     "text": [
      "Epoch [364/1000], Average Loss: 6.4461\n"
     ]
    },
    {
     "name": "stderr",
     "output_type": "stream",
     "text": [
      "Epoch 365/1000: 100%|██████████| 74/74 [00:01<00:00, 65.13batch/s, loss=2.43]\n"
     ]
    },
    {
     "name": "stdout",
     "output_type": "stream",
     "text": [
      "Epoch [365/1000], Average Loss: 6.4492\n"
     ]
    },
    {
     "name": "stderr",
     "output_type": "stream",
     "text": [
      "Epoch 366/1000: 100%|██████████| 74/74 [00:01<00:00, 59.65batch/s, loss=2.41]\n"
     ]
    },
    {
     "name": "stdout",
     "output_type": "stream",
     "text": [
      "Epoch [366/1000], Average Loss: 6.4523\n"
     ]
    },
    {
     "name": "stderr",
     "output_type": "stream",
     "text": [
      "Epoch 367/1000: 100%|██████████| 74/74 [00:01<00:00, 65.42batch/s, loss=2.41]\n"
     ]
    },
    {
     "name": "stdout",
     "output_type": "stream",
     "text": [
      "Epoch [367/1000], Average Loss: 6.4489\n"
     ]
    },
    {
     "name": "stderr",
     "output_type": "stream",
     "text": [
      "Epoch 368/1000: 100%|██████████| 74/74 [00:01<00:00, 68.02batch/s, loss=2.42]\n"
     ]
    },
    {
     "name": "stdout",
     "output_type": "stream",
     "text": [
      "Epoch [368/1000], Average Loss: 6.4499\n"
     ]
    },
    {
     "name": "stderr",
     "output_type": "stream",
     "text": [
      "Epoch 369/1000: 100%|██████████| 74/74 [00:01<00:00, 64.66batch/s, loss=2.51]\n"
     ]
    },
    {
     "name": "stdout",
     "output_type": "stream",
     "text": [
      "Epoch [369/1000], Average Loss: 6.4569\n"
     ]
    },
    {
     "name": "stderr",
     "output_type": "stream",
     "text": [
      "Epoch 370/1000: 100%|██████████| 74/74 [00:01<00:00, 71.43batch/s, loss=2.43]\n"
     ]
    },
    {
     "name": "stdout",
     "output_type": "stream",
     "text": [
      "Epoch [370/1000], Average Loss: 6.4634\n"
     ]
    },
    {
     "name": "stderr",
     "output_type": "stream",
     "text": [
      "Epoch 371/1000: 100%|██████████| 74/74 [00:01<00:00, 70.15batch/s, loss=2.42]\n"
     ]
    },
    {
     "name": "stdout",
     "output_type": "stream",
     "text": [
      "Epoch [371/1000], Average Loss: 6.4531\n"
     ]
    },
    {
     "name": "stderr",
     "output_type": "stream",
     "text": [
      "Epoch 372/1000: 100%|██████████| 74/74 [00:01<00:00, 59.83batch/s, loss=2.42]\n"
     ]
    },
    {
     "name": "stdout",
     "output_type": "stream",
     "text": [
      "Epoch [372/1000], Average Loss: 6.4547\n"
     ]
    },
    {
     "name": "stderr",
     "output_type": "stream",
     "text": [
      "Epoch 373/1000: 100%|██████████| 74/74 [00:01<00:00, 65.49batch/s, loss=2.41]\n"
     ]
    },
    {
     "name": "stdout",
     "output_type": "stream",
     "text": [
      "Epoch [373/1000], Average Loss: 6.4520\n"
     ]
    },
    {
     "name": "stderr",
     "output_type": "stream",
     "text": [
      "Epoch 374/1000: 100%|██████████| 74/74 [00:01<00:00, 67.87batch/s, loss=2.41]\n"
     ]
    },
    {
     "name": "stdout",
     "output_type": "stream",
     "text": [
      "Epoch [374/1000], Average Loss: 6.4509\n"
     ]
    },
    {
     "name": "stderr",
     "output_type": "stream",
     "text": [
      "Epoch 375/1000: 100%|██████████| 74/74 [00:01<00:00, 68.52batch/s, loss=2.41]\n"
     ]
    },
    {
     "name": "stdout",
     "output_type": "stream",
     "text": [
      "Epoch [375/1000], Average Loss: 6.4459\n"
     ]
    },
    {
     "name": "stderr",
     "output_type": "stream",
     "text": [
      "Epoch 376/1000: 100%|██████████| 74/74 [00:01<00:00, 60.74batch/s, loss=2.43]\n"
     ]
    },
    {
     "name": "stdout",
     "output_type": "stream",
     "text": [
      "Epoch [376/1000], Average Loss: 6.4494\n"
     ]
    },
    {
     "name": "stderr",
     "output_type": "stream",
     "text": [
      "Epoch 377/1000: 100%|██████████| 74/74 [00:01<00:00, 67.52batch/s, loss=2.42]\n"
     ]
    },
    {
     "name": "stdout",
     "output_type": "stream",
     "text": [
      "Epoch [377/1000], Average Loss: 6.4461\n"
     ]
    },
    {
     "name": "stderr",
     "output_type": "stream",
     "text": [
      "Epoch 378/1000: 100%|██████████| 74/74 [00:01<00:00, 65.49batch/s, loss=2.46]\n"
     ]
    },
    {
     "name": "stdout",
     "output_type": "stream",
     "text": [
      "Epoch [378/1000], Average Loss: 6.4416\n"
     ]
    },
    {
     "name": "stderr",
     "output_type": "stream",
     "text": [
      "Epoch 379/1000: 100%|██████████| 74/74 [00:01<00:00, 66.49batch/s, loss=2.41]\n"
     ]
    },
    {
     "name": "stdout",
     "output_type": "stream",
     "text": [
      "Epoch [379/1000], Average Loss: 6.4407\n"
     ]
    },
    {
     "name": "stderr",
     "output_type": "stream",
     "text": [
      "Epoch 380/1000: 100%|██████████| 74/74 [00:01<00:00, 60.71batch/s, loss=2.41]\n"
     ]
    },
    {
     "name": "stdout",
     "output_type": "stream",
     "text": [
      "Epoch [380/1000], Average Loss: 6.4423\n"
     ]
    },
    {
     "name": "stderr",
     "output_type": "stream",
     "text": [
      "Epoch 381/1000: 100%|██████████| 74/74 [00:01<00:00, 62.84batch/s, loss=2.4] \n"
     ]
    },
    {
     "name": "stdout",
     "output_type": "stream",
     "text": [
      "Epoch [381/1000], Average Loss: 6.4411\n"
     ]
    },
    {
     "name": "stderr",
     "output_type": "stream",
     "text": [
      "Epoch 382/1000: 100%|██████████| 74/74 [00:01<00:00, 66.02batch/s, loss=2.41]\n"
     ]
    },
    {
     "name": "stdout",
     "output_type": "stream",
     "text": [
      "Epoch [382/1000], Average Loss: 6.4401\n"
     ]
    },
    {
     "name": "stderr",
     "output_type": "stream",
     "text": [
      "Epoch 383/1000: 100%|██████████| 74/74 [00:01<00:00, 72.32batch/s, loss=2.42]\n"
     ]
    },
    {
     "name": "stdout",
     "output_type": "stream",
     "text": [
      "Epoch [383/1000], Average Loss: 6.4413\n"
     ]
    },
    {
     "name": "stderr",
     "output_type": "stream",
     "text": [
      "Epoch 384/1000: 100%|██████████| 74/74 [00:01<00:00, 68.88batch/s, loss=2.42]\n"
     ]
    },
    {
     "name": "stdout",
     "output_type": "stream",
     "text": [
      "Epoch [384/1000], Average Loss: 6.4403\n"
     ]
    },
    {
     "name": "stderr",
     "output_type": "stream",
     "text": [
      "Epoch 385/1000: 100%|██████████| 74/74 [00:01<00:00, 67.97batch/s, loss=2.41]\n"
     ]
    },
    {
     "name": "stdout",
     "output_type": "stream",
     "text": [
      "Epoch [385/1000], Average Loss: 6.4403\n"
     ]
    },
    {
     "name": "stderr",
     "output_type": "stream",
     "text": [
      "Epoch 386/1000: 100%|██████████| 74/74 [00:01<00:00, 62.02batch/s, loss=2.41]\n"
     ]
    },
    {
     "name": "stdout",
     "output_type": "stream",
     "text": [
      "Epoch [386/1000], Average Loss: 6.4360\n"
     ]
    },
    {
     "name": "stderr",
     "output_type": "stream",
     "text": [
      "Epoch 387/1000: 100%|██████████| 74/74 [00:01<00:00, 67.94batch/s, loss=2.42]\n"
     ]
    },
    {
     "name": "stdout",
     "output_type": "stream",
     "text": [
      "Epoch [387/1000], Average Loss: 6.4373\n"
     ]
    },
    {
     "name": "stderr",
     "output_type": "stream",
     "text": [
      "Epoch 388/1000: 100%|██████████| 74/74 [00:01<00:00, 66.95batch/s, loss=2.43]\n"
     ]
    },
    {
     "name": "stdout",
     "output_type": "stream",
     "text": [
      "Epoch [388/1000], Average Loss: 6.4360\n"
     ]
    },
    {
     "name": "stderr",
     "output_type": "stream",
     "text": [
      "Epoch 389/1000: 100%|██████████| 74/74 [00:01<00:00, 66.74batch/s, loss=2.42]\n"
     ]
    },
    {
     "name": "stdout",
     "output_type": "stream",
     "text": [
      "Epoch [389/1000], Average Loss: 6.4341\n"
     ]
    },
    {
     "name": "stderr",
     "output_type": "stream",
     "text": [
      "Epoch 390/1000: 100%|██████████| 74/74 [00:01<00:00, 59.33batch/s, loss=2.42]\n"
     ]
    },
    {
     "name": "stdout",
     "output_type": "stream",
     "text": [
      "Epoch [390/1000], Average Loss: 6.4338\n"
     ]
    },
    {
     "name": "stderr",
     "output_type": "stream",
     "text": [
      "Epoch 391/1000: 100%|██████████| 74/74 [00:01<00:00, 66.01batch/s, loss=2.41]\n"
     ]
    },
    {
     "name": "stdout",
     "output_type": "stream",
     "text": [
      "Epoch [391/1000], Average Loss: 6.4377\n"
     ]
    },
    {
     "name": "stderr",
     "output_type": "stream",
     "text": [
      "Epoch 392/1000: 100%|██████████| 74/74 [00:01<00:00, 63.60batch/s, loss=2.41]\n"
     ]
    },
    {
     "name": "stdout",
     "output_type": "stream",
     "text": [
      "Epoch [392/1000], Average Loss: 6.4329\n"
     ]
    },
    {
     "name": "stderr",
     "output_type": "stream",
     "text": [
      "Epoch 393/1000: 100%|██████████| 74/74 [00:01<00:00, 68.53batch/s, loss=2.4] \n"
     ]
    },
    {
     "name": "stdout",
     "output_type": "stream",
     "text": [
      "Epoch [393/1000], Average Loss: 6.4348\n"
     ]
    },
    {
     "name": "stderr",
     "output_type": "stream",
     "text": [
      "Epoch 394/1000: 100%|██████████| 74/74 [00:01<00:00, 61.74batch/s, loss=2.46]\n"
     ]
    },
    {
     "name": "stdout",
     "output_type": "stream",
     "text": [
      "Epoch [394/1000], Average Loss: 6.4350\n"
     ]
    },
    {
     "name": "stderr",
     "output_type": "stream",
     "text": [
      "Epoch 395/1000: 100%|██████████| 74/74 [00:01<00:00, 71.53batch/s, loss=2.42]\n"
     ]
    },
    {
     "name": "stdout",
     "output_type": "stream",
     "text": [
      "Epoch [395/1000], Average Loss: 6.4337\n"
     ]
    },
    {
     "name": "stderr",
     "output_type": "stream",
     "text": [
      "Epoch 396/1000: 100%|██████████| 74/74 [00:01<00:00, 69.80batch/s, loss=2.41]\n"
     ]
    },
    {
     "name": "stdout",
     "output_type": "stream",
     "text": [
      "Epoch [396/1000], Average Loss: 6.4356\n"
     ]
    },
    {
     "name": "stderr",
     "output_type": "stream",
     "text": [
      "Epoch 397/1000: 100%|██████████| 74/74 [00:01<00:00, 67.29batch/s, loss=2.41]\n"
     ]
    },
    {
     "name": "stdout",
     "output_type": "stream",
     "text": [
      "Epoch [397/1000], Average Loss: 6.4367\n"
     ]
    },
    {
     "name": "stderr",
     "output_type": "stream",
     "text": [
      "Epoch 398/1000: 100%|██████████| 74/74 [00:01<00:00, 62.84batch/s, loss=2.42]\n"
     ]
    },
    {
     "name": "stdout",
     "output_type": "stream",
     "text": [
      "Epoch [398/1000], Average Loss: 6.4350\n"
     ]
    },
    {
     "name": "stderr",
     "output_type": "stream",
     "text": [
      "Epoch 399/1000: 100%|██████████| 74/74 [00:01<00:00, 61.79batch/s, loss=2.42]\n"
     ]
    },
    {
     "name": "stdout",
     "output_type": "stream",
     "text": [
      "Epoch [399/1000], Average Loss: 6.4345\n"
     ]
    },
    {
     "name": "stderr",
     "output_type": "stream",
     "text": [
      "Epoch 400/1000: 100%|██████████| 74/74 [00:01<00:00, 67.91batch/s, loss=2.42]\n"
     ]
    },
    {
     "name": "stdout",
     "output_type": "stream",
     "text": [
      "Epoch [400/1000], Average Loss: 6.4339\n"
     ]
    },
    {
     "name": "stderr",
     "output_type": "stream",
     "text": [
      "Epoch 401/1000: 100%|██████████| 74/74 [00:01<00:00, 71.02batch/s, loss=2.42]\n"
     ]
    },
    {
     "name": "stdout",
     "output_type": "stream",
     "text": [
      "Epoch [401/1000], Average Loss: 6.4327\n"
     ]
    },
    {
     "name": "stderr",
     "output_type": "stream",
     "text": [
      "Epoch 402/1000: 100%|██████████| 74/74 [00:01<00:00, 69.61batch/s, loss=2.41]\n"
     ]
    },
    {
     "name": "stdout",
     "output_type": "stream",
     "text": [
      "Epoch [402/1000], Average Loss: 6.4322\n"
     ]
    },
    {
     "name": "stderr",
     "output_type": "stream",
     "text": [
      "Epoch 403/1000: 100%|██████████| 74/74 [00:01<00:00, 69.02batch/s, loss=2.42]\n"
     ]
    },
    {
     "name": "stdout",
     "output_type": "stream",
     "text": [
      "Epoch [403/1000], Average Loss: 6.4325\n"
     ]
    },
    {
     "name": "stderr",
     "output_type": "stream",
     "text": [
      "Epoch 404/1000: 100%|██████████| 74/74 [00:01<00:00, 61.75batch/s, loss=2.44]\n"
     ]
    },
    {
     "name": "stdout",
     "output_type": "stream",
     "text": [
      "Epoch [404/1000], Average Loss: 6.4333\n"
     ]
    },
    {
     "name": "stderr",
     "output_type": "stream",
     "text": [
      "Epoch 405/1000: 100%|██████████| 74/74 [00:01<00:00, 66.53batch/s, loss=2.43]\n"
     ]
    },
    {
     "name": "stdout",
     "output_type": "stream",
     "text": [
      "Epoch [405/1000], Average Loss: 6.4351\n"
     ]
    },
    {
     "name": "stderr",
     "output_type": "stream",
     "text": [
      "Epoch 406/1000: 100%|██████████| 74/74 [00:01<00:00, 69.14batch/s, loss=2.41]\n"
     ]
    },
    {
     "name": "stdout",
     "output_type": "stream",
     "text": [
      "Epoch [406/1000], Average Loss: 6.4358\n"
     ]
    },
    {
     "name": "stderr",
     "output_type": "stream",
     "text": [
      "Epoch 407/1000: 100%|██████████| 74/74 [00:01<00:00, 65.03batch/s, loss=2.45]\n"
     ]
    },
    {
     "name": "stdout",
     "output_type": "stream",
     "text": [
      "Epoch [407/1000], Average Loss: 6.4390\n"
     ]
    },
    {
     "name": "stderr",
     "output_type": "stream",
     "text": [
      "Epoch 408/1000: 100%|██████████| 74/74 [00:01<00:00, 66.98batch/s, loss=2.42]\n"
     ]
    },
    {
     "name": "stdout",
     "output_type": "stream",
     "text": [
      "Epoch [408/1000], Average Loss: 6.4395\n"
     ]
    },
    {
     "name": "stderr",
     "output_type": "stream",
     "text": [
      "Epoch 409/1000: 100%|██████████| 74/74 [00:01<00:00, 59.37batch/s, loss=2.43]\n"
     ]
    },
    {
     "name": "stdout",
     "output_type": "stream",
     "text": [
      "Epoch [409/1000], Average Loss: 6.4356\n"
     ]
    },
    {
     "name": "stderr",
     "output_type": "stream",
     "text": [
      "Epoch 410/1000: 100%|██████████| 74/74 [00:01<00:00, 56.99batch/s, loss=2.44]\n"
     ]
    },
    {
     "name": "stdout",
     "output_type": "stream",
     "text": [
      "Epoch [410/1000], Average Loss: 6.4362\n"
     ]
    },
    {
     "name": "stderr",
     "output_type": "stream",
     "text": [
      "Epoch 411/1000: 100%|██████████| 74/74 [00:01<00:00, 67.88batch/s, loss=2.43]\n"
     ]
    },
    {
     "name": "stdout",
     "output_type": "stream",
     "text": [
      "Epoch [411/1000], Average Loss: 6.4358\n"
     ]
    },
    {
     "name": "stderr",
     "output_type": "stream",
     "text": [
      "Epoch 412/1000: 100%|██████████| 74/74 [00:01<00:00, 65.35batch/s, loss=2.41]\n"
     ]
    },
    {
     "name": "stdout",
     "output_type": "stream",
     "text": [
      "Epoch [412/1000], Average Loss: 6.4386\n"
     ]
    },
    {
     "name": "stderr",
     "output_type": "stream",
     "text": [
      "Epoch 413/1000: 100%|██████████| 74/74 [00:01<00:00, 66.75batch/s, loss=2.42]\n"
     ]
    },
    {
     "name": "stdout",
     "output_type": "stream",
     "text": [
      "Epoch [413/1000], Average Loss: 6.4324\n"
     ]
    },
    {
     "name": "stderr",
     "output_type": "stream",
     "text": [
      "Epoch 414/1000: 100%|██████████| 74/74 [00:01<00:00, 64.56batch/s, loss=2.4] \n"
     ]
    },
    {
     "name": "stdout",
     "output_type": "stream",
     "text": [
      "Epoch [414/1000], Average Loss: 6.4328\n"
     ]
    },
    {
     "name": "stderr",
     "output_type": "stream",
     "text": [
      "Epoch 415/1000: 100%|██████████| 74/74 [00:01<00:00, 68.02batch/s, loss=2.41]\n"
     ]
    },
    {
     "name": "stdout",
     "output_type": "stream",
     "text": [
      "Epoch [415/1000], Average Loss: 6.4302\n"
     ]
    },
    {
     "name": "stderr",
     "output_type": "stream",
     "text": [
      "Epoch 416/1000: 100%|██████████| 74/74 [00:01<00:00, 69.11batch/s, loss=2.41]\n"
     ]
    },
    {
     "name": "stdout",
     "output_type": "stream",
     "text": [
      "Epoch [416/1000], Average Loss: 6.4277\n"
     ]
    },
    {
     "name": "stderr",
     "output_type": "stream",
     "text": [
      "Epoch 417/1000: 100%|██████████| 74/74 [00:01<00:00, 57.73batch/s, loss=2.41]\n"
     ]
    },
    {
     "name": "stdout",
     "output_type": "stream",
     "text": [
      "Epoch [417/1000], Average Loss: 6.4273\n"
     ]
    },
    {
     "name": "stderr",
     "output_type": "stream",
     "text": [
      "Epoch 418/1000: 100%|██████████| 74/74 [00:01<00:00, 64.35batch/s, loss=2.4] \n"
     ]
    },
    {
     "name": "stdout",
     "output_type": "stream",
     "text": [
      "Epoch [418/1000], Average Loss: 6.4271\n"
     ]
    },
    {
     "name": "stderr",
     "output_type": "stream",
     "text": [
      "Epoch 419/1000: 100%|██████████| 74/74 [00:01<00:00, 67.27batch/s, loss=2.41]\n"
     ]
    },
    {
     "name": "stdout",
     "output_type": "stream",
     "text": [
      "Epoch [419/1000], Average Loss: 6.4332\n"
     ]
    },
    {
     "name": "stderr",
     "output_type": "stream",
     "text": [
      "Epoch 420/1000: 100%|██████████| 74/74 [00:01<00:00, 69.04batch/s, loss=2.63]\n"
     ]
    },
    {
     "name": "stdout",
     "output_type": "stream",
     "text": [
      "Epoch [420/1000], Average Loss: 6.4346\n"
     ]
    },
    {
     "name": "stderr",
     "output_type": "stream",
     "text": [
      "Epoch 421/1000: 100%|██████████| 74/74 [00:01<00:00, 63.42batch/s, loss=2.43]\n"
     ]
    },
    {
     "name": "stdout",
     "output_type": "stream",
     "text": [
      "Epoch [421/1000], Average Loss: 6.4321\n"
     ]
    },
    {
     "name": "stderr",
     "output_type": "stream",
     "text": [
      "Epoch 422/1000: 100%|██████████| 74/74 [00:01<00:00, 61.47batch/s, loss=2.43]\n"
     ]
    },
    {
     "name": "stdout",
     "output_type": "stream",
     "text": [
      "Epoch [422/1000], Average Loss: 6.4301\n"
     ]
    },
    {
     "name": "stderr",
     "output_type": "stream",
     "text": [
      "Epoch 423/1000: 100%|██████████| 74/74 [00:01<00:00, 67.40batch/s, loss=2.43]\n"
     ]
    },
    {
     "name": "stdout",
     "output_type": "stream",
     "text": [
      "Epoch [423/1000], Average Loss: 6.4330\n"
     ]
    },
    {
     "name": "stderr",
     "output_type": "stream",
     "text": [
      "Epoch 424/1000: 100%|██████████| 74/74 [00:01<00:00, 69.45batch/s, loss=2.44]\n"
     ]
    },
    {
     "name": "stdout",
     "output_type": "stream",
     "text": [
      "Epoch [424/1000], Average Loss: 6.4301\n"
     ]
    },
    {
     "name": "stderr",
     "output_type": "stream",
     "text": [
      "Epoch 425/1000: 100%|██████████| 74/74 [00:01<00:00, 66.86batch/s, loss=2.45]\n"
     ]
    },
    {
     "name": "stdout",
     "output_type": "stream",
     "text": [
      "Epoch [425/1000], Average Loss: 6.4275\n"
     ]
    },
    {
     "name": "stderr",
     "output_type": "stream",
     "text": [
      "Epoch 426/1000: 100%|██████████| 74/74 [00:01<00:00, 62.33batch/s, loss=2.41]\n"
     ]
    },
    {
     "name": "stdout",
     "output_type": "stream",
     "text": [
      "Epoch [426/1000], Average Loss: 6.4289\n"
     ]
    },
    {
     "name": "stderr",
     "output_type": "stream",
     "text": [
      "Epoch 427/1000: 100%|██████████| 74/74 [00:01<00:00, 68.28batch/s, loss=2.42]\n"
     ]
    },
    {
     "name": "stdout",
     "output_type": "stream",
     "text": [
      "Epoch [427/1000], Average Loss: 6.4307\n"
     ]
    },
    {
     "name": "stderr",
     "output_type": "stream",
     "text": [
      "Epoch 428/1000: 100%|██████████| 74/74 [00:01<00:00, 66.04batch/s, loss=2.41]\n"
     ]
    },
    {
     "name": "stdout",
     "output_type": "stream",
     "text": [
      "Epoch [428/1000], Average Loss: 6.4277\n"
     ]
    },
    {
     "name": "stderr",
     "output_type": "stream",
     "text": [
      "Epoch 429/1000: 100%|██████████| 74/74 [00:01<00:00, 66.15batch/s, loss=2.41]\n"
     ]
    },
    {
     "name": "stdout",
     "output_type": "stream",
     "text": [
      "Epoch [429/1000], Average Loss: 6.4277\n"
     ]
    },
    {
     "name": "stderr",
     "output_type": "stream",
     "text": [
      "Epoch 430/1000: 100%|██████████| 74/74 [00:01<00:00, 63.64batch/s, loss=2.41]\n"
     ]
    },
    {
     "name": "stdout",
     "output_type": "stream",
     "text": [
      "Epoch [430/1000], Average Loss: 6.4269\n"
     ]
    },
    {
     "name": "stderr",
     "output_type": "stream",
     "text": [
      "Epoch 431/1000: 100%|██████████| 74/74 [00:01<00:00, 71.78batch/s, loss=2.4] \n"
     ]
    },
    {
     "name": "stdout",
     "output_type": "stream",
     "text": [
      "Epoch [431/1000], Average Loss: 6.4284\n"
     ]
    },
    {
     "name": "stderr",
     "output_type": "stream",
     "text": [
      "Epoch 432/1000: 100%|██████████| 74/74 [00:01<00:00, 67.42batch/s, loss=2.4] \n"
     ]
    },
    {
     "name": "stdout",
     "output_type": "stream",
     "text": [
      "Epoch [432/1000], Average Loss: 6.4313\n"
     ]
    },
    {
     "name": "stderr",
     "output_type": "stream",
     "text": [
      "Epoch 433/1000: 100%|██████████| 74/74 [00:01<00:00, 68.99batch/s, loss=2.42]\n"
     ]
    },
    {
     "name": "stdout",
     "output_type": "stream",
     "text": [
      "Epoch [433/1000], Average Loss: 6.4291\n"
     ]
    },
    {
     "name": "stderr",
     "output_type": "stream",
     "text": [
      "Epoch 434/1000: 100%|██████████| 74/74 [00:01<00:00, 69.96batch/s, loss=2.41]\n"
     ]
    },
    {
     "name": "stdout",
     "output_type": "stream",
     "text": [
      "Epoch [434/1000], Average Loss: 6.4257\n"
     ]
    },
    {
     "name": "stderr",
     "output_type": "stream",
     "text": [
      "Epoch 435/1000: 100%|██████████| 74/74 [00:01<00:00, 59.68batch/s, loss=2.4] \n"
     ]
    },
    {
     "name": "stdout",
     "output_type": "stream",
     "text": [
      "Epoch [435/1000], Average Loss: 6.4300\n"
     ]
    },
    {
     "name": "stderr",
     "output_type": "stream",
     "text": [
      "Epoch 436/1000: 100%|██████████| 74/74 [00:01<00:00, 67.37batch/s, loss=2.41]\n"
     ]
    },
    {
     "name": "stdout",
     "output_type": "stream",
     "text": [
      "Epoch [436/1000], Average Loss: 6.4295\n"
     ]
    },
    {
     "name": "stderr",
     "output_type": "stream",
     "text": [
      "Epoch 437/1000: 100%|██████████| 74/74 [00:01<00:00, 70.25batch/s, loss=2.41]\n"
     ]
    },
    {
     "name": "stdout",
     "output_type": "stream",
     "text": [
      "Epoch [437/1000], Average Loss: 6.4344\n"
     ]
    },
    {
     "name": "stderr",
     "output_type": "stream",
     "text": [
      "Epoch 438/1000: 100%|██████████| 74/74 [00:01<00:00, 66.71batch/s, loss=2.42]\n"
     ]
    },
    {
     "name": "stdout",
     "output_type": "stream",
     "text": [
      "Epoch [438/1000], Average Loss: 6.4321\n"
     ]
    },
    {
     "name": "stderr",
     "output_type": "stream",
     "text": [
      "Epoch 439/1000: 100%|██████████| 74/74 [00:01<00:00, 70.23batch/s, loss=2.41]\n"
     ]
    },
    {
     "name": "stdout",
     "output_type": "stream",
     "text": [
      "Epoch [439/1000], Average Loss: 6.4281\n"
     ]
    },
    {
     "name": "stderr",
     "output_type": "stream",
     "text": [
      "Epoch 440/1000: 100%|██████████| 74/74 [00:01<00:00, 67.25batch/s, loss=2.42]\n"
     ]
    },
    {
     "name": "stdout",
     "output_type": "stream",
     "text": [
      "Epoch [440/1000], Average Loss: 6.4312\n"
     ]
    },
    {
     "name": "stderr",
     "output_type": "stream",
     "text": [
      "Epoch 441/1000: 100%|██████████| 74/74 [00:01<00:00, 64.73batch/s, loss=2.43]\n"
     ]
    },
    {
     "name": "stdout",
     "output_type": "stream",
     "text": [
      "Epoch [441/1000], Average Loss: 6.4327\n"
     ]
    },
    {
     "name": "stderr",
     "output_type": "stream",
     "text": [
      "Epoch 442/1000: 100%|██████████| 74/74 [00:01<00:00, 66.26batch/s, loss=2.45]\n"
     ]
    },
    {
     "name": "stdout",
     "output_type": "stream",
     "text": [
      "Epoch [442/1000], Average Loss: 6.4273\n"
     ]
    },
    {
     "name": "stderr",
     "output_type": "stream",
     "text": [
      "Epoch 443/1000: 100%|██████████| 74/74 [00:01<00:00, 66.33batch/s, loss=2.43]\n"
     ]
    },
    {
     "name": "stdout",
     "output_type": "stream",
     "text": [
      "Epoch [443/1000], Average Loss: 6.4291\n"
     ]
    },
    {
     "name": "stderr",
     "output_type": "stream",
     "text": [
      "Epoch 444/1000: 100%|██████████| 74/74 [00:01<00:00, 68.07batch/s, loss=2.44]\n"
     ]
    },
    {
     "name": "stdout",
     "output_type": "stream",
     "text": [
      "Epoch [444/1000], Average Loss: 6.4331\n"
     ]
    },
    {
     "name": "stderr",
     "output_type": "stream",
     "text": [
      "Epoch 445/1000: 100%|██████████| 74/74 [00:01<00:00, 63.41batch/s, loss=2.41]\n"
     ]
    },
    {
     "name": "stdout",
     "output_type": "stream",
     "text": [
      "Epoch [445/1000], Average Loss: 6.4260\n"
     ]
    },
    {
     "name": "stderr",
     "output_type": "stream",
     "text": [
      "Epoch 446/1000: 100%|██████████| 74/74 [00:01<00:00, 63.51batch/s, loss=2.43]\n"
     ]
    },
    {
     "name": "stdout",
     "output_type": "stream",
     "text": [
      "Epoch [446/1000], Average Loss: 6.4301\n"
     ]
    },
    {
     "name": "stderr",
     "output_type": "stream",
     "text": [
      "Epoch 447/1000: 100%|██████████| 74/74 [00:01<00:00, 65.63batch/s, loss=2.46]\n"
     ]
    },
    {
     "name": "stdout",
     "output_type": "stream",
     "text": [
      "Epoch [447/1000], Average Loss: 6.4381\n"
     ]
    },
    {
     "name": "stderr",
     "output_type": "stream",
     "text": [
      "Epoch 448/1000: 100%|██████████| 74/74 [00:01<00:00, 69.49batch/s, loss=2.4] \n"
     ]
    },
    {
     "name": "stdout",
     "output_type": "stream",
     "text": [
      "Epoch [448/1000], Average Loss: 6.4362\n"
     ]
    },
    {
     "name": "stderr",
     "output_type": "stream",
     "text": [
      "Epoch 449/1000: 100%|██████████| 74/74 [00:01<00:00, 63.73batch/s, loss=2.41]\n"
     ]
    },
    {
     "name": "stdout",
     "output_type": "stream",
     "text": [
      "Epoch [449/1000], Average Loss: 6.4309\n"
     ]
    },
    {
     "name": "stderr",
     "output_type": "stream",
     "text": [
      "Epoch 450/1000: 100%|██████████| 74/74 [00:01<00:00, 64.60batch/s, loss=2.39]\n"
     ]
    },
    {
     "name": "stdout",
     "output_type": "stream",
     "text": [
      "Epoch [450/1000], Average Loss: 6.4310\n"
     ]
    },
    {
     "name": "stderr",
     "output_type": "stream",
     "text": [
      "Epoch 451/1000: 100%|██████████| 74/74 [00:01<00:00, 64.62batch/s, loss=2.38]\n"
     ]
    },
    {
     "name": "stdout",
     "output_type": "stream",
     "text": [
      "Epoch [451/1000], Average Loss: 6.4272\n"
     ]
    },
    {
     "name": "stderr",
     "output_type": "stream",
     "text": [
      "Epoch 452/1000: 100%|██████████| 74/74 [00:01<00:00, 67.73batch/s, loss=2.39]\n"
     ]
    },
    {
     "name": "stdout",
     "output_type": "stream",
     "text": [
      "Epoch [452/1000], Average Loss: 6.4279\n"
     ]
    },
    {
     "name": "stderr",
     "output_type": "stream",
     "text": [
      "Epoch 453/1000: 100%|██████████| 74/74 [00:01<00:00, 59.38batch/s, loss=2.42]\n"
     ]
    },
    {
     "name": "stdout",
     "output_type": "stream",
     "text": [
      "Epoch [453/1000], Average Loss: 6.4325\n"
     ]
    },
    {
     "name": "stderr",
     "output_type": "stream",
     "text": [
      "Epoch 454/1000: 100%|██████████| 74/74 [00:01<00:00, 67.87batch/s, loss=2.4] \n"
     ]
    },
    {
     "name": "stdout",
     "output_type": "stream",
     "text": [
      "Epoch [454/1000], Average Loss: 6.4290\n"
     ]
    },
    {
     "name": "stderr",
     "output_type": "stream",
     "text": [
      "Epoch 455/1000: 100%|██████████| 74/74 [00:01<00:00, 67.46batch/s, loss=2.43]\n"
     ]
    },
    {
     "name": "stdout",
     "output_type": "stream",
     "text": [
      "Epoch [455/1000], Average Loss: 6.4270\n"
     ]
    },
    {
     "name": "stderr",
     "output_type": "stream",
     "text": [
      "Epoch 456/1000: 100%|██████████| 74/74 [00:01<00:00, 67.03batch/s, loss=2.43]\n"
     ]
    },
    {
     "name": "stdout",
     "output_type": "stream",
     "text": [
      "Epoch [456/1000], Average Loss: 6.4269\n"
     ]
    },
    {
     "name": "stderr",
     "output_type": "stream",
     "text": [
      "Epoch 457/1000: 100%|██████████| 74/74 [00:01<00:00, 62.31batch/s, loss=2.43]\n"
     ]
    },
    {
     "name": "stdout",
     "output_type": "stream",
     "text": [
      "Epoch [457/1000], Average Loss: 6.4275\n"
     ]
    },
    {
     "name": "stderr",
     "output_type": "stream",
     "text": [
      "Epoch 458/1000: 100%|██████████| 74/74 [00:01<00:00, 67.16batch/s, loss=2.43]\n"
     ]
    },
    {
     "name": "stdout",
     "output_type": "stream",
     "text": [
      "Epoch [458/1000], Average Loss: 6.4233\n"
     ]
    },
    {
     "name": "stderr",
     "output_type": "stream",
     "text": [
      "Epoch 459/1000: 100%|██████████| 74/74 [00:01<00:00, 67.16batch/s, loss=2.45]\n"
     ]
    },
    {
     "name": "stdout",
     "output_type": "stream",
     "text": [
      "Epoch [459/1000], Average Loss: 6.4230\n"
     ]
    },
    {
     "name": "stderr",
     "output_type": "stream",
     "text": [
      "Epoch 460/1000: 100%|██████████| 74/74 [00:01<00:00, 67.51batch/s, loss=2.43]\n"
     ]
    },
    {
     "name": "stdout",
     "output_type": "stream",
     "text": [
      "Epoch [460/1000], Average Loss: 6.4242\n"
     ]
    },
    {
     "name": "stderr",
     "output_type": "stream",
     "text": [
      "Epoch 461/1000: 100%|██████████| 74/74 [00:01<00:00, 69.52batch/s, loss=2.42]\n"
     ]
    },
    {
     "name": "stdout",
     "output_type": "stream",
     "text": [
      "Epoch [461/1000], Average Loss: 6.4217\n"
     ]
    },
    {
     "name": "stderr",
     "output_type": "stream",
     "text": [
      "Epoch 462/1000: 100%|██████████| 74/74 [00:01<00:00, 59.81batch/s, loss=2.4] \n"
     ]
    },
    {
     "name": "stdout",
     "output_type": "stream",
     "text": [
      "Epoch [462/1000], Average Loss: 6.4211\n"
     ]
    },
    {
     "name": "stderr",
     "output_type": "stream",
     "text": [
      "Epoch 463/1000: 100%|██████████| 74/74 [00:01<00:00, 58.60batch/s, loss=2.42]\n"
     ]
    },
    {
     "name": "stdout",
     "output_type": "stream",
     "text": [
      "Epoch [463/1000], Average Loss: 6.4176\n"
     ]
    },
    {
     "name": "stderr",
     "output_type": "stream",
     "text": [
      "Epoch 464/1000: 100%|██████████| 74/74 [00:01<00:00, 67.85batch/s, loss=2.39]\n"
     ]
    },
    {
     "name": "stdout",
     "output_type": "stream",
     "text": [
      "Epoch [464/1000], Average Loss: 6.4202\n"
     ]
    },
    {
     "name": "stderr",
     "output_type": "stream",
     "text": [
      "Epoch 465/1000: 100%|██████████| 74/74 [00:01<00:00, 69.66batch/s, loss=2.4] \n"
     ]
    },
    {
     "name": "stdout",
     "output_type": "stream",
     "text": [
      "Epoch [465/1000], Average Loss: 6.4209\n"
     ]
    },
    {
     "name": "stderr",
     "output_type": "stream",
     "text": [
      "Epoch 466/1000: 100%|██████████| 74/74 [00:01<00:00, 65.18batch/s, loss=2.41]\n"
     ]
    },
    {
     "name": "stdout",
     "output_type": "stream",
     "text": [
      "Epoch [466/1000], Average Loss: 6.4222\n"
     ]
    },
    {
     "name": "stderr",
     "output_type": "stream",
     "text": [
      "Epoch 467/1000: 100%|██████████| 74/74 [00:01<00:00, 68.87batch/s, loss=2.41]\n"
     ]
    },
    {
     "name": "stdout",
     "output_type": "stream",
     "text": [
      "Epoch [467/1000], Average Loss: 6.4241\n"
     ]
    },
    {
     "name": "stderr",
     "output_type": "stream",
     "text": [
      "Epoch 468/1000: 100%|██████████| 74/74 [00:01<00:00, 65.57batch/s, loss=2.43]\n"
     ]
    },
    {
     "name": "stdout",
     "output_type": "stream",
     "text": [
      "Epoch [468/1000], Average Loss: 6.4214\n"
     ]
    },
    {
     "name": "stderr",
     "output_type": "stream",
     "text": [
      "Epoch 469/1000: 100%|██████████| 74/74 [00:01<00:00, 68.20batch/s, loss=2.43]\n"
     ]
    },
    {
     "name": "stdout",
     "output_type": "stream",
     "text": [
      "Epoch [469/1000], Average Loss: 6.4222\n"
     ]
    },
    {
     "name": "stderr",
     "output_type": "stream",
     "text": [
      "Epoch 470/1000: 100%|██████████| 74/74 [00:01<00:00, 68.68batch/s, loss=2.43]\n"
     ]
    },
    {
     "name": "stdout",
     "output_type": "stream",
     "text": [
      "Epoch [470/1000], Average Loss: 6.4213\n"
     ]
    },
    {
     "name": "stderr",
     "output_type": "stream",
     "text": [
      "Epoch 471/1000: 100%|██████████| 74/74 [00:01<00:00, 69.87batch/s, loss=2.4] \n"
     ]
    },
    {
     "name": "stdout",
     "output_type": "stream",
     "text": [
      "Epoch [471/1000], Average Loss: 6.4228\n"
     ]
    },
    {
     "name": "stderr",
     "output_type": "stream",
     "text": [
      "Epoch 472/1000: 100%|██████████| 74/74 [00:01<00:00, 62.17batch/s, loss=2.42]\n"
     ]
    },
    {
     "name": "stdout",
     "output_type": "stream",
     "text": [
      "Epoch [472/1000], Average Loss: 6.4234\n"
     ]
    },
    {
     "name": "stderr",
     "output_type": "stream",
     "text": [
      "Epoch 473/1000: 100%|██████████| 74/74 [00:01<00:00, 67.73batch/s, loss=2.42]\n"
     ]
    },
    {
     "name": "stdout",
     "output_type": "stream",
     "text": [
      "Epoch [473/1000], Average Loss: 6.4219\n"
     ]
    },
    {
     "name": "stderr",
     "output_type": "stream",
     "text": [
      "Epoch 474/1000: 100%|██████████| 74/74 [00:01<00:00, 68.76batch/s, loss=2.43]\n"
     ]
    },
    {
     "name": "stdout",
     "output_type": "stream",
     "text": [
      "Epoch [474/1000], Average Loss: 6.4215\n"
     ]
    },
    {
     "name": "stderr",
     "output_type": "stream",
     "text": [
      "Epoch 475/1000: 100%|██████████| 74/74 [00:01<00:00, 67.17batch/s, loss=2.42]\n"
     ]
    },
    {
     "name": "stdout",
     "output_type": "stream",
     "text": [
      "Epoch [475/1000], Average Loss: 6.4187\n"
     ]
    },
    {
     "name": "stderr",
     "output_type": "stream",
     "text": [
      "Epoch 476/1000: 100%|██████████| 74/74 [00:01<00:00, 67.24batch/s, loss=2.41]\n"
     ]
    },
    {
     "name": "stdout",
     "output_type": "stream",
     "text": [
      "Epoch [476/1000], Average Loss: 6.4187\n"
     ]
    },
    {
     "name": "stderr",
     "output_type": "stream",
     "text": [
      "Epoch 477/1000: 100%|██████████| 74/74 [00:01<00:00, 60.03batch/s, loss=2.4] \n"
     ]
    },
    {
     "name": "stdout",
     "output_type": "stream",
     "text": [
      "Epoch [477/1000], Average Loss: 6.4197\n"
     ]
    },
    {
     "name": "stderr",
     "output_type": "stream",
     "text": [
      "Epoch 478/1000: 100%|██████████| 74/74 [00:01<00:00, 70.01batch/s, loss=2.4] \n"
     ]
    },
    {
     "name": "stdout",
     "output_type": "stream",
     "text": [
      "Epoch [478/1000], Average Loss: 6.4180\n"
     ]
    },
    {
     "name": "stderr",
     "output_type": "stream",
     "text": [
      "Epoch 479/1000: 100%|██████████| 74/74 [00:01<00:00, 67.26batch/s, loss=2.41]\n"
     ]
    },
    {
     "name": "stdout",
     "output_type": "stream",
     "text": [
      "Epoch [479/1000], Average Loss: 6.4198\n"
     ]
    },
    {
     "name": "stderr",
     "output_type": "stream",
     "text": [
      "Epoch 480/1000: 100%|██████████| 74/74 [00:01<00:00, 69.64batch/s, loss=2.42]\n"
     ]
    },
    {
     "name": "stdout",
     "output_type": "stream",
     "text": [
      "Epoch [480/1000], Average Loss: 6.4226\n"
     ]
    },
    {
     "name": "stderr",
     "output_type": "stream",
     "text": [
      "Epoch 481/1000: 100%|██████████| 74/74 [00:01<00:00, 62.18batch/s, loss=2.41]\n"
     ]
    },
    {
     "name": "stdout",
     "output_type": "stream",
     "text": [
      "Epoch [481/1000], Average Loss: 6.4211\n"
     ]
    },
    {
     "name": "stderr",
     "output_type": "stream",
     "text": [
      "Epoch 482/1000: 100%|██████████| 74/74 [00:01<00:00, 65.87batch/s, loss=2.42]\n"
     ]
    },
    {
     "name": "stdout",
     "output_type": "stream",
     "text": [
      "Epoch [482/1000], Average Loss: 6.4262\n"
     ]
    },
    {
     "name": "stderr",
     "output_type": "stream",
     "text": [
      "Epoch 483/1000: 100%|██████████| 74/74 [00:01<00:00, 65.88batch/s, loss=2.41]\n"
     ]
    },
    {
     "name": "stdout",
     "output_type": "stream",
     "text": [
      "Epoch [483/1000], Average Loss: 6.4236\n"
     ]
    },
    {
     "name": "stderr",
     "output_type": "stream",
     "text": [
      "Epoch 484/1000: 100%|██████████| 74/74 [00:01<00:00, 65.77batch/s, loss=2.42]\n"
     ]
    },
    {
     "name": "stdout",
     "output_type": "stream",
     "text": [
      "Epoch [484/1000], Average Loss: 6.4187\n"
     ]
    },
    {
     "name": "stderr",
     "output_type": "stream",
     "text": [
      "Epoch 485/1000: 100%|██████████| 74/74 [00:01<00:00, 61.77batch/s, loss=2.42]\n"
     ]
    },
    {
     "name": "stdout",
     "output_type": "stream",
     "text": [
      "Epoch [485/1000], Average Loss: 6.4209\n"
     ]
    },
    {
     "name": "stderr",
     "output_type": "stream",
     "text": [
      "Epoch 486/1000: 100%|██████████| 74/74 [00:01<00:00, 68.95batch/s, loss=2.43]\n"
     ]
    },
    {
     "name": "stdout",
     "output_type": "stream",
     "text": [
      "Epoch [486/1000], Average Loss: 6.4198\n"
     ]
    },
    {
     "name": "stderr",
     "output_type": "stream",
     "text": [
      "Epoch 487/1000: 100%|██████████| 74/74 [00:01<00:00, 69.29batch/s, loss=2.42]\n"
     ]
    },
    {
     "name": "stdout",
     "output_type": "stream",
     "text": [
      "Epoch [487/1000], Average Loss: 6.4153\n"
     ]
    },
    {
     "name": "stderr",
     "output_type": "stream",
     "text": [
      "Epoch 488/1000: 100%|██████████| 74/74 [00:01<00:00, 67.28batch/s, loss=2.41]\n"
     ]
    },
    {
     "name": "stdout",
     "output_type": "stream",
     "text": [
      "Epoch [488/1000], Average Loss: 6.4169\n"
     ]
    },
    {
     "name": "stderr",
     "output_type": "stream",
     "text": [
      "Epoch 489/1000: 100%|██████████| 74/74 [00:01<00:00, 68.10batch/s, loss=2.4] \n"
     ]
    },
    {
     "name": "stdout",
     "output_type": "stream",
     "text": [
      "Epoch [489/1000], Average Loss: 6.4155\n"
     ]
    },
    {
     "name": "stderr",
     "output_type": "stream",
     "text": [
      "Epoch 490/1000: 100%|██████████| 74/74 [00:01<00:00, 65.59batch/s, loss=2.4] \n"
     ]
    },
    {
     "name": "stdout",
     "output_type": "stream",
     "text": [
      "Epoch [490/1000], Average Loss: 6.4167\n"
     ]
    },
    {
     "name": "stderr",
     "output_type": "stream",
     "text": [
      "Epoch 491/1000: 100%|██████████| 74/74 [00:01<00:00, 68.45batch/s, loss=2.4] \n"
     ]
    },
    {
     "name": "stdout",
     "output_type": "stream",
     "text": [
      "Epoch [491/1000], Average Loss: 6.4153\n"
     ]
    },
    {
     "name": "stderr",
     "output_type": "stream",
     "text": [
      "Epoch 492/1000: 100%|██████████| 74/74 [00:01<00:00, 71.75batch/s, loss=2.39]\n"
     ]
    },
    {
     "name": "stdout",
     "output_type": "stream",
     "text": [
      "Epoch [492/1000], Average Loss: 6.4160\n"
     ]
    },
    {
     "name": "stderr",
     "output_type": "stream",
     "text": [
      "Epoch 493/1000: 100%|██████████| 74/74 [00:01<00:00, 69.07batch/s, loss=2.42]\n"
     ]
    },
    {
     "name": "stdout",
     "output_type": "stream",
     "text": [
      "Epoch [493/1000], Average Loss: 6.4193\n"
     ]
    },
    {
     "name": "stderr",
     "output_type": "stream",
     "text": [
      "Epoch 494/1000: 100%|██████████| 74/74 [00:01<00:00, 69.62batch/s, loss=2.45]\n"
     ]
    },
    {
     "name": "stdout",
     "output_type": "stream",
     "text": [
      "Epoch [494/1000], Average Loss: 6.4173\n"
     ]
    },
    {
     "name": "stderr",
     "output_type": "stream",
     "text": [
      "Epoch 495/1000: 100%|██████████| 74/74 [00:01<00:00, 53.35batch/s, loss=2.41]\n"
     ]
    },
    {
     "name": "stdout",
     "output_type": "stream",
     "text": [
      "Epoch [495/1000], Average Loss: 6.4176\n"
     ]
    },
    {
     "name": "stderr",
     "output_type": "stream",
     "text": [
      "Epoch 496/1000: 100%|██████████| 74/74 [00:01<00:00, 62.64batch/s, loss=2.41]\n"
     ]
    },
    {
     "name": "stdout",
     "output_type": "stream",
     "text": [
      "Epoch [496/1000], Average Loss: 6.4149\n"
     ]
    },
    {
     "name": "stderr",
     "output_type": "stream",
     "text": [
      "Epoch 497/1000: 100%|██████████| 74/74 [00:01<00:00, 56.64batch/s, loss=2.42]\n"
     ]
    },
    {
     "name": "stdout",
     "output_type": "stream",
     "text": [
      "Epoch [497/1000], Average Loss: 6.4173\n"
     ]
    },
    {
     "name": "stderr",
     "output_type": "stream",
     "text": [
      "Epoch 498/1000: 100%|██████████| 74/74 [00:01<00:00, 72.39batch/s, loss=2.42]\n"
     ]
    },
    {
     "name": "stdout",
     "output_type": "stream",
     "text": [
      "Epoch [498/1000], Average Loss: 6.4201\n"
     ]
    },
    {
     "name": "stderr",
     "output_type": "stream",
     "text": [
      "Epoch 499/1000: 100%|██████████| 74/74 [00:01<00:00, 73.51batch/s, loss=2.44]\n"
     ]
    },
    {
     "name": "stdout",
     "output_type": "stream",
     "text": [
      "Epoch [499/1000], Average Loss: 6.4239\n"
     ]
    },
    {
     "name": "stderr",
     "output_type": "stream",
     "text": [
      "Epoch 500/1000: 100%|██████████| 74/74 [00:01<00:00, 60.41batch/s, loss=2.4] \n"
     ]
    },
    {
     "name": "stdout",
     "output_type": "stream",
     "text": [
      "Epoch [500/1000], Average Loss: 6.4312\n"
     ]
    },
    {
     "name": "stderr",
     "output_type": "stream",
     "text": [
      "Epoch 501/1000: 100%|██████████| 74/74 [00:01<00:00, 69.21batch/s, loss=2.41]\n"
     ]
    },
    {
     "name": "stdout",
     "output_type": "stream",
     "text": [
      "Epoch [501/1000], Average Loss: 6.4241\n"
     ]
    },
    {
     "name": "stderr",
     "output_type": "stream",
     "text": [
      "Epoch 502/1000: 100%|██████████| 74/74 [00:01<00:00, 50.42batch/s, loss=2.4] \n"
     ]
    },
    {
     "name": "stdout",
     "output_type": "stream",
     "text": [
      "Epoch [502/1000], Average Loss: 6.4214\n"
     ]
    },
    {
     "name": "stderr",
     "output_type": "stream",
     "text": [
      "Epoch 503/1000: 100%|██████████| 74/74 [00:01<00:00, 58.31batch/s, loss=2.4] \n"
     ]
    },
    {
     "name": "stdout",
     "output_type": "stream",
     "text": [
      "Epoch [503/1000], Average Loss: 6.4176\n"
     ]
    },
    {
     "name": "stderr",
     "output_type": "stream",
     "text": [
      "Epoch 504/1000: 100%|██████████| 74/74 [00:01<00:00, 70.72batch/s, loss=2.4] \n"
     ]
    },
    {
     "name": "stdout",
     "output_type": "stream",
     "text": [
      "Epoch [504/1000], Average Loss: 6.4144\n"
     ]
    },
    {
     "name": "stderr",
     "output_type": "stream",
     "text": [
      "Epoch 505/1000: 100%|██████████| 74/74 [00:01<00:00, 54.66batch/s, loss=2.4] \n"
     ]
    },
    {
     "name": "stdout",
     "output_type": "stream",
     "text": [
      "Epoch [505/1000], Average Loss: 6.4116\n"
     ]
    },
    {
     "name": "stderr",
     "output_type": "stream",
     "text": [
      "Epoch 506/1000: 100%|██████████| 74/74 [00:01<00:00, 68.29batch/s, loss=2.46]\n"
     ]
    },
    {
     "name": "stdout",
     "output_type": "stream",
     "text": [
      "Epoch [506/1000], Average Loss: 6.4158\n"
     ]
    },
    {
     "name": "stderr",
     "output_type": "stream",
     "text": [
      "Epoch 507/1000: 100%|██████████| 74/74 [00:01<00:00, 62.29batch/s, loss=2.41]\n"
     ]
    },
    {
     "name": "stdout",
     "output_type": "stream",
     "text": [
      "Epoch [507/1000], Average Loss: 6.4167\n"
     ]
    },
    {
     "name": "stderr",
     "output_type": "stream",
     "text": [
      "Epoch 508/1000: 100%|██████████| 74/74 [00:01<00:00, 65.03batch/s, loss=2.41]\n"
     ]
    },
    {
     "name": "stdout",
     "output_type": "stream",
     "text": [
      "Epoch [508/1000], Average Loss: 6.4161\n"
     ]
    },
    {
     "name": "stderr",
     "output_type": "stream",
     "text": [
      "Epoch 509/1000: 100%|██████████| 74/74 [00:01<00:00, 58.01batch/s, loss=2.42]\n"
     ]
    },
    {
     "name": "stdout",
     "output_type": "stream",
     "text": [
      "Epoch [509/1000], Average Loss: 6.4153\n"
     ]
    },
    {
     "name": "stderr",
     "output_type": "stream",
     "text": [
      "Epoch 510/1000: 100%|██████████| 74/74 [00:01<00:00, 63.27batch/s, loss=2.42]\n"
     ]
    },
    {
     "name": "stdout",
     "output_type": "stream",
     "text": [
      "Epoch [510/1000], Average Loss: 6.4154\n"
     ]
    },
    {
     "name": "stderr",
     "output_type": "stream",
     "text": [
      "Epoch 511/1000: 100%|██████████| 74/74 [00:01<00:00, 64.43batch/s, loss=2.46]\n"
     ]
    },
    {
     "name": "stdout",
     "output_type": "stream",
     "text": [
      "Epoch [511/1000], Average Loss: 6.4152\n"
     ]
    },
    {
     "name": "stderr",
     "output_type": "stream",
     "text": [
      "Epoch 512/1000: 100%|██████████| 74/74 [00:01<00:00, 60.83batch/s, loss=2.43]\n"
     ]
    },
    {
     "name": "stdout",
     "output_type": "stream",
     "text": [
      "Epoch [512/1000], Average Loss: 6.4137\n"
     ]
    },
    {
     "name": "stderr",
     "output_type": "stream",
     "text": [
      "Epoch 513/1000: 100%|██████████| 74/74 [00:01<00:00, 57.32batch/s, loss=2.41]\n"
     ]
    },
    {
     "name": "stdout",
     "output_type": "stream",
     "text": [
      "Epoch [513/1000], Average Loss: 6.4100\n"
     ]
    },
    {
     "name": "stderr",
     "output_type": "stream",
     "text": [
      "Epoch 514/1000: 100%|██████████| 74/74 [00:01<00:00, 65.84batch/s, loss=2.39]\n"
     ]
    },
    {
     "name": "stdout",
     "output_type": "stream",
     "text": [
      "Epoch [514/1000], Average Loss: 6.4095\n"
     ]
    },
    {
     "name": "stderr",
     "output_type": "stream",
     "text": [
      "Epoch 515/1000: 100%|██████████| 74/74 [00:01<00:00, 66.15batch/s, loss=2.4] \n"
     ]
    },
    {
     "name": "stdout",
     "output_type": "stream",
     "text": [
      "Epoch [515/1000], Average Loss: 6.4133\n"
     ]
    },
    {
     "name": "stderr",
     "output_type": "stream",
     "text": [
      "Epoch 516/1000: 100%|██████████| 74/74 [00:01<00:00, 59.98batch/s, loss=2.41]\n"
     ]
    },
    {
     "name": "stdout",
     "output_type": "stream",
     "text": [
      "Epoch [516/1000], Average Loss: 6.4108\n"
     ]
    },
    {
     "name": "stderr",
     "output_type": "stream",
     "text": [
      "Epoch 517/1000: 100%|██████████| 74/74 [00:01<00:00, 51.87batch/s, loss=2.41]\n"
     ]
    },
    {
     "name": "stdout",
     "output_type": "stream",
     "text": [
      "Epoch [517/1000], Average Loss: 6.4110\n"
     ]
    },
    {
     "name": "stderr",
     "output_type": "stream",
     "text": [
      "Epoch 518/1000: 100%|██████████| 74/74 [00:01<00:00, 52.84batch/s, loss=2.4] \n"
     ]
    },
    {
     "name": "stdout",
     "output_type": "stream",
     "text": [
      "Epoch [518/1000], Average Loss: 6.4149\n"
     ]
    },
    {
     "name": "stderr",
     "output_type": "stream",
     "text": [
      "Epoch 519/1000: 100%|██████████| 74/74 [00:01<00:00, 60.39batch/s, loss=2.43]\n"
     ]
    },
    {
     "name": "stdout",
     "output_type": "stream",
     "text": [
      "Epoch [519/1000], Average Loss: 6.4164\n"
     ]
    },
    {
     "name": "stderr",
     "output_type": "stream",
     "text": [
      "Epoch 520/1000: 100%|██████████| 74/74 [00:00<00:00, 76.80batch/s, loss=2.43]\n"
     ]
    },
    {
     "name": "stdout",
     "output_type": "stream",
     "text": [
      "Epoch [520/1000], Average Loss: 6.4132\n"
     ]
    },
    {
     "name": "stderr",
     "output_type": "stream",
     "text": [
      "Epoch 521/1000: 100%|██████████| 74/74 [00:01<00:00, 71.42batch/s, loss=2.41]\n"
     ]
    },
    {
     "name": "stdout",
     "output_type": "stream",
     "text": [
      "Epoch [521/1000], Average Loss: 6.4124\n"
     ]
    },
    {
     "name": "stderr",
     "output_type": "stream",
     "text": [
      "Epoch 522/1000: 100%|██████████| 74/74 [00:01<00:00, 68.91batch/s, loss=2.4] \n"
     ]
    },
    {
     "name": "stdout",
     "output_type": "stream",
     "text": [
      "Epoch [522/1000], Average Loss: 6.4118\n"
     ]
    },
    {
     "name": "stderr",
     "output_type": "stream",
     "text": [
      "Epoch 523/1000: 100%|██████████| 74/74 [00:01<00:00, 70.80batch/s, loss=2.42]\n"
     ]
    },
    {
     "name": "stdout",
     "output_type": "stream",
     "text": [
      "Epoch [523/1000], Average Loss: 6.4123\n"
     ]
    },
    {
     "name": "stderr",
     "output_type": "stream",
     "text": [
      "Epoch 524/1000: 100%|██████████| 74/74 [00:01<00:00, 61.93batch/s, loss=2.41]\n"
     ]
    },
    {
     "name": "stdout",
     "output_type": "stream",
     "text": [
      "Epoch [524/1000], Average Loss: 6.4138\n"
     ]
    },
    {
     "name": "stderr",
     "output_type": "stream",
     "text": [
      "Epoch 525/1000: 100%|██████████| 74/74 [00:01<00:00, 69.20batch/s, loss=2.4] \n"
     ]
    },
    {
     "name": "stdout",
     "output_type": "stream",
     "text": [
      "Epoch [525/1000], Average Loss: 6.4099\n"
     ]
    },
    {
     "name": "stderr",
     "output_type": "stream",
     "text": [
      "Epoch 526/1000: 100%|██████████| 74/74 [00:01<00:00, 60.15batch/s, loss=2.4] \n"
     ]
    },
    {
     "name": "stdout",
     "output_type": "stream",
     "text": [
      "Epoch [526/1000], Average Loss: 6.4114\n"
     ]
    },
    {
     "name": "stderr",
     "output_type": "stream",
     "text": [
      "Epoch 527/1000: 100%|██████████| 74/74 [00:01<00:00, 61.00batch/s, loss=2.41]\n"
     ]
    },
    {
     "name": "stdout",
     "output_type": "stream",
     "text": [
      "Epoch [527/1000], Average Loss: 6.4076\n"
     ]
    },
    {
     "name": "stderr",
     "output_type": "stream",
     "text": [
      "Epoch 528/1000: 100%|██████████| 74/74 [00:01<00:00, 61.08batch/s, loss=2.4] \n"
     ]
    },
    {
     "name": "stdout",
     "output_type": "stream",
     "text": [
      "Epoch [528/1000], Average Loss: 6.4072\n"
     ]
    },
    {
     "name": "stderr",
     "output_type": "stream",
     "text": [
      "Epoch 529/1000: 100%|██████████| 74/74 [00:01<00:00, 67.49batch/s, loss=2.42]\n"
     ]
    },
    {
     "name": "stdout",
     "output_type": "stream",
     "text": [
      "Epoch [529/1000], Average Loss: 6.4117\n"
     ]
    },
    {
     "name": "stderr",
     "output_type": "stream",
     "text": [
      "Epoch 530/1000: 100%|██████████| 74/74 [00:01<00:00, 65.27batch/s, loss=2.4] \n"
     ]
    },
    {
     "name": "stdout",
     "output_type": "stream",
     "text": [
      "Epoch [530/1000], Average Loss: 6.4120\n"
     ]
    },
    {
     "name": "stderr",
     "output_type": "stream",
     "text": [
      "Epoch 531/1000: 100%|██████████| 74/74 [00:01<00:00, 63.33batch/s, loss=2.41]\n"
     ]
    },
    {
     "name": "stdout",
     "output_type": "stream",
     "text": [
      "Epoch [531/1000], Average Loss: 6.4151\n"
     ]
    },
    {
     "name": "stderr",
     "output_type": "stream",
     "text": [
      "Epoch 532/1000: 100%|██████████| 74/74 [00:01<00:00, 67.28batch/s, loss=2.44]\n"
     ]
    },
    {
     "name": "stdout",
     "output_type": "stream",
     "text": [
      "Epoch [532/1000], Average Loss: 6.4191\n"
     ]
    },
    {
     "name": "stderr",
     "output_type": "stream",
     "text": [
      "Epoch 533/1000: 100%|██████████| 74/74 [00:01<00:00, 63.89batch/s, loss=2.41]\n"
     ]
    },
    {
     "name": "stdout",
     "output_type": "stream",
     "text": [
      "Epoch [533/1000], Average Loss: 6.4141\n"
     ]
    },
    {
     "name": "stderr",
     "output_type": "stream",
     "text": [
      "Epoch 534/1000: 100%|██████████| 74/74 [00:01<00:00, 64.30batch/s, loss=2.4] \n"
     ]
    },
    {
     "name": "stdout",
     "output_type": "stream",
     "text": [
      "Epoch [534/1000], Average Loss: 6.4165\n"
     ]
    },
    {
     "name": "stderr",
     "output_type": "stream",
     "text": [
      "Epoch 535/1000: 100%|██████████| 74/74 [00:01<00:00, 62.39batch/s, loss=2.42]\n"
     ]
    },
    {
     "name": "stdout",
     "output_type": "stream",
     "text": [
      "Epoch [535/1000], Average Loss: 6.4140\n"
     ]
    },
    {
     "name": "stderr",
     "output_type": "stream",
     "text": [
      "Epoch 536/1000: 100%|██████████| 74/74 [00:01<00:00, 64.15batch/s, loss=2.43]\n"
     ]
    },
    {
     "name": "stdout",
     "output_type": "stream",
     "text": [
      "Epoch [536/1000], Average Loss: 6.4110\n"
     ]
    },
    {
     "name": "stderr",
     "output_type": "stream",
     "text": [
      "Epoch 537/1000: 100%|██████████| 74/74 [00:01<00:00, 69.00batch/s, loss=2.41]\n"
     ]
    },
    {
     "name": "stdout",
     "output_type": "stream",
     "text": [
      "Epoch [537/1000], Average Loss: 6.4059\n"
     ]
    },
    {
     "name": "stderr",
     "output_type": "stream",
     "text": [
      "Epoch 538/1000: 100%|██████████| 74/74 [00:01<00:00, 67.36batch/s, loss=2.39]\n"
     ]
    },
    {
     "name": "stdout",
     "output_type": "stream",
     "text": [
      "Epoch [538/1000], Average Loss: 6.4064\n"
     ]
    },
    {
     "name": "stderr",
     "output_type": "stream",
     "text": [
      "Epoch 539/1000: 100%|██████████| 74/74 [00:01<00:00, 65.54batch/s, loss=2.4] \n"
     ]
    },
    {
     "name": "stdout",
     "output_type": "stream",
     "text": [
      "Epoch [539/1000], Average Loss: 6.4065\n"
     ]
    },
    {
     "name": "stderr",
     "output_type": "stream",
     "text": [
      "Epoch 540/1000: 100%|██████████| 74/74 [00:01<00:00, 67.44batch/s, loss=2.43]\n"
     ]
    },
    {
     "name": "stdout",
     "output_type": "stream",
     "text": [
      "Epoch [540/1000], Average Loss: 6.4072\n"
     ]
    },
    {
     "name": "stderr",
     "output_type": "stream",
     "text": [
      "Epoch 541/1000: 100%|██████████| 74/74 [00:01<00:00, 69.09batch/s, loss=2.4] \n"
     ]
    },
    {
     "name": "stdout",
     "output_type": "stream",
     "text": [
      "Epoch [541/1000], Average Loss: 6.4112\n"
     ]
    },
    {
     "name": "stderr",
     "output_type": "stream",
     "text": [
      "Epoch 542/1000: 100%|██████████| 74/74 [00:01<00:00, 67.84batch/s, loss=2.42]\n"
     ]
    },
    {
     "name": "stdout",
     "output_type": "stream",
     "text": [
      "Epoch [542/1000], Average Loss: 6.4116\n"
     ]
    },
    {
     "name": "stderr",
     "output_type": "stream",
     "text": [
      "Epoch 543/1000: 100%|██████████| 74/74 [00:01<00:00, 62.47batch/s, loss=2.42]\n"
     ]
    },
    {
     "name": "stdout",
     "output_type": "stream",
     "text": [
      "Epoch [543/1000], Average Loss: 6.4130\n"
     ]
    },
    {
     "name": "stderr",
     "output_type": "stream",
     "text": [
      "Epoch 544/1000: 100%|██████████| 74/74 [00:01<00:00, 68.91batch/s, loss=2.42]\n"
     ]
    },
    {
     "name": "stdout",
     "output_type": "stream",
     "text": [
      "Epoch [544/1000], Average Loss: 6.4105\n"
     ]
    },
    {
     "name": "stderr",
     "output_type": "stream",
     "text": [
      "Epoch 545/1000: 100%|██████████| 74/74 [00:01<00:00, 66.07batch/s, loss=2.41]\n"
     ]
    },
    {
     "name": "stdout",
     "output_type": "stream",
     "text": [
      "Epoch [545/1000], Average Loss: 6.4111\n"
     ]
    },
    {
     "name": "stderr",
     "output_type": "stream",
     "text": [
      "Epoch 546/1000: 100%|██████████| 74/74 [00:01<00:00, 65.15batch/s, loss=2.41]\n"
     ]
    },
    {
     "name": "stdout",
     "output_type": "stream",
     "text": [
      "Epoch [546/1000], Average Loss: 6.4088\n"
     ]
    },
    {
     "name": "stderr",
     "output_type": "stream",
     "text": [
      "Epoch 547/1000: 100%|██████████| 74/74 [00:01<00:00, 61.46batch/s, loss=2.42]\n"
     ]
    },
    {
     "name": "stdout",
     "output_type": "stream",
     "text": [
      "Epoch [547/1000], Average Loss: 6.4026\n"
     ]
    },
    {
     "name": "stderr",
     "output_type": "stream",
     "text": [
      "Epoch 548/1000: 100%|██████████| 74/74 [00:01<00:00, 65.86batch/s, loss=2.4] \n"
     ]
    },
    {
     "name": "stdout",
     "output_type": "stream",
     "text": [
      "Epoch [548/1000], Average Loss: 6.4028\n"
     ]
    },
    {
     "name": "stderr",
     "output_type": "stream",
     "text": [
      "Epoch 549/1000: 100%|██████████| 74/74 [00:01<00:00, 67.70batch/s, loss=2.4] \n"
     ]
    },
    {
     "name": "stdout",
     "output_type": "stream",
     "text": [
      "Epoch [549/1000], Average Loss: 6.4041\n"
     ]
    },
    {
     "name": "stderr",
     "output_type": "stream",
     "text": [
      "Epoch 550/1000: 100%|██████████| 74/74 [00:01<00:00, 63.23batch/s, loss=2.4] \n"
     ]
    },
    {
     "name": "stdout",
     "output_type": "stream",
     "text": [
      "Epoch [550/1000], Average Loss: 6.4020\n"
     ]
    },
    {
     "name": "stderr",
     "output_type": "stream",
     "text": [
      "Epoch 551/1000: 100%|██████████| 74/74 [00:01<00:00, 61.17batch/s, loss=2.42]\n"
     ]
    },
    {
     "name": "stdout",
     "output_type": "stream",
     "text": [
      "Epoch [551/1000], Average Loss: 6.4051\n"
     ]
    },
    {
     "name": "stderr",
     "output_type": "stream",
     "text": [
      "Epoch 552/1000: 100%|██████████| 74/74 [00:01<00:00, 70.16batch/s, loss=2.42]\n"
     ]
    },
    {
     "name": "stdout",
     "output_type": "stream",
     "text": [
      "Epoch [552/1000], Average Loss: 6.4110\n"
     ]
    },
    {
     "name": "stderr",
     "output_type": "stream",
     "text": [
      "Epoch 553/1000: 100%|██████████| 74/74 [00:01<00:00, 67.79batch/s, loss=2.38]\n"
     ]
    },
    {
     "name": "stdout",
     "output_type": "stream",
     "text": [
      "Epoch [553/1000], Average Loss: 6.4117\n"
     ]
    },
    {
     "name": "stderr",
     "output_type": "stream",
     "text": [
      "Epoch 554/1000: 100%|██████████| 74/74 [00:01<00:00, 65.43batch/s, loss=2.4] \n"
     ]
    },
    {
     "name": "stdout",
     "output_type": "stream",
     "text": [
      "Epoch [554/1000], Average Loss: 6.4080\n"
     ]
    },
    {
     "name": "stderr",
     "output_type": "stream",
     "text": [
      "Epoch 555/1000: 100%|██████████| 74/74 [00:01<00:00, 57.96batch/s, loss=2.44]\n"
     ]
    },
    {
     "name": "stdout",
     "output_type": "stream",
     "text": [
      "Epoch [555/1000], Average Loss: 6.4087\n"
     ]
    },
    {
     "name": "stderr",
     "output_type": "stream",
     "text": [
      "Epoch 556/1000: 100%|██████████| 74/74 [00:01<00:00, 70.61batch/s, loss=2.41]\n"
     ]
    },
    {
     "name": "stdout",
     "output_type": "stream",
     "text": [
      "Epoch [556/1000], Average Loss: 6.4059\n"
     ]
    },
    {
     "name": "stderr",
     "output_type": "stream",
     "text": [
      "Epoch 557/1000: 100%|██████████| 74/74 [00:01<00:00, 68.49batch/s, loss=2.42]\n"
     ]
    },
    {
     "name": "stdout",
     "output_type": "stream",
     "text": [
      "Epoch [557/1000], Average Loss: 6.4045\n"
     ]
    },
    {
     "name": "stderr",
     "output_type": "stream",
     "text": [
      "Epoch 558/1000: 100%|██████████| 74/74 [00:01<00:00, 68.83batch/s, loss=2.4] \n"
     ]
    },
    {
     "name": "stdout",
     "output_type": "stream",
     "text": [
      "Epoch [558/1000], Average Loss: 6.4051\n"
     ]
    },
    {
     "name": "stderr",
     "output_type": "stream",
     "text": [
      "Epoch 559/1000: 100%|██████████| 74/74 [00:01<00:00, 66.55batch/s, loss=2.43]\n"
     ]
    },
    {
     "name": "stdout",
     "output_type": "stream",
     "text": [
      "Epoch [559/1000], Average Loss: 6.4072\n"
     ]
    },
    {
     "name": "stderr",
     "output_type": "stream",
     "text": [
      "Epoch 560/1000: 100%|██████████| 74/74 [00:01<00:00, 69.32batch/s, loss=2.41]\n"
     ]
    },
    {
     "name": "stdout",
     "output_type": "stream",
     "text": [
      "Epoch [560/1000], Average Loss: 6.4075\n"
     ]
    },
    {
     "name": "stderr",
     "output_type": "stream",
     "text": [
      "Epoch 561/1000: 100%|██████████| 74/74 [00:01<00:00, 65.27batch/s, loss=2.43]\n"
     ]
    },
    {
     "name": "stdout",
     "output_type": "stream",
     "text": [
      "Epoch [561/1000], Average Loss: 6.4071\n"
     ]
    },
    {
     "name": "stderr",
     "output_type": "stream",
     "text": [
      "Epoch 562/1000: 100%|██████████| 74/74 [00:01<00:00, 69.65batch/s, loss=2.42]\n"
     ]
    },
    {
     "name": "stdout",
     "output_type": "stream",
     "text": [
      "Epoch [562/1000], Average Loss: 6.4034\n"
     ]
    },
    {
     "name": "stderr",
     "output_type": "stream",
     "text": [
      "Epoch 563/1000: 100%|██████████| 74/74 [00:01<00:00, 62.13batch/s, loss=2.41]\n"
     ]
    },
    {
     "name": "stdout",
     "output_type": "stream",
     "text": [
      "Epoch [563/1000], Average Loss: 6.4025\n"
     ]
    },
    {
     "name": "stderr",
     "output_type": "stream",
     "text": [
      "Epoch 564/1000: 100%|██████████| 74/74 [00:01<00:00, 65.59batch/s, loss=2.39]\n"
     ]
    },
    {
     "name": "stdout",
     "output_type": "stream",
     "text": [
      "Epoch [564/1000], Average Loss: 6.4029\n"
     ]
    },
    {
     "name": "stderr",
     "output_type": "stream",
     "text": [
      "Epoch 565/1000: 100%|██████████| 74/74 [00:01<00:00, 65.71batch/s, loss=2.4] \n"
     ]
    },
    {
     "name": "stdout",
     "output_type": "stream",
     "text": [
      "Epoch [565/1000], Average Loss: 6.4011\n"
     ]
    },
    {
     "name": "stderr",
     "output_type": "stream",
     "text": [
      "Epoch 566/1000: 100%|██████████| 74/74 [00:01<00:00, 69.79batch/s, loss=2.41]\n"
     ]
    },
    {
     "name": "stdout",
     "output_type": "stream",
     "text": [
      "Epoch [566/1000], Average Loss: 6.4042\n"
     ]
    },
    {
     "name": "stderr",
     "output_type": "stream",
     "text": [
      "Epoch 567/1000: 100%|██████████| 74/74 [00:01<00:00, 68.77batch/s, loss=2.39]\n"
     ]
    },
    {
     "name": "stdout",
     "output_type": "stream",
     "text": [
      "Epoch [567/1000], Average Loss: 6.4062\n"
     ]
    },
    {
     "name": "stderr",
     "output_type": "stream",
     "text": [
      "Epoch 568/1000: 100%|██████████| 74/74 [00:01<00:00, 61.49batch/s, loss=2.44]\n"
     ]
    },
    {
     "name": "stdout",
     "output_type": "stream",
     "text": [
      "Epoch [568/1000], Average Loss: 6.4039\n"
     ]
    },
    {
     "name": "stderr",
     "output_type": "stream",
     "text": [
      "Epoch 569/1000: 100%|██████████| 74/74 [00:01<00:00, 58.78batch/s, loss=2.42]\n"
     ]
    },
    {
     "name": "stdout",
     "output_type": "stream",
     "text": [
      "Epoch [569/1000], Average Loss: 6.4030\n"
     ]
    },
    {
     "name": "stderr",
     "output_type": "stream",
     "text": [
      "Epoch 570/1000: 100%|██████████| 74/74 [00:01<00:00, 64.43batch/s, loss=2.42]\n"
     ]
    },
    {
     "name": "stdout",
     "output_type": "stream",
     "text": [
      "Epoch [570/1000], Average Loss: 6.4069\n"
     ]
    },
    {
     "name": "stderr",
     "output_type": "stream",
     "text": [
      "Epoch 571/1000: 100%|██████████| 74/74 [00:01<00:00, 63.02batch/s, loss=2.41]\n"
     ]
    },
    {
     "name": "stdout",
     "output_type": "stream",
     "text": [
      "Epoch [571/1000], Average Loss: 6.4056\n"
     ]
    },
    {
     "name": "stderr",
     "output_type": "stream",
     "text": [
      "Epoch 572/1000: 100%|██████████| 74/74 [00:01<00:00, 63.05batch/s, loss=2.43]\n"
     ]
    },
    {
     "name": "stdout",
     "output_type": "stream",
     "text": [
      "Epoch [572/1000], Average Loss: 6.4067\n"
     ]
    },
    {
     "name": "stderr",
     "output_type": "stream",
     "text": [
      "Epoch 573/1000: 100%|██████████| 74/74 [00:01<00:00, 63.38batch/s, loss=2.41]\n"
     ]
    },
    {
     "name": "stdout",
     "output_type": "stream",
     "text": [
      "Epoch [573/1000], Average Loss: 6.4039\n"
     ]
    },
    {
     "name": "stderr",
     "output_type": "stream",
     "text": [
      "Epoch 574/1000: 100%|██████████| 74/74 [00:01<00:00, 63.20batch/s, loss=2.47]\n"
     ]
    },
    {
     "name": "stdout",
     "output_type": "stream",
     "text": [
      "Epoch [574/1000], Average Loss: 6.4037\n"
     ]
    },
    {
     "name": "stderr",
     "output_type": "stream",
     "text": [
      "Epoch 575/1000: 100%|██████████| 74/74 [00:01<00:00, 63.78batch/s, loss=2.41]\n"
     ]
    },
    {
     "name": "stdout",
     "output_type": "stream",
     "text": [
      "Epoch [575/1000], Average Loss: 6.4019\n"
     ]
    },
    {
     "name": "stderr",
     "output_type": "stream",
     "text": [
      "Epoch 576/1000: 100%|██████████| 74/74 [00:01<00:00, 63.82batch/s, loss=2.4] \n"
     ]
    },
    {
     "name": "stdout",
     "output_type": "stream",
     "text": [
      "Epoch [576/1000], Average Loss: 6.4033\n"
     ]
    },
    {
     "name": "stderr",
     "output_type": "stream",
     "text": [
      "Epoch 577/1000: 100%|██████████| 74/74 [00:01<00:00, 64.49batch/s, loss=2.39]\n"
     ]
    },
    {
     "name": "stdout",
     "output_type": "stream",
     "text": [
      "Epoch [577/1000], Average Loss: 6.4024\n"
     ]
    },
    {
     "name": "stderr",
     "output_type": "stream",
     "text": [
      "Epoch 578/1000: 100%|██████████| 74/74 [00:01<00:00, 63.00batch/s, loss=2.42]\n"
     ]
    },
    {
     "name": "stdout",
     "output_type": "stream",
     "text": [
      "Epoch [578/1000], Average Loss: 6.4044\n"
     ]
    },
    {
     "name": "stderr",
     "output_type": "stream",
     "text": [
      "Epoch 579/1000: 100%|██████████| 74/74 [00:01<00:00, 59.78batch/s, loss=2.39]\n"
     ]
    },
    {
     "name": "stdout",
     "output_type": "stream",
     "text": [
      "Epoch [579/1000], Average Loss: 6.4027\n"
     ]
    },
    {
     "name": "stderr",
     "output_type": "stream",
     "text": [
      "Epoch 580/1000: 100%|██████████| 74/74 [00:01<00:00, 64.86batch/s, loss=2.41]\n"
     ]
    },
    {
     "name": "stdout",
     "output_type": "stream",
     "text": [
      "Epoch [580/1000], Average Loss: 6.4023\n"
     ]
    },
    {
     "name": "stderr",
     "output_type": "stream",
     "text": [
      "Epoch 581/1000: 100%|██████████| 74/74 [00:01<00:00, 61.45batch/s, loss=2.42]\n"
     ]
    },
    {
     "name": "stdout",
     "output_type": "stream",
     "text": [
      "Epoch [581/1000], Average Loss: 6.4011\n"
     ]
    },
    {
     "name": "stderr",
     "output_type": "stream",
     "text": [
      "Epoch 582/1000: 100%|██████████| 74/74 [00:01<00:00, 65.01batch/s, loss=2.41]\n"
     ]
    },
    {
     "name": "stdout",
     "output_type": "stream",
     "text": [
      "Epoch [582/1000], Average Loss: 6.4036\n"
     ]
    },
    {
     "name": "stderr",
     "output_type": "stream",
     "text": [
      "Epoch 583/1000: 100%|██████████| 74/74 [00:01<00:00, 58.09batch/s, loss=2.41]\n"
     ]
    },
    {
     "name": "stdout",
     "output_type": "stream",
     "text": [
      "Epoch [583/1000], Average Loss: 6.4031\n"
     ]
    },
    {
     "name": "stderr",
     "output_type": "stream",
     "text": [
      "Epoch 584/1000: 100%|██████████| 74/74 [00:01<00:00, 66.93batch/s, loss=2.41]\n"
     ]
    },
    {
     "name": "stdout",
     "output_type": "stream",
     "text": [
      "Epoch [584/1000], Average Loss: 6.4045\n"
     ]
    },
    {
     "name": "stderr",
     "output_type": "stream",
     "text": [
      "Epoch 585/1000: 100%|██████████| 74/74 [00:01<00:00, 68.07batch/s, loss=2.39]\n"
     ]
    },
    {
     "name": "stdout",
     "output_type": "stream",
     "text": [
      "Epoch [585/1000], Average Loss: 6.4029\n"
     ]
    },
    {
     "name": "stderr",
     "output_type": "stream",
     "text": [
      "Epoch 586/1000: 100%|██████████| 74/74 [00:01<00:00, 66.04batch/s, loss=2.41]\n"
     ]
    },
    {
     "name": "stdout",
     "output_type": "stream",
     "text": [
      "Epoch [586/1000], Average Loss: 6.4047\n"
     ]
    },
    {
     "name": "stderr",
     "output_type": "stream",
     "text": [
      "Epoch 587/1000: 100%|██████████| 74/74 [00:01<00:00, 59.80batch/s, loss=2.4] \n"
     ]
    },
    {
     "name": "stdout",
     "output_type": "stream",
     "text": [
      "Epoch [587/1000], Average Loss: 6.4014\n"
     ]
    },
    {
     "name": "stderr",
     "output_type": "stream",
     "text": [
      "Epoch 588/1000: 100%|██████████| 74/74 [00:01<00:00, 63.84batch/s, loss=2.4] \n"
     ]
    },
    {
     "name": "stdout",
     "output_type": "stream",
     "text": [
      "Epoch [588/1000], Average Loss: 6.4032\n"
     ]
    },
    {
     "name": "stderr",
     "output_type": "stream",
     "text": [
      "Epoch 589/1000: 100%|██████████| 74/74 [00:01<00:00, 67.48batch/s, loss=2.41]\n"
     ]
    },
    {
     "name": "stdout",
     "output_type": "stream",
     "text": [
      "Epoch [589/1000], Average Loss: 6.4009\n"
     ]
    },
    {
     "name": "stderr",
     "output_type": "stream",
     "text": [
      "Epoch 590/1000: 100%|██████████| 74/74 [00:01<00:00, 64.69batch/s, loss=2.42]\n"
     ]
    },
    {
     "name": "stdout",
     "output_type": "stream",
     "text": [
      "Epoch [590/1000], Average Loss: 6.4001\n"
     ]
    },
    {
     "name": "stderr",
     "output_type": "stream",
     "text": [
      "Epoch 591/1000: 100%|██████████| 74/74 [00:01<00:00, 61.79batch/s, loss=2.42]\n"
     ]
    },
    {
     "name": "stdout",
     "output_type": "stream",
     "text": [
      "Epoch [591/1000], Average Loss: 6.4011\n"
     ]
    },
    {
     "name": "stderr",
     "output_type": "stream",
     "text": [
      "Epoch 592/1000: 100%|██████████| 74/74 [00:01<00:00, 65.02batch/s, loss=2.41]\n"
     ]
    },
    {
     "name": "stdout",
     "output_type": "stream",
     "text": [
      "Epoch [592/1000], Average Loss: 6.4006\n"
     ]
    },
    {
     "name": "stderr",
     "output_type": "stream",
     "text": [
      "Epoch 593/1000: 100%|██████████| 74/74 [00:01<00:00, 66.69batch/s, loss=2.42]\n"
     ]
    },
    {
     "name": "stdout",
     "output_type": "stream",
     "text": [
      "Epoch [593/1000], Average Loss: 6.4026\n"
     ]
    },
    {
     "name": "stderr",
     "output_type": "stream",
     "text": [
      "Epoch 594/1000: 100%|██████████| 74/74 [00:01<00:00, 68.08batch/s, loss=2.41]\n"
     ]
    },
    {
     "name": "stdout",
     "output_type": "stream",
     "text": [
      "Epoch [594/1000], Average Loss: 6.4005\n"
     ]
    },
    {
     "name": "stderr",
     "output_type": "stream",
     "text": [
      "Epoch 595/1000: 100%|██████████| 74/74 [00:01<00:00, 58.87batch/s, loss=2.47]\n"
     ]
    },
    {
     "name": "stdout",
     "output_type": "stream",
     "text": [
      "Epoch [595/1000], Average Loss: 6.3968\n"
     ]
    },
    {
     "name": "stderr",
     "output_type": "stream",
     "text": [
      "Epoch 596/1000: 100%|██████████| 74/74 [00:01<00:00, 63.70batch/s, loss=2.39]\n"
     ]
    },
    {
     "name": "stdout",
     "output_type": "stream",
     "text": [
      "Epoch [596/1000], Average Loss: 6.3975\n"
     ]
    },
    {
     "name": "stderr",
     "output_type": "stream",
     "text": [
      "Epoch 597/1000: 100%|██████████| 74/74 [00:01<00:00, 68.30batch/s, loss=2.41]\n"
     ]
    },
    {
     "name": "stdout",
     "output_type": "stream",
     "text": [
      "Epoch [597/1000], Average Loss: 6.3977\n"
     ]
    },
    {
     "name": "stderr",
     "output_type": "stream",
     "text": [
      "Epoch 598/1000: 100%|██████████| 74/74 [00:01<00:00, 65.52batch/s, loss=2.39]\n"
     ]
    },
    {
     "name": "stdout",
     "output_type": "stream",
     "text": [
      "Epoch [598/1000], Average Loss: 6.3973\n"
     ]
    },
    {
     "name": "stderr",
     "output_type": "stream",
     "text": [
      "Epoch 599/1000: 100%|██████████| 74/74 [00:01<00:00, 69.39batch/s, loss=2.41]\n"
     ]
    },
    {
     "name": "stdout",
     "output_type": "stream",
     "text": [
      "Epoch [599/1000], Average Loss: 6.3986\n"
     ]
    },
    {
     "name": "stderr",
     "output_type": "stream",
     "text": [
      "Epoch 600/1000: 100%|██████████| 74/74 [00:01<00:00, 58.16batch/s, loss=2.41]\n"
     ]
    },
    {
     "name": "stdout",
     "output_type": "stream",
     "text": [
      "Epoch [600/1000], Average Loss: 6.4024\n"
     ]
    },
    {
     "name": "stderr",
     "output_type": "stream",
     "text": [
      "Epoch 601/1000: 100%|██████████| 74/74 [00:01<00:00, 67.91batch/s, loss=2.4] \n"
     ]
    },
    {
     "name": "stdout",
     "output_type": "stream",
     "text": [
      "Epoch [601/1000], Average Loss: 6.3965\n"
     ]
    },
    {
     "name": "stderr",
     "output_type": "stream",
     "text": [
      "Epoch 602/1000: 100%|██████████| 74/74 [00:01<00:00, 63.83batch/s, loss=2.41]\n"
     ]
    },
    {
     "name": "stdout",
     "output_type": "stream",
     "text": [
      "Epoch [602/1000], Average Loss: 6.3999\n"
     ]
    },
    {
     "name": "stderr",
     "output_type": "stream",
     "text": [
      "Epoch 603/1000: 100%|██████████| 74/74 [00:01<00:00, 61.29batch/s, loss=2.42]\n"
     ]
    },
    {
     "name": "stdout",
     "output_type": "stream",
     "text": [
      "Epoch [603/1000], Average Loss: 6.3970\n"
     ]
    },
    {
     "name": "stderr",
     "output_type": "stream",
     "text": [
      "Epoch 604/1000: 100%|██████████| 74/74 [00:01<00:00, 65.52batch/s, loss=2.41]\n"
     ]
    },
    {
     "name": "stdout",
     "output_type": "stream",
     "text": [
      "Epoch [604/1000], Average Loss: 6.3989\n"
     ]
    },
    {
     "name": "stderr",
     "output_type": "stream",
     "text": [
      "Epoch 605/1000: 100%|██████████| 74/74 [00:01<00:00, 67.31batch/s, loss=2.42]\n"
     ]
    },
    {
     "name": "stdout",
     "output_type": "stream",
     "text": [
      "Epoch [605/1000], Average Loss: 6.3939\n"
     ]
    },
    {
     "name": "stderr",
     "output_type": "stream",
     "text": [
      "Epoch 606/1000: 100%|██████████| 74/74 [00:01<00:00, 66.94batch/s, loss=2.4] \n"
     ]
    },
    {
     "name": "stdout",
     "output_type": "stream",
     "text": [
      "Epoch [606/1000], Average Loss: 6.3994\n"
     ]
    },
    {
     "name": "stderr",
     "output_type": "stream",
     "text": [
      "Epoch 607/1000: 100%|██████████| 74/74 [00:01<00:00, 67.44batch/s, loss=2.41]\n"
     ]
    },
    {
     "name": "stdout",
     "output_type": "stream",
     "text": [
      "Epoch [607/1000], Average Loss: 6.4008\n"
     ]
    },
    {
     "name": "stderr",
     "output_type": "stream",
     "text": [
      "Epoch 608/1000: 100%|██████████| 74/74 [00:01<00:00, 62.92batch/s, loss=2.39]\n"
     ]
    },
    {
     "name": "stdout",
     "output_type": "stream",
     "text": [
      "Epoch [608/1000], Average Loss: 6.4008\n"
     ]
    },
    {
     "name": "stderr",
     "output_type": "stream",
     "text": [
      "Epoch 609/1000: 100%|██████████| 74/74 [00:01<00:00, 68.41batch/s, loss=2.4] \n"
     ]
    },
    {
     "name": "stdout",
     "output_type": "stream",
     "text": [
      "Epoch [609/1000], Average Loss: 6.3971\n"
     ]
    },
    {
     "name": "stderr",
     "output_type": "stream",
     "text": [
      "Epoch 610/1000: 100%|██████████| 74/74 [00:01<00:00, 66.49batch/s, loss=2.39]\n"
     ]
    },
    {
     "name": "stdout",
     "output_type": "stream",
     "text": [
      "Epoch [610/1000], Average Loss: 6.3986\n"
     ]
    },
    {
     "name": "stderr",
     "output_type": "stream",
     "text": [
      "Epoch 611/1000: 100%|██████████| 74/74 [00:01<00:00, 58.61batch/s, loss=2.41]\n"
     ]
    },
    {
     "name": "stdout",
     "output_type": "stream",
     "text": [
      "Epoch [611/1000], Average Loss: 6.3993\n"
     ]
    },
    {
     "name": "stderr",
     "output_type": "stream",
     "text": [
      "Epoch 612/1000: 100%|██████████| 74/74 [00:01<00:00, 62.25batch/s, loss=2.41]\n"
     ]
    },
    {
     "name": "stdout",
     "output_type": "stream",
     "text": [
      "Epoch [612/1000], Average Loss: 6.3970\n"
     ]
    },
    {
     "name": "stderr",
     "output_type": "stream",
     "text": [
      "Epoch 613/1000: 100%|██████████| 74/74 [00:01<00:00, 63.57batch/s, loss=2.42]\n"
     ]
    },
    {
     "name": "stdout",
     "output_type": "stream",
     "text": [
      "Epoch [613/1000], Average Loss: 6.3981\n"
     ]
    },
    {
     "name": "stderr",
     "output_type": "stream",
     "text": [
      "Epoch 614/1000: 100%|██████████| 74/74 [00:01<00:00, 62.47batch/s, loss=2.4] \n"
     ]
    },
    {
     "name": "stdout",
     "output_type": "stream",
     "text": [
      "Epoch [614/1000], Average Loss: 6.3945\n"
     ]
    },
    {
     "name": "stderr",
     "output_type": "stream",
     "text": [
      "Epoch 615/1000: 100%|██████████| 74/74 [00:01<00:00, 64.54batch/s, loss=2.43]\n"
     ]
    },
    {
     "name": "stdout",
     "output_type": "stream",
     "text": [
      "Epoch [615/1000], Average Loss: 6.3953\n"
     ]
    },
    {
     "name": "stderr",
     "output_type": "stream",
     "text": [
      "Epoch 616/1000: 100%|██████████| 74/74 [00:01<00:00, 61.45batch/s, loss=2.39]\n"
     ]
    },
    {
     "name": "stdout",
     "output_type": "stream",
     "text": [
      "Epoch [616/1000], Average Loss: 6.3937\n"
     ]
    },
    {
     "name": "stderr",
     "output_type": "stream",
     "text": [
      "Epoch 617/1000: 100%|██████████| 74/74 [00:01<00:00, 61.08batch/s, loss=2.4] \n"
     ]
    },
    {
     "name": "stdout",
     "output_type": "stream",
     "text": [
      "Epoch [617/1000], Average Loss: 6.3922\n"
     ]
    },
    {
     "name": "stderr",
     "output_type": "stream",
     "text": [
      "Epoch 618/1000: 100%|██████████| 74/74 [00:01<00:00, 55.65batch/s, loss=2.4] \n"
     ]
    },
    {
     "name": "stdout",
     "output_type": "stream",
     "text": [
      "Epoch [618/1000], Average Loss: 6.3945\n"
     ]
    },
    {
     "name": "stderr",
     "output_type": "stream",
     "text": [
      "Epoch 619/1000: 100%|██████████| 74/74 [00:01<00:00, 67.03batch/s, loss=2.4] \n"
     ]
    },
    {
     "name": "stdout",
     "output_type": "stream",
     "text": [
      "Epoch [619/1000], Average Loss: 6.3939\n"
     ]
    },
    {
     "name": "stderr",
     "output_type": "stream",
     "text": [
      "Epoch 620/1000: 100%|██████████| 74/74 [00:01<00:00, 58.48batch/s, loss=2.41]\n"
     ]
    },
    {
     "name": "stdout",
     "output_type": "stream",
     "text": [
      "Epoch [620/1000], Average Loss: 6.3970\n"
     ]
    },
    {
     "name": "stderr",
     "output_type": "stream",
     "text": [
      "Epoch 621/1000: 100%|██████████| 74/74 [00:01<00:00, 55.33batch/s, loss=2.39]\n"
     ]
    },
    {
     "name": "stdout",
     "output_type": "stream",
     "text": [
      "Epoch [621/1000], Average Loss: 6.3959\n"
     ]
    },
    {
     "name": "stderr",
     "output_type": "stream",
     "text": [
      "Epoch 622/1000: 100%|██████████| 74/74 [00:01<00:00, 62.27batch/s, loss=2.43]\n"
     ]
    },
    {
     "name": "stdout",
     "output_type": "stream",
     "text": [
      "Epoch [622/1000], Average Loss: 6.3952\n"
     ]
    },
    {
     "name": "stderr",
     "output_type": "stream",
     "text": [
      "Epoch 623/1000: 100%|██████████| 74/74 [00:01<00:00, 69.91batch/s, loss=2.42]\n"
     ]
    },
    {
     "name": "stdout",
     "output_type": "stream",
     "text": [
      "Epoch [623/1000], Average Loss: 6.3973\n"
     ]
    },
    {
     "name": "stderr",
     "output_type": "stream",
     "text": [
      "Epoch 624/1000: 100%|██████████| 74/74 [00:01<00:00, 63.06batch/s, loss=2.42]\n"
     ]
    },
    {
     "name": "stdout",
     "output_type": "stream",
     "text": [
      "Epoch [624/1000], Average Loss: 6.3948\n"
     ]
    },
    {
     "name": "stderr",
     "output_type": "stream",
     "text": [
      "Epoch 625/1000: 100%|██████████| 74/74 [00:01<00:00, 56.86batch/s, loss=2.41]\n"
     ]
    },
    {
     "name": "stdout",
     "output_type": "stream",
     "text": [
      "Epoch [625/1000], Average Loss: 6.3948\n"
     ]
    },
    {
     "name": "stderr",
     "output_type": "stream",
     "text": [
      "Epoch 626/1000: 100%|██████████| 74/74 [00:01<00:00, 66.56batch/s, loss=2.39]\n"
     ]
    },
    {
     "name": "stdout",
     "output_type": "stream",
     "text": [
      "Epoch [626/1000], Average Loss: 6.3917\n"
     ]
    },
    {
     "name": "stderr",
     "output_type": "stream",
     "text": [
      "Epoch 627/1000: 100%|██████████| 74/74 [00:01<00:00, 62.45batch/s, loss=2.42]\n"
     ]
    },
    {
     "name": "stdout",
     "output_type": "stream",
     "text": [
      "Epoch [627/1000], Average Loss: 6.3951\n"
     ]
    },
    {
     "name": "stderr",
     "output_type": "stream",
     "text": [
      "Epoch 628/1000: 100%|██████████| 74/74 [00:01<00:00, 67.49batch/s, loss=2.41]\n"
     ]
    },
    {
     "name": "stdout",
     "output_type": "stream",
     "text": [
      "Epoch [628/1000], Average Loss: 6.3938\n"
     ]
    },
    {
     "name": "stderr",
     "output_type": "stream",
     "text": [
      "Epoch 629/1000: 100%|██████████| 74/74 [00:01<00:00, 62.40batch/s, loss=2.4] \n"
     ]
    },
    {
     "name": "stdout",
     "output_type": "stream",
     "text": [
      "Epoch [629/1000], Average Loss: 6.3937\n"
     ]
    },
    {
     "name": "stderr",
     "output_type": "stream",
     "text": [
      "Epoch 630/1000: 100%|██████████| 74/74 [00:01<00:00, 62.92batch/s, loss=2.4] \n"
     ]
    },
    {
     "name": "stdout",
     "output_type": "stream",
     "text": [
      "Epoch [630/1000], Average Loss: 6.3938\n"
     ]
    },
    {
     "name": "stderr",
     "output_type": "stream",
     "text": [
      "Epoch 631/1000: 100%|██████████| 74/74 [00:01<00:00, 60.33batch/s, loss=2.39]\n"
     ]
    },
    {
     "name": "stdout",
     "output_type": "stream",
     "text": [
      "Epoch [631/1000], Average Loss: 6.3940\n"
     ]
    },
    {
     "name": "stderr",
     "output_type": "stream",
     "text": [
      "Epoch 632/1000: 100%|██████████| 74/74 [00:01<00:00, 66.17batch/s, loss=2.4] \n"
     ]
    },
    {
     "name": "stdout",
     "output_type": "stream",
     "text": [
      "Epoch [632/1000], Average Loss: 6.3933\n"
     ]
    },
    {
     "name": "stderr",
     "output_type": "stream",
     "text": [
      "Epoch 633/1000: 100%|██████████| 74/74 [00:01<00:00, 61.79batch/s, loss=2.42]\n"
     ]
    },
    {
     "name": "stdout",
     "output_type": "stream",
     "text": [
      "Epoch [633/1000], Average Loss: 6.3936\n"
     ]
    },
    {
     "name": "stderr",
     "output_type": "stream",
     "text": [
      "Epoch 634/1000: 100%|██████████| 74/74 [00:01<00:00, 63.01batch/s, loss=2.42]\n"
     ]
    },
    {
     "name": "stdout",
     "output_type": "stream",
     "text": [
      "Epoch [634/1000], Average Loss: 6.3941\n"
     ]
    },
    {
     "name": "stderr",
     "output_type": "stream",
     "text": [
      "Epoch 635/1000: 100%|██████████| 74/74 [00:01<00:00, 63.11batch/s, loss=2.43]\n"
     ]
    },
    {
     "name": "stdout",
     "output_type": "stream",
     "text": [
      "Epoch [635/1000], Average Loss: 6.3919\n"
     ]
    },
    {
     "name": "stderr",
     "output_type": "stream",
     "text": [
      "Epoch 636/1000: 100%|██████████| 74/74 [00:01<00:00, 64.16batch/s, loss=2.41]\n"
     ]
    },
    {
     "name": "stdout",
     "output_type": "stream",
     "text": [
      "Epoch [636/1000], Average Loss: 6.3934\n"
     ]
    },
    {
     "name": "stderr",
     "output_type": "stream",
     "text": [
      "Epoch 637/1000: 100%|██████████| 74/74 [00:01<00:00, 59.55batch/s, loss=2.42]\n"
     ]
    },
    {
     "name": "stdout",
     "output_type": "stream",
     "text": [
      "Epoch [637/1000], Average Loss: 6.3920\n"
     ]
    },
    {
     "name": "stderr",
     "output_type": "stream",
     "text": [
      "Epoch 638/1000: 100%|██████████| 74/74 [00:01<00:00, 63.16batch/s, loss=2.41]\n"
     ]
    },
    {
     "name": "stdout",
     "output_type": "stream",
     "text": [
      "Epoch [638/1000], Average Loss: 6.3944\n"
     ]
    },
    {
     "name": "stderr",
     "output_type": "stream",
     "text": [
      "Epoch 639/1000: 100%|██████████| 74/74 [00:01<00:00, 65.25batch/s, loss=2.4] \n"
     ]
    },
    {
     "name": "stdout",
     "output_type": "stream",
     "text": [
      "Epoch [639/1000], Average Loss: 6.3908\n"
     ]
    },
    {
     "name": "stderr",
     "output_type": "stream",
     "text": [
      "Epoch 640/1000: 100%|██████████| 74/74 [00:01<00:00, 60.51batch/s, loss=2.39]\n"
     ]
    },
    {
     "name": "stdout",
     "output_type": "stream",
     "text": [
      "Epoch [640/1000], Average Loss: 6.3905\n"
     ]
    },
    {
     "name": "stderr",
     "output_type": "stream",
     "text": [
      "Epoch 641/1000: 100%|██████████| 74/74 [00:01<00:00, 56.34batch/s, loss=2.38]\n"
     ]
    },
    {
     "name": "stdout",
     "output_type": "stream",
     "text": [
      "Epoch [641/1000], Average Loss: 6.3906\n"
     ]
    },
    {
     "name": "stderr",
     "output_type": "stream",
     "text": [
      "Epoch 642/1000: 100%|██████████| 74/74 [00:01<00:00, 64.60batch/s, loss=2.38]\n"
     ]
    },
    {
     "name": "stdout",
     "output_type": "stream",
     "text": [
      "Epoch [642/1000], Average Loss: 6.3926\n"
     ]
    },
    {
     "name": "stderr",
     "output_type": "stream",
     "text": [
      "Epoch 643/1000: 100%|██████████| 74/74 [00:01<00:00, 66.18batch/s, loss=2.39]\n"
     ]
    },
    {
     "name": "stdout",
     "output_type": "stream",
     "text": [
      "Epoch [643/1000], Average Loss: 6.4018\n"
     ]
    },
    {
     "name": "stderr",
     "output_type": "stream",
     "text": [
      "Epoch 644/1000: 100%|██████████| 74/74 [00:01<00:00, 65.28batch/s, loss=2.41]\n"
     ]
    },
    {
     "name": "stdout",
     "output_type": "stream",
     "text": [
      "Epoch [644/1000], Average Loss: 6.4022\n"
     ]
    },
    {
     "name": "stderr",
     "output_type": "stream",
     "text": [
      "Epoch 645/1000: 100%|██████████| 74/74 [00:01<00:00, 58.78batch/s, loss=2.41]\n"
     ]
    },
    {
     "name": "stdout",
     "output_type": "stream",
     "text": [
      "Epoch [645/1000], Average Loss: 6.3975\n"
     ]
    },
    {
     "name": "stderr",
     "output_type": "stream",
     "text": [
      "Epoch 646/1000: 100%|██████████| 74/74 [00:01<00:00, 66.50batch/s, loss=2.38]\n"
     ]
    },
    {
     "name": "stdout",
     "output_type": "stream",
     "text": [
      "Epoch [646/1000], Average Loss: 6.3947\n"
     ]
    },
    {
     "name": "stderr",
     "output_type": "stream",
     "text": [
      "Epoch 647/1000: 100%|██████████| 74/74 [00:01<00:00, 64.31batch/s, loss=2.41]\n"
     ]
    },
    {
     "name": "stdout",
     "output_type": "stream",
     "text": [
      "Epoch [647/1000], Average Loss: 6.3931\n"
     ]
    },
    {
     "name": "stderr",
     "output_type": "stream",
     "text": [
      "Epoch 648/1000: 100%|██████████| 74/74 [00:01<00:00, 63.08batch/s, loss=2.41]\n"
     ]
    },
    {
     "name": "stdout",
     "output_type": "stream",
     "text": [
      "Epoch [648/1000], Average Loss: 6.3914\n"
     ]
    },
    {
     "name": "stderr",
     "output_type": "stream",
     "text": [
      "Epoch 649/1000: 100%|██████████| 74/74 [00:01<00:00, 55.56batch/s, loss=2.4] \n"
     ]
    },
    {
     "name": "stdout",
     "output_type": "stream",
     "text": [
      "Epoch [649/1000], Average Loss: 6.3960\n"
     ]
    },
    {
     "name": "stderr",
     "output_type": "stream",
     "text": [
      "Epoch 650/1000: 100%|██████████| 74/74 [00:01<00:00, 66.02batch/s, loss=2.4] \n"
     ]
    },
    {
     "name": "stdout",
     "output_type": "stream",
     "text": [
      "Epoch [650/1000], Average Loss: 6.3918\n"
     ]
    },
    {
     "name": "stderr",
     "output_type": "stream",
     "text": [
      "Epoch 651/1000: 100%|██████████| 74/74 [00:01<00:00, 68.46batch/s, loss=2.42]\n"
     ]
    },
    {
     "name": "stdout",
     "output_type": "stream",
     "text": [
      "Epoch [651/1000], Average Loss: 6.3884\n"
     ]
    },
    {
     "name": "stderr",
     "output_type": "stream",
     "text": [
      "Epoch 652/1000: 100%|██████████| 74/74 [00:01<00:00, 62.81batch/s, loss=2.39]\n"
     ]
    },
    {
     "name": "stdout",
     "output_type": "stream",
     "text": [
      "Epoch [652/1000], Average Loss: 6.3875\n"
     ]
    },
    {
     "name": "stderr",
     "output_type": "stream",
     "text": [
      "Epoch 653/1000: 100%|██████████| 74/74 [00:01<00:00, 57.29batch/s, loss=2.4] \n"
     ]
    },
    {
     "name": "stdout",
     "output_type": "stream",
     "text": [
      "Epoch [653/1000], Average Loss: 6.3947\n"
     ]
    },
    {
     "name": "stderr",
     "output_type": "stream",
     "text": [
      "Epoch 654/1000: 100%|██████████| 74/74 [00:01<00:00, 68.36batch/s, loss=2.41]\n"
     ]
    },
    {
     "name": "stdout",
     "output_type": "stream",
     "text": [
      "Epoch [654/1000], Average Loss: 6.3930\n"
     ]
    },
    {
     "name": "stderr",
     "output_type": "stream",
     "text": [
      "Epoch 655/1000: 100%|██████████| 74/74 [00:01<00:00, 65.00batch/s, loss=2.41]\n"
     ]
    },
    {
     "name": "stdout",
     "output_type": "stream",
     "text": [
      "Epoch [655/1000], Average Loss: 6.3899\n"
     ]
    },
    {
     "name": "stderr",
     "output_type": "stream",
     "text": [
      "Epoch 656/1000: 100%|██████████| 74/74 [00:01<00:00, 63.11batch/s, loss=2.43]\n"
     ]
    },
    {
     "name": "stdout",
     "output_type": "stream",
     "text": [
      "Epoch [656/1000], Average Loss: 6.3889\n"
     ]
    },
    {
     "name": "stderr",
     "output_type": "stream",
     "text": [
      "Epoch 657/1000: 100%|██████████| 74/74 [00:01<00:00, 58.75batch/s, loss=2.42]\n"
     ]
    },
    {
     "name": "stdout",
     "output_type": "stream",
     "text": [
      "Epoch [657/1000], Average Loss: 6.3903\n"
     ]
    },
    {
     "name": "stderr",
     "output_type": "stream",
     "text": [
      "Epoch 658/1000: 100%|██████████| 74/74 [00:01<00:00, 66.82batch/s, loss=2.42]\n"
     ]
    },
    {
     "name": "stdout",
     "output_type": "stream",
     "text": [
      "Epoch [658/1000], Average Loss: 6.3858\n"
     ]
    },
    {
     "name": "stderr",
     "output_type": "stream",
     "text": [
      "Epoch 659/1000: 100%|██████████| 74/74 [00:01<00:00, 65.72batch/s, loss=2.41]\n"
     ]
    },
    {
     "name": "stdout",
     "output_type": "stream",
     "text": [
      "Epoch [659/1000], Average Loss: 6.3880\n"
     ]
    },
    {
     "name": "stderr",
     "output_type": "stream",
     "text": [
      "Epoch 660/1000: 100%|██████████| 74/74 [00:01<00:00, 64.29batch/s, loss=2.43]\n"
     ]
    },
    {
     "name": "stdout",
     "output_type": "stream",
     "text": [
      "Epoch [660/1000], Average Loss: 6.3844\n"
     ]
    },
    {
     "name": "stderr",
     "output_type": "stream",
     "text": [
      "Epoch 661/1000: 100%|██████████| 74/74 [00:01<00:00, 69.13batch/s, loss=2.41]\n"
     ]
    },
    {
     "name": "stdout",
     "output_type": "stream",
     "text": [
      "Epoch [661/1000], Average Loss: 6.3854\n"
     ]
    },
    {
     "name": "stderr",
     "output_type": "stream",
     "text": [
      "Epoch 662/1000: 100%|██████████| 74/74 [00:01<00:00, 62.82batch/s, loss=2.41]\n"
     ]
    },
    {
     "name": "stdout",
     "output_type": "stream",
     "text": [
      "Epoch [662/1000], Average Loss: 6.3865\n"
     ]
    },
    {
     "name": "stderr",
     "output_type": "stream",
     "text": [
      "Epoch 663/1000: 100%|██████████| 74/74 [00:01<00:00, 63.93batch/s, loss=2.4] \n"
     ]
    },
    {
     "name": "stdout",
     "output_type": "stream",
     "text": [
      "Epoch [663/1000], Average Loss: 6.3864\n"
     ]
    },
    {
     "name": "stderr",
     "output_type": "stream",
     "text": [
      "Epoch 664/1000: 100%|██████████| 74/74 [00:01<00:00, 66.38batch/s, loss=2.4] \n"
     ]
    },
    {
     "name": "stdout",
     "output_type": "stream",
     "text": [
      "Epoch [664/1000], Average Loss: 6.3845\n"
     ]
    },
    {
     "name": "stderr",
     "output_type": "stream",
     "text": [
      "Epoch 665/1000: 100%|██████████| 74/74 [00:01<00:00, 66.27batch/s, loss=2.4] \n"
     ]
    },
    {
     "name": "stdout",
     "output_type": "stream",
     "text": [
      "Epoch [665/1000], Average Loss: 6.3877\n"
     ]
    },
    {
     "name": "stderr",
     "output_type": "stream",
     "text": [
      "Epoch 666/1000: 100%|██████████| 74/74 [00:01<00:00, 55.39batch/s, loss=2.41]\n"
     ]
    },
    {
     "name": "stdout",
     "output_type": "stream",
     "text": [
      "Epoch [666/1000], Average Loss: 6.3877\n"
     ]
    },
    {
     "name": "stderr",
     "output_type": "stream",
     "text": [
      "Epoch 667/1000: 100%|██████████| 74/74 [00:01<00:00, 65.13batch/s, loss=2.39]\n"
     ]
    },
    {
     "name": "stdout",
     "output_type": "stream",
     "text": [
      "Epoch [667/1000], Average Loss: 6.3878\n"
     ]
    },
    {
     "name": "stderr",
     "output_type": "stream",
     "text": [
      "Epoch 668/1000: 100%|██████████| 74/74 [00:01<00:00, 64.30batch/s, loss=2.41]\n"
     ]
    },
    {
     "name": "stdout",
     "output_type": "stream",
     "text": [
      "Epoch [668/1000], Average Loss: 6.3889\n"
     ]
    },
    {
     "name": "stderr",
     "output_type": "stream",
     "text": [
      "Epoch 669/1000: 100%|██████████| 74/74 [00:01<00:00, 65.09batch/s, loss=2.42]\n"
     ]
    },
    {
     "name": "stdout",
     "output_type": "stream",
     "text": [
      "Epoch [669/1000], Average Loss: 6.3876\n"
     ]
    },
    {
     "name": "stderr",
     "output_type": "stream",
     "text": [
      "Epoch 670/1000: 100%|██████████| 74/74 [00:01<00:00, 60.72batch/s, loss=2.39]\n"
     ]
    },
    {
     "name": "stdout",
     "output_type": "stream",
     "text": [
      "Epoch [670/1000], Average Loss: 6.3856\n"
     ]
    },
    {
     "name": "stderr",
     "output_type": "stream",
     "text": [
      "Epoch 671/1000: 100%|██████████| 74/74 [00:01<00:00, 59.00batch/s, loss=2.41]\n"
     ]
    },
    {
     "name": "stdout",
     "output_type": "stream",
     "text": [
      "Epoch [671/1000], Average Loss: 6.3875\n"
     ]
    },
    {
     "name": "stderr",
     "output_type": "stream",
     "text": [
      "Epoch 672/1000: 100%|██████████| 74/74 [00:01<00:00, 65.94batch/s, loss=2.4] \n"
     ]
    },
    {
     "name": "stdout",
     "output_type": "stream",
     "text": [
      "Epoch [672/1000], Average Loss: 6.3899\n"
     ]
    },
    {
     "name": "stderr",
     "output_type": "stream",
     "text": [
      "Epoch 673/1000: 100%|██████████| 74/74 [00:01<00:00, 65.11batch/s, loss=2.41]\n"
     ]
    },
    {
     "name": "stdout",
     "output_type": "stream",
     "text": [
      "Epoch [673/1000], Average Loss: 6.3918\n"
     ]
    },
    {
     "name": "stderr",
     "output_type": "stream",
     "text": [
      "Epoch 674/1000: 100%|██████████| 74/74 [00:01<00:00, 60.22batch/s, loss=2.41]\n"
     ]
    },
    {
     "name": "stdout",
     "output_type": "stream",
     "text": [
      "Epoch [674/1000], Average Loss: 6.3871\n"
     ]
    },
    {
     "name": "stderr",
     "output_type": "stream",
     "text": [
      "Epoch 675/1000: 100%|██████████| 74/74 [00:01<00:00, 66.26batch/s, loss=2.38]\n"
     ]
    },
    {
     "name": "stdout",
     "output_type": "stream",
     "text": [
      "Epoch [675/1000], Average Loss: 6.3850\n"
     ]
    },
    {
     "name": "stderr",
     "output_type": "stream",
     "text": [
      "Epoch 676/1000: 100%|██████████| 74/74 [00:01<00:00, 66.43batch/s, loss=2.41]\n"
     ]
    },
    {
     "name": "stdout",
     "output_type": "stream",
     "text": [
      "Epoch [676/1000], Average Loss: 6.3868\n"
     ]
    },
    {
     "name": "stderr",
     "output_type": "stream",
     "text": [
      "Epoch 677/1000: 100%|██████████| 74/74 [00:01<00:00, 63.81batch/s, loss=2.37]\n"
     ]
    },
    {
     "name": "stdout",
     "output_type": "stream",
     "text": [
      "Epoch [677/1000], Average Loss: 6.3855\n"
     ]
    },
    {
     "name": "stderr",
     "output_type": "stream",
     "text": [
      "Epoch 678/1000: 100%|██████████| 74/74 [00:01<00:00, 64.87batch/s, loss=2.4] \n"
     ]
    },
    {
     "name": "stdout",
     "output_type": "stream",
     "text": [
      "Epoch [678/1000], Average Loss: 6.3884\n"
     ]
    },
    {
     "name": "stderr",
     "output_type": "stream",
     "text": [
      "Epoch 679/1000: 100%|██████████| 74/74 [00:01<00:00, 60.78batch/s, loss=2.4] \n"
     ]
    },
    {
     "name": "stdout",
     "output_type": "stream",
     "text": [
      "Epoch [679/1000], Average Loss: 6.3873\n"
     ]
    },
    {
     "name": "stderr",
     "output_type": "stream",
     "text": [
      "Epoch 680/1000: 100%|██████████| 74/74 [00:01<00:00, 68.34batch/s, loss=2.41]\n"
     ]
    },
    {
     "name": "stdout",
     "output_type": "stream",
     "text": [
      "Epoch [680/1000], Average Loss: 6.3900\n"
     ]
    },
    {
     "name": "stderr",
     "output_type": "stream",
     "text": [
      "Epoch 681/1000: 100%|██████████| 74/74 [00:01<00:00, 68.93batch/s, loss=2.42]\n"
     ]
    },
    {
     "name": "stdout",
     "output_type": "stream",
     "text": [
      "Epoch [681/1000], Average Loss: 6.3890\n"
     ]
    },
    {
     "name": "stderr",
     "output_type": "stream",
     "text": [
      "Epoch 682/1000: 100%|██████████| 74/74 [00:01<00:00, 58.63batch/s, loss=2.41]\n"
     ]
    },
    {
     "name": "stdout",
     "output_type": "stream",
     "text": [
      "Epoch [682/1000], Average Loss: 6.3856\n"
     ]
    },
    {
     "name": "stderr",
     "output_type": "stream",
     "text": [
      "Epoch 683/1000: 100%|██████████| 74/74 [00:01<00:00, 56.53batch/s, loss=2.39]\n"
     ]
    },
    {
     "name": "stdout",
     "output_type": "stream",
     "text": [
      "Epoch [683/1000], Average Loss: 6.3811\n"
     ]
    },
    {
     "name": "stderr",
     "output_type": "stream",
     "text": [
      "Epoch 684/1000: 100%|██████████| 74/74 [00:01<00:00, 63.54batch/s, loss=2.4] \n"
     ]
    },
    {
     "name": "stdout",
     "output_type": "stream",
     "text": [
      "Epoch [684/1000], Average Loss: 6.3832\n"
     ]
    },
    {
     "name": "stderr",
     "output_type": "stream",
     "text": [
      "Epoch 685/1000: 100%|██████████| 74/74 [00:01<00:00, 61.20batch/s, loss=2.4] \n"
     ]
    },
    {
     "name": "stdout",
     "output_type": "stream",
     "text": [
      "Epoch [685/1000], Average Loss: 6.3822\n"
     ]
    },
    {
     "name": "stderr",
     "output_type": "stream",
     "text": [
      "Epoch 686/1000: 100%|██████████| 74/74 [00:01<00:00, 62.14batch/s, loss=2.39]\n"
     ]
    },
    {
     "name": "stdout",
     "output_type": "stream",
     "text": [
      "Epoch [686/1000], Average Loss: 6.3822\n"
     ]
    },
    {
     "name": "stderr",
     "output_type": "stream",
     "text": [
      "Epoch 687/1000: 100%|██████████| 74/74 [00:01<00:00, 61.24batch/s, loss=2.4] \n"
     ]
    },
    {
     "name": "stdout",
     "output_type": "stream",
     "text": [
      "Epoch [687/1000], Average Loss: 6.3828\n"
     ]
    },
    {
     "name": "stderr",
     "output_type": "stream",
     "text": [
      "Epoch 688/1000: 100%|██████████| 74/74 [00:01<00:00, 64.07batch/s, loss=2.45]\n"
     ]
    },
    {
     "name": "stdout",
     "output_type": "stream",
     "text": [
      "Epoch [688/1000], Average Loss: 6.3808\n"
     ]
    },
    {
     "name": "stderr",
     "output_type": "stream",
     "text": [
      "Epoch 689/1000: 100%|██████████| 74/74 [00:01<00:00, 60.30batch/s, loss=2.41]\n"
     ]
    },
    {
     "name": "stdout",
     "output_type": "stream",
     "text": [
      "Epoch [689/1000], Average Loss: 6.3816\n"
     ]
    },
    {
     "name": "stderr",
     "output_type": "stream",
     "text": [
      "Epoch 690/1000: 100%|██████████| 74/74 [00:01<00:00, 67.85batch/s, loss=2.41]\n"
     ]
    },
    {
     "name": "stdout",
     "output_type": "stream",
     "text": [
      "Epoch [690/1000], Average Loss: 6.3827\n"
     ]
    },
    {
     "name": "stderr",
     "output_type": "stream",
     "text": [
      "Epoch 691/1000: 100%|██████████| 74/74 [00:01<00:00, 70.12batch/s, loss=2.4] \n"
     ]
    },
    {
     "name": "stdout",
     "output_type": "stream",
     "text": [
      "Epoch [691/1000], Average Loss: 6.3837\n"
     ]
    },
    {
     "name": "stderr",
     "output_type": "stream",
     "text": [
      "Epoch 692/1000: 100%|██████████| 74/74 [00:01<00:00, 69.14batch/s, loss=2.4] \n"
     ]
    },
    {
     "name": "stdout",
     "output_type": "stream",
     "text": [
      "Epoch [692/1000], Average Loss: 6.3857\n"
     ]
    },
    {
     "name": "stderr",
     "output_type": "stream",
     "text": [
      "Epoch 693/1000: 100%|██████████| 74/74 [00:01<00:00, 60.86batch/s, loss=2.43]\n"
     ]
    },
    {
     "name": "stdout",
     "output_type": "stream",
     "text": [
      "Epoch [693/1000], Average Loss: 6.3859\n"
     ]
    },
    {
     "name": "stderr",
     "output_type": "stream",
     "text": [
      "Epoch 694/1000: 100%|██████████| 74/74 [00:01<00:00, 65.34batch/s, loss=2.4] \n"
     ]
    },
    {
     "name": "stdout",
     "output_type": "stream",
     "text": [
      "Epoch [694/1000], Average Loss: 6.3831\n"
     ]
    },
    {
     "name": "stderr",
     "output_type": "stream",
     "text": [
      "Epoch 695/1000: 100%|██████████| 74/74 [00:01<00:00, 68.73batch/s, loss=2.4] \n"
     ]
    },
    {
     "name": "stdout",
     "output_type": "stream",
     "text": [
      "Epoch [695/1000], Average Loss: 6.3837\n"
     ]
    },
    {
     "name": "stderr",
     "output_type": "stream",
     "text": [
      "Epoch 696/1000: 100%|██████████| 74/74 [00:01<00:00, 68.32batch/s, loss=2.39]\n"
     ]
    },
    {
     "name": "stdout",
     "output_type": "stream",
     "text": [
      "Epoch [696/1000], Average Loss: 6.3834\n"
     ]
    },
    {
     "name": "stderr",
     "output_type": "stream",
     "text": [
      "Epoch 697/1000: 100%|██████████| 74/74 [00:01<00:00, 68.91batch/s, loss=2.39]\n"
     ]
    },
    {
     "name": "stdout",
     "output_type": "stream",
     "text": [
      "Epoch [697/1000], Average Loss: 6.3825\n"
     ]
    },
    {
     "name": "stderr",
     "output_type": "stream",
     "text": [
      "Epoch 698/1000: 100%|██████████| 74/74 [00:01<00:00, 61.30batch/s, loss=2.4] \n"
     ]
    },
    {
     "name": "stdout",
     "output_type": "stream",
     "text": [
      "Epoch [698/1000], Average Loss: 6.3820\n"
     ]
    },
    {
     "name": "stderr",
     "output_type": "stream",
     "text": [
      "Epoch 699/1000: 100%|██████████| 74/74 [00:01<00:00, 58.96batch/s, loss=2.38]\n"
     ]
    },
    {
     "name": "stdout",
     "output_type": "stream",
     "text": [
      "Epoch [699/1000], Average Loss: 6.3856\n"
     ]
    },
    {
     "name": "stderr",
     "output_type": "stream",
     "text": [
      "Epoch 700/1000: 100%|██████████| 74/74 [00:01<00:00, 64.58batch/s, loss=2.42]\n"
     ]
    },
    {
     "name": "stdout",
     "output_type": "stream",
     "text": [
      "Epoch [700/1000], Average Loss: 6.3930\n"
     ]
    },
    {
     "name": "stderr",
     "output_type": "stream",
     "text": [
      "Epoch 701/1000: 100%|██████████| 74/74 [00:01<00:00, 68.10batch/s, loss=2.41]\n"
     ]
    },
    {
     "name": "stdout",
     "output_type": "stream",
     "text": [
      "Epoch [701/1000], Average Loss: 6.3859\n"
     ]
    },
    {
     "name": "stderr",
     "output_type": "stream",
     "text": [
      "Epoch 702/1000: 100%|██████████| 74/74 [00:01<00:00, 66.45batch/s, loss=2.4] \n"
     ]
    },
    {
     "name": "stdout",
     "output_type": "stream",
     "text": [
      "Epoch [702/1000], Average Loss: 6.3864\n"
     ]
    },
    {
     "name": "stderr",
     "output_type": "stream",
     "text": [
      "Epoch 703/1000: 100%|██████████| 74/74 [00:01<00:00, 60.63batch/s, loss=2.42]\n"
     ]
    },
    {
     "name": "stdout",
     "output_type": "stream",
     "text": [
      "Epoch [703/1000], Average Loss: 6.3916\n"
     ]
    },
    {
     "name": "stderr",
     "output_type": "stream",
     "text": [
      "Epoch 704/1000: 100%|██████████| 74/74 [00:01<00:00, 69.99batch/s, loss=2.41]\n"
     ]
    },
    {
     "name": "stdout",
     "output_type": "stream",
     "text": [
      "Epoch [704/1000], Average Loss: 6.3848\n"
     ]
    },
    {
     "name": "stderr",
     "output_type": "stream",
     "text": [
      "Epoch 705/1000: 100%|██████████| 74/74 [00:01<00:00, 66.49batch/s, loss=2.41]\n"
     ]
    },
    {
     "name": "stdout",
     "output_type": "stream",
     "text": [
      "Epoch [705/1000], Average Loss: 6.3830\n"
     ]
    },
    {
     "name": "stderr",
     "output_type": "stream",
     "text": [
      "Epoch 706/1000: 100%|██████████| 74/74 [00:01<00:00, 64.91batch/s, loss=2.42]\n"
     ]
    },
    {
     "name": "stdout",
     "output_type": "stream",
     "text": [
      "Epoch [706/1000], Average Loss: 6.3841\n"
     ]
    },
    {
     "name": "stderr",
     "output_type": "stream",
     "text": [
      "Epoch 707/1000: 100%|██████████| 74/74 [00:01<00:00, 66.43batch/s, loss=2.41]\n"
     ]
    },
    {
     "name": "stdout",
     "output_type": "stream",
     "text": [
      "Epoch [707/1000], Average Loss: 6.3796\n"
     ]
    },
    {
     "name": "stderr",
     "output_type": "stream",
     "text": [
      "Epoch 708/1000: 100%|██████████| 74/74 [00:01<00:00, 62.00batch/s, loss=2.42]\n"
     ]
    },
    {
     "name": "stdout",
     "output_type": "stream",
     "text": [
      "Epoch [708/1000], Average Loss: 6.3800\n"
     ]
    },
    {
     "name": "stderr",
     "output_type": "stream",
     "text": [
      "Epoch 709/1000: 100%|██████████| 74/74 [00:01<00:00, 63.37batch/s, loss=2.38]\n"
     ]
    },
    {
     "name": "stdout",
     "output_type": "stream",
     "text": [
      "Epoch [709/1000], Average Loss: 6.3836\n"
     ]
    },
    {
     "name": "stderr",
     "output_type": "stream",
     "text": [
      "Epoch 710/1000: 100%|██████████| 74/74 [00:01<00:00, 65.37batch/s, loss=2.38]\n"
     ]
    },
    {
     "name": "stdout",
     "output_type": "stream",
     "text": [
      "Epoch [710/1000], Average Loss: 6.3846\n"
     ]
    },
    {
     "name": "stderr",
     "output_type": "stream",
     "text": [
      "Epoch 711/1000: 100%|██████████| 74/74 [00:01<00:00, 67.09batch/s, loss=2.39]\n"
     ]
    },
    {
     "name": "stdout",
     "output_type": "stream",
     "text": [
      "Epoch [711/1000], Average Loss: 6.3821\n"
     ]
    },
    {
     "name": "stderr",
     "output_type": "stream",
     "text": [
      "Epoch 712/1000: 100%|██████████| 74/74 [00:01<00:00, 64.07batch/s, loss=2.37]\n"
     ]
    },
    {
     "name": "stdout",
     "output_type": "stream",
     "text": [
      "Epoch [712/1000], Average Loss: 6.3852\n"
     ]
    },
    {
     "name": "stderr",
     "output_type": "stream",
     "text": [
      "Epoch 713/1000: 100%|██████████| 74/74 [00:01<00:00, 65.05batch/s, loss=2.39]\n"
     ]
    },
    {
     "name": "stdout",
     "output_type": "stream",
     "text": [
      "Epoch [713/1000], Average Loss: 6.3838\n"
     ]
    },
    {
     "name": "stderr",
     "output_type": "stream",
     "text": [
      "Epoch 714/1000: 100%|██████████| 74/74 [00:01<00:00, 65.41batch/s, loss=2.43]\n"
     ]
    },
    {
     "name": "stdout",
     "output_type": "stream",
     "text": [
      "Epoch [714/1000], Average Loss: 6.3836\n"
     ]
    },
    {
     "name": "stderr",
     "output_type": "stream",
     "text": [
      "Epoch 715/1000: 100%|██████████| 74/74 [00:01<00:00, 66.34batch/s, loss=2.43]\n"
     ]
    },
    {
     "name": "stdout",
     "output_type": "stream",
     "text": [
      "Epoch [715/1000], Average Loss: 6.3809\n"
     ]
    },
    {
     "name": "stderr",
     "output_type": "stream",
     "text": [
      "Epoch 716/1000: 100%|██████████| 74/74 [00:01<00:00, 67.95batch/s, loss=2.41]\n"
     ]
    },
    {
     "name": "stdout",
     "output_type": "stream",
     "text": [
      "Epoch [716/1000], Average Loss: 6.3800\n"
     ]
    },
    {
     "name": "stderr",
     "output_type": "stream",
     "text": [
      "Epoch 717/1000: 100%|██████████| 74/74 [00:01<00:00, 61.55batch/s, loss=2.42]\n"
     ]
    },
    {
     "name": "stdout",
     "output_type": "stream",
     "text": [
      "Epoch [717/1000], Average Loss: 6.3798\n"
     ]
    },
    {
     "name": "stderr",
     "output_type": "stream",
     "text": [
      "Epoch 718/1000: 100%|██████████| 74/74 [00:01<00:00, 70.62batch/s, loss=2.38]\n"
     ]
    },
    {
     "name": "stdout",
     "output_type": "stream",
     "text": [
      "Epoch [718/1000], Average Loss: 6.3764\n"
     ]
    },
    {
     "name": "stderr",
     "output_type": "stream",
     "text": [
      "Epoch 719/1000: 100%|██████████| 74/74 [00:01<00:00, 70.74batch/s, loss=2.39]\n"
     ]
    },
    {
     "name": "stdout",
     "output_type": "stream",
     "text": [
      "Epoch [719/1000], Average Loss: 6.3780\n"
     ]
    },
    {
     "name": "stderr",
     "output_type": "stream",
     "text": [
      "Epoch 720/1000: 100%|██████████| 74/74 [00:01<00:00, 69.08batch/s, loss=2.4] \n"
     ]
    },
    {
     "name": "stdout",
     "output_type": "stream",
     "text": [
      "Epoch [720/1000], Average Loss: 6.3778\n"
     ]
    },
    {
     "name": "stderr",
     "output_type": "stream",
     "text": [
      "Epoch 721/1000: 100%|██████████| 74/74 [00:01<00:00, 60.23batch/s, loss=2.38]\n"
     ]
    },
    {
     "name": "stdout",
     "output_type": "stream",
     "text": [
      "Epoch [721/1000], Average Loss: 6.3790\n"
     ]
    },
    {
     "name": "stderr",
     "output_type": "stream",
     "text": [
      "Epoch 722/1000: 100%|██████████| 74/74 [00:01<00:00, 68.41batch/s, loss=2.38]\n"
     ]
    },
    {
     "name": "stdout",
     "output_type": "stream",
     "text": [
      "Epoch [722/1000], Average Loss: 6.3790\n"
     ]
    },
    {
     "name": "stderr",
     "output_type": "stream",
     "text": [
      "Epoch 723/1000: 100%|██████████| 74/74 [00:01<00:00, 67.16batch/s, loss=2.4] \n"
     ]
    },
    {
     "name": "stdout",
     "output_type": "stream",
     "text": [
      "Epoch [723/1000], Average Loss: 6.3771\n"
     ]
    },
    {
     "name": "stderr",
     "output_type": "stream",
     "text": [
      "Epoch 724/1000: 100%|██████████| 74/74 [00:01<00:00, 68.82batch/s, loss=2.39]\n"
     ]
    },
    {
     "name": "stdout",
     "output_type": "stream",
     "text": [
      "Epoch [724/1000], Average Loss: 6.3767\n"
     ]
    },
    {
     "name": "stderr",
     "output_type": "stream",
     "text": [
      "Epoch 725/1000: 100%|██████████| 74/74 [00:01<00:00, 59.83batch/s, loss=2.4] \n"
     ]
    },
    {
     "name": "stdout",
     "output_type": "stream",
     "text": [
      "Epoch [725/1000], Average Loss: 6.3799\n"
     ]
    },
    {
     "name": "stderr",
     "output_type": "stream",
     "text": [
      "Epoch 726/1000: 100%|██████████| 74/74 [00:01<00:00, 67.72batch/s, loss=2.42]\n"
     ]
    },
    {
     "name": "stdout",
     "output_type": "stream",
     "text": [
      "Epoch [726/1000], Average Loss: 6.3772\n"
     ]
    },
    {
     "name": "stderr",
     "output_type": "stream",
     "text": [
      "Epoch 727/1000: 100%|██████████| 74/74 [00:01<00:00, 65.16batch/s, loss=2.41]\n"
     ]
    },
    {
     "name": "stdout",
     "output_type": "stream",
     "text": [
      "Epoch [727/1000], Average Loss: 6.3779\n"
     ]
    },
    {
     "name": "stderr",
     "output_type": "stream",
     "text": [
      "Epoch 728/1000: 100%|██████████| 74/74 [00:01<00:00, 58.17batch/s, loss=2.41]\n"
     ]
    },
    {
     "name": "stdout",
     "output_type": "stream",
     "text": [
      "Epoch [728/1000], Average Loss: 6.3767\n"
     ]
    },
    {
     "name": "stderr",
     "output_type": "stream",
     "text": [
      "Epoch 729/1000: 100%|██████████| 74/74 [00:01<00:00, 65.55batch/s, loss=2.41]\n"
     ]
    },
    {
     "name": "stdout",
     "output_type": "stream",
     "text": [
      "Epoch [729/1000], Average Loss: 6.3781\n"
     ]
    },
    {
     "name": "stderr",
     "output_type": "stream",
     "text": [
      "Epoch 730/1000: 100%|██████████| 74/74 [00:01<00:00, 67.78batch/s, loss=2.4] \n"
     ]
    },
    {
     "name": "stdout",
     "output_type": "stream",
     "text": [
      "Epoch [730/1000], Average Loss: 6.3792\n"
     ]
    },
    {
     "name": "stderr",
     "output_type": "stream",
     "text": [
      "Epoch 731/1000: 100%|██████████| 74/74 [00:01<00:00, 69.45batch/s, loss=2.4] \n"
     ]
    },
    {
     "name": "stdout",
     "output_type": "stream",
     "text": [
      "Epoch [731/1000], Average Loss: 6.3772\n"
     ]
    },
    {
     "name": "stderr",
     "output_type": "stream",
     "text": [
      "Epoch 732/1000: 100%|██████████| 74/74 [00:01<00:00, 59.71batch/s, loss=2.41]\n"
     ]
    },
    {
     "name": "stdout",
     "output_type": "stream",
     "text": [
      "Epoch [732/1000], Average Loss: 6.3776\n"
     ]
    },
    {
     "name": "stderr",
     "output_type": "stream",
     "text": [
      "Epoch 733/1000: 100%|██████████| 74/74 [00:01<00:00, 63.59batch/s, loss=2.41]\n"
     ]
    },
    {
     "name": "stdout",
     "output_type": "stream",
     "text": [
      "Epoch [733/1000], Average Loss: 6.3775\n"
     ]
    },
    {
     "name": "stderr",
     "output_type": "stream",
     "text": [
      "Epoch 734/1000: 100%|██████████| 74/74 [00:01<00:00, 67.41batch/s, loss=2.4] \n"
     ]
    },
    {
     "name": "stdout",
     "output_type": "stream",
     "text": [
      "Epoch [734/1000], Average Loss: 6.3818\n"
     ]
    },
    {
     "name": "stderr",
     "output_type": "stream",
     "text": [
      "Epoch 735/1000: 100%|██████████| 74/74 [00:01<00:00, 68.20batch/s, loss=2.38]\n"
     ]
    },
    {
     "name": "stdout",
     "output_type": "stream",
     "text": [
      "Epoch [735/1000], Average Loss: 6.3854\n"
     ]
    },
    {
     "name": "stderr",
     "output_type": "stream",
     "text": [
      "Epoch 736/1000: 100%|██████████| 74/74 [00:01<00:00, 64.08batch/s, loss=2.4] \n"
     ]
    },
    {
     "name": "stdout",
     "output_type": "stream",
     "text": [
      "Epoch [736/1000], Average Loss: 6.3856\n"
     ]
    },
    {
     "name": "stderr",
     "output_type": "stream",
     "text": [
      "Epoch 737/1000: 100%|██████████| 74/74 [00:01<00:00, 65.76batch/s, loss=2.4] \n"
     ]
    },
    {
     "name": "stdout",
     "output_type": "stream",
     "text": [
      "Epoch [737/1000], Average Loss: 6.3849\n"
     ]
    },
    {
     "name": "stderr",
     "output_type": "stream",
     "text": [
      "Epoch 738/1000: 100%|██████████| 74/74 [00:01<00:00, 67.46batch/s, loss=2.42]\n"
     ]
    },
    {
     "name": "stdout",
     "output_type": "stream",
     "text": [
      "Epoch [738/1000], Average Loss: 6.3856\n"
     ]
    },
    {
     "name": "stderr",
     "output_type": "stream",
     "text": [
      "Epoch 739/1000: 100%|██████████| 74/74 [00:01<00:00, 59.63batch/s, loss=2.41]\n"
     ]
    },
    {
     "name": "stdout",
     "output_type": "stream",
     "text": [
      "Epoch [739/1000], Average Loss: 6.3822\n"
     ]
    },
    {
     "name": "stderr",
     "output_type": "stream",
     "text": [
      "Epoch 740/1000: 100%|██████████| 74/74 [00:01<00:00, 67.09batch/s, loss=2.39]\n"
     ]
    },
    {
     "name": "stdout",
     "output_type": "stream",
     "text": [
      "Epoch [740/1000], Average Loss: 6.3806\n"
     ]
    },
    {
     "name": "stderr",
     "output_type": "stream",
     "text": [
      "Epoch 741/1000: 100%|██████████| 74/74 [00:01<00:00, 66.63batch/s, loss=2.41]\n"
     ]
    },
    {
     "name": "stdout",
     "output_type": "stream",
     "text": [
      "Epoch [741/1000], Average Loss: 6.3777\n"
     ]
    },
    {
     "name": "stderr",
     "output_type": "stream",
     "text": [
      "Epoch 742/1000: 100%|██████████| 74/74 [00:01<00:00, 68.81batch/s, loss=2.4] \n"
     ]
    },
    {
     "name": "stdout",
     "output_type": "stream",
     "text": [
      "Epoch [742/1000], Average Loss: 6.3745\n"
     ]
    },
    {
     "name": "stderr",
     "output_type": "stream",
     "text": [
      "Epoch 743/1000: 100%|██████████| 74/74 [00:01<00:00, 65.64batch/s, loss=2.39]\n"
     ]
    },
    {
     "name": "stdout",
     "output_type": "stream",
     "text": [
      "Epoch [743/1000], Average Loss: 6.3766\n"
     ]
    },
    {
     "name": "stderr",
     "output_type": "stream",
     "text": [
      "Epoch 744/1000: 100%|██████████| 74/74 [00:01<00:00, 60.18batch/s, loss=2.39]\n"
     ]
    },
    {
     "name": "stdout",
     "output_type": "stream",
     "text": [
      "Epoch [744/1000], Average Loss: 6.3746\n"
     ]
    },
    {
     "name": "stderr",
     "output_type": "stream",
     "text": [
      "Epoch 745/1000: 100%|██████████| 74/74 [00:01<00:00, 66.90batch/s, loss=2.4] \n"
     ]
    },
    {
     "name": "stdout",
     "output_type": "stream",
     "text": [
      "Epoch [745/1000], Average Loss: 6.3761\n"
     ]
    },
    {
     "name": "stderr",
     "output_type": "stream",
     "text": [
      "Epoch 746/1000: 100%|██████████| 74/74 [00:01<00:00, 66.80batch/s, loss=2.39]\n"
     ]
    },
    {
     "name": "stdout",
     "output_type": "stream",
     "text": [
      "Epoch [746/1000], Average Loss: 6.3733\n"
     ]
    },
    {
     "name": "stderr",
     "output_type": "stream",
     "text": [
      "Epoch 747/1000: 100%|██████████| 74/74 [00:01<00:00, 65.08batch/s, loss=2.39]\n"
     ]
    },
    {
     "name": "stdout",
     "output_type": "stream",
     "text": [
      "Epoch [747/1000], Average Loss: 6.3774\n"
     ]
    },
    {
     "name": "stderr",
     "output_type": "stream",
     "text": [
      "Epoch 748/1000: 100%|██████████| 74/74 [00:01<00:00, 61.61batch/s, loss=2.4] \n"
     ]
    },
    {
     "name": "stdout",
     "output_type": "stream",
     "text": [
      "Epoch [748/1000], Average Loss: 6.3766\n"
     ]
    },
    {
     "name": "stderr",
     "output_type": "stream",
     "text": [
      "Epoch 749/1000: 100%|██████████| 74/74 [00:01<00:00, 69.74batch/s, loss=2.41]\n"
     ]
    },
    {
     "name": "stdout",
     "output_type": "stream",
     "text": [
      "Epoch [749/1000], Average Loss: 6.3777\n"
     ]
    },
    {
     "name": "stderr",
     "output_type": "stream",
     "text": [
      "Epoch 750/1000: 100%|██████████| 74/74 [00:01<00:00, 64.43batch/s, loss=2.41]\n"
     ]
    },
    {
     "name": "stdout",
     "output_type": "stream",
     "text": [
      "Epoch [750/1000], Average Loss: 6.3763\n"
     ]
    },
    {
     "name": "stderr",
     "output_type": "stream",
     "text": [
      "Epoch 751/1000: 100%|██████████| 74/74 [00:01<00:00, 64.42batch/s, loss=2.41]\n"
     ]
    },
    {
     "name": "stdout",
     "output_type": "stream",
     "text": [
      "Epoch [751/1000], Average Loss: 6.3746\n"
     ]
    },
    {
     "name": "stderr",
     "output_type": "stream",
     "text": [
      "Epoch 752/1000: 100%|██████████| 74/74 [00:01<00:00, 63.24batch/s, loss=2.4] \n"
     ]
    },
    {
     "name": "stdout",
     "output_type": "stream",
     "text": [
      "Epoch [752/1000], Average Loss: 6.3751\n"
     ]
    },
    {
     "name": "stderr",
     "output_type": "stream",
     "text": [
      "Epoch 753/1000: 100%|██████████| 74/74 [00:01<00:00, 58.90batch/s, loss=2.4] \n"
     ]
    },
    {
     "name": "stdout",
     "output_type": "stream",
     "text": [
      "Epoch [753/1000], Average Loss: 6.3736\n"
     ]
    },
    {
     "name": "stderr",
     "output_type": "stream",
     "text": [
      "Epoch 754/1000: 100%|██████████| 74/74 [00:01<00:00, 66.94batch/s, loss=2.4] \n"
     ]
    },
    {
     "name": "stdout",
     "output_type": "stream",
     "text": [
      "Epoch [754/1000], Average Loss: 6.3731\n"
     ]
    },
    {
     "name": "stderr",
     "output_type": "stream",
     "text": [
      "Epoch 755/1000: 100%|██████████| 74/74 [00:01<00:00, 66.76batch/s, loss=2.39]\n"
     ]
    },
    {
     "name": "stdout",
     "output_type": "stream",
     "text": [
      "Epoch [755/1000], Average Loss: 6.3739\n"
     ]
    },
    {
     "name": "stderr",
     "output_type": "stream",
     "text": [
      "Epoch 756/1000: 100%|██████████| 74/74 [00:01<00:00, 68.52batch/s, loss=2.4] \n"
     ]
    },
    {
     "name": "stdout",
     "output_type": "stream",
     "text": [
      "Epoch [756/1000], Average Loss: 6.3757\n"
     ]
    },
    {
     "name": "stderr",
     "output_type": "stream",
     "text": [
      "Epoch 757/1000: 100%|██████████| 74/74 [00:01<00:00, 59.64batch/s, loss=2.38]\n"
     ]
    },
    {
     "name": "stdout",
     "output_type": "stream",
     "text": [
      "Epoch [757/1000], Average Loss: 6.3741\n"
     ]
    },
    {
     "name": "stderr",
     "output_type": "stream",
     "text": [
      "Epoch 758/1000: 100%|██████████| 74/74 [00:01<00:00, 65.81batch/s, loss=2.39]\n"
     ]
    },
    {
     "name": "stdout",
     "output_type": "stream",
     "text": [
      "Epoch [758/1000], Average Loss: 6.3720\n"
     ]
    },
    {
     "name": "stderr",
     "output_type": "stream",
     "text": [
      "Epoch 759/1000: 100%|██████████| 74/74 [00:01<00:00, 72.97batch/s, loss=2.4] \n"
     ]
    },
    {
     "name": "stdout",
     "output_type": "stream",
     "text": [
      "Epoch [759/1000], Average Loss: 6.3756\n"
     ]
    },
    {
     "name": "stderr",
     "output_type": "stream",
     "text": [
      "Epoch 760/1000: 100%|██████████| 74/74 [00:01<00:00, 65.74batch/s, loss=2.38]\n"
     ]
    },
    {
     "name": "stdout",
     "output_type": "stream",
     "text": [
      "Epoch [760/1000], Average Loss: 6.3748\n"
     ]
    },
    {
     "name": "stderr",
     "output_type": "stream",
     "text": [
      "Epoch 761/1000: 100%|██████████| 74/74 [00:01<00:00, 61.99batch/s, loss=2.38]\n"
     ]
    },
    {
     "name": "stdout",
     "output_type": "stream",
     "text": [
      "Epoch [761/1000], Average Loss: 6.3767\n"
     ]
    },
    {
     "name": "stderr",
     "output_type": "stream",
     "text": [
      "Epoch 762/1000: 100%|██████████| 74/74 [00:01<00:00, 66.83batch/s, loss=2.41]\n"
     ]
    },
    {
     "name": "stdout",
     "output_type": "stream",
     "text": [
      "Epoch [762/1000], Average Loss: 6.3749\n"
     ]
    },
    {
     "name": "stderr",
     "output_type": "stream",
     "text": [
      "Epoch 763/1000: 100%|██████████| 74/74 [00:01<00:00, 66.37batch/s, loss=2.39]\n"
     ]
    },
    {
     "name": "stdout",
     "output_type": "stream",
     "text": [
      "Epoch [763/1000], Average Loss: 6.3742\n"
     ]
    },
    {
     "name": "stderr",
     "output_type": "stream",
     "text": [
      "Epoch 764/1000: 100%|██████████| 74/74 [00:01<00:00, 68.93batch/s, loss=2.4] \n"
     ]
    },
    {
     "name": "stdout",
     "output_type": "stream",
     "text": [
      "Epoch [764/1000], Average Loss: 6.3756\n"
     ]
    },
    {
     "name": "stderr",
     "output_type": "stream",
     "text": [
      "Epoch 765/1000: 100%|██████████| 74/74 [00:01<00:00, 59.51batch/s, loss=2.39]\n"
     ]
    },
    {
     "name": "stdout",
     "output_type": "stream",
     "text": [
      "Epoch [765/1000], Average Loss: 6.3769\n"
     ]
    },
    {
     "name": "stderr",
     "output_type": "stream",
     "text": [
      "Epoch 766/1000: 100%|██████████| 74/74 [00:01<00:00, 66.54batch/s, loss=2.41]\n"
     ]
    },
    {
     "name": "stdout",
     "output_type": "stream",
     "text": [
      "Epoch [766/1000], Average Loss: 6.3752\n"
     ]
    },
    {
     "name": "stderr",
     "output_type": "stream",
     "text": [
      "Epoch 767/1000: 100%|██████████| 74/74 [00:01<00:00, 69.98batch/s, loss=2.4] \n"
     ]
    },
    {
     "name": "stdout",
     "output_type": "stream",
     "text": [
      "Epoch [767/1000], Average Loss: 6.3759\n"
     ]
    },
    {
     "name": "stderr",
     "output_type": "stream",
     "text": [
      "Epoch 768/1000: 100%|██████████| 74/74 [00:01<00:00, 67.49batch/s, loss=2.42]\n"
     ]
    },
    {
     "name": "stdout",
     "output_type": "stream",
     "text": [
      "Epoch [768/1000], Average Loss: 6.3792\n"
     ]
    },
    {
     "name": "stderr",
     "output_type": "stream",
     "text": [
      "Epoch 769/1000: 100%|██████████| 74/74 [00:01<00:00, 63.54batch/s, loss=2.39]\n"
     ]
    },
    {
     "name": "stdout",
     "output_type": "stream",
     "text": [
      "Epoch [769/1000], Average Loss: 6.3770\n"
     ]
    },
    {
     "name": "stderr",
     "output_type": "stream",
     "text": [
      "Epoch 770/1000: 100%|██████████| 74/74 [00:01<00:00, 67.81batch/s, loss=2.38]\n"
     ]
    },
    {
     "name": "stdout",
     "output_type": "stream",
     "text": [
      "Epoch [770/1000], Average Loss: 6.3784\n"
     ]
    },
    {
     "name": "stderr",
     "output_type": "stream",
     "text": [
      "Epoch 771/1000: 100%|██████████| 74/74 [00:01<00:00, 68.42batch/s, loss=2.42]\n"
     ]
    },
    {
     "name": "stdout",
     "output_type": "stream",
     "text": [
      "Epoch [771/1000], Average Loss: 6.3795\n"
     ]
    },
    {
     "name": "stderr",
     "output_type": "stream",
     "text": [
      "Epoch 772/1000: 100%|██████████| 74/74 [00:01<00:00, 66.55batch/s, loss=2.4] \n"
     ]
    },
    {
     "name": "stdout",
     "output_type": "stream",
     "text": [
      "Epoch [772/1000], Average Loss: 6.3766\n"
     ]
    },
    {
     "name": "stderr",
     "output_type": "stream",
     "text": [
      "Epoch 773/1000: 100%|██████████| 74/74 [00:01<00:00, 61.31batch/s, loss=2.41]\n"
     ]
    },
    {
     "name": "stdout",
     "output_type": "stream",
     "text": [
      "Epoch [773/1000], Average Loss: 6.3770\n"
     ]
    },
    {
     "name": "stderr",
     "output_type": "stream",
     "text": [
      "Epoch 774/1000: 100%|██████████| 74/74 [00:01<00:00, 67.11batch/s, loss=2.41]\n"
     ]
    },
    {
     "name": "stdout",
     "output_type": "stream",
     "text": [
      "Epoch [774/1000], Average Loss: 6.3796\n"
     ]
    },
    {
     "name": "stderr",
     "output_type": "stream",
     "text": [
      "Epoch 775/1000: 100%|██████████| 74/74 [00:01<00:00, 71.02batch/s, loss=2.42]\n"
     ]
    },
    {
     "name": "stdout",
     "output_type": "stream",
     "text": [
      "Epoch [775/1000], Average Loss: 6.3775\n"
     ]
    },
    {
     "name": "stderr",
     "output_type": "stream",
     "text": [
      "Epoch 776/1000: 100%|██████████| 74/74 [00:01<00:00, 67.11batch/s, loss=2.4] \n"
     ]
    },
    {
     "name": "stdout",
     "output_type": "stream",
     "text": [
      "Epoch [776/1000], Average Loss: 6.3756\n"
     ]
    },
    {
     "name": "stderr",
     "output_type": "stream",
     "text": [
      "Epoch 777/1000: 100%|██████████| 74/74 [00:01<00:00, 58.89batch/s, loss=2.4] \n"
     ]
    },
    {
     "name": "stdout",
     "output_type": "stream",
     "text": [
      "Epoch [777/1000], Average Loss: 6.3739\n"
     ]
    },
    {
     "name": "stderr",
     "output_type": "stream",
     "text": [
      "Epoch 778/1000: 100%|██████████| 74/74 [00:01<00:00, 59.53batch/s, loss=2.4] \n"
     ]
    },
    {
     "name": "stdout",
     "output_type": "stream",
     "text": [
      "Epoch [778/1000], Average Loss: 6.3709\n"
     ]
    },
    {
     "name": "stderr",
     "output_type": "stream",
     "text": [
      "Epoch 779/1000: 100%|██████████| 74/74 [00:01<00:00, 70.23batch/s, loss=2.38]\n"
     ]
    },
    {
     "name": "stdout",
     "output_type": "stream",
     "text": [
      "Epoch [779/1000], Average Loss: 6.3689\n"
     ]
    },
    {
     "name": "stderr",
     "output_type": "stream",
     "text": [
      "Epoch 780/1000: 100%|██████████| 74/74 [00:01<00:00, 67.34batch/s, loss=2.39]\n"
     ]
    },
    {
     "name": "stdout",
     "output_type": "stream",
     "text": [
      "Epoch [780/1000], Average Loss: 6.3701\n"
     ]
    },
    {
     "name": "stderr",
     "output_type": "stream",
     "text": [
      "Epoch 781/1000: 100%|██████████| 74/74 [00:01<00:00, 60.69batch/s, loss=2.4] \n"
     ]
    },
    {
     "name": "stdout",
     "output_type": "stream",
     "text": [
      "Epoch [781/1000], Average Loss: 6.3729\n"
     ]
    },
    {
     "name": "stderr",
     "output_type": "stream",
     "text": [
      "Epoch 782/1000: 100%|██████████| 74/74 [00:01<00:00, 64.67batch/s, loss=2.41]\n"
     ]
    },
    {
     "name": "stdout",
     "output_type": "stream",
     "text": [
      "Epoch [782/1000], Average Loss: 6.3739\n"
     ]
    },
    {
     "name": "stderr",
     "output_type": "stream",
     "text": [
      "Epoch 783/1000: 100%|██████████| 74/74 [00:01<00:00, 69.55batch/s, loss=2.39]\n"
     ]
    },
    {
     "name": "stdout",
     "output_type": "stream",
     "text": [
      "Epoch [783/1000], Average Loss: 6.3718\n"
     ]
    },
    {
     "name": "stderr",
     "output_type": "stream",
     "text": [
      "Epoch 784/1000: 100%|██████████| 74/74 [00:01<00:00, 70.56batch/s, loss=2.42]\n"
     ]
    },
    {
     "name": "stdout",
     "output_type": "stream",
     "text": [
      "Epoch [784/1000], Average Loss: 6.3757\n"
     ]
    },
    {
     "name": "stderr",
     "output_type": "stream",
     "text": [
      "Epoch 785/1000: 100%|██████████| 74/74 [00:01<00:00, 67.27batch/s, loss=2.41]\n"
     ]
    },
    {
     "name": "stdout",
     "output_type": "stream",
     "text": [
      "Epoch [785/1000], Average Loss: 6.3729\n"
     ]
    },
    {
     "name": "stderr",
     "output_type": "stream",
     "text": [
      "Epoch 786/1000: 100%|██████████| 74/74 [00:01<00:00, 60.66batch/s, loss=2.41]\n"
     ]
    },
    {
     "name": "stdout",
     "output_type": "stream",
     "text": [
      "Epoch [786/1000], Average Loss: 6.3703\n"
     ]
    },
    {
     "name": "stderr",
     "output_type": "stream",
     "text": [
      "Epoch 787/1000: 100%|██████████| 74/74 [00:01<00:00, 68.68batch/s, loss=2.39]\n"
     ]
    },
    {
     "name": "stdout",
     "output_type": "stream",
     "text": [
      "Epoch [787/1000], Average Loss: 6.3727\n"
     ]
    },
    {
     "name": "stderr",
     "output_type": "stream",
     "text": [
      "Epoch 788/1000: 100%|██████████| 74/74 [00:01<00:00, 69.73batch/s, loss=2.4] \n"
     ]
    },
    {
     "name": "stdout",
     "output_type": "stream",
     "text": [
      "Epoch [788/1000], Average Loss: 6.3725\n"
     ]
    },
    {
     "name": "stderr",
     "output_type": "stream",
     "text": [
      "Epoch 789/1000: 100%|██████████| 74/74 [00:01<00:00, 63.86batch/s, loss=2.39]\n"
     ]
    },
    {
     "name": "stdout",
     "output_type": "stream",
     "text": [
      "Epoch [789/1000], Average Loss: 6.3717\n"
     ]
    },
    {
     "name": "stderr",
     "output_type": "stream",
     "text": [
      "Epoch 790/1000: 100%|██████████| 74/74 [00:01<00:00, 65.33batch/s, loss=2.43]\n"
     ]
    },
    {
     "name": "stdout",
     "output_type": "stream",
     "text": [
      "Epoch [790/1000], Average Loss: 6.3723\n"
     ]
    },
    {
     "name": "stderr",
     "output_type": "stream",
     "text": [
      "Epoch 791/1000: 100%|██████████| 74/74 [00:01<00:00, 62.84batch/s, loss=2.39]\n"
     ]
    },
    {
     "name": "stdout",
     "output_type": "stream",
     "text": [
      "Epoch [791/1000], Average Loss: 6.3715\n"
     ]
    },
    {
     "name": "stderr",
     "output_type": "stream",
     "text": [
      "Epoch 792/1000: 100%|██████████| 74/74 [00:01<00:00, 65.67batch/s, loss=2.38]\n"
     ]
    },
    {
     "name": "stdout",
     "output_type": "stream",
     "text": [
      "Epoch [792/1000], Average Loss: 6.3713\n"
     ]
    },
    {
     "name": "stderr",
     "output_type": "stream",
     "text": [
      "Epoch 793/1000: 100%|██████████| 74/74 [00:01<00:00, 61.76batch/s, loss=2.4] \n"
     ]
    },
    {
     "name": "stdout",
     "output_type": "stream",
     "text": [
      "Epoch [793/1000], Average Loss: 6.3724\n"
     ]
    },
    {
     "name": "stderr",
     "output_type": "stream",
     "text": [
      "Epoch 794/1000: 100%|██████████| 74/74 [00:01<00:00, 66.63batch/s, loss=2.4] \n"
     ]
    },
    {
     "name": "stdout",
     "output_type": "stream",
     "text": [
      "Epoch [794/1000], Average Loss: 6.3714\n"
     ]
    },
    {
     "name": "stderr",
     "output_type": "stream",
     "text": [
      "Epoch 795/1000: 100%|██████████| 74/74 [00:01<00:00, 64.48batch/s, loss=2.41]\n"
     ]
    },
    {
     "name": "stdout",
     "output_type": "stream",
     "text": [
      "Epoch [795/1000], Average Loss: 6.3744\n"
     ]
    },
    {
     "name": "stderr",
     "output_type": "stream",
     "text": [
      "Epoch 796/1000: 100%|██████████| 74/74 [00:01<00:00, 66.82batch/s, loss=2.42]\n"
     ]
    },
    {
     "name": "stdout",
     "output_type": "stream",
     "text": [
      "Epoch [796/1000], Average Loss: 6.3743\n"
     ]
    },
    {
     "name": "stderr",
     "output_type": "stream",
     "text": [
      "Epoch 797/1000: 100%|██████████| 74/74 [00:01<00:00, 66.83batch/s, loss=2.39]\n"
     ]
    },
    {
     "name": "stdout",
     "output_type": "stream",
     "text": [
      "Epoch [797/1000], Average Loss: 6.3711\n"
     ]
    },
    {
     "name": "stderr",
     "output_type": "stream",
     "text": [
      "Epoch 798/1000: 100%|██████████| 74/74 [00:01<00:00, 55.56batch/s, loss=2.4] \n"
     ]
    },
    {
     "name": "stdout",
     "output_type": "stream",
     "text": [
      "Epoch [798/1000], Average Loss: 6.3716\n"
     ]
    },
    {
     "name": "stderr",
     "output_type": "stream",
     "text": [
      "Epoch 799/1000: 100%|██████████| 74/74 [00:01<00:00, 63.69batch/s, loss=2.42]\n"
     ]
    },
    {
     "name": "stdout",
     "output_type": "stream",
     "text": [
      "Epoch [799/1000], Average Loss: 6.3701\n"
     ]
    },
    {
     "name": "stderr",
     "output_type": "stream",
     "text": [
      "Epoch 800/1000: 100%|██████████| 74/74 [00:01<00:00, 63.13batch/s, loss=2.4] \n"
     ]
    },
    {
     "name": "stdout",
     "output_type": "stream",
     "text": [
      "Epoch [800/1000], Average Loss: 6.3747\n"
     ]
    },
    {
     "name": "stderr",
     "output_type": "stream",
     "text": [
      "Epoch 801/1000: 100%|██████████| 74/74 [00:01<00:00, 69.51batch/s, loss=2.4] \n"
     ]
    },
    {
     "name": "stdout",
     "output_type": "stream",
     "text": [
      "Epoch [801/1000], Average Loss: 6.3737\n"
     ]
    },
    {
     "name": "stderr",
     "output_type": "stream",
     "text": [
      "Epoch 802/1000: 100%|██████████| 74/74 [00:01<00:00, 67.25batch/s, loss=2.4] \n"
     ]
    },
    {
     "name": "stdout",
     "output_type": "stream",
     "text": [
      "Epoch [802/1000], Average Loss: 6.3750\n"
     ]
    },
    {
     "name": "stderr",
     "output_type": "stream",
     "text": [
      "Epoch 803/1000: 100%|██████████| 74/74 [00:01<00:00, 59.49batch/s, loss=2.39]\n"
     ]
    },
    {
     "name": "stdout",
     "output_type": "stream",
     "text": [
      "Epoch [803/1000], Average Loss: 6.3722\n"
     ]
    },
    {
     "name": "stderr",
     "output_type": "stream",
     "text": [
      "Epoch 804/1000: 100%|██████████| 74/74 [00:01<00:00, 71.64batch/s, loss=2.39]\n"
     ]
    },
    {
     "name": "stdout",
     "output_type": "stream",
     "text": [
      "Epoch [804/1000], Average Loss: 6.3676\n"
     ]
    },
    {
     "name": "stderr",
     "output_type": "stream",
     "text": [
      "Epoch 805/1000: 100%|██████████| 74/74 [00:01<00:00, 65.72batch/s, loss=2.4] \n"
     ]
    },
    {
     "name": "stdout",
     "output_type": "stream",
     "text": [
      "Epoch [805/1000], Average Loss: 6.3696\n"
     ]
    },
    {
     "name": "stderr",
     "output_type": "stream",
     "text": [
      "Epoch 806/1000: 100%|██████████| 74/74 [00:01<00:00, 62.59batch/s, loss=2.4] \n"
     ]
    },
    {
     "name": "stdout",
     "output_type": "stream",
     "text": [
      "Epoch [806/1000], Average Loss: 6.3707\n"
     ]
    },
    {
     "name": "stderr",
     "output_type": "stream",
     "text": [
      "Epoch 807/1000: 100%|██████████| 74/74 [00:01<00:00, 72.86batch/s, loss=2.4] \n"
     ]
    },
    {
     "name": "stdout",
     "output_type": "stream",
     "text": [
      "Epoch [807/1000], Average Loss: 6.3712\n"
     ]
    },
    {
     "name": "stderr",
     "output_type": "stream",
     "text": [
      "Epoch 808/1000: 100%|██████████| 74/74 [00:01<00:00, 63.19batch/s, loss=2.41]\n"
     ]
    },
    {
     "name": "stdout",
     "output_type": "stream",
     "text": [
      "Epoch [808/1000], Average Loss: 6.3716\n"
     ]
    },
    {
     "name": "stderr",
     "output_type": "stream",
     "text": [
      "Epoch 809/1000: 100%|██████████| 74/74 [00:01<00:00, 68.76batch/s, loss=2.45]\n"
     ]
    },
    {
     "name": "stdout",
     "output_type": "stream",
     "text": [
      "Epoch [809/1000], Average Loss: 6.3717\n"
     ]
    },
    {
     "name": "stderr",
     "output_type": "stream",
     "text": [
      "Epoch 810/1000: 100%|██████████| 74/74 [00:01<00:00, 71.75batch/s, loss=2.4] \n"
     ]
    },
    {
     "name": "stdout",
     "output_type": "stream",
     "text": [
      "Epoch [810/1000], Average Loss: 6.3690\n"
     ]
    },
    {
     "name": "stderr",
     "output_type": "stream",
     "text": [
      "Epoch 811/1000: 100%|██████████| 74/74 [00:01<00:00, 63.36batch/s, loss=2.43]\n"
     ]
    },
    {
     "name": "stdout",
     "output_type": "stream",
     "text": [
      "Epoch [811/1000], Average Loss: 6.3711\n"
     ]
    },
    {
     "name": "stderr",
     "output_type": "stream",
     "text": [
      "Epoch 812/1000: 100%|██████████| 74/74 [00:01<00:00, 68.51batch/s, loss=2.39]\n"
     ]
    },
    {
     "name": "stdout",
     "output_type": "stream",
     "text": [
      "Epoch [812/1000], Average Loss: 6.3675\n"
     ]
    },
    {
     "name": "stderr",
     "output_type": "stream",
     "text": [
      "Epoch 813/1000: 100%|██████████| 74/74 [00:01<00:00, 64.93batch/s, loss=2.39]\n"
     ]
    },
    {
     "name": "stdout",
     "output_type": "stream",
     "text": [
      "Epoch [813/1000], Average Loss: 6.3691\n"
     ]
    },
    {
     "name": "stderr",
     "output_type": "stream",
     "text": [
      "Epoch 814/1000: 100%|██████████| 74/74 [00:01<00:00, 65.96batch/s, loss=2.4] \n"
     ]
    },
    {
     "name": "stdout",
     "output_type": "stream",
     "text": [
      "Epoch [814/1000], Average Loss: 6.3700\n"
     ]
    },
    {
     "name": "stderr",
     "output_type": "stream",
     "text": [
      "Epoch 815/1000: 100%|██████████| 74/74 [00:01<00:00, 63.63batch/s, loss=2.4] \n"
     ]
    },
    {
     "name": "stdout",
     "output_type": "stream",
     "text": [
      "Epoch [815/1000], Average Loss: 6.3684\n"
     ]
    },
    {
     "name": "stderr",
     "output_type": "stream",
     "text": [
      "Epoch 816/1000: 100%|██████████| 74/74 [00:01<00:00, 60.30batch/s, loss=2.37]\n"
     ]
    },
    {
     "name": "stdout",
     "output_type": "stream",
     "text": [
      "Epoch [816/1000], Average Loss: 6.3728\n"
     ]
    },
    {
     "name": "stderr",
     "output_type": "stream",
     "text": [
      "Epoch 817/1000: 100%|██████████| 74/74 [00:01<00:00, 65.83batch/s, loss=2.39]\n"
     ]
    },
    {
     "name": "stdout",
     "output_type": "stream",
     "text": [
      "Epoch [817/1000], Average Loss: 6.3737\n"
     ]
    },
    {
     "name": "stderr",
     "output_type": "stream",
     "text": [
      "Epoch 818/1000: 100%|██████████| 74/74 [00:01<00:00, 66.24batch/s, loss=2.4] \n"
     ]
    },
    {
     "name": "stdout",
     "output_type": "stream",
     "text": [
      "Epoch [818/1000], Average Loss: 6.3722\n"
     ]
    },
    {
     "name": "stderr",
     "output_type": "stream",
     "text": [
      "Epoch 819/1000: 100%|██████████| 74/74 [00:01<00:00, 58.57batch/s, loss=2.43]\n"
     ]
    },
    {
     "name": "stdout",
     "output_type": "stream",
     "text": [
      "Epoch [819/1000], Average Loss: 6.3750\n"
     ]
    },
    {
     "name": "stderr",
     "output_type": "stream",
     "text": [
      "Epoch 820/1000: 100%|██████████| 74/74 [00:01<00:00, 57.32batch/s, loss=2.41]\n"
     ]
    },
    {
     "name": "stdout",
     "output_type": "stream",
     "text": [
      "Epoch [820/1000], Average Loss: 6.3739\n"
     ]
    },
    {
     "name": "stderr",
     "output_type": "stream",
     "text": [
      "Epoch 821/1000: 100%|██████████| 74/74 [00:01<00:00, 57.30batch/s, loss=2.4] \n"
     ]
    },
    {
     "name": "stdout",
     "output_type": "stream",
     "text": [
      "Epoch [821/1000], Average Loss: 6.3691\n"
     ]
    },
    {
     "name": "stderr",
     "output_type": "stream",
     "text": [
      "Epoch 822/1000: 100%|██████████| 74/74 [00:01<00:00, 59.20batch/s, loss=2.41]\n"
     ]
    },
    {
     "name": "stdout",
     "output_type": "stream",
     "text": [
      "Epoch [822/1000], Average Loss: 6.3682\n"
     ]
    },
    {
     "name": "stderr",
     "output_type": "stream",
     "text": [
      "Epoch 823/1000: 100%|██████████| 74/74 [00:01<00:00, 64.04batch/s, loss=2.38]\n"
     ]
    },
    {
     "name": "stdout",
     "output_type": "stream",
     "text": [
      "Epoch [823/1000], Average Loss: 6.3679\n"
     ]
    },
    {
     "name": "stderr",
     "output_type": "stream",
     "text": [
      "Epoch 824/1000: 100%|██████████| 74/74 [00:01<00:00, 65.42batch/s, loss=2.41]\n"
     ]
    },
    {
     "name": "stdout",
     "output_type": "stream",
     "text": [
      "Epoch [824/1000], Average Loss: 6.3672\n"
     ]
    },
    {
     "name": "stderr",
     "output_type": "stream",
     "text": [
      "Epoch 825/1000: 100%|██████████| 74/74 [00:01<00:00, 63.38batch/s, loss=2.39]\n"
     ]
    },
    {
     "name": "stdout",
     "output_type": "stream",
     "text": [
      "Epoch [825/1000], Average Loss: 6.3667\n"
     ]
    },
    {
     "name": "stderr",
     "output_type": "stream",
     "text": [
      "Epoch 826/1000: 100%|██████████| 74/74 [00:01<00:00, 65.48batch/s, loss=2.39]\n"
     ]
    },
    {
     "name": "stdout",
     "output_type": "stream",
     "text": [
      "Epoch [826/1000], Average Loss: 6.3647\n"
     ]
    },
    {
     "name": "stderr",
     "output_type": "stream",
     "text": [
      "Epoch 827/1000: 100%|██████████| 74/74 [00:01<00:00, 60.28batch/s, loss=2.39]\n"
     ]
    },
    {
     "name": "stdout",
     "output_type": "stream",
     "text": [
      "Epoch [827/1000], Average Loss: 6.3674\n"
     ]
    },
    {
     "name": "stderr",
     "output_type": "stream",
     "text": [
      "Epoch 828/1000: 100%|██████████| 74/74 [00:01<00:00, 69.55batch/s, loss=2.4] \n"
     ]
    },
    {
     "name": "stdout",
     "output_type": "stream",
     "text": [
      "Epoch [828/1000], Average Loss: 6.3687\n"
     ]
    },
    {
     "name": "stderr",
     "output_type": "stream",
     "text": [
      "Epoch 829/1000: 100%|██████████| 74/74 [00:01<00:00, 57.13batch/s, loss=2.37]\n"
     ]
    },
    {
     "name": "stdout",
     "output_type": "stream",
     "text": [
      "Epoch [829/1000], Average Loss: 6.3673\n"
     ]
    },
    {
     "name": "stderr",
     "output_type": "stream",
     "text": [
      "Epoch 830/1000: 100%|██████████| 74/74 [00:01<00:00, 58.96batch/s, loss=2.43]\n"
     ]
    },
    {
     "name": "stdout",
     "output_type": "stream",
     "text": [
      "Epoch [830/1000], Average Loss: 6.3712\n"
     ]
    },
    {
     "name": "stderr",
     "output_type": "stream",
     "text": [
      "Epoch 831/1000: 100%|██████████| 74/74 [00:01<00:00, 65.68batch/s, loss=2.41]\n"
     ]
    },
    {
     "name": "stdout",
     "output_type": "stream",
     "text": [
      "Epoch [831/1000], Average Loss: 6.3674\n"
     ]
    },
    {
     "name": "stderr",
     "output_type": "stream",
     "text": [
      "Epoch 832/1000: 100%|██████████| 74/74 [00:01<00:00, 65.44batch/s, loss=2.41]\n"
     ]
    },
    {
     "name": "stdout",
     "output_type": "stream",
     "text": [
      "Epoch [832/1000], Average Loss: 6.3681\n"
     ]
    },
    {
     "name": "stderr",
     "output_type": "stream",
     "text": [
      "Epoch 833/1000: 100%|██████████| 74/74 [00:01<00:00, 59.95batch/s, loss=2.4] \n"
     ]
    },
    {
     "name": "stdout",
     "output_type": "stream",
     "text": [
      "Epoch [833/1000], Average Loss: 6.3672\n"
     ]
    },
    {
     "name": "stderr",
     "output_type": "stream",
     "text": [
      "Epoch 834/1000: 100%|██████████| 74/74 [00:01<00:00, 65.30batch/s, loss=2.4] \n"
     ]
    },
    {
     "name": "stdout",
     "output_type": "stream",
     "text": [
      "Epoch [834/1000], Average Loss: 6.3648\n"
     ]
    },
    {
     "name": "stderr",
     "output_type": "stream",
     "text": [
      "Epoch 835/1000: 100%|██████████| 74/74 [00:01<00:00, 65.23batch/s, loss=2.4] \n"
     ]
    },
    {
     "name": "stdout",
     "output_type": "stream",
     "text": [
      "Epoch [835/1000], Average Loss: 6.3643\n"
     ]
    },
    {
     "name": "stderr",
     "output_type": "stream",
     "text": [
      "Epoch 836/1000: 100%|██████████| 74/74 [00:01<00:00, 67.58batch/s, loss=2.4] \n"
     ]
    },
    {
     "name": "stdout",
     "output_type": "stream",
     "text": [
      "Epoch [836/1000], Average Loss: 6.3647\n"
     ]
    },
    {
     "name": "stderr",
     "output_type": "stream",
     "text": [
      "Epoch 837/1000: 100%|██████████| 74/74 [00:01<00:00, 59.05batch/s, loss=2.39]\n"
     ]
    },
    {
     "name": "stdout",
     "output_type": "stream",
     "text": [
      "Epoch [837/1000], Average Loss: 6.3651\n"
     ]
    },
    {
     "name": "stderr",
     "output_type": "stream",
     "text": [
      "Epoch 838/1000: 100%|██████████| 74/74 [00:01<00:00, 66.17batch/s, loss=2.42]\n"
     ]
    },
    {
     "name": "stdout",
     "output_type": "stream",
     "text": [
      "Epoch [838/1000], Average Loss: 6.3650\n"
     ]
    },
    {
     "name": "stderr",
     "output_type": "stream",
     "text": [
      "Epoch 839/1000: 100%|██████████| 74/74 [00:01<00:00, 66.30batch/s, loss=2.4] \n"
     ]
    },
    {
     "name": "stdout",
     "output_type": "stream",
     "text": [
      "Epoch [839/1000], Average Loss: 6.3673\n"
     ]
    },
    {
     "name": "stderr",
     "output_type": "stream",
     "text": [
      "Epoch 840/1000: 100%|██████████| 74/74 [00:01<00:00, 64.03batch/s, loss=2.39]\n"
     ]
    },
    {
     "name": "stdout",
     "output_type": "stream",
     "text": [
      "Epoch [840/1000], Average Loss: 6.3655\n"
     ]
    },
    {
     "name": "stderr",
     "output_type": "stream",
     "text": [
      "Epoch 841/1000: 100%|██████████| 74/74 [00:01<00:00, 57.02batch/s, loss=2.4] \n"
     ]
    },
    {
     "name": "stdout",
     "output_type": "stream",
     "text": [
      "Epoch [841/1000], Average Loss: 6.3662\n"
     ]
    },
    {
     "name": "stderr",
     "output_type": "stream",
     "text": [
      "Epoch 842/1000: 100%|██████████| 74/74 [00:01<00:00, 62.82batch/s, loss=2.41]\n"
     ]
    },
    {
     "name": "stdout",
     "output_type": "stream",
     "text": [
      "Epoch [842/1000], Average Loss: 6.3666\n"
     ]
    },
    {
     "name": "stderr",
     "output_type": "stream",
     "text": [
      "Epoch 843/1000: 100%|██████████| 74/74 [00:01<00:00, 62.29batch/s, loss=2.41]\n"
     ]
    },
    {
     "name": "stdout",
     "output_type": "stream",
     "text": [
      "Epoch [843/1000], Average Loss: 6.3665\n"
     ]
    },
    {
     "name": "stderr",
     "output_type": "stream",
     "text": [
      "Epoch 844/1000: 100%|██████████| 74/74 [00:01<00:00, 64.06batch/s, loss=2.41]\n"
     ]
    },
    {
     "name": "stdout",
     "output_type": "stream",
     "text": [
      "Epoch [844/1000], Average Loss: 6.3693\n"
     ]
    },
    {
     "name": "stderr",
     "output_type": "stream",
     "text": [
      "Epoch 845/1000: 100%|██████████| 74/74 [00:01<00:00, 60.83batch/s, loss=2.39]\n"
     ]
    },
    {
     "name": "stdout",
     "output_type": "stream",
     "text": [
      "Epoch [845/1000], Average Loss: 6.3692\n"
     ]
    },
    {
     "name": "stderr",
     "output_type": "stream",
     "text": [
      "Epoch 846/1000: 100%|██████████| 74/74 [00:01<00:00, 69.53batch/s, loss=2.41]\n"
     ]
    },
    {
     "name": "stdout",
     "output_type": "stream",
     "text": [
      "Epoch [846/1000], Average Loss: 6.3721\n"
     ]
    },
    {
     "name": "stderr",
     "output_type": "stream",
     "text": [
      "Epoch 847/1000: 100%|██████████| 74/74 [00:01<00:00, 66.28batch/s, loss=2.4] \n"
     ]
    },
    {
     "name": "stdout",
     "output_type": "stream",
     "text": [
      "Epoch [847/1000], Average Loss: 6.3750\n"
     ]
    },
    {
     "name": "stderr",
     "output_type": "stream",
     "text": [
      "Epoch 848/1000: 100%|██████████| 74/74 [00:01<00:00, 64.17batch/s, loss=2.4] \n"
     ]
    },
    {
     "name": "stdout",
     "output_type": "stream",
     "text": [
      "Epoch [848/1000], Average Loss: 6.3697\n"
     ]
    },
    {
     "name": "stderr",
     "output_type": "stream",
     "text": [
      "Epoch 849/1000: 100%|██████████| 74/74 [00:01<00:00, 56.59batch/s, loss=2.37]\n"
     ]
    },
    {
     "name": "stdout",
     "output_type": "stream",
     "text": [
      "Epoch [849/1000], Average Loss: 6.3666\n"
     ]
    },
    {
     "name": "stderr",
     "output_type": "stream",
     "text": [
      "Epoch 850/1000: 100%|██████████| 74/74 [00:01<00:00, 68.16batch/s, loss=2.44]\n"
     ]
    },
    {
     "name": "stdout",
     "output_type": "stream",
     "text": [
      "Epoch [850/1000], Average Loss: 6.3706\n"
     ]
    },
    {
     "name": "stderr",
     "output_type": "stream",
     "text": [
      "Epoch 851/1000: 100%|██████████| 74/74 [00:01<00:00, 64.30batch/s, loss=2.38]\n"
     ]
    },
    {
     "name": "stdout",
     "output_type": "stream",
     "text": [
      "Epoch [851/1000], Average Loss: 6.3704\n"
     ]
    },
    {
     "name": "stderr",
     "output_type": "stream",
     "text": [
      "Epoch 852/1000: 100%|██████████| 74/74 [00:01<00:00, 58.12batch/s, loss=2.39]\n"
     ]
    },
    {
     "name": "stdout",
     "output_type": "stream",
     "text": [
      "Epoch [852/1000], Average Loss: 6.3711\n"
     ]
    },
    {
     "name": "stderr",
     "output_type": "stream",
     "text": [
      "Epoch 853/1000: 100%|██████████| 74/74 [00:01<00:00, 63.46batch/s, loss=2.38]\n"
     ]
    },
    {
     "name": "stdout",
     "output_type": "stream",
     "text": [
      "Epoch [853/1000], Average Loss: 6.3702\n"
     ]
    },
    {
     "name": "stderr",
     "output_type": "stream",
     "text": [
      "Epoch 854/1000: 100%|██████████| 74/74 [00:01<00:00, 61.84batch/s, loss=2.38]\n"
     ]
    },
    {
     "name": "stdout",
     "output_type": "stream",
     "text": [
      "Epoch [854/1000], Average Loss: 6.3696\n"
     ]
    },
    {
     "name": "stderr",
     "output_type": "stream",
     "text": [
      "Epoch 855/1000: 100%|██████████| 74/74 [00:01<00:00, 62.23batch/s, loss=2.4] \n"
     ]
    },
    {
     "name": "stdout",
     "output_type": "stream",
     "text": [
      "Epoch [855/1000], Average Loss: 6.3692\n"
     ]
    },
    {
     "name": "stderr",
     "output_type": "stream",
     "text": [
      "Epoch 856/1000: 100%|██████████| 74/74 [00:01<00:00, 59.78batch/s, loss=2.41]\n"
     ]
    },
    {
     "name": "stdout",
     "output_type": "stream",
     "text": [
      "Epoch [856/1000], Average Loss: 6.3696\n"
     ]
    },
    {
     "name": "stderr",
     "output_type": "stream",
     "text": [
      "Epoch 857/1000: 100%|██████████| 74/74 [00:01<00:00, 66.50batch/s, loss=2.39]\n"
     ]
    },
    {
     "name": "stdout",
     "output_type": "stream",
     "text": [
      "Epoch [857/1000], Average Loss: 6.3699\n"
     ]
    },
    {
     "name": "stderr",
     "output_type": "stream",
     "text": [
      "Epoch 858/1000: 100%|██████████| 74/74 [00:01<00:00, 62.87batch/s, loss=2.41]\n"
     ]
    },
    {
     "name": "stdout",
     "output_type": "stream",
     "text": [
      "Epoch [858/1000], Average Loss: 6.3685\n"
     ]
    },
    {
     "name": "stderr",
     "output_type": "stream",
     "text": [
      "Epoch 859/1000: 100%|██████████| 74/74 [00:01<00:00, 57.62batch/s, loss=2.39]\n"
     ]
    },
    {
     "name": "stdout",
     "output_type": "stream",
     "text": [
      "Epoch [859/1000], Average Loss: 6.3676\n"
     ]
    },
    {
     "name": "stderr",
     "output_type": "stream",
     "text": [
      "Epoch 860/1000: 100%|██████████| 74/74 [00:01<00:00, 68.66batch/s, loss=2.4] \n"
     ]
    },
    {
     "name": "stdout",
     "output_type": "stream",
     "text": [
      "Epoch [860/1000], Average Loss: 6.3646\n"
     ]
    },
    {
     "name": "stderr",
     "output_type": "stream",
     "text": [
      "Epoch 861/1000: 100%|██████████| 74/74 [00:01<00:00, 67.19batch/s, loss=2.43]\n"
     ]
    },
    {
     "name": "stdout",
     "output_type": "stream",
     "text": [
      "Epoch [861/1000], Average Loss: 6.3604\n"
     ]
    },
    {
     "name": "stderr",
     "output_type": "stream",
     "text": [
      "Epoch 862/1000: 100%|██████████| 74/74 [00:01<00:00, 63.37batch/s, loss=2.39]\n"
     ]
    },
    {
     "name": "stdout",
     "output_type": "stream",
     "text": [
      "Epoch [862/1000], Average Loss: 6.3623\n"
     ]
    },
    {
     "name": "stderr",
     "output_type": "stream",
     "text": [
      "Epoch 863/1000: 100%|██████████| 74/74 [00:01<00:00, 61.40batch/s, loss=2.39]\n"
     ]
    },
    {
     "name": "stdout",
     "output_type": "stream",
     "text": [
      "Epoch [863/1000], Average Loss: 6.3625\n"
     ]
    },
    {
     "name": "stderr",
     "output_type": "stream",
     "text": [
      "Epoch 864/1000: 100%|██████████| 74/74 [00:01<00:00, 69.27batch/s, loss=2.4] \n"
     ]
    },
    {
     "name": "stdout",
     "output_type": "stream",
     "text": [
      "Epoch [864/1000], Average Loss: 6.3635\n"
     ]
    },
    {
     "name": "stderr",
     "output_type": "stream",
     "text": [
      "Epoch 865/1000: 100%|██████████| 74/74 [00:01<00:00, 65.06batch/s, loss=2.39]\n"
     ]
    },
    {
     "name": "stdout",
     "output_type": "stream",
     "text": [
      "Epoch [865/1000], Average Loss: 6.3628\n"
     ]
    },
    {
     "name": "stderr",
     "output_type": "stream",
     "text": [
      "Epoch 866/1000: 100%|██████████| 74/74 [00:01<00:00, 65.52batch/s, loss=2.45]\n"
     ]
    },
    {
     "name": "stdout",
     "output_type": "stream",
     "text": [
      "Epoch [866/1000], Average Loss: 6.3630\n"
     ]
    },
    {
     "name": "stderr",
     "output_type": "stream",
     "text": [
      "Epoch 867/1000: 100%|██████████| 74/74 [00:01<00:00, 66.90batch/s, loss=2.4] \n"
     ]
    },
    {
     "name": "stdout",
     "output_type": "stream",
     "text": [
      "Epoch [867/1000], Average Loss: 6.3617\n"
     ]
    },
    {
     "name": "stderr",
     "output_type": "stream",
     "text": [
      "Epoch 868/1000: 100%|██████████| 74/74 [00:01<00:00, 68.86batch/s, loss=2.41]\n"
     ]
    },
    {
     "name": "stdout",
     "output_type": "stream",
     "text": [
      "Epoch [868/1000], Average Loss: 6.3594\n"
     ]
    },
    {
     "name": "stderr",
     "output_type": "stream",
     "text": [
      "Epoch 869/1000: 100%|██████████| 74/74 [00:01<00:00, 64.14batch/s, loss=2.38]\n"
     ]
    },
    {
     "name": "stdout",
     "output_type": "stream",
     "text": [
      "Epoch [869/1000], Average Loss: 6.3626\n"
     ]
    },
    {
     "name": "stderr",
     "output_type": "stream",
     "text": [
      "Epoch 870/1000: 100%|██████████| 74/74 [00:01<00:00, 66.35batch/s, loss=2.37]\n"
     ]
    },
    {
     "name": "stdout",
     "output_type": "stream",
     "text": [
      "Epoch [870/1000], Average Loss: 6.3697\n"
     ]
    },
    {
     "name": "stderr",
     "output_type": "stream",
     "text": [
      "Epoch 871/1000: 100%|██████████| 74/74 [00:01<00:00, 66.33batch/s, loss=2.41]\n"
     ]
    },
    {
     "name": "stdout",
     "output_type": "stream",
     "text": [
      "Epoch [871/1000], Average Loss: 6.3685\n"
     ]
    },
    {
     "name": "stderr",
     "output_type": "stream",
     "text": [
      "Epoch 872/1000: 100%|██████████| 74/74 [00:01<00:00, 69.00batch/s, loss=2.4] \n"
     ]
    },
    {
     "name": "stdout",
     "output_type": "stream",
     "text": [
      "Epoch [872/1000], Average Loss: 6.3674\n"
     ]
    },
    {
     "name": "stderr",
     "output_type": "stream",
     "text": [
      "Epoch 873/1000: 100%|██████████| 74/74 [00:01<00:00, 63.31batch/s, loss=2.4] \n"
     ]
    },
    {
     "name": "stdout",
     "output_type": "stream",
     "text": [
      "Epoch [873/1000], Average Loss: 6.3697\n"
     ]
    },
    {
     "name": "stderr",
     "output_type": "stream",
     "text": [
      "Epoch 874/1000: 100%|██████████| 74/74 [00:01<00:00, 64.16batch/s, loss=2.38]\n"
     ]
    },
    {
     "name": "stdout",
     "output_type": "stream",
     "text": [
      "Epoch [874/1000], Average Loss: 6.3726\n"
     ]
    },
    {
     "name": "stderr",
     "output_type": "stream",
     "text": [
      "Epoch 875/1000: 100%|██████████| 74/74 [00:01<00:00, 63.22batch/s, loss=2.39]\n"
     ]
    },
    {
     "name": "stdout",
     "output_type": "stream",
     "text": [
      "Epoch [875/1000], Average Loss: 6.3696\n"
     ]
    },
    {
     "name": "stderr",
     "output_type": "stream",
     "text": [
      "Epoch 876/1000: 100%|██████████| 74/74 [00:01<00:00, 59.54batch/s, loss=2.4] \n"
     ]
    },
    {
     "name": "stdout",
     "output_type": "stream",
     "text": [
      "Epoch [876/1000], Average Loss: 6.3642\n"
     ]
    },
    {
     "name": "stderr",
     "output_type": "stream",
     "text": [
      "Epoch 877/1000: 100%|██████████| 74/74 [00:01<00:00, 65.37batch/s, loss=2.38]\n"
     ]
    },
    {
     "name": "stdout",
     "output_type": "stream",
     "text": [
      "Epoch [877/1000], Average Loss: 6.3642\n"
     ]
    },
    {
     "name": "stderr",
     "output_type": "stream",
     "text": [
      "Epoch 878/1000: 100%|██████████| 74/74 [00:01<00:00, 71.13batch/s, loss=2.39]\n"
     ]
    },
    {
     "name": "stdout",
     "output_type": "stream",
     "text": [
      "Epoch [878/1000], Average Loss: 6.3646\n"
     ]
    },
    {
     "name": "stderr",
     "output_type": "stream",
     "text": [
      "Epoch 879/1000: 100%|██████████| 74/74 [00:01<00:00, 71.45batch/s, loss=2.4] \n"
     ]
    },
    {
     "name": "stdout",
     "output_type": "stream",
     "text": [
      "Epoch [879/1000], Average Loss: 6.3656\n"
     ]
    },
    {
     "name": "stderr",
     "output_type": "stream",
     "text": [
      "Epoch 880/1000: 100%|██████████| 74/74 [00:01<00:00, 67.15batch/s, loss=2.4] \n"
     ]
    },
    {
     "name": "stdout",
     "output_type": "stream",
     "text": [
      "Epoch [880/1000], Average Loss: 6.3646\n"
     ]
    },
    {
     "name": "stderr",
     "output_type": "stream",
     "text": [
      "Epoch 881/1000: 100%|██████████| 74/74 [00:01<00:00, 61.26batch/s, loss=2.41]\n"
     ]
    },
    {
     "name": "stdout",
     "output_type": "stream",
     "text": [
      "Epoch [881/1000], Average Loss: 6.3608\n"
     ]
    },
    {
     "name": "stderr",
     "output_type": "stream",
     "text": [
      "Epoch 882/1000: 100%|██████████| 74/74 [00:01<00:00, 65.23batch/s, loss=2.42]\n"
     ]
    },
    {
     "name": "stdout",
     "output_type": "stream",
     "text": [
      "Epoch [882/1000], Average Loss: 6.3626\n"
     ]
    },
    {
     "name": "stderr",
     "output_type": "stream",
     "text": [
      "Epoch 883/1000: 100%|██████████| 74/74 [00:01<00:00, 61.55batch/s, loss=2.41]\n"
     ]
    },
    {
     "name": "stdout",
     "output_type": "stream",
     "text": [
      "Epoch [883/1000], Average Loss: 6.3615\n"
     ]
    },
    {
     "name": "stderr",
     "output_type": "stream",
     "text": [
      "Epoch 884/1000: 100%|██████████| 74/74 [00:01<00:00, 68.50batch/s, loss=2.41]\n"
     ]
    },
    {
     "name": "stdout",
     "output_type": "stream",
     "text": [
      "Epoch [884/1000], Average Loss: 6.3625\n"
     ]
    },
    {
     "name": "stderr",
     "output_type": "stream",
     "text": [
      "Epoch 885/1000: 100%|██████████| 74/74 [00:01<00:00, 64.23batch/s, loss=2.39]\n"
     ]
    },
    {
     "name": "stdout",
     "output_type": "stream",
     "text": [
      "Epoch [885/1000], Average Loss: 6.3645\n"
     ]
    },
    {
     "name": "stderr",
     "output_type": "stream",
     "text": [
      "Epoch 886/1000: 100%|██████████| 74/74 [00:01<00:00, 59.58batch/s, loss=2.39]\n"
     ]
    },
    {
     "name": "stdout",
     "output_type": "stream",
     "text": [
      "Epoch [886/1000], Average Loss: 6.3614\n"
     ]
    },
    {
     "name": "stderr",
     "output_type": "stream",
     "text": [
      "Epoch 887/1000: 100%|██████████| 74/74 [00:01<00:00, 64.01batch/s, loss=2.39]\n"
     ]
    },
    {
     "name": "stdout",
     "output_type": "stream",
     "text": [
      "Epoch [887/1000], Average Loss: 6.3612\n"
     ]
    },
    {
     "name": "stderr",
     "output_type": "stream",
     "text": [
      "Epoch 888/1000: 100%|██████████| 74/74 [00:01<00:00, 69.74batch/s, loss=2.4] \n"
     ]
    },
    {
     "name": "stdout",
     "output_type": "stream",
     "text": [
      "Epoch [888/1000], Average Loss: 6.3625\n"
     ]
    },
    {
     "name": "stderr",
     "output_type": "stream",
     "text": [
      "Epoch 889/1000: 100%|██████████| 74/74 [00:01<00:00, 65.40batch/s, loss=2.4] \n"
     ]
    },
    {
     "name": "stdout",
     "output_type": "stream",
     "text": [
      "Epoch [889/1000], Average Loss: 6.3597\n"
     ]
    },
    {
     "name": "stderr",
     "output_type": "stream",
     "text": [
      "Epoch 890/1000: 100%|██████████| 74/74 [00:01<00:00, 58.03batch/s, loss=2.38]\n"
     ]
    },
    {
     "name": "stdout",
     "output_type": "stream",
     "text": [
      "Epoch [890/1000], Average Loss: 6.3632\n"
     ]
    },
    {
     "name": "stderr",
     "output_type": "stream",
     "text": [
      "Epoch 891/1000: 100%|██████████| 74/74 [00:00<00:00, 74.60batch/s, loss=2.38]\n"
     ]
    },
    {
     "name": "stdout",
     "output_type": "stream",
     "text": [
      "Epoch [891/1000], Average Loss: 6.3605\n"
     ]
    },
    {
     "name": "stderr",
     "output_type": "stream",
     "text": [
      "Epoch 892/1000: 100%|██████████| 74/74 [00:01<00:00, 60.02batch/s, loss=2.4] \n"
     ]
    },
    {
     "name": "stdout",
     "output_type": "stream",
     "text": [
      "Epoch [892/1000], Average Loss: 6.3610\n"
     ]
    },
    {
     "name": "stderr",
     "output_type": "stream",
     "text": [
      "Epoch 893/1000: 100%|██████████| 74/74 [00:01<00:00, 66.73batch/s, loss=2.39]\n"
     ]
    },
    {
     "name": "stdout",
     "output_type": "stream",
     "text": [
      "Epoch [893/1000], Average Loss: 6.3614\n"
     ]
    },
    {
     "name": "stderr",
     "output_type": "stream",
     "text": [
      "Epoch 894/1000: 100%|██████████| 74/74 [00:01<00:00, 65.85batch/s, loss=2.42]\n"
     ]
    },
    {
     "name": "stdout",
     "output_type": "stream",
     "text": [
      "Epoch [894/1000], Average Loss: 6.3626\n"
     ]
    },
    {
     "name": "stderr",
     "output_type": "stream",
     "text": [
      "Epoch 895/1000: 100%|██████████| 74/74 [00:01<00:00, 63.99batch/s, loss=2.43]\n"
     ]
    },
    {
     "name": "stdout",
     "output_type": "stream",
     "text": [
      "Epoch [895/1000], Average Loss: 6.3599\n"
     ]
    },
    {
     "name": "stderr",
     "output_type": "stream",
     "text": [
      "Epoch 896/1000: 100%|██████████| 74/74 [00:01<00:00, 67.63batch/s, loss=2.38]\n"
     ]
    },
    {
     "name": "stdout",
     "output_type": "stream",
     "text": [
      "Epoch [896/1000], Average Loss: 6.3602\n"
     ]
    },
    {
     "name": "stderr",
     "output_type": "stream",
     "text": [
      "Epoch 897/1000: 100%|██████████| 74/74 [00:01<00:00, 69.27batch/s, loss=2.4] \n"
     ]
    },
    {
     "name": "stdout",
     "output_type": "stream",
     "text": [
      "Epoch [897/1000], Average Loss: 6.3597\n"
     ]
    },
    {
     "name": "stderr",
     "output_type": "stream",
     "text": [
      "Epoch 898/1000: 100%|██████████| 74/74 [00:01<00:00, 66.69batch/s, loss=2.41]\n"
     ]
    },
    {
     "name": "stdout",
     "output_type": "stream",
     "text": [
      "Epoch [898/1000], Average Loss: 6.3601\n"
     ]
    },
    {
     "name": "stderr",
     "output_type": "stream",
     "text": [
      "Epoch 899/1000: 100%|██████████| 74/74 [00:01<00:00, 63.12batch/s, loss=2.39]\n"
     ]
    },
    {
     "name": "stdout",
     "output_type": "stream",
     "text": [
      "Epoch [899/1000], Average Loss: 6.3597\n"
     ]
    },
    {
     "name": "stderr",
     "output_type": "stream",
     "text": [
      "Epoch 900/1000: 100%|██████████| 74/74 [00:01<00:00, 68.10batch/s, loss=2.4] \n"
     ]
    },
    {
     "name": "stdout",
     "output_type": "stream",
     "text": [
      "Epoch [900/1000], Average Loss: 6.3597\n"
     ]
    },
    {
     "name": "stderr",
     "output_type": "stream",
     "text": [
      "Epoch 901/1000: 100%|██████████| 74/74 [00:01<00:00, 67.47batch/s, loss=2.39]\n"
     ]
    },
    {
     "name": "stdout",
     "output_type": "stream",
     "text": [
      "Epoch [901/1000], Average Loss: 6.3583\n"
     ]
    },
    {
     "name": "stderr",
     "output_type": "stream",
     "text": [
      "Epoch 902/1000: 100%|██████████| 74/74 [00:01<00:00, 63.46batch/s, loss=2.39]\n"
     ]
    },
    {
     "name": "stdout",
     "output_type": "stream",
     "text": [
      "Epoch [902/1000], Average Loss: 6.3605\n"
     ]
    },
    {
     "name": "stderr",
     "output_type": "stream",
     "text": [
      "Epoch 903/1000: 100%|██████████| 74/74 [00:01<00:00, 62.27batch/s, loss=2.38]\n"
     ]
    },
    {
     "name": "stdout",
     "output_type": "stream",
     "text": [
      "Epoch [903/1000], Average Loss: 6.3633\n"
     ]
    },
    {
     "name": "stderr",
     "output_type": "stream",
     "text": [
      "Epoch 904/1000: 100%|██████████| 74/74 [00:01<00:00, 64.67batch/s, loss=2.39]\n"
     ]
    },
    {
     "name": "stdout",
     "output_type": "stream",
     "text": [
      "Epoch [904/1000], Average Loss: 6.3633\n"
     ]
    },
    {
     "name": "stderr",
     "output_type": "stream",
     "text": [
      "Epoch 905/1000: 100%|██████████| 74/74 [00:01<00:00, 63.77batch/s, loss=2.41]\n"
     ]
    },
    {
     "name": "stdout",
     "output_type": "stream",
     "text": [
      "Epoch [905/1000], Average Loss: 6.3621\n"
     ]
    },
    {
     "name": "stderr",
     "output_type": "stream",
     "text": [
      "Epoch 906/1000: 100%|██████████| 74/74 [00:01<00:00, 68.32batch/s, loss=2.39]\n"
     ]
    },
    {
     "name": "stdout",
     "output_type": "stream",
     "text": [
      "Epoch [906/1000], Average Loss: 6.3605\n"
     ]
    },
    {
     "name": "stderr",
     "output_type": "stream",
     "text": [
      "Epoch 907/1000: 100%|██████████| 74/74 [00:01<00:00, 64.99batch/s, loss=2.39]\n"
     ]
    },
    {
     "name": "stdout",
     "output_type": "stream",
     "text": [
      "Epoch [907/1000], Average Loss: 6.3620\n"
     ]
    },
    {
     "name": "stderr",
     "output_type": "stream",
     "text": [
      "Epoch 908/1000: 100%|██████████| 74/74 [00:01<00:00, 59.95batch/s, loss=2.41]\n"
     ]
    },
    {
     "name": "stdout",
     "output_type": "stream",
     "text": [
      "Epoch [908/1000], Average Loss: 6.3622\n"
     ]
    },
    {
     "name": "stderr",
     "output_type": "stream",
     "text": [
      "Epoch 909/1000: 100%|██████████| 74/74 [00:01<00:00, 64.13batch/s, loss=2.36]\n"
     ]
    },
    {
     "name": "stdout",
     "output_type": "stream",
     "text": [
      "Epoch [909/1000], Average Loss: 6.3624\n"
     ]
    },
    {
     "name": "stderr",
     "output_type": "stream",
     "text": [
      "Epoch 910/1000: 100%|██████████| 74/74 [00:01<00:00, 65.85batch/s, loss=2.4] \n"
     ]
    },
    {
     "name": "stdout",
     "output_type": "stream",
     "text": [
      "Epoch [910/1000], Average Loss: 6.3623\n"
     ]
    },
    {
     "name": "stderr",
     "output_type": "stream",
     "text": [
      "Epoch 911/1000: 100%|██████████| 74/74 [00:01<00:00, 67.06batch/s, loss=2.4] \n"
     ]
    },
    {
     "name": "stdout",
     "output_type": "stream",
     "text": [
      "Epoch [911/1000], Average Loss: 6.3619\n"
     ]
    },
    {
     "name": "stderr",
     "output_type": "stream",
     "text": [
      "Epoch 912/1000: 100%|██████████| 74/74 [00:01<00:00, 66.33batch/s, loss=2.39]\n"
     ]
    },
    {
     "name": "stdout",
     "output_type": "stream",
     "text": [
      "Epoch [912/1000], Average Loss: 6.3596\n"
     ]
    },
    {
     "name": "stderr",
     "output_type": "stream",
     "text": [
      "Epoch 913/1000: 100%|██████████| 74/74 [00:01<00:00, 39.00batch/s, loss=2.39]\n"
     ]
    },
    {
     "name": "stdout",
     "output_type": "stream",
     "text": [
      "Epoch [913/1000], Average Loss: 6.3603\n"
     ]
    },
    {
     "name": "stderr",
     "output_type": "stream",
     "text": [
      "Epoch 914/1000: 100%|██████████| 74/74 [00:01<00:00, 65.10batch/s, loss=2.38]\n"
     ]
    },
    {
     "name": "stdout",
     "output_type": "stream",
     "text": [
      "Epoch [914/1000], Average Loss: 6.3634\n"
     ]
    },
    {
     "name": "stderr",
     "output_type": "stream",
     "text": [
      "Epoch 915/1000: 100%|██████████| 74/74 [00:01<00:00, 69.55batch/s, loss=2.39]\n"
     ]
    },
    {
     "name": "stdout",
     "output_type": "stream",
     "text": [
      "Epoch [915/1000], Average Loss: 6.3665\n"
     ]
    },
    {
     "name": "stderr",
     "output_type": "stream",
     "text": [
      "Epoch 916/1000: 100%|██████████| 74/74 [00:01<00:00, 65.34batch/s, loss=2.39]\n"
     ]
    },
    {
     "name": "stdout",
     "output_type": "stream",
     "text": [
      "Epoch [916/1000], Average Loss: 6.3646\n"
     ]
    },
    {
     "name": "stderr",
     "output_type": "stream",
     "text": [
      "Epoch 917/1000: 100%|██████████| 74/74 [00:01<00:00, 63.74batch/s, loss=2.38]\n"
     ]
    },
    {
     "name": "stdout",
     "output_type": "stream",
     "text": [
      "Epoch [917/1000], Average Loss: 6.3632\n"
     ]
    },
    {
     "name": "stderr",
     "output_type": "stream",
     "text": [
      "Epoch 918/1000: 100%|██████████| 74/74 [00:00<00:00, 74.54batch/s, loss=2.4] \n"
     ]
    },
    {
     "name": "stdout",
     "output_type": "stream",
     "text": [
      "Epoch [918/1000], Average Loss: 6.3634\n"
     ]
    },
    {
     "name": "stderr",
     "output_type": "stream",
     "text": [
      "Epoch 919/1000: 100%|██████████| 74/74 [00:00<00:00, 78.32batch/s, loss=2.41]\n"
     ]
    },
    {
     "name": "stdout",
     "output_type": "stream",
     "text": [
      "Epoch [919/1000], Average Loss: 6.3649\n"
     ]
    },
    {
     "name": "stderr",
     "output_type": "stream",
     "text": [
      "Epoch 920/1000: 100%|██████████| 74/74 [00:01<00:00, 62.96batch/s, loss=2.37]\n"
     ]
    },
    {
     "name": "stdout",
     "output_type": "stream",
     "text": [
      "Epoch [920/1000], Average Loss: 6.3648\n"
     ]
    },
    {
     "name": "stderr",
     "output_type": "stream",
     "text": [
      "Epoch 921/1000: 100%|██████████| 74/74 [00:01<00:00, 68.90batch/s, loss=2.33]\n"
     ]
    },
    {
     "name": "stdout",
     "output_type": "stream",
     "text": [
      "Epoch [921/1000], Average Loss: 6.3611\n"
     ]
    },
    {
     "name": "stderr",
     "output_type": "stream",
     "text": [
      "Epoch 922/1000: 100%|██████████| 74/74 [00:01<00:00, 67.63batch/s, loss=2.41]\n"
     ]
    },
    {
     "name": "stdout",
     "output_type": "stream",
     "text": [
      "Epoch [922/1000], Average Loss: 6.3589\n"
     ]
    },
    {
     "name": "stderr",
     "output_type": "stream",
     "text": [
      "Epoch 923/1000: 100%|██████████| 74/74 [00:01<00:00, 66.39batch/s, loss=2.39]\n"
     ]
    },
    {
     "name": "stdout",
     "output_type": "stream",
     "text": [
      "Epoch [923/1000], Average Loss: 6.3578\n"
     ]
    },
    {
     "name": "stderr",
     "output_type": "stream",
     "text": [
      "Epoch 924/1000: 100%|██████████| 74/74 [00:00<00:00, 74.08batch/s, loss=2.39]\n"
     ]
    },
    {
     "name": "stdout",
     "output_type": "stream",
     "text": [
      "Epoch [924/1000], Average Loss: 6.3557\n"
     ]
    },
    {
     "name": "stderr",
     "output_type": "stream",
     "text": [
      "Epoch 925/1000: 100%|██████████| 74/74 [00:01<00:00, 71.34batch/s, loss=2.39]\n"
     ]
    },
    {
     "name": "stdout",
     "output_type": "stream",
     "text": [
      "Epoch [925/1000], Average Loss: 6.3596\n"
     ]
    },
    {
     "name": "stderr",
     "output_type": "stream",
     "text": [
      "Epoch 926/1000: 100%|██████████| 74/74 [00:01<00:00, 61.73batch/s, loss=2.39]\n"
     ]
    },
    {
     "name": "stdout",
     "output_type": "stream",
     "text": [
      "Epoch [926/1000], Average Loss: 6.3576\n"
     ]
    },
    {
     "name": "stderr",
     "output_type": "stream",
     "text": [
      "Epoch 927/1000: 100%|██████████| 74/74 [00:01<00:00, 68.65batch/s, loss=2.38]\n"
     ]
    },
    {
     "name": "stdout",
     "output_type": "stream",
     "text": [
      "Epoch [927/1000], Average Loss: 6.3590\n"
     ]
    },
    {
     "name": "stderr",
     "output_type": "stream",
     "text": [
      "Epoch 928/1000: 100%|██████████| 74/74 [00:01<00:00, 70.24batch/s, loss=2.41]\n"
     ]
    },
    {
     "name": "stdout",
     "output_type": "stream",
     "text": [
      "Epoch [928/1000], Average Loss: 6.3591\n"
     ]
    },
    {
     "name": "stderr",
     "output_type": "stream",
     "text": [
      "Epoch 929/1000: 100%|██████████| 74/74 [00:01<00:00, 67.50batch/s, loss=2.4] \n"
     ]
    },
    {
     "name": "stdout",
     "output_type": "stream",
     "text": [
      "Epoch [929/1000], Average Loss: 6.3577\n"
     ]
    },
    {
     "name": "stderr",
     "output_type": "stream",
     "text": [
      "Epoch 930/1000: 100%|██████████| 74/74 [00:01<00:00, 62.13batch/s, loss=2.41]\n"
     ]
    },
    {
     "name": "stdout",
     "output_type": "stream",
     "text": [
      "Epoch [930/1000], Average Loss: 6.3584\n"
     ]
    },
    {
     "name": "stderr",
     "output_type": "stream",
     "text": [
      "Epoch 931/1000: 100%|██████████| 74/74 [00:01<00:00, 62.18batch/s, loss=2.4] \n"
     ]
    },
    {
     "name": "stdout",
     "output_type": "stream",
     "text": [
      "Epoch [931/1000], Average Loss: 6.3643\n"
     ]
    },
    {
     "name": "stderr",
     "output_type": "stream",
     "text": [
      "Epoch 932/1000: 100%|██████████| 74/74 [00:01<00:00, 66.08batch/s, loss=2.39]\n"
     ]
    },
    {
     "name": "stdout",
     "output_type": "stream",
     "text": [
      "Epoch [932/1000], Average Loss: 6.3589\n"
     ]
    },
    {
     "name": "stderr",
     "output_type": "stream",
     "text": [
      "Epoch 933/1000: 100%|██████████| 74/74 [00:01<00:00, 72.55batch/s, loss=2.4] \n"
     ]
    },
    {
     "name": "stdout",
     "output_type": "stream",
     "text": [
      "Epoch [933/1000], Average Loss: 6.3585\n"
     ]
    },
    {
     "name": "stderr",
     "output_type": "stream",
     "text": [
      "Epoch 934/1000: 100%|██████████| 74/74 [00:01<00:00, 63.70batch/s, loss=2.38]\n"
     ]
    },
    {
     "name": "stdout",
     "output_type": "stream",
     "text": [
      "Epoch [934/1000], Average Loss: 6.3574\n"
     ]
    },
    {
     "name": "stderr",
     "output_type": "stream",
     "text": [
      "Epoch 935/1000: 100%|██████████| 74/74 [00:01<00:00, 55.54batch/s, loss=2.4] \n"
     ]
    },
    {
     "name": "stdout",
     "output_type": "stream",
     "text": [
      "Epoch [935/1000], Average Loss: 6.3555\n"
     ]
    },
    {
     "name": "stderr",
     "output_type": "stream",
     "text": [
      "Epoch 936/1000: 100%|██████████| 74/74 [00:01<00:00, 64.94batch/s, loss=2.38]\n"
     ]
    },
    {
     "name": "stdout",
     "output_type": "stream",
     "text": [
      "Epoch [936/1000], Average Loss: 6.3572\n"
     ]
    },
    {
     "name": "stderr",
     "output_type": "stream",
     "text": [
      "Epoch 937/1000: 100%|██████████| 74/74 [00:01<00:00, 63.04batch/s, loss=2.38]\n"
     ]
    },
    {
     "name": "stdout",
     "output_type": "stream",
     "text": [
      "Epoch [937/1000], Average Loss: 6.3578\n"
     ]
    },
    {
     "name": "stderr",
     "output_type": "stream",
     "text": [
      "Epoch 938/1000: 100%|██████████| 74/74 [00:01<00:00, 69.83batch/s, loss=2.37]\n"
     ]
    },
    {
     "name": "stdout",
     "output_type": "stream",
     "text": [
      "Epoch [938/1000], Average Loss: 6.3607\n"
     ]
    },
    {
     "name": "stderr",
     "output_type": "stream",
     "text": [
      "Epoch 939/1000: 100%|██████████| 74/74 [00:01<00:00, 63.27batch/s, loss=2.39]\n"
     ]
    },
    {
     "name": "stdout",
     "output_type": "stream",
     "text": [
      "Epoch [939/1000], Average Loss: 6.3635\n"
     ]
    },
    {
     "name": "stderr",
     "output_type": "stream",
     "text": [
      "Epoch 940/1000: 100%|██████████| 74/74 [00:01<00:00, 70.01batch/s, loss=2.4] \n"
     ]
    },
    {
     "name": "stdout",
     "output_type": "stream",
     "text": [
      "Epoch [940/1000], Average Loss: 6.3612\n"
     ]
    },
    {
     "name": "stderr",
     "output_type": "stream",
     "text": [
      "Epoch 941/1000: 100%|██████████| 74/74 [00:01<00:00, 61.53batch/s, loss=2.39]\n"
     ]
    },
    {
     "name": "stdout",
     "output_type": "stream",
     "text": [
      "Epoch [941/1000], Average Loss: 6.3606\n"
     ]
    },
    {
     "name": "stderr",
     "output_type": "stream",
     "text": [
      "Epoch 942/1000: 100%|██████████| 74/74 [00:01<00:00, 70.45batch/s, loss=2.38]\n"
     ]
    },
    {
     "name": "stdout",
     "output_type": "stream",
     "text": [
      "Epoch [942/1000], Average Loss: 6.3586\n"
     ]
    },
    {
     "name": "stderr",
     "output_type": "stream",
     "text": [
      "Epoch 943/1000: 100%|██████████| 74/74 [00:01<00:00, 67.55batch/s, loss=2.4] \n"
     ]
    },
    {
     "name": "stdout",
     "output_type": "stream",
     "text": [
      "Epoch [943/1000], Average Loss: 6.3589\n"
     ]
    },
    {
     "name": "stderr",
     "output_type": "stream",
     "text": [
      "Epoch 944/1000: 100%|██████████| 74/74 [00:01<00:00, 66.42batch/s, loss=2.4] \n"
     ]
    },
    {
     "name": "stdout",
     "output_type": "stream",
     "text": [
      "Epoch [944/1000], Average Loss: 6.3574\n"
     ]
    },
    {
     "name": "stderr",
     "output_type": "stream",
     "text": [
      "Epoch 945/1000: 100%|██████████| 74/74 [00:01<00:00, 67.10batch/s, loss=2.39]\n"
     ]
    },
    {
     "name": "stdout",
     "output_type": "stream",
     "text": [
      "Epoch [945/1000], Average Loss: 6.3569\n"
     ]
    },
    {
     "name": "stderr",
     "output_type": "stream",
     "text": [
      "Epoch 946/1000: 100%|██████████| 74/74 [00:01<00:00, 56.26batch/s, loss=2.4] \n"
     ]
    },
    {
     "name": "stdout",
     "output_type": "stream",
     "text": [
      "Epoch [946/1000], Average Loss: 6.3571\n"
     ]
    },
    {
     "name": "stderr",
     "output_type": "stream",
     "text": [
      "Epoch 947/1000: 100%|██████████| 74/74 [00:01<00:00, 67.70batch/s, loss=2.41]\n"
     ]
    },
    {
     "name": "stdout",
     "output_type": "stream",
     "text": [
      "Epoch [947/1000], Average Loss: 6.3575\n"
     ]
    },
    {
     "name": "stderr",
     "output_type": "stream",
     "text": [
      "Epoch 948/1000: 100%|██████████| 74/74 [00:01<00:00, 69.10batch/s, loss=2.38]\n"
     ]
    },
    {
     "name": "stdout",
     "output_type": "stream",
     "text": [
      "Epoch [948/1000], Average Loss: 6.3551\n"
     ]
    },
    {
     "name": "stderr",
     "output_type": "stream",
     "text": [
      "Epoch 949/1000: 100%|██████████| 74/74 [00:01<00:00, 66.77batch/s, loss=2.4] \n"
     ]
    },
    {
     "name": "stdout",
     "output_type": "stream",
     "text": [
      "Epoch [949/1000], Average Loss: 6.3574\n"
     ]
    },
    {
     "name": "stderr",
     "output_type": "stream",
     "text": [
      "Epoch 950/1000: 100%|██████████| 74/74 [00:01<00:00, 62.23batch/s, loss=2.4] \n"
     ]
    },
    {
     "name": "stdout",
     "output_type": "stream",
     "text": [
      "Epoch [950/1000], Average Loss: 6.3554\n"
     ]
    },
    {
     "name": "stderr",
     "output_type": "stream",
     "text": [
      "Epoch 951/1000: 100%|██████████| 74/74 [00:01<00:00, 68.47batch/s, loss=2.37]\n"
     ]
    },
    {
     "name": "stdout",
     "output_type": "stream",
     "text": [
      "Epoch [951/1000], Average Loss: 6.3555\n"
     ]
    },
    {
     "name": "stderr",
     "output_type": "stream",
     "text": [
      "Epoch 952/1000: 100%|██████████| 74/74 [00:01<00:00, 66.94batch/s, loss=2.4] \n"
     ]
    },
    {
     "name": "stdout",
     "output_type": "stream",
     "text": [
      "Epoch [952/1000], Average Loss: 6.3572\n"
     ]
    },
    {
     "name": "stderr",
     "output_type": "stream",
     "text": [
      "Epoch 953/1000: 100%|██████████| 74/74 [00:01<00:00, 70.25batch/s, loss=2.39]\n"
     ]
    },
    {
     "name": "stdout",
     "output_type": "stream",
     "text": [
      "Epoch [953/1000], Average Loss: 6.3604\n"
     ]
    },
    {
     "name": "stderr",
     "output_type": "stream",
     "text": [
      "Epoch 954/1000: 100%|██████████| 74/74 [00:01<00:00, 63.62batch/s, loss=2.41]\n"
     ]
    },
    {
     "name": "stdout",
     "output_type": "stream",
     "text": [
      "Epoch [954/1000], Average Loss: 6.3603\n"
     ]
    },
    {
     "name": "stderr",
     "output_type": "stream",
     "text": [
      "Epoch 955/1000: 100%|██████████| 74/74 [00:01<00:00, 67.83batch/s, loss=2.4] \n"
     ]
    },
    {
     "name": "stdout",
     "output_type": "stream",
     "text": [
      "Epoch [955/1000], Average Loss: 6.3585\n"
     ]
    },
    {
     "name": "stderr",
     "output_type": "stream",
     "text": [
      "Epoch 956/1000: 100%|██████████| 74/74 [00:01<00:00, 65.14batch/s, loss=2.4] \n"
     ]
    },
    {
     "name": "stdout",
     "output_type": "stream",
     "text": [
      "Epoch [956/1000], Average Loss: 6.3581\n"
     ]
    },
    {
     "name": "stderr",
     "output_type": "stream",
     "text": [
      "Epoch 957/1000: 100%|██████████| 74/74 [00:01<00:00, 70.09batch/s, loss=2.4] \n"
     ]
    },
    {
     "name": "stdout",
     "output_type": "stream",
     "text": [
      "Epoch [957/1000], Average Loss: 6.3589\n"
     ]
    },
    {
     "name": "stderr",
     "output_type": "stream",
     "text": [
      "Epoch 958/1000: 100%|██████████| 74/74 [00:01<00:00, 66.35batch/s, loss=2.39]\n"
     ]
    },
    {
     "name": "stdout",
     "output_type": "stream",
     "text": [
      "Epoch [958/1000], Average Loss: 6.3556\n"
     ]
    },
    {
     "name": "stderr",
     "output_type": "stream",
     "text": [
      "Epoch 959/1000: 100%|██████████| 74/74 [00:00<00:00, 74.90batch/s, loss=2.4] \n"
     ]
    },
    {
     "name": "stdout",
     "output_type": "stream",
     "text": [
      "Epoch [959/1000], Average Loss: 6.3580\n"
     ]
    },
    {
     "name": "stderr",
     "output_type": "stream",
     "text": [
      "Epoch 960/1000: 100%|██████████| 74/74 [00:00<00:00, 76.01batch/s, loss=2.38]\n"
     ]
    },
    {
     "name": "stdout",
     "output_type": "stream",
     "text": [
      "Epoch [960/1000], Average Loss: 6.3547\n"
     ]
    },
    {
     "name": "stderr",
     "output_type": "stream",
     "text": [
      "Epoch 961/1000: 100%|██████████| 74/74 [00:01<00:00, 61.94batch/s, loss=2.39]\n"
     ]
    },
    {
     "name": "stdout",
     "output_type": "stream",
     "text": [
      "Epoch [961/1000], Average Loss: 6.3570\n"
     ]
    },
    {
     "name": "stderr",
     "output_type": "stream",
     "text": [
      "Epoch 962/1000: 100%|██████████| 74/74 [00:01<00:00, 73.43batch/s, loss=2.36]\n"
     ]
    },
    {
     "name": "stdout",
     "output_type": "stream",
     "text": [
      "Epoch [962/1000], Average Loss: 6.3543\n"
     ]
    },
    {
     "name": "stderr",
     "output_type": "stream",
     "text": [
      "Epoch 963/1000: 100%|██████████| 74/74 [00:01<00:00, 70.24batch/s, loss=2.41]\n"
     ]
    },
    {
     "name": "stdout",
     "output_type": "stream",
     "text": [
      "Epoch [963/1000], Average Loss: 6.3528\n"
     ]
    },
    {
     "name": "stderr",
     "output_type": "stream",
     "text": [
      "Epoch 964/1000: 100%|██████████| 74/74 [00:01<00:00, 66.29batch/s, loss=2.4] \n"
     ]
    },
    {
     "name": "stdout",
     "output_type": "stream",
     "text": [
      "Epoch [964/1000], Average Loss: 6.3552\n"
     ]
    },
    {
     "name": "stderr",
     "output_type": "stream",
     "text": [
      "Epoch 965/1000: 100%|██████████| 74/74 [00:01<00:00, 57.42batch/s, loss=2.39]\n"
     ]
    },
    {
     "name": "stdout",
     "output_type": "stream",
     "text": [
      "Epoch [965/1000], Average Loss: 6.3579\n"
     ]
    },
    {
     "name": "stderr",
     "output_type": "stream",
     "text": [
      "Epoch 966/1000: 100%|██████████| 74/74 [00:01<00:00, 63.24batch/s, loss=2.38]\n"
     ]
    },
    {
     "name": "stdout",
     "output_type": "stream",
     "text": [
      "Epoch [966/1000], Average Loss: 6.3544\n"
     ]
    },
    {
     "name": "stderr",
     "output_type": "stream",
     "text": [
      "Epoch 967/1000: 100%|██████████| 74/74 [00:01<00:00, 64.40batch/s, loss=2.4] \n"
     ]
    },
    {
     "name": "stdout",
     "output_type": "stream",
     "text": [
      "Epoch [967/1000], Average Loss: 6.3588\n"
     ]
    },
    {
     "name": "stderr",
     "output_type": "stream",
     "text": [
      "Epoch 968/1000: 100%|██████████| 74/74 [00:01<00:00, 60.27batch/s, loss=2.42]\n"
     ]
    },
    {
     "name": "stdout",
     "output_type": "stream",
     "text": [
      "Epoch [968/1000], Average Loss: 6.3548\n"
     ]
    },
    {
     "name": "stderr",
     "output_type": "stream",
     "text": [
      "Epoch 969/1000: 100%|██████████| 74/74 [00:01<00:00, 70.10batch/s, loss=2.4] \n"
     ]
    },
    {
     "name": "stdout",
     "output_type": "stream",
     "text": [
      "Epoch [969/1000], Average Loss: 6.3558\n"
     ]
    },
    {
     "name": "stderr",
     "output_type": "stream",
     "text": [
      "Epoch 970/1000: 100%|██████████| 74/74 [00:01<00:00, 70.80batch/s, loss=2.37]\n"
     ]
    },
    {
     "name": "stdout",
     "output_type": "stream",
     "text": [
      "Epoch [970/1000], Average Loss: 6.3604\n"
     ]
    },
    {
     "name": "stderr",
     "output_type": "stream",
     "text": [
      "Epoch 971/1000: 100%|██████████| 74/74 [00:01<00:00, 61.81batch/s, loss=2.42]\n"
     ]
    },
    {
     "name": "stdout",
     "output_type": "stream",
     "text": [
      "Epoch [971/1000], Average Loss: 6.3584\n"
     ]
    },
    {
     "name": "stderr",
     "output_type": "stream",
     "text": [
      "Epoch 972/1000: 100%|██████████| 74/74 [00:01<00:00, 62.29batch/s, loss=2.39]\n"
     ]
    },
    {
     "name": "stdout",
     "output_type": "stream",
     "text": [
      "Epoch [972/1000], Average Loss: 6.3558\n"
     ]
    },
    {
     "name": "stderr",
     "output_type": "stream",
     "text": [
      "Epoch 973/1000: 100%|██████████| 74/74 [00:01<00:00, 71.62batch/s, loss=2.39]\n"
     ]
    },
    {
     "name": "stdout",
     "output_type": "stream",
     "text": [
      "Epoch [973/1000], Average Loss: 6.3573\n"
     ]
    },
    {
     "name": "stderr",
     "output_type": "stream",
     "text": [
      "Epoch 974/1000: 100%|██████████| 74/74 [00:01<00:00, 68.55batch/s, loss=2.41]\n"
     ]
    },
    {
     "name": "stdout",
     "output_type": "stream",
     "text": [
      "Epoch [974/1000], Average Loss: 6.3569\n"
     ]
    },
    {
     "name": "stderr",
     "output_type": "stream",
     "text": [
      "Epoch 975/1000: 100%|██████████| 74/74 [00:01<00:00, 66.98batch/s, loss=2.39]\n"
     ]
    },
    {
     "name": "stdout",
     "output_type": "stream",
     "text": [
      "Epoch [975/1000], Average Loss: 6.3567\n"
     ]
    },
    {
     "name": "stderr",
     "output_type": "stream",
     "text": [
      "Epoch 976/1000: 100%|██████████| 74/74 [00:01<00:00, 64.09batch/s, loss=2.38]\n"
     ]
    },
    {
     "name": "stdout",
     "output_type": "stream",
     "text": [
      "Epoch [976/1000], Average Loss: 6.3576\n"
     ]
    },
    {
     "name": "stderr",
     "output_type": "stream",
     "text": [
      "Epoch 977/1000: 100%|██████████| 74/74 [00:01<00:00, 64.57batch/s, loss=2.39]\n"
     ]
    },
    {
     "name": "stdout",
     "output_type": "stream",
     "text": [
      "Epoch [977/1000], Average Loss: 6.3609\n"
     ]
    },
    {
     "name": "stderr",
     "output_type": "stream",
     "text": [
      "Epoch 978/1000: 100%|██████████| 74/74 [00:01<00:00, 64.53batch/s, loss=2.39]\n"
     ]
    },
    {
     "name": "stdout",
     "output_type": "stream",
     "text": [
      "Epoch [978/1000], Average Loss: 6.3593\n"
     ]
    },
    {
     "name": "stderr",
     "output_type": "stream",
     "text": [
      "Epoch 979/1000: 100%|██████████| 74/74 [00:01<00:00, 67.82batch/s, loss=2.4] \n"
     ]
    },
    {
     "name": "stdout",
     "output_type": "stream",
     "text": [
      "Epoch [979/1000], Average Loss: 6.3609\n"
     ]
    },
    {
     "name": "stderr",
     "output_type": "stream",
     "text": [
      "Epoch 980/1000: 100%|██████████| 74/74 [00:01<00:00, 70.96batch/s, loss=2.4] \n"
     ]
    },
    {
     "name": "stdout",
     "output_type": "stream",
     "text": [
      "Epoch [980/1000], Average Loss: 6.3626\n"
     ]
    },
    {
     "name": "stderr",
     "output_type": "stream",
     "text": [
      "Epoch 981/1000: 100%|██████████| 74/74 [00:01<00:00, 68.65batch/s, loss=2.41]\n"
     ]
    },
    {
     "name": "stdout",
     "output_type": "stream",
     "text": [
      "Epoch [981/1000], Average Loss: 6.3629\n"
     ]
    },
    {
     "name": "stderr",
     "output_type": "stream",
     "text": [
      "Epoch 982/1000: 100%|██████████| 74/74 [00:01<00:00, 60.50batch/s, loss=2.41]\n"
     ]
    },
    {
     "name": "stdout",
     "output_type": "stream",
     "text": [
      "Epoch [982/1000], Average Loss: 6.3620\n"
     ]
    },
    {
     "name": "stderr",
     "output_type": "stream",
     "text": [
      "Epoch 983/1000: 100%|██████████| 74/74 [00:01<00:00, 70.62batch/s, loss=2.39]\n"
     ]
    },
    {
     "name": "stdout",
     "output_type": "stream",
     "text": [
      "Epoch [983/1000], Average Loss: 6.3628\n"
     ]
    },
    {
     "name": "stderr",
     "output_type": "stream",
     "text": [
      "Epoch 984/1000: 100%|██████████| 74/74 [00:01<00:00, 67.11batch/s, loss=2.39]\n"
     ]
    },
    {
     "name": "stdout",
     "output_type": "stream",
     "text": [
      "Epoch [984/1000], Average Loss: 6.3592\n"
     ]
    },
    {
     "name": "stderr",
     "output_type": "stream",
     "text": [
      "Epoch 985/1000: 100%|██████████| 74/74 [00:01<00:00, 73.45batch/s, loss=2.38]\n"
     ]
    },
    {
     "name": "stdout",
     "output_type": "stream",
     "text": [
      "Epoch [985/1000], Average Loss: 6.3552\n"
     ]
    },
    {
     "name": "stderr",
     "output_type": "stream",
     "text": [
      "Epoch 986/1000: 100%|██████████| 74/74 [00:01<00:00, 61.99batch/s, loss=2.38]\n"
     ]
    },
    {
     "name": "stdout",
     "output_type": "stream",
     "text": [
      "Epoch [986/1000], Average Loss: 6.3534\n"
     ]
    },
    {
     "name": "stderr",
     "output_type": "stream",
     "text": [
      "Epoch 987/1000: 100%|██████████| 74/74 [00:01<00:00, 67.08batch/s, loss=2.39]\n"
     ]
    },
    {
     "name": "stdout",
     "output_type": "stream",
     "text": [
      "Epoch [987/1000], Average Loss: 6.3551\n"
     ]
    },
    {
     "name": "stderr",
     "output_type": "stream",
     "text": [
      "Epoch 988/1000: 100%|██████████| 74/74 [00:01<00:00, 65.36batch/s, loss=2.41]\n"
     ]
    },
    {
     "name": "stdout",
     "output_type": "stream",
     "text": [
      "Epoch [988/1000], Average Loss: 6.3540\n"
     ]
    },
    {
     "name": "stderr",
     "output_type": "stream",
     "text": [
      "Epoch 989/1000: 100%|██████████| 74/74 [00:01<00:00, 61.84batch/s, loss=2.4] \n"
     ]
    },
    {
     "name": "stdout",
     "output_type": "stream",
     "text": [
      "Epoch [989/1000], Average Loss: 6.3541\n"
     ]
    },
    {
     "name": "stderr",
     "output_type": "stream",
     "text": [
      "Epoch 990/1000: 100%|██████████| 74/74 [00:01<00:00, 65.59batch/s, loss=2.39]\n"
     ]
    },
    {
     "name": "stdout",
     "output_type": "stream",
     "text": [
      "Epoch [990/1000], Average Loss: 6.3548\n"
     ]
    },
    {
     "name": "stderr",
     "output_type": "stream",
     "text": [
      "Epoch 991/1000: 100%|██████████| 74/74 [00:01<00:00, 73.30batch/s, loss=2.39]\n"
     ]
    },
    {
     "name": "stdout",
     "output_type": "stream",
     "text": [
      "Epoch [991/1000], Average Loss: 6.3548\n"
     ]
    },
    {
     "name": "stderr",
     "output_type": "stream",
     "text": [
      "Epoch 992/1000: 100%|██████████| 74/74 [00:01<00:00, 70.67batch/s, loss=2.4] \n"
     ]
    },
    {
     "name": "stdout",
     "output_type": "stream",
     "text": [
      "Epoch [992/1000], Average Loss: 6.3563\n"
     ]
    },
    {
     "name": "stderr",
     "output_type": "stream",
     "text": [
      "Epoch 993/1000: 100%|██████████| 74/74 [00:01<00:00, 59.03batch/s, loss=2.39]\n"
     ]
    },
    {
     "name": "stdout",
     "output_type": "stream",
     "text": [
      "Epoch [993/1000], Average Loss: 6.3545\n"
     ]
    },
    {
     "name": "stderr",
     "output_type": "stream",
     "text": [
      "Epoch 994/1000: 100%|██████████| 74/74 [00:01<00:00, 64.51batch/s, loss=2.39]\n"
     ]
    },
    {
     "name": "stdout",
     "output_type": "stream",
     "text": [
      "Epoch [994/1000], Average Loss: 6.3530\n"
     ]
    },
    {
     "name": "stderr",
     "output_type": "stream",
     "text": [
      "Epoch 995/1000: 100%|██████████| 74/74 [00:01<00:00, 66.52batch/s, loss=2.39]\n"
     ]
    },
    {
     "name": "stdout",
     "output_type": "stream",
     "text": [
      "Epoch [995/1000], Average Loss: 6.3532\n"
     ]
    },
    {
     "name": "stderr",
     "output_type": "stream",
     "text": [
      "Epoch 996/1000: 100%|██████████| 74/74 [00:01<00:00, 65.78batch/s, loss=2.4] \n"
     ]
    },
    {
     "name": "stdout",
     "output_type": "stream",
     "text": [
      "Epoch [996/1000], Average Loss: 6.3514\n"
     ]
    },
    {
     "name": "stderr",
     "output_type": "stream",
     "text": [
      "Epoch 997/1000: 100%|██████████| 74/74 [00:01<00:00, 61.93batch/s, loss=2.39]\n"
     ]
    },
    {
     "name": "stdout",
     "output_type": "stream",
     "text": [
      "Epoch [997/1000], Average Loss: 6.3505\n"
     ]
    },
    {
     "name": "stderr",
     "output_type": "stream",
     "text": [
      "Epoch 998/1000: 100%|██████████| 74/74 [00:01<00:00, 67.87batch/s, loss=2.4] \n"
     ]
    },
    {
     "name": "stdout",
     "output_type": "stream",
     "text": [
      "Epoch [998/1000], Average Loss: 6.3512\n"
     ]
    },
    {
     "name": "stderr",
     "output_type": "stream",
     "text": [
      "Epoch 999/1000: 100%|██████████| 74/74 [00:01<00:00, 68.21batch/s, loss=2.37]\n"
     ]
    },
    {
     "name": "stdout",
     "output_type": "stream",
     "text": [
      "Epoch [999/1000], Average Loss: 6.3523\n"
     ]
    },
    {
     "name": "stderr",
     "output_type": "stream",
     "text": [
      "Epoch 1000/1000: 100%|██████████| 74/74 [00:01<00:00, 70.60batch/s, loss=2.38]"
     ]
    },
    {
     "name": "stdout",
     "output_type": "stream",
     "text": [
      "Epoch [1000/1000], Average Loss: 6.3513\n"
     ]
    },
    {
     "name": "stderr",
     "output_type": "stream",
     "text": [
      "\n"
     ]
    }
   ],
   "source": [
    "from tqdm import tqdm  # Импортируем tqdm\n",
    "\n",
    "num_epochs = 1000  # Количество эпох\n",
    "for epoch in range(num_epochs):\n",
    "    model.train()\n",
    "    total_loss = 0\n",
    "\n",
    "    # Прогресс-бар для всех батчей в эпохе\n",
    "    with tqdm(dataloader, desc=f\"Epoch {epoch+1}/{num_epochs}\", unit=\"batch\") as pbar:\n",
    "        for batch_idx, (texts, mels) in enumerate(pbar):\n",
    "            texts, mels = texts.to(device), mels.to(device)\n",
    "\n",
    "            optimizer.zero_grad()\n",
    "\n",
    "            # Прогон через модель\n",
    "            pred_mels = model(texts)  # Выход (batch, time_steps, n_mels)\n",
    "            \n",
    "            # Транспонируем для корректного сопоставления размерностей\n",
    "            pred_mels = pred_mels.permute(0, 2, 1)  # (batch, n_mels, time_steps)\n",
    "\n",
    "            # Функция потерь (например, MSE)\n",
    "            loss = criterion(pred_mels, mels)\n",
    "            loss.backward()\n",
    "\n",
    "            optimizer.step()\n",
    "            total_loss += loss.item()\n",
    "\n",
    "            # Обновляем описание прогресс-бара\n",
    "            pbar.set_postfix(loss=loss.item())\n",
    "\n",
    "    print(f\"Epoch [{epoch+1}/{num_epochs}], Average Loss: {total_loss / len(dataloader):.4f}\")\n"
   ]
  },
  {
   "cell_type": "code",
   "execution_count": 153,
   "metadata": {},
   "outputs": [],
   "source": [
    "import librosa"
   ]
  },
  {
   "cell_type": "code",
   "execution_count": 141,
   "metadata": {},
   "outputs": [],
   "source": [
    "def mel_to_audio(mel_spec, sr=16000, n_fft=1024, hop_length=256, n_mels=80):\n",
    "    # 1. Отмена логарифмирования\n",
    "    stft = librosa.feature.inverse.mel_to_stft(\n",
    "        np.exp(mel_spec) - 1e-6,\n",
    "        sr=sr,\n",
    "        n_fft=n_fft,\n",
    "        fmin=50,\n",
    "        fmax=8000\n",
    "    )\n",
    "    \n",
    "    audio = librosa.griffinlim(\n",
    "        stft,\n",
    "        n_iter=100,\n",
    "        hop_length=hop_length,\n",
    "        win_length=n_fft\n",
    "    )\n",
    "    \n",
    "    # 3. Нормализация (чтобы избежать клиппинга)\n",
    "    audio = librosa.util.normalize(audio) * 0.9\n",
    "    \n",
    "    return audio"
   ]
  },
  {
   "cell_type": "code",
   "execution_count": 154,
   "metadata": {},
   "outputs": [
    {
     "data": {
      "text/html": [
       "\n",
       "                <audio  controls=\"controls\" >\n",
       "                    <source src=\"data:audio/wav;base64,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\" type=\"audio/wav\" />\n",
       "                    Your browser does not support the audio element.\n",
       "                </audio>\n",
       "              "
      ],
      "text/plain": [
       "<IPython.lib.display.Audio object>"
      ]
     },
     "execution_count": 154,
     "metadata": {},
     "output_type": "execute_result"
    }
   ],
   "source": [
    "Audio(mel_to_audio(mel_spectrograms[0]), rate=16000)"
   ]
  },
  {
   "cell_type": "code",
   "execution_count": 155,
   "metadata": {},
   "outputs": [],
   "source": [
    "def token_padding(token_ids: list, vocab: dict = tokenizer.text_to_ids_voc, max_len: int = 27, ):\n",
    "    while len(token_ids) != max_len:\n",
    "        token_ids.append(vocab.get('<pad>'))\n",
    "    return token_ids\n"
   ]
  },
  {
   "cell_type": "code",
   "execution_count": 157,
   "metadata": {},
   "outputs": [
    {
     "name": "stdout",
     "output_type": "stream",
     "text": [
      "[5165, 3734, 5298, 3734, 2808, 3734, 932, 3734, 460, 3734, 5910, 3734, 4008, 3734, 4773, 3734, 1197, 6674, 6674, 6674, 6674, 6674, 6674, 6674, 6674, 6674, 6674]\n",
      "target mel-gram shape: (80, 429)\n",
      "[-1.0186341e-10  6.9121597e-11 -8.0035534e-11 ...  5.7599618e-07\n",
      "  5.1849293e-07 -2.8502502e-08]\n"
     ]
    }
   ],
   "source": [
    "text = df['token_ids'][0]\n",
    "print(text)\n",
    "print(f'target mel-gram shape: {df[\"mel_spec\"][0].shape}')\n",
    "print(df['array'][0])"
   ]
  },
  {
   "cell_type": "code",
   "execution_count": 158,
   "metadata": {},
   "outputs": [],
   "source": [
    "# Получаем предсказанные мел-спектрограммы от модели\n",
    "model.eval()\n",
    "with torch.no_grad():\n",
    "    pred_mels = model(texts)  # Получаем предсказание из модели"
   ]
  },
  {
   "cell_type": "code",
   "execution_count": 160,
   "metadata": {},
   "outputs": [
    {
     "name": "stdout",
     "output_type": "stream",
     "text": [
      "[[[-3.5824232   2.6434946   2.9420912  ... -4.844888   -5.4557567\n",
      "   -7.5538077 ]\n",
      "  [-3.5476766   2.5091236   2.8119643  ... -5.025845   -5.6564283\n",
      "   -7.7170267 ]\n",
      "  [-3.5129304   2.3747528   2.6818376  ... -5.206802   -5.8571005\n",
      "   -7.8802457 ]\n",
      "  ...\n",
      "  [-0.02061843 -0.01244909 -0.00966225 ... -0.04213148 -0.04252345\n",
      "   -0.05813059]\n",
      "  [-0.02061843 -0.01244909 -0.00966225 ... -0.04213148 -0.04252345\n",
      "   -0.05813059]\n",
      "  [-0.02061843 -0.01244909 -0.00966225 ... -0.04213148 -0.04252345\n",
      "   -0.05813059]]]\n",
      "(1, 429, 80)\n",
      "(80, 429)\n"
     ]
    }
   ],
   "source": [
    "pred_mels_np = pred_mels.detach().cpu().numpy()\n",
    "print(pred_mels_np)\n",
    "print(pred_mels_np.shape)\n",
    "pred_mels_np_T = pred_mels_np.squeeze(0).T \n",
    "print(pred_mels_np_T.shape)"
   ]
  },
  {
   "cell_type": "code",
   "execution_count": 161,
   "metadata": {},
   "outputs": [
    {
     "data": {
      "text/plain": [
       "array([ 0.11674957,  0.10413872,  0.09611181, ...,  0.09145977,\n",
       "       -0.09135156,  0.04673128], dtype=float32)"
      ]
     },
     "execution_count": 161,
     "metadata": {},
     "output_type": "execute_result"
    }
   ],
   "source": [
    "y = mel_to_audio(pred_mels_np_T)\n",
    "y"
   ]
  },
  {
   "cell_type": "code",
   "execution_count": 147,
   "metadata": {},
   "outputs": [],
   "source": [
    "from IPython.display import Audio"
   ]
  },
  {
   "cell_type": "code",
   "execution_count": 162,
   "metadata": {},
   "outputs": [
    {
     "data": {
      "text/html": [
       "\n",
       "                <audio  controls=\"controls\" >\n",
       "                    <source src=\"data:audio/wav;base64,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\" type=\"audio/wav\" />\n",
       "                    Your browser does not support the audio element.\n",
       "                </audio>\n",
       "              "
      ],
      "text/plain": [
       "<IPython.lib.display.Audio object>"
      ]
     },
     "execution_count": 162,
     "metadata": {},
     "output_type": "execute_result"
    }
   ],
   "source": [
    "Audio(y, rate=16000)"
   ]
  },
  {
   "cell_type": "code",
   "execution_count": 164,
   "metadata": {},
   "outputs": [],
   "source": [
    "import soundfile as sf\n",
    "sf.write('output5.wav', y, 16000)  # Транспонируем для soundfile"
   ]
  },
  {
   "cell_type": "code",
   "execution_count": 167,
   "metadata": {},
   "outputs": [],
   "source": [
    "torch.save(model.state_dict(), 'tts_model_words1.pth')  # Только веса\n",
    "# ИЛИ\n",
    "torch.save(model, 'tts_model_full_word1.pt')  # Веса + архитектура"
   ]
  },
  {
   "cell_type": "code",
   "execution_count": null,
   "metadata": {},
   "outputs": [],
   "source": [
    "# Для state_dict\n",
    "model = TTSTransformer(vocab_size, d_model=256, n_mels=80)\n",
    "model.load_state_dict(torch.load('tts_model.pth'))\n",
    "model.eval()\n",
    "\n",
    "# Для полной модели\n",
    "model = torch.load('tts_model_full.pt')\n",
    "model.eval()"
   ]
  },
  {
   "cell_type": "code",
   "execution_count": 150,
   "metadata": {},
   "outputs": [],
   "source": [
    "from sklearn.metrics.pairwise import cosine_similarity"
   ]
  },
  {
   "cell_type": "code",
   "execution_count": null,
   "metadata": {},
   "outputs": [],
   "source": [
    "cosine_similarity(y.reshape(-1, 1), df['array'][0].reshape(-1, 1))"
   ]
  }
 ],
 "metadata": {
  "kernelspec": {
   "display_name": ".venv",
   "language": "python",
   "name": "python3"
  },
  "language_info": {
   "codemirror_mode": {
    "name": "ipython",
    "version": 3
   },
   "file_extension": ".py",
   "mimetype": "text/x-python",
   "name": "python",
   "nbconvert_exporter": "python",
   "pygments_lexer": "ipython3",
   "version": "3.12.7"
  }
 },
 "nbformat": 4,
 "nbformat_minor": 2
}
