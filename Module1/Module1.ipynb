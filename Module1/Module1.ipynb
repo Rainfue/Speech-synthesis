{
 "cells": [
  {
   "cell_type": "markdown",
   "metadata": {},
   "source": [
    "# **Модуль А.** Анализ и предобработка данных"
   ]
  },
  {
   "cell_type": "markdown",
   "metadata": {},
   "source": [
    "## Импортирование библиотек"
   ]
  },
  {
   "cell_type": "code",
   "execution_count": null,
   "metadata": {},
   "outputs": [],
   "source": [
    "# для работы с файловой системой\n",
    "import os\n",
    "\n",
    "# для работы с раширением tar\n",
    "import tarfile\n",
    "\n",
    "# для работы с датафреймами\n",
    "import pandas as pd\n",
    "\n",
    "# для конвертации mp3 в wav\n",
    "from pydub import AudioSegment\n",
    "\n",
    "# для анализа звуковых дорожек"
   ]
  },
  {
   "cell_type": "markdown",
   "metadata": {},
   "source": [
    "## Загрузка данных"
   ]
  },
  {
   "cell_type": "code",
   "execution_count": 6,
   "metadata": {},
   "outputs": [],
   "source": [
    "# создаем папку для данных\n",
    "os.makedirs('Data', exist_ok=True)\n",
    "\n",
    "# получаем пути к архивам с данными\n",
    "cv_corpus = '../Data/cv-corpus-21.0-delta-2025-03-14-ru.tar.gz'\n",
    "ljspeech = '../Data/LJSpeech-1.1.tar.bz2'\n",
    "ru_ru = '../Data/ru_RU.tgz'"
   ]
  },
  {
   "cell_type": "markdown",
   "metadata": {},
   "source": [
    "Открываем первый архив"
   ]
  },
  {
   "cell_type": "code",
   "execution_count": 8,
   "metadata": {},
   "outputs": [],
   "source": [
    "# открываем первый архив используя библиотеку tarfile\n",
    "with tarfile.open(cv_corpus, 'r:gz') as tar:\n",
    "    # распаковываем архив\n",
    "    tar.extractall('Data/cv_corpus')"
   ]
  },
  {
   "cell_type": "code",
   "execution_count": 11,
   "metadata": {},
   "outputs": [
    {
     "name": "stdout",
     "output_type": "stream",
     "text": [
      "Кол-во записей в первой папке: 3034\n"
     ]
    }
   ],
   "source": [
    "# получаем путь к папке с записями\n",
    "clips_path = 'Data/cv_corpus/cv-corpus-21.0-delta-2025-03-14/ru/clips'\n",
    "# получаем кол-во записей в папке\n",
    "print(f'Кол-во записей в первой папке: {len(os.listdir(clips_path))}')"
   ]
  },
  {
   "cell_type": "markdown",
   "metadata": {},
   "source": [
    "Общее кол-во файлов с записями - `3034`"
   ]
  },
  {
   "cell_type": "code",
   "execution_count": null,
   "metadata": {},
   "outputs": [],
   "source": []
  }
 ],
 "metadata": {
  "kernelspec": {
   "display_name": ".venv",
   "language": "python",
   "name": "python3"
  },
  "language_info": {
   "codemirror_mode": {
    "name": "ipython",
    "version": 3
   },
   "file_extension": ".py",
   "mimetype": "text/x-python",
   "name": "python",
   "nbconvert_exporter": "python",
   "pygments_lexer": "ipython3",
   "version": "3.11.9"
  }
 },
 "nbformat": 4,
 "nbformat_minor": 2
}
